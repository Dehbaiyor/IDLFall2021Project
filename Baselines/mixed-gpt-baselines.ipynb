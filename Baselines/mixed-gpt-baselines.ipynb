{
 "cells": [
  {
   "cell_type": "code",
   "execution_count": 2,
   "metadata": {
    "id": "KBkpRgBCBS2_",
    "outputId": "629b3068-c9a6-407a-ea09-98773a0c50bf",
    "tags": []
   },
   "outputs": [],
   "source": [
    "from aitextgen import aitextgen\n",
    "from aitextgen.TokenDataset import TokenDataset, merge_datasets\n",
    "from aitextgen.utils import build_gpt2_config\n",
    "from aitextgen.tokenizers import train_tokenizer"
   ]
  },
  {
   "cell_type": "markdown",
   "metadata": {
    "id": "J98wNTISLXqT"
   },
   "source": [
    "## Training the Tokenizer"
   ]
  },
  {
   "cell_type": "code",
   "execution_count": null,
   "metadata": {
    "id": "5brMzdmzLom3",
    "tags": []
   },
   "outputs": [],
   "source": [
    "#train_tokenizer('merged_large_bal.csv')"
   ]
  },
  {
   "cell_type": "markdown",
   "metadata": {
    "id": "KP4keZ36LxYl"
   },
   "source": [
    "## Specify a Model Configuration"
   ]
  },
  {
   "cell_type": "markdown",
   "metadata": {
    "id": "GfbexWtKMaQB",
    "outputId": "b9633a2b-c67e-40ff-b8e1-dd4d29fc3150",
    "tags": []
   },
   "source": [
    "config = build_gpt2_config(vocab_size=50_000, max_length=1024, dropout=0.1, n_embd=256, n_layer=12, n_head=32)\n",
    "config"
   ]
  },
  {
   "cell_type": "code",
   "execution_count": 3,
   "metadata": {},
   "outputs": [],
   "source": [
    "import os\n",
    "os.environ[\"TOKENIZERS_PARALLELISM\"] = \"false\""
   ]
  },
  {
   "cell_type": "markdown",
   "metadata": {
    "id": "ZABdZ-FcMmtA"
   },
   "source": [
    "## Instantiating Your Custom GPT-2 Model"
   ]
  },
  {
   "cell_type": "markdown",
   "metadata": {
    "id": "AOfP_Rc9MvsZ",
    "outputId": "6a29a6af-365b-44e9-9482-ba8589467607",
    "tags": []
   },
   "source": [
    "ai = aitextgen(config=config,\n",
    "              tokenizer_file=\"./aitextgen.tokenizer.json\",\n",
    "              to_gpu=True)"
   ]
  },
  {
   "cell_type": "code",
   "execution_count": null,
   "metadata": {
    "tags": []
   },
   "outputs": [],
   "source": [
    "ai = aitextgen(model_folder=\"./trained_model\",\n",
    "               tokenizer_file=\"./aitextgen.tokenizer.json\",\n",
    "               to_gpu=True)"
   ]
  },
  {
   "cell_type": "code",
   "execution_count": null,
   "metadata": {
    "id": "Zo4PiSa1NA6j",
    "outputId": "13c41797-abf9-495d-a43f-259e94151c86",
    "tags": []
   },
   "outputs": [],
   "source": [
    "ai.generate(2)"
   ]
  },
  {
   "cell_type": "code",
   "execution_count": null,
   "metadata": {},
   "outputs": [],
   "source": [
    "ai.generate(max_length = 20, prompt = 'e4 c5', top_k = 40, top_p  = 0.6)"
   ]
  },
  {
   "cell_type": "markdown",
   "metadata": {
    "id": "LdpZQXknFNY3"
   },
   "source": [
    "## Train GPT-2\n",
    "\n",
    "Important parameters for `train()`:\n",
    "\n",
    "- **`line_by_line`**: Set this to `True` if the input text file is a single-column CSV, with one record per row. aitextgen will automatically process it optimally.\n",
    "- **`from_cache`**: If you compressed your dataset locally (as noted in the previous section) and are using that cache file, set this to `True`.\n",
    "- **`num_steps`**: Number of steps to train the model for.\n",
    "- **`generate_every`**: Interval of steps to generate example text from the model; good for qualitatively validating training.\n",
    "- **`save_every`**: Interval of steps to save the model: the model will be saved in the VM to `/trained_model`.\n",
    "- **`save_gdrive`**: Set this to `True` to copy the model to a unique folder in your Google Drive, if you have mounted it in the earlier cells\n",
    "- **`batch_size`**: Batch size of the model training; setting it too high will cause the GPU to go OOM. _Unlike finetuning, since you are using a small model, you can massively increase the batch size to normalize the training_.\n",
    "- **`fp16`**: Enables half-precision training for faster/more memory-efficient training. Only works on a T4 or V100 GPU.\n",
    "\n",
    "Here are other important parameters for `train()` that are useful but you likely do not need to change.\n",
    "\n",
    "- **`learning_rate`**: Learning rate of the model training.\n"
   ]
  },
  {
   "cell_type": "code",
   "execution_count": null,
   "metadata": {
    "id": "aeXshJM-Cuaf",
    "outputId": "18a0eb53-7de1-4a2f-c66e-fa4ac911530b",
    "tags": []
   },
   "outputs": [],
   "source": [
    "ai.train('4.csv',\n",
    "         line_by_line=True,\n",
    "         from_cache=False,\n",
    "         num_steps=50_000,\n",
    "         generate_every=1_000,\n",
    "         save_every=1_000,\n",
    "         save_gdrive=False,\n",
    "         learning_rate=1e-3,\n",
    "         batch_size=2,\n",
    "         )"
   ]
  },
  {
   "cell_type": "code",
   "execution_count": null,
   "metadata": {},
   "outputs": [],
   "source": []
  },
  {
   "cell_type": "markdown",
   "metadata": {
    "id": "pel-uBULXO2L"
   },
   "source": [
    "\n",
    "## Load a Trained Model"
   ]
  },
  {
   "cell_type": "code",
   "execution_count": 4,
   "metadata": {},
   "outputs": [],
   "source": [
    "ai = aitextgen(model_folder=\"trained_model\",\n",
    "               tokenizer_file=\"trained_model/aitextgen.tokenizer.json\",\n",
    "               to_gpu=True)"
   ]
  },
  {
   "cell_type": "code",
   "execution_count": 8,
   "metadata": {
    "id": "4RNY6RBI9LmL",
    "outputId": "8579ed7e-14c8-4a76-ecad-ce7acd13b612"
   },
   "outputs": [
    {
     "name": "stdout",
     "output_type": "stream",
     "text": [
      "\u001b[1me4 : \u001b[0mUnion[Anion]:\n",
      "    query = {}\n",
      "    for anion, obj in anions.items():\n",
      "        query[Anion] = anion\n",
      "    return query\n"
     ]
    }
   ],
   "source": [
    "ai.generate(max_length = 512, prompt = 'e4 : ', top_k = 100, top_p  = 0.9, temperature = 0.7)"
   ]
  },
  {
   "cell_type": "code",
   "execution_count": null,
   "metadata": {},
   "outputs": [],
   "source": []
  },
  {
   "cell_type": "code",
   "execution_count": 6,
   "metadata": {},
   "outputs": [
    {
     "data": {
      "text/html": [
       "<div>\n",
       "<style scoped>\n",
       "    .dataframe tbody tr th:only-of-type {\n",
       "        vertical-align: middle;\n",
       "    }\n",
       "\n",
       "    .dataframe tbody tr th {\n",
       "        vertical-align: top;\n",
       "    }\n",
       "\n",
       "    .dataframe thead th {\n",
       "        text-align: right;\n",
       "    }\n",
       "</style>\n",
       "<table border=\"1\" class=\"dataframe\">\n",
       "  <thead>\n",
       "    <tr style=\"text-align: right;\">\n",
       "      <th></th>\n",
       "      <th>input</th>\n",
       "      <th>target</th>\n",
       "    </tr>\n",
       "  </thead>\n",
       "  <tbody>\n",
       "    <tr>\n",
       "      <th>0</th>\n",
       "      <td>e4 : d4 Nf6 Nf3 e6 Bf4 b6 e3 Bb7 Be2 Nh5 h3 Nx...</td>\n",
       "      <td>Rc7 Ra1 Ra7 a2 0-1</td>\n",
       "    </tr>\n",
       "    <tr>\n",
       "      <th>1</th>\n",
       "      <td>e4 : e4 Nf6 Nc3 d5 exd5 Nxd5 Bc4 Nb6 Bb3 c5 d3...</td>\n",
       "      <td>h6 Qg4 Nf6 Qf4 Ne7 Nd6 Qb8 Nxb7 Qxb7 Bb3 Nfd5 ...</td>\n",
       "    </tr>\n",
       "    <tr>\n",
       "      <th>2</th>\n",
       "      <td>e4 : c4 e5 g3 Nf6 Bg2 c6 Nf3 e4 Nd4 Qb6 Nc2</td>\n",
       "      <td>a5 O-O Na6 Nc3 d5 d3 exd3 exd3 dxc4 Re1+ Be6 d...</td>\n",
       "    </tr>\n",
       "    <tr>\n",
       "      <th>3</th>\n",
       "      <td>e4 : d4 d5 c4 Nc6 Nf3 Bg4 Nc3 e6 a3 Nf6 Bg5 Be...</td>\n",
       "      <td>Bxe7 Qxe7 h3 Nxc3 bxc3 Bxf3 Qxf3 O-O cxd5 exd5...</td>\n",
       "    </tr>\n",
       "    <tr>\n",
       "      <th>4</th>\n",
       "      <td>e4 : c4 c6 g3 d5 Nf3 Nf6 Bg2 Bf5 cxd5 Nxd5 O-O...</td>\n",
       "      <td>Bc4+ Kg1 Be3+ Kh2 fxe5 Nd7+ Ke7 Nxe5+ Ke6 Nxc4...</td>\n",
       "    </tr>\n",
       "    <tr>\n",
       "      <th>...</th>\n",
       "      <td>...</td>\n",
       "      <td>...</td>\n",
       "    </tr>\n",
       "    <tr>\n",
       "      <th>191178</th>\n",
       "      <td>e4 : e4 c5 Nf3 d6 d4 cxd4 Nxd4 Nf6 Nc3 g6 f4 B...</td>\n",
       "      <td>Re2 Kg7 Bd2 Bxd2 Rxd2 Rc8 Rf4 Rac7 Bxa6 Ra8 Bc...</td>\n",
       "    </tr>\n",
       "    <tr>\n",
       "      <th>191179</th>\n",
       "      <td>e4 : e4 d5 e5 c5 f4 Nc6 Nf3 Bg4 Be2 e6 O-O Nge...</td>\n",
       "      <td>Nd8 Rxb7 Nxb7 Rxb7 Ne7 Bb4 Qe8 Bxe7+ Kg6 Qe2 Q...</td>\n",
       "    </tr>\n",
       "    <tr>\n",
       "      <th>191180</th>\n",
       "      <td>e4 : d4 Nf6 Nf3 g6 c4 Bg7 Nc3 d5 cxd5 Nxd5 Bd2...</td>\n",
       "      <td>Bxg7 Kxg7 Be2 Qg5 g3 c6 Qd4+ Kg8 h4 Qe7 O-O Bh...</td>\n",
       "    </tr>\n",
       "    <tr>\n",
       "      <th>191181</th>\n",
       "      <td>e4 : c4 e6 g3 d5 Bg2 dxc4 Nf3 c5</td>\n",
       "      <td>O-O Nc6 Na3 Nf6 Nxc4 Be7 d3 O-O Be3 Nd5 Bd2 b6...</td>\n",
       "    </tr>\n",
       "    <tr>\n",
       "      <th>191182</th>\n",
       "      <td>e4 : c4 e5 Nc3 Nf6 g3 d5 cxd5 Nxd5 Bg2 Nb6 Nf3...</td>\n",
       "      <td>b4 a5 Nxd4 exd4 Ne4 axb4 axb4 Nd5 Nc5 b6 Qb3 c...</td>\n",
       "    </tr>\n",
       "  </tbody>\n",
       "</table>\n",
       "<p>191183 rows × 2 columns</p>\n",
       "</div>"
      ],
      "text/plain": [
       "                                                    input  \\\n",
       "0       e4 : d4 Nf6 Nf3 e6 Bf4 b6 e3 Bb7 Be2 Nh5 h3 Nx...   \n",
       "1       e4 : e4 Nf6 Nc3 d5 exd5 Nxd5 Bc4 Nb6 Bb3 c5 d3...   \n",
       "2             e4 : c4 e5 g3 Nf6 Bg2 c6 Nf3 e4 Nd4 Qb6 Nc2   \n",
       "3       e4 : d4 d5 c4 Nc6 Nf3 Bg4 Nc3 e6 a3 Nf6 Bg5 Be...   \n",
       "4       e4 : c4 c6 g3 d5 Nf3 Nf6 Bg2 Bf5 cxd5 Nxd5 O-O...   \n",
       "...                                                   ...   \n",
       "191178  e4 : e4 c5 Nf3 d6 d4 cxd4 Nxd4 Nf6 Nc3 g6 f4 B...   \n",
       "191179  e4 : e4 d5 e5 c5 f4 Nc6 Nf3 Bg4 Be2 e6 O-O Nge...   \n",
       "191180  e4 : d4 Nf6 Nf3 g6 c4 Bg7 Nc3 d5 cxd5 Nxd5 Bd2...   \n",
       "191181                   e4 : c4 e6 g3 d5 Bg2 dxc4 Nf3 c5   \n",
       "191182  e4 : c4 e5 Nc3 Nf6 g3 d5 cxd5 Nxd5 Bg2 Nb6 Nf3...   \n",
       "\n",
       "                                                   target  \n",
       "0                                      Rc7 Ra1 Ra7 a2 0-1  \n",
       "1       h6 Qg4 Nf6 Qf4 Ne7 Nd6 Qb8 Nxb7 Qxb7 Bb3 Nfd5 ...  \n",
       "2       a5 O-O Na6 Nc3 d5 d3 exd3 exd3 dxc4 Re1+ Be6 d...  \n",
       "3       Bxe7 Qxe7 h3 Nxc3 bxc3 Bxf3 Qxf3 O-O cxd5 exd5...  \n",
       "4       Bc4+ Kg1 Be3+ Kh2 fxe5 Nd7+ Ke7 Nxe5+ Ke6 Nxc4...  \n",
       "...                                                   ...  \n",
       "191178  Re2 Kg7 Bd2 Bxd2 Rxd2 Rc8 Rf4 Rac7 Bxa6 Ra8 Bc...  \n",
       "191179  Nd8 Rxb7 Nxb7 Rxb7 Ne7 Bb4 Qe8 Bxe7+ Kg6 Qe2 Q...  \n",
       "191180  Bxg7 Kxg7 Be2 Qg5 g3 c6 Qd4+ Kg8 h4 Qe7 O-O Bh...  \n",
       "191181  O-O Nc6 Na3 Nf6 Nxc4 Be7 d3 O-O Be3 Nd5 Bd2 b6...  \n",
       "191182  b4 a5 Nxd4 exd4 Ne4 axb4 axb4 Nd5 Nc5 b6 Qb3 c...  \n",
       "\n",
       "[191183 rows x 2 columns]"
      ]
     },
     "execution_count": 6,
     "metadata": {},
     "output_type": "execute_result"
    }
   ],
   "source": [
    "import pandas as pd\n",
    "test = pd.read_csv('chess_data/39.csv')\n",
    "test"
   ]
  },
  {
   "cell_type": "code",
   "execution_count": null,
   "metadata": {},
   "outputs": [],
   "source": []
  }
 ],
 "metadata": {
  "kernelspec": {
   "display_name": "Python 3 (ipykernel)",
   "language": "python",
   "name": "python3"
  },
  "language_info": {
   "codemirror_mode": {
    "name": "ipython",
    "version": 3
   },
   "file_extension": ".py",
   "mimetype": "text/x-python",
   "name": "python",
   "nbconvert_exporter": "python",
   "pygments_lexer": "ipython3",
   "version": "3.9.5"
  }
 },
 "nbformat": 4,
 "nbformat_minor": 4
}
