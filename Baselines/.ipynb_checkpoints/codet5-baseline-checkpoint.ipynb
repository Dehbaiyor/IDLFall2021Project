{
 "cells": [
  {
   "cell_type": "markdown",
   "metadata": {},
   "source": [
    "Adapted from https://huggingface.co/transformers/v3.0.2/notebooks.html"
   ]
  },
  {
   "cell_type": "code",
   "execution_count": null,
   "metadata": {
    "execution": {
     "iopub.execute_input": "2021-11-04T16:20:38.765221Z",
     "iopub.status.busy": "2021-11-04T16:20:38.764886Z",
     "iopub.status.idle": "2021-11-04T16:20:47.268752Z",
     "shell.execute_reply": "2021-11-04T16:20:47.267874Z",
     "shell.execute_reply.started": "2021-11-04T16:20:38.765131Z"
    }
   },
   "outputs": [],
   "source": [
    "!pip install transformers"
   ]
  },
  {
   "cell_type": "code",
   "execution_count": null,
   "metadata": {
    "_cell_guid": "b1076dfc-b9ad-4769-8c92-a6c4dae69d19",
    "_uuid": "8f2839f25d086af736a60e9eeb907d3b93b6e0e5",
    "execution": {
     "iopub.execute_input": "2021-11-04T17:52:13.828753Z",
     "iopub.status.busy": "2021-11-04T17:52:13.828041Z",
     "iopub.status.idle": "2021-11-04T17:52:23.624152Z",
     "shell.execute_reply": "2021-11-04T17:52:23.622462Z",
     "shell.execute_reply.started": "2021-11-04T17:52:13.828714Z"
    }
   },
   "outputs": [],
   "source": [
    "from transformers import RobertaTokenizer, T5ForConditionalGeneration\n",
    "\n",
    "\n",
    "tokenizer = RobertaTokenizer.from_pretrained('Salesforce/codet5-base')\n",
    "model = T5ForConditionalGeneration.from_pretrained('Salesforce/codet5-base-multi-sum')\n",
    "\n",
    "text = \"\"\"def svg_to_image(string, size=None):\n",
    "if isinstance(string, unicode):\n",
    "    string = string.encode('utf-8')\n",
    "    renderer = QtSvg.QSvgRenderer(QtCore.QByteArray(string))\n",
    "if not renderer.isValid():\n",
    "    raise ValueError('Invalid SVG data.')\n",
    "if size is None:\n",
    "    size = renderer.defaultSize()\n",
    "    image = QtGui.QImage(size, QtGui.QImage.Format_ARGB32)\n",
    "    painter = QtGui.QPainter(image)\n",
    "    renderer.render(painter)\n",
    "return image\"\"\"\n",
    "\n",
    "input_ids = tokenizer(text, return_tensors=\"pt\").input_ids\n",
    "\n",
    "generated_ids = model.generate(input_ids, max_length=20)\n",
    "print(tokenizer.decode(generated_ids[0], skip_special_tokens=True))\n",
    "# this prints: \"Convert a SVG string to a QImage.\"\n"
   ]
  },
  {
   "cell_type": "code",
   "execution_count": null,
   "metadata": {
    "execution": {
     "iopub.execute_input": "2021-11-04T17:52:23.626371Z",
     "iopub.status.busy": "2021-11-04T17:52:23.625779Z",
     "iopub.status.idle": "2021-11-04T17:52:23.63216Z",
     "shell.execute_reply": "2021-11-04T17:52:23.631325Z",
     "shell.execute_reply.started": "2021-11-04T17:52:23.626328Z"
    }
   },
   "outputs": [],
   "source": [
    "import torch\n",
    "import pandas as pd"
   ]
  },
  {
   "cell_type": "code",
   "execution_count": null,
   "metadata": {
    "execution": {
     "iopub.execute_input": "2021-11-04T17:52:23.635175Z",
     "iopub.status.busy": "2021-11-04T17:52:23.634373Z",
     "iopub.status.idle": "2021-11-04T17:52:29.503196Z",
     "shell.execute_reply": "2021-11-04T17:52:29.502421Z",
     "shell.execute_reply.started": "2021-11-04T17:52:23.635124Z"
    }
   },
   "outputs": [],
   "source": [
    "df = pd.read_csv('../input/codedataset/python_extract_train.csv')[['code','docstring']].dropna()"
   ]
  },
  {
   "cell_type": "code",
   "execution_count": null,
   "metadata": {
    "execution": {
     "iopub.execute_input": "2021-11-04T17:52:29.505236Z",
     "iopub.status.busy": "2021-11-04T17:52:29.504953Z",
     "iopub.status.idle": "2021-11-04T17:52:29.554003Z",
     "shell.execute_reply": "2021-11-04T17:52:29.552928Z",
     "shell.execute_reply.started": "2021-11-04T17:52:29.505197Z"
    }
   },
   "outputs": [],
   "source": [
    "input_sequences = df['docstring'].values.flatten().tolist()"
   ]
  },
  {
   "cell_type": "code",
   "execution_count": null,
   "metadata": {
    "execution": {
     "iopub.execute_input": "2021-11-04T17:52:33.615899Z",
     "iopub.status.busy": "2021-11-04T17:52:33.615479Z",
     "iopub.status.idle": "2021-11-04T17:52:33.699899Z",
     "shell.execute_reply": "2021-11-04T17:52:33.699049Z",
     "shell.execute_reply.started": "2021-11-04T17:52:33.615864Z"
    }
   },
   "outputs": [],
   "source": [
    "output_sequences = df['code'].values.flatten().tolist()\n"
   ]
  },
  {
   "cell_type": "code",
   "execution_count": null,
   "metadata": {
    "execution": {
     "iopub.execute_input": "2021-11-04T17:52:36.855694Z",
     "iopub.status.busy": "2021-11-04T17:52:36.855277Z",
     "iopub.status.idle": "2021-11-04T17:52:36.872473Z",
     "shell.execute_reply": "2021-11-04T17:52:36.871455Z",
     "shell.execute_reply.started": "2021-11-04T17:52:36.85566Z"
    }
   },
   "outputs": [],
   "source": [
    "del df"
   ]
  },
  {
   "cell_type": "code",
   "execution_count": null,
   "metadata": {
    "execution": {
     "iopub.execute_input": "2021-11-04T17:52:40.341824Z",
     "iopub.status.busy": "2021-11-04T17:52:40.341258Z",
     "iopub.status.idle": "2021-11-04T17:52:40.348901Z",
     "shell.execute_reply": "2021-11-04T17:52:40.348207Z",
     "shell.execute_reply.started": "2021-11-04T17:52:40.341781Z"
    }
   },
   "outputs": [],
   "source": [
    "# the following 2 hyperparameters are task-specific\n",
    "max_source_length = 128\n",
    "max_target_length = 512\n",
    "\n",
    "def train_model(input_sequences, output_sequences):\n",
    "    # encode the inputs\n",
    "    task_prefix = \"Generate Python: \"\n",
    "    #input_sequences = [input_sequence_1, input_sequence_2]\n",
    "    encoding = tokenizer([task_prefix + sequence for sequence in input_sequences],\n",
    "                         padding='longest',\n",
    "                         max_length=max_source_length,\n",
    "                         truncation=True,\n",
    "                         return_tensors=\"pt\")\n",
    "    input_ids, attention_mask = encoding.input_ids, encoding.attention_mask\n",
    "    \n",
    "    # encode the targets\n",
    "    target_encoding = tokenizer(output_sequences,\n",
    "                                padding='longest',\n",
    "                                max_length=max_target_length,\n",
    "                                truncation=True)\n",
    "    labels = target_encoding.input_ids\n",
    "\n",
    "    # replace padding token id's of the labels by -100\n",
    "    labels = [\n",
    "               [(label if label != tokenizer.pad_token_id else -100) for label in labels_example] for labels_example in labels\n",
    "    ]\n",
    "    labels = torch.tensor(labels)\n",
    "    \n",
    "    # forward pass\n",
    "    loss = model(input_ids=input_ids, attention_mask=attention_mask, labels=labels).loss\n",
    "    return loss"
   ]
  },
  {
   "cell_type": "code",
   "execution_count": null,
   "metadata": {
    "execution": {
     "iopub.execute_input": "2021-11-04T16:21:24.814651Z",
     "iopub.status.busy": "2021-11-04T16:21:24.814288Z",
     "iopub.status.idle": "2021-11-04T17:48:18.878455Z",
     "shell.execute_reply": "2021-11-04T17:48:18.876449Z",
     "shell.execute_reply.started": "2021-11-04T16:21:24.814614Z"
    }
   },
   "outputs": [],
   "source": [
    "for i in range(0, len(input_sequences) - 3, 3):\n",
    "    batch_in = input_sequences[i:i+3]\n",
    "    batch_out = output_sequences[i:i+3]\n",
    "    loss = train_model(batch_in, batch_out)\n",
    "    print(f'loss at {i} is: {loss}')"
   ]
  },
  {
   "cell_type": "code",
   "execution_count": null,
   "metadata": {
    "execution": {
     "iopub.execute_input": "2021-11-04T17:54:37.652501Z",
     "iopub.status.busy": "2021-11-04T17:54:37.651928Z",
     "iopub.status.idle": "2021-11-04T17:54:37.659475Z",
     "shell.execute_reply": "2021-11-04T17:54:37.657475Z",
     "shell.execute_reply.started": "2021-11-04T17:54:37.652459Z"
    }
   },
   "outputs": [],
   "source": [
    "input_sequences[0]"
   ]
  },
  {
   "cell_type": "code",
   "execution_count": null,
   "metadata": {
    "execution": {
     "iopub.execute_input": "2021-11-04T18:00:52.281808Z",
     "iopub.status.busy": "2021-11-04T18:00:52.28129Z"
    }
   },
   "outputs": [],
   "source": [
    "actual = []\n",
    "predicted = []\n",
    "for i in range(len(output_sequences)):\n",
    "    text = output_sequences[i]\n",
    "    input_ids = tokenizer(text, return_tensors='pt').input_ids\n",
    "    outputs = model.generate(input_ids)\n",
    "    pred = tokenizer.decode(outputs[0], skip_special_tokens=True)\n",
    "    predicted.append(pred)\n",
    "    act = input_sequences[i].split('\\n')[0]\n",
    "    actual.append(act)\n",
    "    print('Predicted: ', pred)\n",
    "    print('Actual: ', act)\n",
    "    print()"
   ]
  },
  {
   "cell_type": "code",
   "execution_count": null,
   "metadata": {
    "execution": {
     "iopub.execute_input": "2021-11-04T17:57:50.80753Z",
     "iopub.status.busy": "2021-11-04T17:57:50.806867Z",
     "iopub.status.idle": "2021-11-04T17:57:52.665974Z",
     "shell.execute_reply": "2021-11-04T17:57:52.665138Z",
     "shell.execute_reply.started": "2021-11-04T17:57:50.807488Z"
    }
   },
   "outputs": [],
   "source": [
    "model.save_pretrained('codeT5_sum')"
   ]
  },
  {
   "cell_type": "code",
   "execution_count": null,
   "metadata": {},
   "outputs": [],
   "source": []
  },
  {
   "cell_type": "code",
   "execution_count": null,
   "metadata": {},
   "outputs": [],
   "source": []
  }
 ],
 "metadata": {
  "kernelspec": {
   "display_name": "Python 3 (ipykernel)",
   "language": "python",
   "name": "python3"
  },
  "language_info": {
   "codemirror_mode": {
    "name": "ipython",
    "version": 3
   },
   "file_extension": ".py",
   "mimetype": "text/x-python",
   "name": "python",
   "nbconvert_exporter": "python",
   "pygments_lexer": "ipython3",
   "version": "3.7.10"
  }
 },
 "nbformat": 4,
 "nbformat_minor": 4
}
