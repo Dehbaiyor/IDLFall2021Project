{
 "cells": [
  {
   "cell_type": "code",
   "execution_count": 1,
   "id": "89915de5",
   "metadata": {},
   "outputs": [],
   "source": [
    "import glob\n",
    "import chess.pgn\n",
    "from tqdm import tqdm"
   ]
  },
  {
   "cell_type": "code",
   "execution_count": 2,
   "id": "657f08dd",
   "metadata": {},
   "outputs": [
    {
     "data": {
      "text/plain": [
       "3"
      ]
     },
     "execution_count": 2,
     "metadata": {},
     "output_type": "execute_result"
    }
   ],
   "source": [
    "import glob\n",
    "pgns = glob.glob(\"../Data/*.pgn\")\n",
    "len(pgns)"
   ]
  },
  {
   "cell_type": "code",
   "execution_count": null,
   "id": "2a766127",
   "metadata": {},
   "outputs": [
    {
     "name": "stderr",
     "output_type": "stream",
     "text": [
      "\r",
      "  0%|                                                                                            | 0/3 [00:00<?, ?it/s]"
     ]
    }
   ],
   "source": [
    "my_list = []\n",
    "\n",
    "for pgn_path in tqdm(pgns):\n",
    "    pgn = open(pgn_path)\n",
    "    while True:\n",
    "        game = chess.pgn.read_game(pgn)\n",
    "\n",
    "        if game is None:\n",
    "            break  # end of file\n",
    "\n",
    "        game_str = \"\"\n",
    "        board = game.board()\n",
    "        for move in game.mainline_moves():\n",
    "            game_str += board.san(move) + ' '\n",
    "            board.push(move)\n",
    "\n",
    "        game_str += game.headers['Result']\n",
    "        my_list.append(game_str)"
   ]
  },
  {
   "cell_type": "code",
   "execution_count": null,
   "id": "464aed59",
   "metadata": {},
   "outputs": [],
   "source": [
    "len(my_list)"
   ]
  },
  {
   "cell_type": "code",
   "execution_count": null,
   "id": "2274921e",
   "metadata": {},
   "outputs": [],
   "source": [
    "import pandas as pd"
   ]
  },
  {
   "cell_type": "code",
   "execution_count": null,
   "id": "6570c726",
   "metadata": {},
   "outputs": [],
   "source": [
    "data = pd.DataFrame(my_list).rename(columns = {0:'PGN'})"
   ]
  },
  {
   "cell_type": "code",
   "execution_count": null,
   "id": "6d0341b3",
   "metadata": {},
   "outputs": [],
   "source": [
    "data.to_csv('data_data_uci_figs.csv', index = False)"
   ]
  },
  {
   "cell_type": "code",
   "execution_count": null,
   "id": "11a7d080",
   "metadata": {},
   "outputs": [],
   "source": []
  }
 ],
 "metadata": {
  "kernelspec": {
   "display_name": "Python 3 (ipykernel)",
   "language": "python",
   "name": "python3"
  },
  "language_info": {
   "codemirror_mode": {
    "name": "ipython",
    "version": 3
   },
   "file_extension": ".py",
   "mimetype": "text/x-python",
   "name": "python",
   "nbconvert_exporter": "python",
   "pygments_lexer": "ipython3",
   "version": "3.7.10"
  }
 },
 "nbformat": 4,
 "nbformat_minor": 5
}
