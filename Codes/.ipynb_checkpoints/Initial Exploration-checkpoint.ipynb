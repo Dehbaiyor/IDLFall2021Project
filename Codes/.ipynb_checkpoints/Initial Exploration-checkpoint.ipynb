{
 "cells": [
  {
   "cell_type": "code",
   "execution_count": 5,
   "id": "a2953255",
   "metadata": {},
   "outputs": [],
   "source": [
    "import pandas as pd"
   ]
  },
  {
   "cell_type": "code",
   "execution_count": 13,
   "id": "31ff127d",
   "metadata": {},
   "outputs": [
    {
     "data": {
      "text/html": [
       "<div>\n",
       "<style scoped>\n",
       "    .dataframe tbody tr th:only-of-type {\n",
       "        vertical-align: middle;\n",
       "    }\n",
       "\n",
       "    .dataframe tbody tr th {\n",
       "        vertical-align: top;\n",
       "    }\n",
       "\n",
       "    .dataframe thead th {\n",
       "        text-align: right;\n",
       "    }\n",
       "</style>\n",
       "<table border=\"1\" class=\"dataframe\">\n",
       "  <thead>\n",
       "    <tr style=\"text-align: right;\">\n",
       "      <th></th>\n",
       "      <th># #</th>\n",
       "      <th>PGN</th>\n",
       "    </tr>\n",
       "  </thead>\n",
       "  <tbody>\n",
       "    <tr>\n",
       "      <th>0</th>\n",
       "      <td>1 2000.03.14 1-0 2851 None 67 date_false resul...</td>\n",
       "      <td>d4 d5 c4 e6 Nc3 Nf6 cxd5 exd5 Bg5 Be7 e3 Ne4 B...</td>\n",
       "    </tr>\n",
       "    <tr>\n",
       "      <th>1</th>\n",
       "      <td>2 2000.03.14 1-0 2851 None 53 date_false resul...</td>\n",
       "      <td>e4 d5 exd5 Qxd5 Nc3 Qa5 d4 Nf6 Nf3 c6 Ne5 Bf5 ...</td>\n",
       "    </tr>\n",
       "    <tr>\n",
       "      <th>2</th>\n",
       "      <td>3 1999.11.20 1-0 2851 None 57 date_false resul...</td>\n",
       "      <td>e4 e5 Nf3 Nc6 Bc4 Bc5 c3 Nf6 d3 d6 Bb3 O-O Nbd...</td>\n",
       "    </tr>\n",
       "    <tr>\n",
       "      <th>3</th>\n",
       "      <td>4 1999.11.20 1-0 2851 None 49 date_false resul...</td>\n",
       "      <td>e4 d5 exd5 Qxd5 Nc3 Qa5 d4 e6 Nf3 c6 Bd3 Nf6 O...</td>\n",
       "    </tr>\n",
       "    <tr>\n",
       "      <th>4</th>\n",
       "      <td>5 2000.02.20 1/2-1/2 2851 2633 97 date_false r...</td>\n",
       "      <td>e4 e5 Nf3 Nc6 Bb5 a6 Ba4 Nf6 O-O Be7 Re1 b5 Bb...</td>\n",
       "    </tr>\n",
       "  </tbody>\n",
       "</table>\n",
       "</div>"
      ],
      "text/plain": [
       "                                                 # #  \\\n",
       "0  1 2000.03.14 1-0 2851 None 67 date_false resul...   \n",
       "1  2 2000.03.14 1-0 2851 None 53 date_false resul...   \n",
       "2  3 1999.11.20 1-0 2851 None 57 date_false resul...   \n",
       "3  4 1999.11.20 1-0 2851 None 49 date_false resul...   \n",
       "4  5 2000.02.20 1/2-1/2 2851 2633 97 date_false r...   \n",
       "\n",
       "                                                 PGN  \n",
       "0  d4 d5 c4 e6 Nc3 Nf6 cxd5 exd5 Bg5 Be7 e3 Ne4 B...  \n",
       "1  e4 d5 exd5 Qxd5 Nc3 Qa5 d4 Nf6 Nf3 c6 Ne5 Bf5 ...  \n",
       "2  e4 e5 Nf3 Nc6 Bc4 Bc5 c3 Nf6 d3 d6 Bb3 O-O Nbd...  \n",
       "3  e4 d5 exd5 Qxd5 Nc3 Qa5 d4 e6 Nf3 c6 Bd3 Nf6 O...  \n",
       "4  e4 e5 Nf3 Nc6 Bb5 a6 Ba4 Nf6 O-O Be7 Re1 b5 Bb...  "
      ]
     },
     "execution_count": 13,
     "metadata": {},
     "output_type": "execute_result"
    }
   ],
   "source": [
    "data = pd.read_csv('../Data/Processed/cleaned_filtered_annotations.csv')\n",
    "data.head()"
   ]
  },
  {
   "cell_type": "code",
   "execution_count": 14,
   "id": "ccb9972e",
   "metadata": {},
   "outputs": [
    {
     "data": {
      "text/plain": [
       "3561470"
      ]
     },
     "execution_count": 14,
     "metadata": {},
     "output_type": "execute_result"
    }
   ],
   "source": [
    "len(data)"
   ]
  },
  {
   "cell_type": "code",
   "execution_count": null,
   "id": "792a0af4",
   "metadata": {},
   "outputs": [],
   "source": [
    "data['PGN'].to_csv('../Data/Processed/cleaned_filtered_annotations.csv', index = False)"
   ]
  },
  {
   "cell_type": "code",
   "execution_count": null,
   "id": "1e7e5570",
   "metadata": {},
   "outputs": [],
   "source": []
  },
  {
   "cell_type": "markdown",
   "id": "4a8d3946",
   "metadata": {},
   "source": [
    "!pip install chess"
   ]
  },
  {
   "cell_type": "code",
   "execution_count": 1,
   "id": "de78a9c7",
   "metadata": {},
   "outputs": [],
   "source": [
    "import chess.pgn"
   ]
  },
  {
   "cell_type": "code",
   "execution_count": 2,
   "id": "b64f6bf8",
   "metadata": {},
   "outputs": [],
   "source": [
    "pgn = open('../Data/ficsgamesdb_search_224769.pgn')\n",
    "\n",
    "my_list = []\n",
    "while True:\n",
    "    game = chess.pgn.read_game(pgn)\n",
    "    \n",
    "    if game is None:\n",
    "        break  # end of file\n",
    "        \n",
    "    game_str = \"\"\n",
    "    board = game.board()\n",
    "    for move in game.mainline_moves():\n",
    "        game_str += board.san(move) + ' '\n",
    "        board.push(move)\n",
    "        \n",
    "    game_str += game.headers['Result']\n",
    "    my_list.append(game_str)"
   ]
  },
  {
   "cell_type": "code",
   "execution_count": 3,
   "id": "db73d138",
   "metadata": {},
   "outputs": [
    {
     "data": {
      "text/plain": [
       "5000"
      ]
     },
     "execution_count": 3,
     "metadata": {},
     "output_type": "execute_result"
    }
   ],
   "source": [
    "len(my_list)"
   ]
  },
  {
   "cell_type": "code",
   "execution_count": 4,
   "id": "a45e6975",
   "metadata": {},
   "outputs": [
    {
     "name": "stdout",
     "output_type": "stream",
     "text": [
      "e4 c5 Bc4 Nf6 d3 Nc6 Nf3 d6 Nc3 Rb8 O-O Bg4 h3 Be6 Bxe6 fxe6 Ng5 e5 Nd5 Nxd5 exd5 Nd4 c4 Qc7 Be3 a6 Bxd4 exd4 Qf3 h5 Qf7+ Kd7 Qe6+ Ke8 Nf7 Rg8 Nxd6+ Qxd6 Qxg8 Kd7 Qf7 Qh6 Rfe1 Kc7 Re6 Qd2 Rae1 Ra8 Rxe7+ Bxe7 Qxe7+ Kb8 Re2 Qxd3 b3 Qb1+ Kh2 b6 Qd6+ Kb7 Re7+ Kc8 Qc7# 1-0\n"
     ]
    }
   ],
   "source": [
    "print(my_list[4999])"
   ]
  },
  {
   "cell_type": "code",
   "execution_count": null,
   "id": "7d65f68b",
   "metadata": {},
   "outputs": [],
   "source": []
  }
 ],
 "metadata": {
  "kernelspec": {
   "display_name": "Python 3 (ipykernel)",
   "language": "python",
   "name": "python3"
  },
  "language_info": {
   "codemirror_mode": {
    "name": "ipython",
    "version": 3
   },
   "file_extension": ".py",
   "mimetype": "text/x-python",
   "name": "python",
   "nbconvert_exporter": "python",
   "pygments_lexer": "ipython3",
   "version": "3.7.10"
  }
 },
 "nbformat": 4,
 "nbformat_minor": 5
}
