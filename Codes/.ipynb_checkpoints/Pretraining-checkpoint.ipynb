{
 "cells": [
  {
   "cell_type": "markdown",
   "id": "d67676da",
   "metadata": {},
   "source": [
    "https://www.freecodecamp.org/news/train-algorithms-from-scratch-with-hugging-face/"
   ]
  },
  {
   "cell_type": "code",
   "execution_count": 1,
   "id": "0cb7e871",
   "metadata": {},
   "outputs": [],
   "source": [
    "## importing the tokenizer and subword BPE trainer\n",
    "from tokenizers import Tokenizer\n",
    "from tokenizers.models import WordLevel\n",
    "from tokenizers.trainers import WordLevelTrainer\n",
    "\n",
    "## a pretokenizer to segment the text into words\n",
    "from tokenizers.pre_tokenizers import Whitespace"
   ]
  },
  {
   "cell_type": "code",
   "execution_count": 2,
   "id": "a3efb603",
   "metadata": {},
   "outputs": [],
   "source": [
    "tokenizer = Tokenizer(WordLevel())\n",
    "spl_tokens = [\"<s>\", \"<pad>\", \"</s>\", \"<unk>\", \"<mask>\"]\n",
    "trainer = WordLevelTrainer(special_tokens = spl_tokens, vocab_size = 10000, min_frequency = 2)\n",
    "\n",
    "tokenizer.pre_tokenizer = Whitespace()"
   ]
  },
  {
   "cell_type": "code",
   "execution_count": 3,
   "id": "d20ad382",
   "metadata": {},
   "outputs": [
    {
     "data": {
      "text/plain": [
       "['..\\\\Data\\\\cleaned_merged_chess_data.csv']"
      ]
     },
     "execution_count": 3,
     "metadata": {},
     "output_type": "execute_result"
    }
   ],
   "source": [
    "from pathlib import Path\n",
    "\n",
    "paths = [str(x) for x in Path(\".\").glob(\"../Data/*.csv\")]\n",
    "paths"
   ]
  },
  {
   "cell_type": "markdown",
   "id": "80faef38",
   "metadata": {},
   "source": [
    "tokenizer.train(paths, trainer = trainer)"
   ]
  },
  {
   "cell_type": "markdown",
   "id": "9cb605b3",
   "metadata": {},
   "source": [
    "tokenizer.save(\"./tokenizer.json\")"
   ]
  },
  {
   "cell_type": "code",
   "execution_count": 4,
   "id": "cbaa90f0",
   "metadata": {},
   "outputs": [],
   "source": [
    "tokenizer = Tokenizer.from_file(\"./tokenizer.json\")"
   ]
  },
  {
   "cell_type": "code",
   "execution_count": 5,
   "id": "95867bce",
   "metadata": {},
   "outputs": [],
   "source": [
    "from transformers import T5Config, T5Model\n",
    "config = T5Config.from_pretrained('t5-small')\n",
    "model = T5Model(config)"
   ]
  },
  {
   "cell_type": "code",
   "execution_count": 6,
   "id": "8709c152",
   "metadata": {},
   "outputs": [],
   "source": [
    "import pandas as pd\n",
    "chess_data = pd.read_csv('cleaned_lichess08_sample.csv')"
   ]
  },
  {
   "cell_type": "code",
   "execution_count": 7,
   "id": "d30a1731",
   "metadata": {},
   "outputs": [
    {
     "data": {
      "text/plain": [
       "60506624"
      ]
     },
     "execution_count": 7,
     "metadata": {},
     "output_type": "execute_result"
    }
   ],
   "source": [
    "model.num_parameters()"
   ]
  },
  {
   "cell_type": "markdown",
   "id": "e8a80139",
   "metadata": {},
   "source": [
    "from tokenizers.implementations import BaseTokenizer\n",
    "from transformers import PreTrainedTokenizer, LineByLineTextDataset\n",
    "\n",
    "#ttokenizer = Tokenizer(WordLevel(\"vocb.json\"))\n",
    "#tokenizer.pre_tokenizer = WhitespaceSplit(\" \")\n",
    "\n",
    "# Load the `tokenizers` Tokenizer somehow\n",
    "base_tokenizer = BaseTokenizer(Tokenizer.from_file(\"./tokenizer.json\"))\n",
    "\n",
    "# Wrap it in something `transformers` understands\n",
    "tokenizer = PreTrainedTokenizer(pretrained_vocab_files_map = \"./tokenizer.json\")\n"
   ]
  },
  {
   "cell_type": "code",
   "execution_count": 8,
   "id": "3d13eb6d",
   "metadata": {},
   "outputs": [
    {
     "name": "stderr",
     "output_type": "stream",
     "text": [
      "Using custom data configuration default-70b4d030918b2585\n",
      "Reusing dataset csv (C:\\Users\\Oshingabesan Adebayo\\.cache\\huggingface\\datasets\\csv\\default-70b4d030918b2585\\0.0.0\\bf68a4c4aefa545d0712b2fcbb1b327f905bbe2f6425fbc5e8c25234acb9e14a)\n",
      "100%|###################################################################################| 1/1 [00:00<00:00, 500.22it/s]\n"
     ]
    }
   ],
   "source": [
    "from datasets import load_dataset\n",
    "dataset = load_dataset('csv', data_files=[\"./cleaned_lichess08_sample.csv\"])"
   ]
  },
  {
   "cell_type": "code",
   "execution_count": 9,
   "id": "763084f2",
   "metadata": {
    "scrolled": true
   },
   "outputs": [
    {
     "data": {
      "text/plain": [
       "DatasetDict({\n",
       "    train: Dataset({\n",
       "        features: ['PGN'],\n",
       "        num_rows: 10000\n",
       "    })\n",
       "})"
      ]
     },
     "execution_count": 9,
     "metadata": {},
     "output_type": "execute_result"
    }
   ],
   "source": [
    "dataset"
   ]
  },
  {
   "cell_type": "code",
   "execution_count": 10,
   "id": "f221e49a",
   "metadata": {},
   "outputs": [],
   "source": [
    "from transformers import DataCollatorForLanguageModeling\n",
    "\n",
    "tokenizer.mask_token = '<mask>'\n",
    "\n",
    "data_collator = DataCollatorForLanguageModeling(\n",
    "    tokenizer=tokenizer, mlm=True, mlm_probability=0.15\n",
    ")"
   ]
  },
  {
   "cell_type": "code",
   "execution_count": 11,
   "id": "3bf65035",
   "metadata": {},
   "outputs": [],
   "source": [
    "from transformers import Trainer, TrainingArguments\n",
    "\n",
    "training_args = TrainingArguments(\n",
    "    output_dir=\"./Chess\",\n",
    "    overwrite_output_dir=True,\n",
    "    num_train_epochs=1,\n",
    "    per_gpu_train_batch_size=64,\n",
    "    save_steps=10_000,\n",
    "    save_total_limit=2,\n",
    "    prediction_loss_only=True,\n",
    ")\n",
    "\n",
    "trainer = Trainer(\n",
    "    model=model,\n",
    "    args=training_args,\n",
    "    data_collator=data_collator,\n",
    "    train_dataset=dataset,\n",
    ")"
   ]
  },
  {
   "cell_type": "code",
   "execution_count": null,
   "id": "1400cb32",
   "metadata": {},
   "outputs": [
    {
     "name": "stderr",
     "output_type": "stream",
     "text": [
      "Using deprecated `--per_gpu_train_batch_size` argument which will be removed in a future version. Using `--per_device_train_batch_size` is preferred.\n",
      "Using deprecated `--per_gpu_train_batch_size` argument which will be removed in a future version. Using `--per_device_train_batch_size` is preferred.\n",
      "Using deprecated `--per_gpu_train_batch_size` argument which will be removed in a future version. Using `--per_device_train_batch_size` is preferred.\n",
      "Using deprecated `--per_gpu_train_batch_size` argument which will be removed in a future version. Using `--per_device_train_batch_size` is preferred.\n",
      "Failed to detect the name of this notebook, you can set it manually with the WANDB_NOTEBOOK_NAME environment variable to enable code saving.\n",
      "wandb: Currently logged in as: dehbaiyor (use `wandb login --relogin` to force relogin)\n"
     ]
    }
   ],
   "source": [
    "%%time\n",
    "trainer.train()"
   ]
  },
  {
   "cell_type": "markdown",
   "id": "4d68a396",
   "metadata": {},
   "source": [
    "https://discuss.huggingface.co/t/t5-training-from-scratch/1898\n",
    "https://huggingface.co/docs/datasets/loading_datasets.html\n",
    "https://colab.research.google.com/github/huggingface/blog/blob/master/notebooks/01_how_to_train.ipynb#scrollTo=VmaHZXzmkNtJ"
   ]
  },
  {
   "cell_type": "code",
   "execution_count": null,
   "id": "ec851916",
   "metadata": {},
   "outputs": [],
   "source": []
  },
  {
   "cell_type": "code",
   "execution_count": null,
   "id": "6072e07c",
   "metadata": {},
   "outputs": [],
   "source": []
  },
  {
   "cell_type": "code",
   "execution_count": null,
   "id": "cbe89663",
   "metadata": {},
   "outputs": [],
   "source": []
  }
 ],
 "metadata": {
  "kernelspec": {
   "display_name": "Python 3.7 (XPython)",
   "language": "python",
   "name": "xpython"
  },
  "language_info": {
   "file_extension": ".py",
   "mimetype": "text/x-python",
   "name": "python",
   "version": "3.7.10"
  }
 },
 "nbformat": 4,
 "nbformat_minor": 5
}
