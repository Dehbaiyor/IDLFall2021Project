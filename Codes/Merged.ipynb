{
 "cells": [
  {
   "cell_type": "code",
   "execution_count": 3,
   "id": "7fb48ed8",
   "metadata": {},
   "outputs": [
    {
     "data": {
      "text/plain": [
       "['../Data/Processed/chess_games_processed.csv',\n",
       " '../Data/Processed/cleaned_200k.csv',\n",
       " '../Data/Processed/cleaned_club_games.csv',\n",
       " '../Data/Processed/cleaned_filtered_annotations.csv',\n",
       " '../Data/Processed/cleaned_lichess08.csv',\n",
       " '../Data/Processed/cleaned_lichess08_sample.csv',\n",
       " '../Data/Processed/data_data_uci_figs.csv',\n",
       " '../Data/Processed/lichess_elite.csv']"
      ]
     },
     "execution_count": 3,
     "metadata": {},
     "output_type": "execute_result"
    }
   ],
   "source": [
    "from os import listdir\n",
    "\n",
    "filepaths = [ \"../Data/Processed/\" + f for f in listdir(\"../Data/Processed/\") if f.endswith('.csv')]\n",
    "filepaths"
   ]
  },
  {
   "cell_type": "code",
   "execution_count": 4,
   "id": "78a26da3",
   "metadata": {},
   "outputs": [],
   "source": [
    "import pandas as pd\n",
    "\n",
    "df = pd.concat(map(pd.read_csv, filepaths))"
   ]
  },
  {
   "cell_type": "code",
   "execution_count": 6,
   "id": "4141596d",
   "metadata": {},
   "outputs": [
    {
     "data": {
      "text/plain": [
       "14626065"
      ]
     },
     "execution_count": 6,
     "metadata": {},
     "output_type": "execute_result"
    }
   ],
   "source": [
    "len(df)"
   ]
  },
  {
   "cell_type": "code",
   "execution_count": 10,
   "id": "85956094",
   "metadata": {},
   "outputs": [],
   "source": [
    "df.to_csv('../Data/Processed/merged_chess_data.csv', index = False)"
   ]
  },
  {
   "cell_type": "code",
   "execution_count": null,
   "id": "b5e7e2cf",
   "metadata": {},
   "outputs": [],
   "source": []
  },
  {
   "cell_type": "code",
   "execution_count": null,
   "id": "4fc98289",
   "metadata": {},
   "outputs": [],
   "source": []
  }
 ],
 "metadata": {
  "kernelspec": {
   "display_name": "Python 3 (ipykernel)",
   "language": "python",
   "name": "python3"
  },
  "language_info": {
   "codemirror_mode": {
    "name": "ipython",
    "version": 3
   },
   "file_extension": ".py",
   "mimetype": "text/x-python",
   "name": "python",
   "nbconvert_exporter": "python",
   "pygments_lexer": "ipython3",
   "version": "3.7.10"
  }
 },
 "nbformat": 4,
 "nbformat_minor": 5
}
