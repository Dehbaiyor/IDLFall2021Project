{
 "cells": [
  {
   "cell_type": "code",
   "execution_count": 1,
   "id": "c0d8e663",
   "metadata": {},
   "outputs": [],
   "source": [
    "import pandas as pd"
   ]
  },
  {
   "cell_type": "code",
   "execution_count": 3,
   "id": "99ac8cdc",
   "metadata": {},
   "outputs": [
    {
     "name": "stderr",
     "output_type": "stream",
     "text": [
      "c:\\users\\oshingabesan adebayo\\.conda\\envs\\final_qg\\lib\\site-packages\\IPython\\core\\interactiveshell.py:3170: DtypeWarning: Columns (1) have mixed types.Specify dtype option on import or set low_memory=False.\n",
      "  interactivity=interactivity, compiler=compiler, result=result)\n"
     ]
    }
   ],
   "source": [
    "df = pd.read_csv('../Data/merged_chess_data.csv')"
   ]
  },
  {
   "cell_type": "code",
   "execution_count": 4,
   "id": "1a46b535",
   "metadata": {},
   "outputs": [
    {
     "data": {
      "text/plain": [
       "14626065"
      ]
     },
     "execution_count": 4,
     "metadata": {},
     "output_type": "execute_result"
    }
   ],
   "source": [
    "len(df)"
   ]
  },
  {
   "cell_type": "code",
   "execution_count": 10,
   "id": "ef9f05bc",
   "metadata": {},
   "outputs": [],
   "source": [
    "df['length'] = df['PGN'].str.len()"
   ]
  },
  {
   "cell_type": "code",
   "execution_count": 11,
   "id": "b1e00202",
   "metadata": {},
   "outputs": [
    {
     "data": {
      "text/plain": [
       "count    1.462606e+07\n",
       "mean     3.685688e+02\n",
       "std      3.042054e+02\n",
       "min      1.000000e+00\n",
       "25%      2.170000e+02\n",
       "50%      3.040000e+02\n",
       "75%      4.170000e+02\n",
       "max      6.743000e+03\n",
       "Name: length, dtype: float64"
      ]
     },
     "execution_count": 11,
     "metadata": {},
     "output_type": "execute_result"
    }
   ],
   "source": [
    "df['length'].describe()"
   ]
  },
  {
   "cell_type": "code",
   "execution_count": 20,
   "id": "2cba6142",
   "metadata": {},
   "outputs": [],
   "source": [
    "df_striped = df[df['length'] >= 60]"
   ]
  },
  {
   "cell_type": "code",
   "execution_count": 21,
   "id": "f646455f",
   "metadata": {},
   "outputs": [
    {
     "data": {
      "text/plain": [
       "14369072"
      ]
     },
     "execution_count": 21,
     "metadata": {},
     "output_type": "execute_result"
    }
   ],
   "source": [
    "len(df_striped)"
   ]
  },
  {
   "cell_type": "code",
   "execution_count": 22,
   "id": "2bc0429e",
   "metadata": {},
   "outputs": [
    {
     "data": {
      "text/plain": [
       "256993"
      ]
     },
     "execution_count": 22,
     "metadata": {},
     "output_type": "execute_result"
    }
   ],
   "source": [
    "len(df) - len(df_striped)"
   ]
  },
  {
   "cell_type": "code",
   "execution_count": 24,
   "id": "9d72c3f5",
   "metadata": {},
   "outputs": [
    {
     "data": {
      "text/plain": [
       "198996"
      ]
     },
     "execution_count": 24,
     "metadata": {},
     "output_type": "execute_result"
    }
   ],
   "source": [
    "len(df_striped['Evals'].dropna())"
   ]
  },
  {
   "cell_type": "code",
   "execution_count": 25,
   "id": "3d5a2c68",
   "metadata": {},
   "outputs": [
    {
     "data": {
      "text/html": [
       "<div>\n",
       "<style scoped>\n",
       "    .dataframe tbody tr th:only-of-type {\n",
       "        vertical-align: middle;\n",
       "    }\n",
       "\n",
       "    .dataframe tbody tr th {\n",
       "        vertical-align: top;\n",
       "    }\n",
       "\n",
       "    .dataframe thead th {\n",
       "        text-align: right;\n",
       "    }\n",
       "</style>\n",
       "<table border=\"1\" class=\"dataframe\">\n",
       "  <thead>\n",
       "    <tr style=\"text-align: right;\">\n",
       "      <th></th>\n",
       "      <th>PGN</th>\n",
       "      <th>Evals</th>\n",
       "      <th>length</th>\n",
       "    </tr>\n",
       "  </thead>\n",
       "  <tbody>\n",
       "    <tr>\n",
       "      <th>0</th>\n",
       "      <td>d4 d5 c4 c6 e3 a6 Nf3 e5 cxd5 e4 Ne5 cxd5 Qa4+...</td>\n",
       "      <td>NaN</td>\n",
       "      <td>307</td>\n",
       "    </tr>\n",
       "    <tr>\n",
       "      <th>1</th>\n",
       "      <td>e4 e5 b3 Nf6 Bb2 Nc6 Nf3 d6 d3 g6 Nbd2 Bg7 g3 ...</td>\n",
       "      <td>NaN</td>\n",
       "      <td>204</td>\n",
       "    </tr>\n",
       "    <tr>\n",
       "      <th>2</th>\n",
       "      <td>e4 d5 exd5 Qxd5 Nf3 Bg4 Be2 Nf6 Nc3 Qd8 O-O Nc...</td>\n",
       "      <td>NaN</td>\n",
       "      <td>262</td>\n",
       "    </tr>\n",
       "    <tr>\n",
       "      <th>3</th>\n",
       "      <td>e3 Nf6 Bc4 d6 e4 e6 Nf3 Nxe4 Nd4 Nxf2 Kxf2 Qh4...</td>\n",
       "      <td>NaN</td>\n",
       "      <td>262</td>\n",
       "    </tr>\n",
       "    <tr>\n",
       "      <th>4</th>\n",
       "      <td>e4 c5 Nf3 d6 d4 cxd4 Nxd4 Nf6 Nc3 a6 Bc4 Qc7 B...</td>\n",
       "      <td>NaN</td>\n",
       "      <td>428</td>\n",
       "    </tr>\n",
       "  </tbody>\n",
       "</table>\n",
       "</div>"
      ],
      "text/plain": [
       "                                                 PGN Evals  length\n",
       "0  d4 d5 c4 c6 e3 a6 Nf3 e5 cxd5 e4 Ne5 cxd5 Qa4+...   NaN     307\n",
       "1  e4 e5 b3 Nf6 Bb2 Nc6 Nf3 d6 d3 g6 Nbd2 Bg7 g3 ...   NaN     204\n",
       "2  e4 d5 exd5 Qxd5 Nf3 Bg4 Be2 Nf6 Nc3 Qd8 O-O Nc...   NaN     262\n",
       "3  e3 Nf6 Bc4 d6 e4 e6 Nf3 Nxe4 Nd4 Nxf2 Kxf2 Qh4...   NaN     262\n",
       "4  e4 c5 Nf3 d6 d4 cxd4 Nxd4 Nf6 Nc3 a6 Bc4 Qc7 B...   NaN     428"
      ]
     },
     "execution_count": 25,
     "metadata": {},
     "output_type": "execute_result"
    }
   ],
   "source": [
    "df_striped.head()"
   ]
  },
  {
   "cell_type": "code",
   "execution_count": 26,
   "id": "96355235",
   "metadata": {},
   "outputs": [],
   "source": [
    "df_striped[['PGN','Evals']].to_csv('cleaned_merged_chess_data.csv', index = False)"
   ]
  },
  {
   "cell_type": "code",
   "execution_count": null,
   "id": "70b9f131",
   "metadata": {},
   "outputs": [],
   "source": []
  },
  {
   "cell_type": "code",
   "execution_count": null,
   "id": "c6488b17",
   "metadata": {},
   "outputs": [],
   "source": []
  }
 ],
 "metadata": {
  "kernelspec": {
   "display_name": "Python 3 (ipykernel)",
   "language": "python",
   "name": "python3"
  },
  "language_info": {
   "codemirror_mode": {
    "name": "ipython",
    "version": 3
   },
   "file_extension": ".py",
   "mimetype": "text/x-python",
   "name": "python",
   "nbconvert_exporter": "python",
   "pygments_lexer": "ipython3",
   "version": "3.7.10"
  }
 },
 "nbformat": 4,
 "nbformat_minor": 5
}
