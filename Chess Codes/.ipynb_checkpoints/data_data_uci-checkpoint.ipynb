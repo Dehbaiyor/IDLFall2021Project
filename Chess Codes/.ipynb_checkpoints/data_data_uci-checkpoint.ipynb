{
 "cells": [
  {
   "cell_type": "code",
   "execution_count": 1,
   "id": "056034e4",
   "metadata": {},
   "outputs": [],
   "source": [
    "import glob\n",
    "import chess.pgn\n",
    "from tqdm import tqdm"
   ]
  },
  {
   "cell_type": "code",
   "execution_count": 2,
   "id": "6a06db59",
   "metadata": {},
   "outputs": [
    {
     "data": {
      "text/plain": [
       "['../Data\\\\data.pgn',\n",
       " '../Data\\\\data_uci.pgn',\n",
       " '../Data\\\\ficsgamesdb_search_224769.pgn']"
      ]
     },
     "execution_count": 2,
     "metadata": {},
     "output_type": "execute_result"
    }
   ],
   "source": [
    "import glob\n",
    "pgns = glob.glob(\"../Data/*.pgn\")\n",
    "pgns"
   ]
  },
  {
   "cell_type": "code",
   "execution_count": null,
   "id": "a8ae6041",
   "metadata": {},
   "outputs": [
    {
     "name": "stderr",
     "output_type": "stream",
     "text": [
      "\r",
      "  0%|                                                                                            | 0/3 [00:00<?, ?it/s]"
     ]
    },
    {
     "name": "stdout",
     "output_type": "stream",
     "text": [
      "../Data\\data.pgn\n"
     ]
    }
   ],
   "source": [
    "my_list = []\n",
    "\n",
    "for pgn_path in tqdm(pgns):\n",
    "    print(pgn_path)\n",
    "    pgn = open(pgn_path)\n",
    "    while True:\n",
    "        game = chess.pgn.read_game(pgn)\n",
    "        if game is None:\n",
    "            break  # end of file\n",
    "        my_list.append(game)"
   ]
  },
  {
   "cell_type": "code",
   "execution_count": null,
   "id": "349c3f0c",
   "metadata": {},
   "outputs": [],
   "source": []
  },
  {
   "cell_type": "code",
   "execution_count": null,
   "id": "d06a3ffb",
   "metadata": {},
   "outputs": [],
   "source": []
  }
 ],
 "metadata": {
  "kernelspec": {
   "display_name": "Python 3 (ipykernel)",
   "language": "python",
   "name": "python3"
  },
  "language_info": {
   "codemirror_mode": {
    "name": "ipython",
    "version": 3
   },
   "file_extension": ".py",
   "mimetype": "text/x-python",
   "name": "python",
   "nbconvert_exporter": "python",
   "pygments_lexer": "ipython3",
   "version": "3.7.10"
  }
 },
 "nbformat": 4,
 "nbformat_minor": 5
}
