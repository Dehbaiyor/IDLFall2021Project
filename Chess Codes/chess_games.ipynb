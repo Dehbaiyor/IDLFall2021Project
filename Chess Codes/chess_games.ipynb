{
 "cells": [
  {
   "cell_type": "code",
   "execution_count": 1,
   "id": "7e753e1c",
   "metadata": {},
   "outputs": [],
   "source": [
    "import pandas as pd\n",
    "import re"
   ]
  },
  {
   "cell_type": "code",
   "execution_count": 2,
   "id": "b281b1d5",
   "metadata": {},
   "outputs": [],
   "source": [
    "chess_data = pd.read_csv('../Data/chess_games.csv', delimiter = ',')"
   ]
  },
  {
   "cell_type": "code",
   "execution_count": 3,
   "id": "d55dd7ed",
   "metadata": {},
   "outputs": [
    {
     "data": {
      "text/html": [
       "<div>\n",
       "<style scoped>\n",
       "    .dataframe tbody tr th:only-of-type {\n",
       "        vertical-align: middle;\n",
       "    }\n",
       "\n",
       "    .dataframe tbody tr th {\n",
       "        vertical-align: top;\n",
       "    }\n",
       "\n",
       "    .dataframe thead th {\n",
       "        text-align: right;\n",
       "    }\n",
       "</style>\n",
       "<table border=\"1\" class=\"dataframe\">\n",
       "  <thead>\n",
       "    <tr style=\"text-align: right;\">\n",
       "      <th></th>\n",
       "      <th>Event</th>\n",
       "      <th>White</th>\n",
       "      <th>Black</th>\n",
       "      <th>Result</th>\n",
       "      <th>UTCDate</th>\n",
       "      <th>UTCTime</th>\n",
       "      <th>WhiteElo</th>\n",
       "      <th>BlackElo</th>\n",
       "      <th>WhiteRatingDiff</th>\n",
       "      <th>BlackRatingDiff</th>\n",
       "      <th>ECO</th>\n",
       "      <th>Opening</th>\n",
       "      <th>TimeControl</th>\n",
       "      <th>Termination</th>\n",
       "      <th>AN</th>\n",
       "    </tr>\n",
       "  </thead>\n",
       "  <tbody>\n",
       "    <tr>\n",
       "      <th>0</th>\n",
       "      <td>Classical</td>\n",
       "      <td>eisaaaa</td>\n",
       "      <td>HAMID449</td>\n",
       "      <td>1-0</td>\n",
       "      <td>2016.06.30</td>\n",
       "      <td>22:00:01</td>\n",
       "      <td>1901</td>\n",
       "      <td>1896</td>\n",
       "      <td>11.0</td>\n",
       "      <td>-11.0</td>\n",
       "      <td>D10</td>\n",
       "      <td>Slav Defense</td>\n",
       "      <td>300+5</td>\n",
       "      <td>Time forfeit</td>\n",
       "      <td>1. d4 d5 2. c4 c6 3. e3 a6 4. Nf3 e5 5. cxd5 e...</td>\n",
       "    </tr>\n",
       "    <tr>\n",
       "      <th>1</th>\n",
       "      <td>Blitz</td>\n",
       "      <td>go4jas</td>\n",
       "      <td>Sergei1973</td>\n",
       "      <td>0-1</td>\n",
       "      <td>2016.06.30</td>\n",
       "      <td>22:00:01</td>\n",
       "      <td>1641</td>\n",
       "      <td>1627</td>\n",
       "      <td>-11.0</td>\n",
       "      <td>12.0</td>\n",
       "      <td>C20</td>\n",
       "      <td>King's Pawn Opening: 2.b3</td>\n",
       "      <td>300+0</td>\n",
       "      <td>Normal</td>\n",
       "      <td>1. e4 e5 2. b3 Nf6 3. Bb2 Nc6 4. Nf3 d6 5. d3 ...</td>\n",
       "    </tr>\n",
       "    <tr>\n",
       "      <th>2</th>\n",
       "      <td>Blitz tournament</td>\n",
       "      <td>Evangelistaizac</td>\n",
       "      <td>kafune</td>\n",
       "      <td>1-0</td>\n",
       "      <td>2016.06.30</td>\n",
       "      <td>22:00:02</td>\n",
       "      <td>1647</td>\n",
       "      <td>1688</td>\n",
       "      <td>13.0</td>\n",
       "      <td>-13.0</td>\n",
       "      <td>B01</td>\n",
       "      <td>Scandinavian Defense: Mieses-Kotroc Variation</td>\n",
       "      <td>180+0</td>\n",
       "      <td>Time forfeit</td>\n",
       "      <td>1. e4 d5 2. exd5 Qxd5 3. Nf3 Bg4 4. Be2 Nf6 5....</td>\n",
       "    </tr>\n",
       "    <tr>\n",
       "      <th>3</th>\n",
       "      <td>Correspondence</td>\n",
       "      <td>Jvayne</td>\n",
       "      <td>Wsjvayne</td>\n",
       "      <td>1-0</td>\n",
       "      <td>2016.06.30</td>\n",
       "      <td>22:00:02</td>\n",
       "      <td>1706</td>\n",
       "      <td>1317</td>\n",
       "      <td>27.0</td>\n",
       "      <td>-25.0</td>\n",
       "      <td>A00</td>\n",
       "      <td>Van't Kruijs Opening</td>\n",
       "      <td>-</td>\n",
       "      <td>Normal</td>\n",
       "      <td>1. e3 Nf6 2. Bc4 d6 3. e4 e6 4. Nf3 Nxe4 5. Nd...</td>\n",
       "    </tr>\n",
       "    <tr>\n",
       "      <th>4</th>\n",
       "      <td>Blitz tournament</td>\n",
       "      <td>kyoday</td>\n",
       "      <td>BrettDale</td>\n",
       "      <td>0-1</td>\n",
       "      <td>2016.06.30</td>\n",
       "      <td>22:00:02</td>\n",
       "      <td>1945</td>\n",
       "      <td>1900</td>\n",
       "      <td>-14.0</td>\n",
       "      <td>13.0</td>\n",
       "      <td>B90</td>\n",
       "      <td>Sicilian Defense: Najdorf, Lipnitsky Attack</td>\n",
       "      <td>180+0</td>\n",
       "      <td>Time forfeit</td>\n",
       "      <td>1. e4 c5 2. Nf3 d6 3. d4 cxd4 4. Nxd4 Nf6 5. N...</td>\n",
       "    </tr>\n",
       "  </tbody>\n",
       "</table>\n",
       "</div>"
      ],
      "text/plain": [
       "                Event            White       Black Result     UTCDate  \\\n",
       "0          Classical           eisaaaa    HAMID449    1-0  2016.06.30   \n",
       "1              Blitz            go4jas  Sergei1973    0-1  2016.06.30   \n",
       "2   Blitz tournament   Evangelistaizac      kafune    1-0  2016.06.30   \n",
       "3     Correspondence            Jvayne    Wsjvayne    1-0  2016.06.30   \n",
       "4   Blitz tournament            kyoday   BrettDale    0-1  2016.06.30   \n",
       "\n",
       "    UTCTime  WhiteElo  BlackElo  WhiteRatingDiff  BlackRatingDiff  ECO  \\\n",
       "0  22:00:01      1901      1896             11.0            -11.0  D10   \n",
       "1  22:00:01      1641      1627            -11.0             12.0  C20   \n",
       "2  22:00:02      1647      1688             13.0            -13.0  B01   \n",
       "3  22:00:02      1706      1317             27.0            -25.0  A00   \n",
       "4  22:00:02      1945      1900            -14.0             13.0  B90   \n",
       "\n",
       "                                         Opening TimeControl   Termination  \\\n",
       "0                                   Slav Defense       300+5  Time forfeit   \n",
       "1                      King's Pawn Opening: 2.b3       300+0        Normal   \n",
       "2  Scandinavian Defense: Mieses-Kotroc Variation       180+0  Time forfeit   \n",
       "3                           Van't Kruijs Opening           -        Normal   \n",
       "4    Sicilian Defense: Najdorf, Lipnitsky Attack       180+0  Time forfeit   \n",
       "\n",
       "                                                  AN  \n",
       "0  1. d4 d5 2. c4 c6 3. e3 a6 4. Nf3 e5 5. cxd5 e...  \n",
       "1  1. e4 e5 2. b3 Nf6 3. Bb2 Nc6 4. Nf3 d6 5. d3 ...  \n",
       "2  1. e4 d5 2. exd5 Qxd5 3. Nf3 Bg4 4. Be2 Nf6 5....  \n",
       "3  1. e3 Nf6 2. Bc4 d6 3. e4 e6 4. Nf3 Nxe4 5. Nd...  \n",
       "4  1. e4 c5 2. Nf3 d6 3. d4 cxd4 4. Nxd4 Nf6 5. N...  "
      ]
     },
     "execution_count": 3,
     "metadata": {},
     "output_type": "execute_result"
    }
   ],
   "source": [
    "chess_data.head()"
   ]
  },
  {
   "cell_type": "code",
   "execution_count": 6,
   "id": "a7551e70",
   "metadata": {},
   "outputs": [
    {
     "data": {
      "text/plain": [
       "'1. d4 d5 2. c4 c6 3. e3 a6 4. Nf3 e5 5. cxd5 e4 6. Ne5 cxd5 7. Qa4+ Bd7 8. Nxd7 Nxd7 9. Nc3 Nf6 10. Qb3 Be7 11. Nxd5 Qa5+ 12. Nc3 O-O 13. Be2 b5 14. O-O Rad8 15. Bd2 Qc7 16. Rac1 Qd6 17. Qc2 Qe6 18. Nb1 Bd6 19. a3 Nb6 20. Qc6 Nfd5 21. Ba5 Rc8 22. Qb7 Qh6 23. h3 Nc4 24. Bxc4 bxc4 25. Qxd5 Rfd8 26. Qxe4 Rd7 27. Bc3 Re7 28. Qf3 Re6 29. Nd2 Rf6 30. Qg4 Re8 31. Ne4 Rg6 32. Qd7 Rf8 33. Nxd6 Rxd6 34. Qc7 Rg6 35. Qh2 Re8 36. d5 f6 37. d6 Rd8 38. Rfd1 1-0'"
      ]
     },
     "execution_count": 6,
     "metadata": {},
     "output_type": "execute_result"
    }
   ],
   "source": [
    "chess_data['AN'][0]"
   ]
  },
  {
   "cell_type": "code",
   "execution_count": 18,
   "id": "26f9d028",
   "metadata": {},
   "outputs": [],
   "source": [
    "def clean(strng):\n",
    "    return re.sub(r'[0-9]+\\.', '', strng).lstrip().replace('  ',' ')"
   ]
  },
  {
   "cell_type": "code",
   "execution_count": 19,
   "id": "3e00f260",
   "metadata": {},
   "outputs": [
    {
     "data": {
      "text/plain": [
       "'d4 d5 c4 c6 e3 a6 Nf3 e5 cxd5 e4 Ne5 cxd5 Qa4+ Bd7 Nxd7 Nxd7 Nc3 Nf6 Qb3 Be7 Nxd5 Qa5+ Nc3 O-O Be2 b5 O-O Rad8 Bd2 Qc7 Rac1 Qd6 Qc2 Qe6 Nb1 Bd6 a3 Nb6 Qc6 Nfd5 Ba5 Rc8 Qb7 Qh6 h3 Nc4 Bxc4 bxc4 Qxd5 Rfd8 Qxe4 Rd7 Bc3 Re7 Qf3 Re6 Nd2 Rf6 Qg4 Re8 Ne4 Rg6 Qd7 Rf8 Nxd6 Rxd6 Qc7 Rg6 Qh2 Re8 d5 f6 d6 Rd8 Rfd1 1-0'"
      ]
     },
     "execution_count": 19,
     "metadata": {},
     "output_type": "execute_result"
    }
   ],
   "source": [
    "clean(chess_data['AN'][0])"
   ]
  },
  {
   "cell_type": "code",
   "execution_count": 20,
   "id": "017e1348",
   "metadata": {},
   "outputs": [],
   "source": [
    "chess_data['PGN'] = chess_data['AN'].apply(clean)"
   ]
  },
  {
   "cell_type": "code",
   "execution_count": 21,
   "id": "c1a841ba",
   "metadata": {},
   "outputs": [],
   "source": [
    "chess_data['PGN'].to_csv('../Data/chess_games_processed.csv', index = False)"
   ]
  },
  {
   "cell_type": "code",
   "execution_count": null,
   "id": "967f9de0",
   "metadata": {},
   "outputs": [],
   "source": []
  },
  {
   "cell_type": "code",
   "execution_count": null,
   "id": "d54ceef7",
   "metadata": {},
   "outputs": [],
   "source": []
  }
 ],
 "metadata": {
  "kernelspec": {
   "display_name": "Python 3 (ipykernel)",
   "language": "python",
   "name": "python3"
  },
  "language_info": {
   "codemirror_mode": {
    "name": "ipython",
    "version": 3
   },
   "file_extension": ".py",
   "mimetype": "text/x-python",
   "name": "python",
   "nbconvert_exporter": "python",
   "pygments_lexer": "ipython3",
   "version": "3.7.10"
  }
 },
 "nbformat": 4,
 "nbformat_minor": 5
}
