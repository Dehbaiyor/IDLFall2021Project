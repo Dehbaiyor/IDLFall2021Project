{
 "cells": [
  {
   "cell_type": "code",
   "execution_count": 1,
   "id": "02758b6a",
   "metadata": {},
   "outputs": [
    {
     "name": "stderr",
     "output_type": "stream",
     "text": [
      "Global seed set to 42\n"
     ]
    }
   ],
   "source": [
    "# import\n",
    "from simplet5 import SimpleT5\n",
    "\n",
    "# instantiate\n",
    "model = SimpleT5()\n",
    "\n",
    "# load (supports t5, mt5, byT5 models)\n",
    "model.from_pretrained(model_\"Chess\")"
   ]
  },
  {
   "cell_type": "code",
   "execution_count": 2,
   "id": "52366824",
   "metadata": {},
   "outputs": [],
   "source": [
    "import pandas as pd\n",
    "df = pd.read_csv('cleaned_lichess08_test.csv')[['PGN']]"
   ]
  },
  {
   "cell_type": "code",
   "execution_count": 6,
   "id": "b65b91a7",
   "metadata": {},
   "outputs": [],
   "source": [
    "import random\n",
    "\n",
    "def add_masks(text):\n",
    "    text = text.split(' ')\n",
    "    choices = random.choices(range(len(text)), k = int(0.1 * len(text)))\n",
    "    for choice in choices:\n",
    "        text[choice] = '<unk>'\n",
    "    return ' '.join(text)"
   ]
  },
  {
   "cell_type": "code",
   "execution_count": 8,
   "id": "24d936f1",
   "metadata": {},
   "outputs": [
    {
     "data": {
      "text/html": [
       "<div>\n",
       "<style scoped>\n",
       "    .dataframe tbody tr th:only-of-type {\n",
       "        vertical-align: middle;\n",
       "    }\n",
       "\n",
       "    .dataframe tbody tr th {\n",
       "        vertical-align: top;\n",
       "    }\n",
       "\n",
       "    .dataframe thead th {\n",
       "        text-align: right;\n",
       "    }\n",
       "</style>\n",
       "<table border=\"1\" class=\"dataframe\">\n",
       "  <thead>\n",
       "    <tr style=\"text-align: right;\">\n",
       "      <th></th>\n",
       "      <th>PGN</th>\n",
       "      <th>source_text</th>\n",
       "      <th>target_text</th>\n",
       "    </tr>\n",
       "  </thead>\n",
       "  <tbody>\n",
       "    <tr>\n",
       "      <th>0</th>\n",
       "      <td>e4 g6 d4 Bg7 c3 d6 Qf3 Nf6 h3 O-O Bg5 Nbd7 Bc4...</td>\n",
       "      <td>e4 g6 d4 Bg7 c3 d6 Qf3 Nf6 h3 &lt;unk&gt; Bg5 Nbd7 B...</td>\n",
       "      <td>e4 g6 d4 Bg7 c3 d6 Qf3 Nf6 h3 O-O Bg5 Nbd7 Bc4...</td>\n",
       "    </tr>\n",
       "    <tr>\n",
       "      <th>1</th>\n",
       "      <td>d4 Nf6 c4 g6 a3 Bg7 Nf3 O-O Nc3 a5 Bf4 d6 e3 N...</td>\n",
       "      <td>d4 Nf6 c4 g6 a3 Bg7 Nf3 O-O Nc3 a5 Bf4 d6 e3 N...</td>\n",
       "      <td>d4 Nf6 c4 g6 a3 Bg7 Nf3 O-O Nc3 a5 Bf4 d6 e3 N...</td>\n",
       "    </tr>\n",
       "    <tr>\n",
       "      <th>2</th>\n",
       "      <td>e4 c5 Qf3 e5 Bc4 Nf6 Nh3 h6 g4 g5 Ng1 a6 h4 Bg...</td>\n",
       "      <td>e4 c5 Qf3 e5 Bc4 &lt;unk&gt; Nh3 h6 g4 g5 Ng1 a6 h4 ...</td>\n",
       "      <td>e4 c5 Qf3 e5 Bc4 Nf6 Nh3 h6 g4 g5 Ng1 a6 h4 Bg...</td>\n",
       "    </tr>\n",
       "    <tr>\n",
       "      <th>3</th>\n",
       "      <td>e4 e5 Nf3 d6 Nc3 f5 exf5 Bxf5 d3 Nf6 h3 Be7 Be...</td>\n",
       "      <td>e4 e5 Nf3 d6 Nc3 &lt;unk&gt; &lt;unk&gt; Bxf5 d3 Nf6 h3 Be...</td>\n",
       "      <td>e4 e5 Nf3 d6 Nc3 f5 exf5 Bxf5 d3 Nf6 h3 Be7 Be...</td>\n",
       "    </tr>\n",
       "    <tr>\n",
       "      <th>4</th>\n",
       "      <td>f3 e5 g4 d5 Bg2 d4 c4 dxc3 Nxc3 Nc6 Qa4 Qh4+ K...</td>\n",
       "      <td>&lt;unk&gt; e5 &lt;unk&gt; d5 Bg2 d4 c4 dxc3 Nxc3 Nc6 Qa4 ...</td>\n",
       "      <td>f3 e5 g4 d5 Bg2 d4 c4 dxc3 Nxc3 Nc6 Qa4 Qh4+ K...</td>\n",
       "    </tr>\n",
       "    <tr>\n",
       "      <th>...</th>\n",
       "      <td>...</td>\n",
       "      <td>...</td>\n",
       "      <td>...</td>\n",
       "    </tr>\n",
       "    <tr>\n",
       "      <th>95</th>\n",
       "      <td>e4 c6 Bc4 d5 exd5 cxd5 Bb3 Nf6 d4 Nc6 c3 Bf5 h...</td>\n",
       "      <td>e4 c6 Bc4 d5 exd5 cxd5 Bb3 Nf6 d4 Nc6 c3 Bf5 h...</td>\n",
       "      <td>e4 c6 Bc4 d5 exd5 cxd5 Bb3 Nf6 d4 Nc6 c3 Bf5 h...</td>\n",
       "    </tr>\n",
       "    <tr>\n",
       "      <th>96</th>\n",
       "      <td>d4 e6 e4 Nf6 Bg5 Be7 Bxf6 Bxf6 e5 Bg5 Nf3 Be7 ...</td>\n",
       "      <td>d4 e6 e4 Nf6 Bg5 Be7 Bxf6 Bxf6 e5 Bg5 Nf3 Be7 ...</td>\n",
       "      <td>d4 e6 e4 Nf6 Bg5 Be7 Bxf6 Bxf6 e5 Bg5 Nf3 Be7 ...</td>\n",
       "    </tr>\n",
       "    <tr>\n",
       "      <th>97</th>\n",
       "      <td>e4 c5 d3 Nc6 Nc3 a6 Qh5 e6 Bg5 Be7 Bd2 Nf6 Qd1...</td>\n",
       "      <td>e4 c5 d3 Nc6 &lt;unk&gt; a6 Qh5 &lt;unk&gt; Bg5 Be7 Bd2 Nf...</td>\n",
       "      <td>e4 c5 d3 Nc6 Nc3 a6 Qh5 e6 Bg5 Be7 Bd2 Nf6 Qd1...</td>\n",
       "    </tr>\n",
       "    <tr>\n",
       "      <th>98</th>\n",
       "      <td>d4 d6 c4 a6 Nc3 Nd7 e4 Ngf6 f3 h6 Bd3 g5 Nge2 ...</td>\n",
       "      <td>d4 d6 c4 &lt;unk&gt; Nc3 Nd7 e4 Ngf6 f3 h6 Bd3 g5 Ng...</td>\n",
       "      <td>d4 d6 c4 a6 Nc3 Nd7 e4 Ngf6 f3 h6 Bd3 g5 Nge2 ...</td>\n",
       "    </tr>\n",
       "    <tr>\n",
       "      <th>99</th>\n",
       "      <td>e4 e5 Bc4 Nf6 Nc3 c6 a3 d5 exd5 cxd5 Bb5+ Bd7 ...</td>\n",
       "      <td>e4 e5 &lt;unk&gt; Nf6 Nc3 c6 a3 d5 &lt;unk&gt; cxd5 Bb5+ B...</td>\n",
       "      <td>e4 e5 Bc4 Nf6 Nc3 c6 a3 d5 exd5 cxd5 Bb5+ Bd7 ...</td>\n",
       "    </tr>\n",
       "  </tbody>\n",
       "</table>\n",
       "<p>100 rows × 3 columns</p>\n",
       "</div>"
      ],
      "text/plain": [
       "                                                  PGN  \\\n",
       "0   e4 g6 d4 Bg7 c3 d6 Qf3 Nf6 h3 O-O Bg5 Nbd7 Bc4...   \n",
       "1   d4 Nf6 c4 g6 a3 Bg7 Nf3 O-O Nc3 a5 Bf4 d6 e3 N...   \n",
       "2   e4 c5 Qf3 e5 Bc4 Nf6 Nh3 h6 g4 g5 Ng1 a6 h4 Bg...   \n",
       "3   e4 e5 Nf3 d6 Nc3 f5 exf5 Bxf5 d3 Nf6 h3 Be7 Be...   \n",
       "4   f3 e5 g4 d5 Bg2 d4 c4 dxc3 Nxc3 Nc6 Qa4 Qh4+ K...   \n",
       "..                                                ...   \n",
       "95  e4 c6 Bc4 d5 exd5 cxd5 Bb3 Nf6 d4 Nc6 c3 Bf5 h...   \n",
       "96  d4 e6 e4 Nf6 Bg5 Be7 Bxf6 Bxf6 e5 Bg5 Nf3 Be7 ...   \n",
       "97  e4 c5 d3 Nc6 Nc3 a6 Qh5 e6 Bg5 Be7 Bd2 Nf6 Qd1...   \n",
       "98  d4 d6 c4 a6 Nc3 Nd7 e4 Ngf6 f3 h6 Bd3 g5 Nge2 ...   \n",
       "99  e4 e5 Bc4 Nf6 Nc3 c6 a3 d5 exd5 cxd5 Bb5+ Bd7 ...   \n",
       "\n",
       "                                          source_text  \\\n",
       "0   e4 g6 d4 Bg7 c3 d6 Qf3 Nf6 h3 <unk> Bg5 Nbd7 B...   \n",
       "1   d4 Nf6 c4 g6 a3 Bg7 Nf3 O-O Nc3 a5 Bf4 d6 e3 N...   \n",
       "2   e4 c5 Qf3 e5 Bc4 <unk> Nh3 h6 g4 g5 Ng1 a6 h4 ...   \n",
       "3   e4 e5 Nf3 d6 Nc3 <unk> <unk> Bxf5 d3 Nf6 h3 Be...   \n",
       "4   <unk> e5 <unk> d5 Bg2 d4 c4 dxc3 Nxc3 Nc6 Qa4 ...   \n",
       "..                                                ...   \n",
       "95  e4 c6 Bc4 d5 exd5 cxd5 Bb3 Nf6 d4 Nc6 c3 Bf5 h...   \n",
       "96  d4 e6 e4 Nf6 Bg5 Be7 Bxf6 Bxf6 e5 Bg5 Nf3 Be7 ...   \n",
       "97  e4 c5 d3 Nc6 <unk> a6 Qh5 <unk> Bg5 Be7 Bd2 Nf...   \n",
       "98  d4 d6 c4 <unk> Nc3 Nd7 e4 Ngf6 f3 h6 Bd3 g5 Ng...   \n",
       "99  e4 e5 <unk> Nf6 Nc3 c6 a3 d5 <unk> cxd5 Bb5+ B...   \n",
       "\n",
       "                                          target_text  \n",
       "0   e4 g6 d4 Bg7 c3 d6 Qf3 Nf6 h3 O-O Bg5 Nbd7 Bc4...  \n",
       "1   d4 Nf6 c4 g6 a3 Bg7 Nf3 O-O Nc3 a5 Bf4 d6 e3 N...  \n",
       "2   e4 c5 Qf3 e5 Bc4 Nf6 Nh3 h6 g4 g5 Ng1 a6 h4 Bg...  \n",
       "3   e4 e5 Nf3 d6 Nc3 f5 exf5 Bxf5 d3 Nf6 h3 Be7 Be...  \n",
       "4   f3 e5 g4 d5 Bg2 d4 c4 dxc3 Nxc3 Nc6 Qa4 Qh4+ K...  \n",
       "..                                                ...  \n",
       "95  e4 c6 Bc4 d5 exd5 cxd5 Bb3 Nf6 d4 Nc6 c3 Bf5 h...  \n",
       "96  d4 e6 e4 Nf6 Bg5 Be7 Bxf6 Bxf6 e5 Bg5 Nf3 Be7 ...  \n",
       "97  e4 c5 d3 Nc6 Nc3 a6 Qh5 e6 Bg5 Be7 Bd2 Nf6 Qd1...  \n",
       "98  d4 d6 c4 a6 Nc3 Nd7 e4 Ngf6 f3 h6 Bd3 g5 Nge2 ...  \n",
       "99  e4 e5 Bc4 Nf6 Nc3 c6 a3 d5 exd5 cxd5 Bb5+ Bd7 ...  \n",
       "\n",
       "[100 rows x 3 columns]"
      ]
     },
     "execution_count": 8,
     "metadata": {},
     "output_type": "execute_result"
    }
   ],
   "source": [
    "df['source_text'] = df['PGN'].apply(add_masks)\n",
    "df['target_text'] = df['PGN']\n",
    "df"
   ]
  },
  {
   "cell_type": "code",
   "execution_count": 11,
   "id": "f37e440e",
   "metadata": {},
   "outputs": [
    {
     "ename": "AttributeError",
     "evalue": "'SimpleT5' object has no attribute 'tokenizer'",
     "output_type": "error",
     "traceback": [
      "\u001b[1;31m---------------------------------------------------------------------------\u001b[0m",
      "\u001b[1;31mAttributeError\u001b[0m                            Traceback (most recent call last)",
      "\u001b[1;32mC:\\Users\\OSHING~1\\AppData\\Local\\Temp/ipykernel_21304/1746963761.py\u001b[0m in \u001b[0;36m<module>\u001b[1;34m\u001b[0m\n\u001b[0;32m      9\u001b[0m             \u001b[0moutputdir\u001b[0m \u001b[1;33m=\u001b[0m \u001b[1;34m\"outputs\"\u001b[0m\u001b[1;33m,\u001b[0m\u001b[1;33m\u001b[0m\u001b[1;33m\u001b[0m\u001b[0m\n\u001b[0;32m     10\u001b[0m             \u001b[0mearly_stopping_patience_epochs\u001b[0m \u001b[1;33m=\u001b[0m \u001b[1;36m0\u001b[0m\u001b[1;33m,\u001b[0m\u001b[1;33m\u001b[0m\u001b[1;33m\u001b[0m\u001b[0m\n\u001b[1;32m---> 11\u001b[1;33m             \u001b[0mprecision\u001b[0m \u001b[1;33m=\u001b[0m \u001b[1;36m32\u001b[0m\u001b[1;33m\u001b[0m\u001b[1;33m\u001b[0m\u001b[0m\n\u001b[0m\u001b[0;32m     12\u001b[0m             )\n",
      "\u001b[1;32mc:\\users\\oshingabesan adebayo\\.conda\\envs\\final_qg\\lib\\site-packages\\simplet5\\simplet5.py\u001b[0m in \u001b[0;36mtrain\u001b[1;34m(self, train_df, eval_df, source_max_token_len, target_max_token_len, batch_size, max_epochs, use_gpu, outputdir, early_stopping_patience_epochs, precision)\u001b[0m\n\u001b[0;32m    323\u001b[0m             \u001b[0mtrain_df\u001b[0m\u001b[1;33m,\u001b[0m\u001b[1;33m\u001b[0m\u001b[1;33m\u001b[0m\u001b[0m\n\u001b[0;32m    324\u001b[0m             \u001b[0meval_df\u001b[0m\u001b[1;33m,\u001b[0m\u001b[1;33m\u001b[0m\u001b[1;33m\u001b[0m\u001b[0m\n\u001b[1;32m--> 325\u001b[1;33m             \u001b[0mself\u001b[0m\u001b[1;33m.\u001b[0m\u001b[0mtokenizer\u001b[0m\u001b[1;33m,\u001b[0m\u001b[1;33m\u001b[0m\u001b[1;33m\u001b[0m\u001b[0m\n\u001b[0m\u001b[0;32m    326\u001b[0m             \u001b[0mbatch_size\u001b[0m\u001b[1;33m=\u001b[0m\u001b[0mbatch_size\u001b[0m\u001b[1;33m,\u001b[0m\u001b[1;33m\u001b[0m\u001b[1;33m\u001b[0m\u001b[0m\n\u001b[0;32m    327\u001b[0m             \u001b[0msource_max_token_len\u001b[0m\u001b[1;33m=\u001b[0m\u001b[0msource_max_token_len\u001b[0m\u001b[1;33m,\u001b[0m\u001b[1;33m\u001b[0m\u001b[1;33m\u001b[0m\u001b[0m\n",
      "\u001b[1;31mAttributeError\u001b[0m: 'SimpleT5' object has no attribute 'tokenizer'"
     ]
    }
   ],
   "source": [
    "# train\n",
    "model.train(train_df=df, # pandas dataframe with 2 columns: source_text & target_text\n",
    "            eval_df=df, # pandas dataframe with 2 columns: source_text & target_text\n",
    "            source_max_token_len = 512, \n",
    "            target_max_token_len = 128,\n",
    "            batch_size = 8,\n",
    "            max_epochs = 5,\n",
    "            use_gpu = True,\n",
    "            outputdir = \"outputs\",\n",
    "            early_stopping_patience_epochs = 0,\n",
    "            precision = 32\n",
    "            )"
   ]
  },
  {
   "cell_type": "code",
   "execution_count": null,
   "id": "2465eccd",
   "metadata": {},
   "outputs": [],
   "source": [
    "\n",
    "# load trained T5 model\n",
    "model.load_model(\"t5\",\"path/to/trained/model/directory\", use_gpu=False)\n",
    "\n",
    "# predict\n",
    "model.predict(\"input text for prediction\")\n",
    "\n"
   ]
  }
 ],
 "metadata": {
  "kernelspec": {
   "display_name": "Python 3 (ipykernel)",
   "language": "python",
   "name": "python3"
  },
  "language_info": {
   "codemirror_mode": {
    "name": "ipython",
    "version": 3
   },
   "file_extension": ".py",
   "mimetype": "text/x-python",
   "name": "python",
   "nbconvert_exporter": "python",
   "pygments_lexer": "ipython3",
   "version": "3.7.10"
  }
 },
 "nbformat": 4,
 "nbformat_minor": 5
}
