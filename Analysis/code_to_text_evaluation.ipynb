{
  "nbformat": 4,
  "nbformat_minor": 0,
  "metadata": {
    "kernelspec": {
      "display_name": "Python 3 (ipykernel)",
      "language": "python",
      "name": "python3"
    },
    "language_info": {
      "codemirror_mode": {
        "name": "ipython",
        "version": 3
      },
      "file_extension": ".py",
      "mimetype": "text/x-python",
      "name": "python",
      "nbconvert_exporter": "python",
      "pygments_lexer": "ipython3",
      "version": "3.8.3"
    },
    "colab": {
      "name": "code_to_text_courage.ipynb",
      "provenance": []
    },
    "accelerator": "GPU",
    "widgets": {
      "application/vnd.jupyter.widget-state+json": {
        "9240443bed484e299fdf12e7bc467373": {
          "model_module": "@jupyter-widgets/controls",
          "model_name": "HBoxModel",
          "model_module_version": "1.5.0",
          "state": {
            "_view_name": "HBoxView",
            "_dom_classes": [],
            "_model_name": "HBoxModel",
            "_view_module": "@jupyter-widgets/controls",
            "_model_module_version": "1.5.0",
            "_view_count": null,
            "_view_module_version": "1.5.0",
            "box_style": "",
            "layout": "IPY_MODEL_0ce9fd3bfcd2475b84f91d98acd1f3d0",
            "_model_module": "@jupyter-widgets/controls",
            "children": [
              "IPY_MODEL_f060a345ef0545d38e08922b904a611a",
              "IPY_MODEL_07f8b7c5ea184602ba048bb9bba2654e",
              "IPY_MODEL_1794ceb2843d4c578b3eead64dc3cceb"
            ]
          }
        },
        "0ce9fd3bfcd2475b84f91d98acd1f3d0": {
          "model_module": "@jupyter-widgets/base",
          "model_name": "LayoutModel",
          "model_module_version": "1.2.0",
          "state": {
            "_view_name": "LayoutView",
            "grid_template_rows": null,
            "right": null,
            "justify_content": null,
            "_view_module": "@jupyter-widgets/base",
            "overflow": null,
            "_model_module_version": "1.2.0",
            "_view_count": null,
            "flex_flow": null,
            "width": null,
            "min_width": null,
            "border": null,
            "align_items": null,
            "bottom": null,
            "_model_module": "@jupyter-widgets/base",
            "top": null,
            "grid_column": null,
            "overflow_y": null,
            "overflow_x": null,
            "grid_auto_flow": null,
            "grid_area": null,
            "grid_template_columns": null,
            "flex": null,
            "_model_name": "LayoutModel",
            "justify_items": null,
            "grid_row": null,
            "max_height": null,
            "align_content": null,
            "visibility": null,
            "align_self": null,
            "height": null,
            "min_height": null,
            "padding": null,
            "grid_auto_rows": null,
            "grid_gap": null,
            "max_width": null,
            "order": null,
            "_view_module_version": "1.2.0",
            "grid_template_areas": null,
            "object_position": null,
            "object_fit": null,
            "grid_auto_columns": null,
            "margin": null,
            "display": null,
            "left": null
          }
        },
        "f060a345ef0545d38e08922b904a611a": {
          "model_module": "@jupyter-widgets/controls",
          "model_name": "HTMLModel",
          "model_module_version": "1.5.0",
          "state": {
            "_view_name": "HTMLView",
            "style": "IPY_MODEL_36437699312a4ff4b2067a6a1753751d",
            "_dom_classes": [],
            "description": "",
            "_model_name": "HTMLModel",
            "placeholder": "​",
            "_view_module": "@jupyter-widgets/controls",
            "_model_module_version": "1.5.0",
            "value": "100%",
            "_view_count": null,
            "_view_module_version": "1.5.0",
            "description_tooltip": null,
            "_model_module": "@jupyter-widgets/controls",
            "layout": "IPY_MODEL_39b128934e974c40b18058d25ebe7b7e"
          }
        },
        "07f8b7c5ea184602ba048bb9bba2654e": {
          "model_module": "@jupyter-widgets/controls",
          "model_name": "FloatProgressModel",
          "model_module_version": "1.5.0",
          "state": {
            "_view_name": "ProgressView",
            "style": "IPY_MODEL_97dd58c5177444e28dbc0e8b4c326bcc",
            "_dom_classes": [],
            "description": "",
            "_model_name": "FloatProgressModel",
            "bar_style": "success",
            "max": 1000,
            "_view_module": "@jupyter-widgets/controls",
            "_model_module_version": "1.5.0",
            "value": 1000,
            "_view_count": null,
            "_view_module_version": "1.5.0",
            "orientation": "horizontal",
            "min": 0,
            "description_tooltip": null,
            "_model_module": "@jupyter-widgets/controls",
            "layout": "IPY_MODEL_df66f617c2aa4a5d957381833bedda83"
          }
        },
        "1794ceb2843d4c578b3eead64dc3cceb": {
          "model_module": "@jupyter-widgets/controls",
          "model_name": "HTMLModel",
          "model_module_version": "1.5.0",
          "state": {
            "_view_name": "HTMLView",
            "style": "IPY_MODEL_f36c8aa8072c44ffa1d65986c172c250",
            "_dom_classes": [],
            "description": "",
            "_model_name": "HTMLModel",
            "placeholder": "​",
            "_view_module": "@jupyter-widgets/controls",
            "_model_module_version": "1.5.0",
            "value": " 1000/1000 [1:48:14&lt;00:00,  6.85s/it]",
            "_view_count": null,
            "_view_module_version": "1.5.0",
            "description_tooltip": null,
            "_model_module": "@jupyter-widgets/controls",
            "layout": "IPY_MODEL_bb85797a67084cf58d82f778d84517df"
          }
        },
        "36437699312a4ff4b2067a6a1753751d": {
          "model_module": "@jupyter-widgets/controls",
          "model_name": "DescriptionStyleModel",
          "model_module_version": "1.5.0",
          "state": {
            "_view_name": "StyleView",
            "_model_name": "DescriptionStyleModel",
            "description_width": "",
            "_view_module": "@jupyter-widgets/base",
            "_model_module_version": "1.5.0",
            "_view_count": null,
            "_view_module_version": "1.2.0",
            "_model_module": "@jupyter-widgets/controls"
          }
        },
        "39b128934e974c40b18058d25ebe7b7e": {
          "model_module": "@jupyter-widgets/base",
          "model_name": "LayoutModel",
          "model_module_version": "1.2.0",
          "state": {
            "_view_name": "LayoutView",
            "grid_template_rows": null,
            "right": null,
            "justify_content": null,
            "_view_module": "@jupyter-widgets/base",
            "overflow": null,
            "_model_module_version": "1.2.0",
            "_view_count": null,
            "flex_flow": null,
            "width": null,
            "min_width": null,
            "border": null,
            "align_items": null,
            "bottom": null,
            "_model_module": "@jupyter-widgets/base",
            "top": null,
            "grid_column": null,
            "overflow_y": null,
            "overflow_x": null,
            "grid_auto_flow": null,
            "grid_area": null,
            "grid_template_columns": null,
            "flex": null,
            "_model_name": "LayoutModel",
            "justify_items": null,
            "grid_row": null,
            "max_height": null,
            "align_content": null,
            "visibility": null,
            "align_self": null,
            "height": null,
            "min_height": null,
            "padding": null,
            "grid_auto_rows": null,
            "grid_gap": null,
            "max_width": null,
            "order": null,
            "_view_module_version": "1.2.0",
            "grid_template_areas": null,
            "object_position": null,
            "object_fit": null,
            "grid_auto_columns": null,
            "margin": null,
            "display": null,
            "left": null
          }
        },
        "97dd58c5177444e28dbc0e8b4c326bcc": {
          "model_module": "@jupyter-widgets/controls",
          "model_name": "ProgressStyleModel",
          "model_module_version": "1.5.0",
          "state": {
            "_view_name": "StyleView",
            "_model_name": "ProgressStyleModel",
            "description_width": "",
            "_view_module": "@jupyter-widgets/base",
            "_model_module_version": "1.5.0",
            "_view_count": null,
            "_view_module_version": "1.2.0",
            "bar_color": null,
            "_model_module": "@jupyter-widgets/controls"
          }
        },
        "df66f617c2aa4a5d957381833bedda83": {
          "model_module": "@jupyter-widgets/base",
          "model_name": "LayoutModel",
          "model_module_version": "1.2.0",
          "state": {
            "_view_name": "LayoutView",
            "grid_template_rows": null,
            "right": null,
            "justify_content": null,
            "_view_module": "@jupyter-widgets/base",
            "overflow": null,
            "_model_module_version": "1.2.0",
            "_view_count": null,
            "flex_flow": null,
            "width": null,
            "min_width": null,
            "border": null,
            "align_items": null,
            "bottom": null,
            "_model_module": "@jupyter-widgets/base",
            "top": null,
            "grid_column": null,
            "overflow_y": null,
            "overflow_x": null,
            "grid_auto_flow": null,
            "grid_area": null,
            "grid_template_columns": null,
            "flex": null,
            "_model_name": "LayoutModel",
            "justify_items": null,
            "grid_row": null,
            "max_height": null,
            "align_content": null,
            "visibility": null,
            "align_self": null,
            "height": null,
            "min_height": null,
            "padding": null,
            "grid_auto_rows": null,
            "grid_gap": null,
            "max_width": null,
            "order": null,
            "_view_module_version": "1.2.0",
            "grid_template_areas": null,
            "object_position": null,
            "object_fit": null,
            "grid_auto_columns": null,
            "margin": null,
            "display": null,
            "left": null
          }
        },
        "f36c8aa8072c44ffa1d65986c172c250": {
          "model_module": "@jupyter-widgets/controls",
          "model_name": "DescriptionStyleModel",
          "model_module_version": "1.5.0",
          "state": {
            "_view_name": "StyleView",
            "_model_name": "DescriptionStyleModel",
            "description_width": "",
            "_view_module": "@jupyter-widgets/base",
            "_model_module_version": "1.5.0",
            "_view_count": null,
            "_view_module_version": "1.2.0",
            "_model_module": "@jupyter-widgets/controls"
          }
        },
        "bb85797a67084cf58d82f778d84517df": {
          "model_module": "@jupyter-widgets/base",
          "model_name": "LayoutModel",
          "model_module_version": "1.2.0",
          "state": {
            "_view_name": "LayoutView",
            "grid_template_rows": null,
            "right": null,
            "justify_content": null,
            "_view_module": "@jupyter-widgets/base",
            "overflow": null,
            "_model_module_version": "1.2.0",
            "_view_count": null,
            "flex_flow": null,
            "width": null,
            "min_width": null,
            "border": null,
            "align_items": null,
            "bottom": null,
            "_model_module": "@jupyter-widgets/base",
            "top": null,
            "grid_column": null,
            "overflow_y": null,
            "overflow_x": null,
            "grid_auto_flow": null,
            "grid_area": null,
            "grid_template_columns": null,
            "flex": null,
            "_model_name": "LayoutModel",
            "justify_items": null,
            "grid_row": null,
            "max_height": null,
            "align_content": null,
            "visibility": null,
            "align_self": null,
            "height": null,
            "min_height": null,
            "padding": null,
            "grid_auto_rows": null,
            "grid_gap": null,
            "max_width": null,
            "order": null,
            "_view_module_version": "1.2.0",
            "grid_template_areas": null,
            "object_position": null,
            "object_fit": null,
            "grid_auto_columns": null,
            "margin": null,
            "display": null,
            "left": null
          }
        }
      }
    }
  },
  "cells": [
    {
      "cell_type": "code",
      "metadata": {
        "colab": {
          "base_uri": "https://localhost:8080/"
        },
        "id": "aytMNpIb-jvA",
        "outputId": "83cc0d4a-a1e8-458f-9695-69656c7ccf7c"
      },
      "source": [
        "!pip install aitextgen"
      ],
      "execution_count": null,
      "outputs": [
        {
          "output_type": "stream",
          "name": "stdout",
          "text": [
            "Collecting aitextgen\n",
            "  Downloading aitextgen-0.5.2.tar.gz (572 kB)\n",
            "\u001b[K     |████████████████████████████████| 572 kB 5.1 MB/s \n",
            "\u001b[?25hCollecting transformers>=4.5.1\n",
            "  Downloading transformers-4.12.5-py3-none-any.whl (3.1 MB)\n",
            "\u001b[K     |████████████████████████████████| 3.1 MB 50.9 MB/s \n",
            "\u001b[?25hCollecting fire>=0.3.0\n",
            "  Downloading fire-0.4.0.tar.gz (87 kB)\n",
            "\u001b[K     |████████████████████████████████| 87 kB 8.9 MB/s \n",
            "\u001b[?25hCollecting pytorch-lightning>=1.3.1\n",
            "  Downloading pytorch_lightning-1.5.4-py3-none-any.whl (524 kB)\n",
            "\u001b[K     |████████████████████████████████| 524 kB 59.2 MB/s \n",
            "\u001b[?25hRequirement already satisfied: torch>=1.6.0 in /usr/local/lib/python3.7/dist-packages (from aitextgen) (1.10.0+cu111)\n",
            "Requirement already satisfied: six in /usr/local/lib/python3.7/dist-packages (from fire>=0.3.0->aitextgen) (1.15.0)\n",
            "Requirement already satisfied: termcolor in /usr/local/lib/python3.7/dist-packages (from fire>=0.3.0->aitextgen) (1.1.0)\n",
            "Collecting pyDeprecate==0.3.1\n",
            "  Downloading pyDeprecate-0.3.1-py3-none-any.whl (10 kB)\n",
            "Requirement already satisfied: packaging>=17.0 in /usr/local/lib/python3.7/dist-packages (from pytorch-lightning>=1.3.1->aitextgen) (21.3)\n",
            "Collecting torchmetrics>=0.4.1\n",
            "  Downloading torchmetrics-0.6.0-py3-none-any.whl (329 kB)\n",
            "\u001b[K     |████████████████████████████████| 329 kB 70.1 MB/s \n",
            "\u001b[?25hCollecting PyYAML>=5.1\n",
            "  Downloading PyYAML-6.0-cp37-cp37m-manylinux_2_5_x86_64.manylinux1_x86_64.manylinux_2_12_x86_64.manylinux2010_x86_64.whl (596 kB)\n",
            "\u001b[K     |████████████████████████████████| 596 kB 67.8 MB/s \n",
            "\u001b[?25hRequirement already satisfied: typing-extensions in /usr/local/lib/python3.7/dist-packages (from pytorch-lightning>=1.3.1->aitextgen) (3.10.0.2)\n",
            "Requirement already satisfied: numpy>=1.17.2 in /usr/local/lib/python3.7/dist-packages (from pytorch-lightning>=1.3.1->aitextgen) (1.19.5)\n",
            "Requirement already satisfied: tensorboard>=2.2.0 in /usr/local/lib/python3.7/dist-packages (from pytorch-lightning>=1.3.1->aitextgen) (2.7.0)\n",
            "Requirement already satisfied: tqdm>=4.41.0 in /usr/local/lib/python3.7/dist-packages (from pytorch-lightning>=1.3.1->aitextgen) (4.62.3)\n",
            "Collecting future>=0.17.1\n",
            "  Downloading future-0.18.2.tar.gz (829 kB)\n",
            "\u001b[K     |████████████████████████████████| 829 kB 68.0 MB/s \n",
            "\u001b[?25hCollecting fsspec[http]!=2021.06.0,>=2021.05.0\n",
            "  Downloading fsspec-2021.11.1-py3-none-any.whl (132 kB)\n",
            "\u001b[K     |████████████████████████████████| 132 kB 65.5 MB/s \n",
            "\u001b[?25hRequirement already satisfied: requests in /usr/local/lib/python3.7/dist-packages (from fsspec[http]!=2021.06.0,>=2021.05.0->pytorch-lightning>=1.3.1->aitextgen) (2.23.0)\n",
            "Collecting aiohttp\n",
            "  Downloading aiohttp-3.8.1-cp37-cp37m-manylinux_2_5_x86_64.manylinux1_x86_64.manylinux_2_12_x86_64.manylinux2010_x86_64.whl (1.1 MB)\n",
            "\u001b[K     |████████████████████████████████| 1.1 MB 49.7 MB/s \n",
            "\u001b[?25hRequirement already satisfied: pyparsing!=3.0.5,>=2.0.2 in /usr/local/lib/python3.7/dist-packages (from packaging>=17.0->pytorch-lightning>=1.3.1->aitextgen) (3.0.6)\n",
            "Requirement already satisfied: grpcio>=1.24.3 in /usr/local/lib/python3.7/dist-packages (from tensorboard>=2.2.0->pytorch-lightning>=1.3.1->aitextgen) (1.42.0)\n",
            "Requirement already satisfied: google-auth-oauthlib<0.5,>=0.4.1 in /usr/local/lib/python3.7/dist-packages (from tensorboard>=2.2.0->pytorch-lightning>=1.3.1->aitextgen) (0.4.6)\n",
            "Requirement already satisfied: google-auth<3,>=1.6.3 in /usr/local/lib/python3.7/dist-packages (from tensorboard>=2.2.0->pytorch-lightning>=1.3.1->aitextgen) (1.35.0)\n",
            "Requirement already satisfied: absl-py>=0.4 in /usr/local/lib/python3.7/dist-packages (from tensorboard>=2.2.0->pytorch-lightning>=1.3.1->aitextgen) (0.12.0)\n",
            "Requirement already satisfied: tensorboard-data-server<0.7.0,>=0.6.0 in /usr/local/lib/python3.7/dist-packages (from tensorboard>=2.2.0->pytorch-lightning>=1.3.1->aitextgen) (0.6.1)\n",
            "Requirement already satisfied: setuptools>=41.0.0 in /usr/local/lib/python3.7/dist-packages (from tensorboard>=2.2.0->pytorch-lightning>=1.3.1->aitextgen) (57.4.0)\n",
            "Requirement already satisfied: protobuf>=3.6.0 in /usr/local/lib/python3.7/dist-packages (from tensorboard>=2.2.0->pytorch-lightning>=1.3.1->aitextgen) (3.17.3)\n",
            "Requirement already satisfied: werkzeug>=0.11.15 in /usr/local/lib/python3.7/dist-packages (from tensorboard>=2.2.0->pytorch-lightning>=1.3.1->aitextgen) (1.0.1)\n",
            "Requirement already satisfied: wheel>=0.26 in /usr/local/lib/python3.7/dist-packages (from tensorboard>=2.2.0->pytorch-lightning>=1.3.1->aitextgen) (0.37.0)\n",
            "Requirement already satisfied: tensorboard-plugin-wit>=1.6.0 in /usr/local/lib/python3.7/dist-packages (from tensorboard>=2.2.0->pytorch-lightning>=1.3.1->aitextgen) (1.8.0)\n",
            "Requirement already satisfied: markdown>=2.6.8 in /usr/local/lib/python3.7/dist-packages (from tensorboard>=2.2.0->pytorch-lightning>=1.3.1->aitextgen) (3.3.6)\n",
            "Requirement already satisfied: pyasn1-modules>=0.2.1 in /usr/local/lib/python3.7/dist-packages (from google-auth<3,>=1.6.3->tensorboard>=2.2.0->pytorch-lightning>=1.3.1->aitextgen) (0.2.8)\n",
            "Requirement already satisfied: rsa<5,>=3.1.4 in /usr/local/lib/python3.7/dist-packages (from google-auth<3,>=1.6.3->tensorboard>=2.2.0->pytorch-lightning>=1.3.1->aitextgen) (4.8)\n",
            "Requirement already satisfied: cachetools<5.0,>=2.0.0 in /usr/local/lib/python3.7/dist-packages (from google-auth<3,>=1.6.3->tensorboard>=2.2.0->pytorch-lightning>=1.3.1->aitextgen) (4.2.4)\n",
            "Requirement already satisfied: requests-oauthlib>=0.7.0 in /usr/local/lib/python3.7/dist-packages (from google-auth-oauthlib<0.5,>=0.4.1->tensorboard>=2.2.0->pytorch-lightning>=1.3.1->aitextgen) (1.3.0)\n",
            "Requirement already satisfied: importlib-metadata>=4.4 in /usr/local/lib/python3.7/dist-packages (from markdown>=2.6.8->tensorboard>=2.2.0->pytorch-lightning>=1.3.1->aitextgen) (4.8.2)\n",
            "Requirement already satisfied: zipp>=0.5 in /usr/local/lib/python3.7/dist-packages (from importlib-metadata>=4.4->markdown>=2.6.8->tensorboard>=2.2.0->pytorch-lightning>=1.3.1->aitextgen) (3.6.0)\n",
            "Requirement already satisfied: pyasn1<0.5.0,>=0.4.6 in /usr/local/lib/python3.7/dist-packages (from pyasn1-modules>=0.2.1->google-auth<3,>=1.6.3->tensorboard>=2.2.0->pytorch-lightning>=1.3.1->aitextgen) (0.4.8)\n",
            "Requirement already satisfied: chardet<4,>=3.0.2 in /usr/local/lib/python3.7/dist-packages (from requests->fsspec[http]!=2021.06.0,>=2021.05.0->pytorch-lightning>=1.3.1->aitextgen) (3.0.4)\n",
            "Requirement already satisfied: urllib3!=1.25.0,!=1.25.1,<1.26,>=1.21.1 in /usr/local/lib/python3.7/dist-packages (from requests->fsspec[http]!=2021.06.0,>=2021.05.0->pytorch-lightning>=1.3.1->aitextgen) (1.24.3)\n",
            "Requirement already satisfied: idna<3,>=2.5 in /usr/local/lib/python3.7/dist-packages (from requests->fsspec[http]!=2021.06.0,>=2021.05.0->pytorch-lightning>=1.3.1->aitextgen) (2.10)\n",
            "Requirement already satisfied: certifi>=2017.4.17 in /usr/local/lib/python3.7/dist-packages (from requests->fsspec[http]!=2021.06.0,>=2021.05.0->pytorch-lightning>=1.3.1->aitextgen) (2021.10.8)\n",
            "Requirement already satisfied: oauthlib>=3.0.0 in /usr/local/lib/python3.7/dist-packages (from requests-oauthlib>=0.7.0->google-auth-oauthlib<0.5,>=0.4.1->tensorboard>=2.2.0->pytorch-lightning>=1.3.1->aitextgen) (3.1.1)\n",
            "Collecting huggingface-hub<1.0,>=0.1.0\n",
            "  Downloading huggingface_hub-0.2.1-py3-none-any.whl (61 kB)\n",
            "\u001b[K     |████████████████████████████████| 61 kB 579 kB/s \n",
            "\u001b[?25hRequirement already satisfied: regex!=2019.12.17 in /usr/local/lib/python3.7/dist-packages (from transformers>=4.5.1->aitextgen) (2019.12.20)\n",
            "Requirement already satisfied: filelock in /usr/local/lib/python3.7/dist-packages (from transformers>=4.5.1->aitextgen) (3.4.0)\n",
            "Collecting tokenizers<0.11,>=0.10.1\n",
            "  Downloading tokenizers-0.10.3-cp37-cp37m-manylinux_2_5_x86_64.manylinux1_x86_64.manylinux_2_12_x86_64.manylinux2010_x86_64.whl (3.3 MB)\n",
            "\u001b[K     |████████████████████████████████| 3.3 MB 26.8 MB/s \n",
            "\u001b[?25hCollecting sacremoses\n",
            "  Downloading sacremoses-0.0.46-py3-none-any.whl (895 kB)\n",
            "\u001b[K     |████████████████████████████████| 895 kB 21.2 MB/s \n",
            "\u001b[?25hCollecting asynctest==0.13.0\n",
            "  Downloading asynctest-0.13.0-py3-none-any.whl (26 kB)\n",
            "Collecting async-timeout<5.0,>=4.0.0a3\n",
            "  Downloading async_timeout-4.0.1-py3-none-any.whl (5.7 kB)\n",
            "Requirement already satisfied: attrs>=17.3.0 in /usr/local/lib/python3.7/dist-packages (from aiohttp->fsspec[http]!=2021.06.0,>=2021.05.0->pytorch-lightning>=1.3.1->aitextgen) (21.2.0)\n",
            "Collecting aiosignal>=1.1.2\n",
            "  Downloading aiosignal-1.2.0-py3-none-any.whl (8.2 kB)\n",
            "Collecting multidict<7.0,>=4.5\n",
            "  Downloading multidict-5.2.0-cp37-cp37m-manylinux_2_5_x86_64.manylinux1_x86_64.manylinux_2_12_x86_64.manylinux2010_x86_64.whl (160 kB)\n",
            "\u001b[K     |████████████████████████████████| 160 kB 71.7 MB/s \n",
            "\u001b[?25hCollecting yarl<2.0,>=1.0\n",
            "  Downloading yarl-1.7.2-cp37-cp37m-manylinux_2_5_x86_64.manylinux1_x86_64.manylinux_2_12_x86_64.manylinux2010_x86_64.whl (271 kB)\n",
            "\u001b[K     |████████████████████████████████| 271 kB 72.0 MB/s \n",
            "\u001b[?25hRequirement already satisfied: charset-normalizer<3.0,>=2.0 in /usr/local/lib/python3.7/dist-packages (from aiohttp->fsspec[http]!=2021.06.0,>=2021.05.0->pytorch-lightning>=1.3.1->aitextgen) (2.0.8)\n",
            "Collecting frozenlist>=1.1.1\n",
            "  Downloading frozenlist-1.2.0-cp37-cp37m-manylinux_2_5_x86_64.manylinux1_x86_64.manylinux_2_12_x86_64.manylinux2010_x86_64.whl (192 kB)\n",
            "\u001b[K     |████████████████████████████████| 192 kB 63.0 MB/s \n",
            "\u001b[?25hRequirement already satisfied: joblib in /usr/local/lib/python3.7/dist-packages (from sacremoses->transformers>=4.5.1->aitextgen) (1.1.0)\n",
            "Requirement already satisfied: click in /usr/local/lib/python3.7/dist-packages (from sacremoses->transformers>=4.5.1->aitextgen) (7.1.2)\n",
            "Building wheels for collected packages: aitextgen, fire, future\n",
            "  Building wheel for aitextgen (setup.py) ... \u001b[?25l\u001b[?25hdone\n",
            "  Created wheel for aitextgen: filename=aitextgen-0.5.2-py3-none-any.whl size=575905 sha256=0ff3d4fbdadf40c77f9219774b8a06f1bd29fe2ef5e3a04ea3ce855ac1c2fd21\n",
            "  Stored in directory: /root/.cache/pip/wheels/83/e2/74/46c887b0989a51a7acee0c09551a3ae9d34b939fb4bea404a0\n",
            "  Building wheel for fire (setup.py) ... \u001b[?25l\u001b[?25hdone\n",
            "  Created wheel for fire: filename=fire-0.4.0-py2.py3-none-any.whl size=115943 sha256=e5b3edd28d063308812460c7ba9b0c57c48170817b05b810f01417684474e4e7\n",
            "  Stored in directory: /root/.cache/pip/wheels/8a/67/fb/2e8a12fa16661b9d5af1f654bd199366799740a85c64981226\n",
            "  Building wheel for future (setup.py) ... \u001b[?25l\u001b[?25hdone\n",
            "  Created wheel for future: filename=future-0.18.2-py3-none-any.whl size=491070 sha256=caa80d4b5c931b077c24c28ae30f9fe9426ce909dda97674ff1ae043c929493d\n",
            "  Stored in directory: /root/.cache/pip/wheels/56/b0/fe/4410d17b32f1f0c3cf54cdfb2bc04d7b4b8f4ae377e2229ba0\n",
            "Successfully built aitextgen fire future\n",
            "Installing collected packages: multidict, frozenlist, yarl, asynctest, async-timeout, aiosignal, PyYAML, fsspec, aiohttp, torchmetrics, tokenizers, sacremoses, pyDeprecate, huggingface-hub, future, transformers, pytorch-lightning, fire, aitextgen\n",
            "  Attempting uninstall: PyYAML\n",
            "    Found existing installation: PyYAML 3.13\n",
            "    Uninstalling PyYAML-3.13:\n",
            "      Successfully uninstalled PyYAML-3.13\n",
            "  Attempting uninstall: future\n",
            "    Found existing installation: future 0.16.0\n",
            "    Uninstalling future-0.16.0:\n",
            "      Successfully uninstalled future-0.16.0\n",
            "Successfully installed PyYAML-6.0 aiohttp-3.8.1 aiosignal-1.2.0 aitextgen-0.5.2 async-timeout-4.0.1 asynctest-0.13.0 fire-0.4.0 frozenlist-1.2.0 fsspec-2021.11.1 future-0.18.2 huggingface-hub-0.2.1 multidict-5.2.0 pyDeprecate-0.3.1 pytorch-lightning-1.5.4 sacremoses-0.0.46 tokenizers-0.10.3 torchmetrics-0.6.0 transformers-4.12.5 yarl-1.7.2\n"
          ]
        }
      ]
    },
    {
      "cell_type": "code",
      "metadata": {
        "colab": {
          "base_uri": "https://localhost:8080/"
        },
        "id": "acOjhETs-jvD",
        "outputId": "bf5c6391-7a5b-4a8d-dccc-efe74fd67c4b"
      },
      "source": [
        "!pip install bleu"
      ],
      "execution_count": null,
      "outputs": [
        {
          "output_type": "stream",
          "name": "stdout",
          "text": [
            "Collecting bleu\n",
            "  Downloading bleu-0.3.tar.gz (5.2 kB)\n",
            "Collecting efficiency\n",
            "  Downloading efficiency-1.0-py3-none-any.whl (21 kB)\n",
            "Requirement already satisfied: spacy in /usr/local/lib/python3.7/dist-packages (from efficiency->bleu) (2.2.4)\n",
            "Requirement already satisfied: srsly<1.1.0,>=1.0.2 in /usr/local/lib/python3.7/dist-packages (from spacy->efficiency->bleu) (1.0.5)\n",
            "Requirement already satisfied: numpy>=1.15.0 in /usr/local/lib/python3.7/dist-packages (from spacy->efficiency->bleu) (1.19.5)\n",
            "Requirement already satisfied: tqdm<5.0.0,>=4.38.0 in /usr/local/lib/python3.7/dist-packages (from spacy->efficiency->bleu) (4.62.3)\n",
            "Requirement already satisfied: cymem<2.1.0,>=2.0.2 in /usr/local/lib/python3.7/dist-packages (from spacy->efficiency->bleu) (2.0.6)\n",
            "Requirement already satisfied: preshed<3.1.0,>=3.0.2 in /usr/local/lib/python3.7/dist-packages (from spacy->efficiency->bleu) (3.0.6)\n",
            "Requirement already satisfied: murmurhash<1.1.0,>=0.28.0 in /usr/local/lib/python3.7/dist-packages (from spacy->efficiency->bleu) (1.0.6)\n",
            "Requirement already satisfied: blis<0.5.0,>=0.4.0 in /usr/local/lib/python3.7/dist-packages (from spacy->efficiency->bleu) (0.4.1)\n",
            "Requirement already satisfied: thinc==7.4.0 in /usr/local/lib/python3.7/dist-packages (from spacy->efficiency->bleu) (7.4.0)\n",
            "Requirement already satisfied: wasabi<1.1.0,>=0.4.0 in /usr/local/lib/python3.7/dist-packages (from spacy->efficiency->bleu) (0.8.2)\n",
            "Requirement already satisfied: catalogue<1.1.0,>=0.0.7 in /usr/local/lib/python3.7/dist-packages (from spacy->efficiency->bleu) (1.0.0)\n",
            "Requirement already satisfied: setuptools in /usr/local/lib/python3.7/dist-packages (from spacy->efficiency->bleu) (57.4.0)\n",
            "Requirement already satisfied: requests<3.0.0,>=2.13.0 in /usr/local/lib/python3.7/dist-packages (from spacy->efficiency->bleu) (2.23.0)\n",
            "Requirement already satisfied: plac<1.2.0,>=0.9.6 in /usr/local/lib/python3.7/dist-packages (from spacy->efficiency->bleu) (1.1.3)\n",
            "Requirement already satisfied: importlib-metadata>=0.20 in /usr/local/lib/python3.7/dist-packages (from catalogue<1.1.0,>=0.0.7->spacy->efficiency->bleu) (4.8.2)\n",
            "Requirement already satisfied: typing-extensions>=3.6.4 in /usr/local/lib/python3.7/dist-packages (from importlib-metadata>=0.20->catalogue<1.1.0,>=0.0.7->spacy->efficiency->bleu) (3.10.0.2)\n",
            "Requirement already satisfied: zipp>=0.5 in /usr/local/lib/python3.7/dist-packages (from importlib-metadata>=0.20->catalogue<1.1.0,>=0.0.7->spacy->efficiency->bleu) (3.6.0)\n",
            "Requirement already satisfied: certifi>=2017.4.17 in /usr/local/lib/python3.7/dist-packages (from requests<3.0.0,>=2.13.0->spacy->efficiency->bleu) (2021.10.8)\n",
            "Requirement already satisfied: idna<3,>=2.5 in /usr/local/lib/python3.7/dist-packages (from requests<3.0.0,>=2.13.0->spacy->efficiency->bleu) (2.10)\n",
            "Requirement already satisfied: urllib3!=1.25.0,!=1.25.1,<1.26,>=1.21.1 in /usr/local/lib/python3.7/dist-packages (from requests<3.0.0,>=2.13.0->spacy->efficiency->bleu) (1.24.3)\n",
            "Requirement already satisfied: chardet<4,>=3.0.2 in /usr/local/lib/python3.7/dist-packages (from requests<3.0.0,>=2.13.0->spacy->efficiency->bleu) (3.0.4)\n",
            "Building wheels for collected packages: bleu\n",
            "  Building wheel for bleu (setup.py) ... \u001b[?25l\u001b[?25hdone\n",
            "  Created wheel for bleu: filename=bleu-0.3-py3-none-any.whl size=5801 sha256=c58b570ad6e8f0c7a44dac90496ce79696a97729041128127ce5a961a6bf4ae1\n",
            "  Stored in directory: /root/.cache/pip/wheels/90/95/f7/3b9dd43fae308b83b018fb3c1b8647d622b3401c23a7ebc41e\n",
            "Successfully built bleu\n",
            "Installing collected packages: efficiency, bleu\n",
            "Successfully installed bleu-0.3 efficiency-1.0\n"
          ]
        }
      ]
    },
    {
      "cell_type": "code",
      "metadata": {
        "id": "a3-M8l2C-jvD"
      },
      "source": [
        "import json\n",
        "\n",
        "api_token = {\"username\":\"courageekoh\",\"key\":\"83bc06bfc6490721d52067847e849603\"}\n",
        "\n",
        "!mkdir .kaggle\n",
        "!mkdir ~/.kaggle\n",
        "\n",
        "with open('/content/kaggle.json', 'w') as file:\n",
        "  json.dump(api_token, file)\n",
        "\n",
        "!cp /content/kaggle.json /root/.kaggle/kaggle.json\n",
        "!chmod 600 /root/.kaggle/kaggle.json"
      ],
      "execution_count": null,
      "outputs": []
    },
    {
      "cell_type": "code",
      "metadata": {
        "colab": {
          "base_uri": "https://localhost:8080/"
        },
        "id": "Z3A0BGaV-jvE",
        "outputId": "61ab0c6b-43c8-48fd-9fb4-677386954686"
      },
      "source": [
        "!pip install kaggle\n",
        "!kaggle --version"
      ],
      "execution_count": null,
      "outputs": [
        {
          "output_type": "stream",
          "name": "stdout",
          "text": [
            "Requirement already satisfied: kaggle in /usr/local/lib/python3.7/dist-packages (1.5.12)\n",
            "Requirement already satisfied: urllib3 in /usr/local/lib/python3.7/dist-packages (from kaggle) (1.24.3)\n",
            "Requirement already satisfied: tqdm in /usr/local/lib/python3.7/dist-packages (from kaggle) (4.62.3)\n",
            "Requirement already satisfied: certifi in /usr/local/lib/python3.7/dist-packages (from kaggle) (2021.10.8)\n",
            "Requirement already satisfied: six>=1.10 in /usr/local/lib/python3.7/dist-packages (from kaggle) (1.15.0)\n",
            "Requirement already satisfied: python-dateutil in /usr/local/lib/python3.7/dist-packages (from kaggle) (2.8.2)\n",
            "Requirement already satisfied: python-slugify in /usr/local/lib/python3.7/dist-packages (from kaggle) (5.0.2)\n",
            "Requirement already satisfied: requests in /usr/local/lib/python3.7/dist-packages (from kaggle) (2.23.0)\n",
            "Requirement already satisfied: text-unidecode>=1.3 in /usr/local/lib/python3.7/dist-packages (from python-slugify->kaggle) (1.3)\n",
            "Requirement already satisfied: chardet<4,>=3.0.2 in /usr/local/lib/python3.7/dist-packages (from requests->kaggle) (3.0.4)\n",
            "Requirement already satisfied: idna<3,>=2.5 in /usr/local/lib/python3.7/dist-packages (from requests->kaggle) (2.10)\n",
            "Kaggle API 1.5.4\n"
          ]
        }
      ]
    },
    {
      "cell_type": "code",
      "metadata": {
        "colab": {
          "base_uri": "https://localhost:8080/"
        },
        "id": "ksp3V3W2-jvE",
        "outputId": "bc51ff25-f437-4828-f02e-9e8ca510a0dd"
      },
      "source": [
        "!kaggle datasets download -d dehbaiyor/gpt-finetuned-model"
      ],
      "execution_count": null,
      "outputs": [
        {
          "output_type": "stream",
          "name": "stdout",
          "text": [
            "Downloading gpt-finetuned-model.zip to /content\n",
            " 96% 234M/245M [00:01<00:00, 176MB/s]\n",
            "100% 245M/245M [00:01<00:00, 156MB/s]\n"
          ]
        }
      ]
    },
    {
      "cell_type": "code",
      "metadata": {
        "colab": {
          "base_uri": "https://localhost:8080/"
        },
        "id": "inF4HIXs-jvF",
        "outputId": "99ce3360-859f-4af5-d4cd-c7a05f6d06ca"
      },
      "source": [
        "!unzip gpt-finetuned-model.zip -d data "
      ],
      "execution_count": null,
      "outputs": [
        {
          "output_type": "stream",
          "name": "stdout",
          "text": [
            "Archive:  gpt-finetuned-model.zip\n",
            "  inflating: data/chess_task2_gpt_finetune_model_v1/chess_task2_gpt_finetune_model_v1/aitextgen.tokenizer.json  \n",
            "  inflating: data/chess_task2_gpt_finetune_model_v1/chess_task2_gpt_finetune_model_v1/config.json  \n",
            "  inflating: data/chess_task2_gpt_finetune_model_v1/chess_task2_gpt_finetune_model_v1/pytorch_model.bin  \n",
            "  inflating: data/gpt_chess_task1_model_v1/gpt_chess_task1_model_v1/aitextgen.tokenizer.json  \n",
            "  inflating: data/gpt_chess_task1_model_v1/gpt_chess_task1_model_v1/config.json  \n",
            "  inflating: data/gpt_chess_task1_model_v1/gpt_chess_task1_model_v1/pytorch_model.bin  \n",
            "  inflating: data/gpt_code_task1_model_v2/gpt_finetune_task1_model_v2/config.json  \n",
            "  inflating: data/gpt_code_task1_model_v2/gpt_finetune_task1_model_v2/pytorch_model.bin  \n",
            "  inflating: data/gpt_code_task2_modelv1/gpt_code_task2_modelv1/aitextgen.tokenizer.json  \n",
            "  inflating: data/gpt_code_task2_modelv1/gpt_code_task2_modelv1/config.json  \n",
            "  inflating: data/gpt_code_task2_modelv1/gpt_code_task2_modelv1/pytorch_model.bin  \n",
            "  inflating: data/gpt_mixed_model_v1/gpt_mixed_model_v1/aitextgen.tokenizer.json  \n",
            "  inflating: data/gpt_mixed_model_v1/gpt_mixed_model_v1/config.json  \n",
            "  inflating: data/gpt_mixed_model_v1/gpt_mixed_model_v1/pytorch_model.bin  \n"
          ]
        }
      ]
    },
    {
      "cell_type": "markdown",
      "metadata": {
        "id": "p4HgW7V2-jvF"
      },
      "source": [
        "# Analysis for Code to Text Performance with GPT model"
      ]
    },
    {
      "cell_type": "code",
      "metadata": {
        "id": "dRNvy2PU-jvH"
      },
      "source": [
        "import pandas as pd\n",
        "import numpy as np\n",
        "from aitextgen import aitextgen\n",
        "from bleu import multi_list_bleu\n",
        "from tqdm.notebook import tqdm\n",
        "import os\n",
        "os.environ[\"TOKENIZERS_PARALLELISM\"] = \"false\""
      ],
      "execution_count": null,
      "outputs": []
    },
    {
      "cell_type": "code",
      "metadata": {
        "id": "UAGjNikt-jvH"
      },
      "source": [
        "test = pd.read_csv('test_data.csv')"
      ],
      "execution_count": null,
      "outputs": []
    },
    {
      "cell_type": "code",
      "metadata": {
        "id": "ZzztgISq-jvI",
        "outputId": "069cdf6d-edde-402b-93ec-cd5827a92467"
      },
      "source": [
        "test.head()"
      ],
      "execution_count": null,
      "outputs": [
        {
          "data": {
            "text/html": [
              "<div>\n",
              "<style scoped>\n",
              "    .dataframe tbody tr th:only-of-type {\n",
              "        vertical-align: middle;\n",
              "    }\n",
              "\n",
              "    .dataframe tbody tr th {\n",
              "        vertical-align: top;\n",
              "    }\n",
              "\n",
              "    .dataframe thead th {\n",
              "        text-align: right;\n",
              "    }\n",
              "</style>\n",
              "<table border=\"1\" class=\"dataframe\">\n",
              "  <thead>\n",
              "    <tr style=\"text-align: right;\">\n",
              "      <th></th>\n",
              "      <th>input</th>\n",
              "      <th>target</th>\n",
              "    </tr>\n",
              "  </thead>\n",
              "  <tbody>\n",
              "    <tr>\n",
              "      <th>0</th>\n",
              "      <td>def sina_xml_to_url_list(xml_data):\\n    \"\"\"st...</td>\n",
              "      <td>str-&gt;list\\n    Convert XML to URL List.\\n    F...</td>\n",
              "    </tr>\n",
              "    <tr>\n",
              "      <th>1</th>\n",
              "      <td>def dailymotion_download(url, output_dir='.', ...</td>\n",
              "      <td>Downloads Dailymotion videos by URL.</td>\n",
              "    </tr>\n",
              "    <tr>\n",
              "      <th>2</th>\n",
              "      <td>def sina_download(url, output_dir='.', merge=T...</td>\n",
              "      <td>Downloads Sina videos by URL.</td>\n",
              "    </tr>\n",
              "    <tr>\n",
              "      <th>3</th>\n",
              "      <td>def sprint(text, *colors):\\n    \"\"\"Format text...</td>\n",
              "      <td>Format text with color or other effects into A...</td>\n",
              "    </tr>\n",
              "    <tr>\n",
              "      <th>4</th>\n",
              "      <td>def print_log(text, *colors):\\n    \"\"\"Print a ...</td>\n",
              "      <td>Print a log message to standard error.</td>\n",
              "    </tr>\n",
              "  </tbody>\n",
              "</table>\n",
              "</div>"
            ],
            "text/plain": [
              "                                               input  \\\n",
              "0  def sina_xml_to_url_list(xml_data):\\n    \"\"\"st...   \n",
              "1  def dailymotion_download(url, output_dir='.', ...   \n",
              "2  def sina_download(url, output_dir='.', merge=T...   \n",
              "3  def sprint(text, *colors):\\n    \"\"\"Format text...   \n",
              "4  def print_log(text, *colors):\\n    \"\"\"Print a ...   \n",
              "\n",
              "                                              target  \n",
              "0  str->list\\n    Convert XML to URL List.\\n    F...  \n",
              "1               Downloads Dailymotion videos by URL.  \n",
              "2                      Downloads Sina videos by URL.  \n",
              "3  Format text with color or other effects into A...  \n",
              "4             Print a log message to standard error.  "
            ]
          },
          "execution_count": 3,
          "metadata": {},
          "output_type": "execute_result"
        }
      ]
    },
    {
      "cell_type": "code",
      "metadata": {
        "id": "8o4GRmT4-jvJ"
      },
      "source": [
        "def clean(col):\n",
        "    return col.split(\"\\n\\n\")[0].replace('\\n', '').replace('  ', ' ')"
      ],
      "execution_count": null,
      "outputs": []
    },
    {
      "cell_type": "code",
      "metadata": {
        "id": "tMJl34Jc-jvK"
      },
      "source": [
        "def remove_docstring(col, st):\n",
        "    return col.replace(st, '')"
      ],
      "execution_count": null,
      "outputs": []
    },
    {
      "cell_type": "code",
      "metadata": {
        "id": "zPt5Juol-jvK"
      },
      "source": [
        "test['input'] = test.apply(lambda x: remove_docstring(x['input'], x['target']), axis = 1)"
      ],
      "execution_count": null,
      "outputs": []
    },
    {
      "cell_type": "code",
      "metadata": {
        "id": "BT89mMqq-jvL",
        "outputId": "4013eeba-28ec-4ecf-cc4d-ec2190a4245b"
      },
      "source": [
        "test.head()"
      ],
      "execution_count": null,
      "outputs": [
        {
          "data": {
            "text/html": [
              "<div>\n",
              "<style scoped>\n",
              "    .dataframe tbody tr th:only-of-type {\n",
              "        vertical-align: middle;\n",
              "    }\n",
              "\n",
              "    .dataframe tbody tr th {\n",
              "        vertical-align: top;\n",
              "    }\n",
              "\n",
              "    .dataframe thead th {\n",
              "        text-align: right;\n",
              "    }\n",
              "</style>\n",
              "<table border=\"1\" class=\"dataframe\">\n",
              "  <thead>\n",
              "    <tr style=\"text-align: right;\">\n",
              "      <th></th>\n",
              "      <th>input</th>\n",
              "      <th>target</th>\n",
              "    </tr>\n",
              "  </thead>\n",
              "  <tbody>\n",
              "    <tr>\n",
              "      <th>0</th>\n",
              "      <td>def sina_xml_to_url_list(xml_data):\\n    \"\"\"\\n...</td>\n",
              "      <td>str-&gt;list\\n    Convert XML to URL List.\\n    F...</td>\n",
              "    </tr>\n",
              "    <tr>\n",
              "      <th>1</th>\n",
              "      <td>def dailymotion_download(url, output_dir='.', ...</td>\n",
              "      <td>Downloads Dailymotion videos by URL.</td>\n",
              "    </tr>\n",
              "    <tr>\n",
              "      <th>2</th>\n",
              "      <td>def sina_download(url, output_dir='.', merge=T...</td>\n",
              "      <td>Downloads Sina videos by URL.</td>\n",
              "    </tr>\n",
              "    <tr>\n",
              "      <th>3</th>\n",
              "      <td>def sprint(text, *colors):\\n    \"\"\"\"\"\"\\n    re...</td>\n",
              "      <td>Format text with color or other effects into A...</td>\n",
              "    </tr>\n",
              "    <tr>\n",
              "      <th>4</th>\n",
              "      <td>def print_log(text, *colors):\\n    \"\"\"\"\"\"\\n   ...</td>\n",
              "      <td>Print a log message to standard error.</td>\n",
              "    </tr>\n",
              "  </tbody>\n",
              "</table>\n",
              "</div>"
            ],
            "text/plain": [
              "                                               input  \\\n",
              "0  def sina_xml_to_url_list(xml_data):\\n    \"\"\"\\n...   \n",
              "1  def dailymotion_download(url, output_dir='.', ...   \n",
              "2  def sina_download(url, output_dir='.', merge=T...   \n",
              "3  def sprint(text, *colors):\\n    \"\"\"\"\"\"\\n    re...   \n",
              "4  def print_log(text, *colors):\\n    \"\"\"\"\"\"\\n   ...   \n",
              "\n",
              "                                              target  \n",
              "0  str->list\\n    Convert XML to URL List.\\n    F...  \n",
              "1               Downloads Dailymotion videos by URL.  \n",
              "2                      Downloads Sina videos by URL.  \n",
              "3  Format text with color or other effects into A...  \n",
              "4             Print a log message to standard error.  "
            ]
          },
          "execution_count": 7,
          "metadata": {},
          "output_type": "execute_result"
        }
      ]
    },
    {
      "cell_type": "code",
      "metadata": {
        "id": "hDyz-SQW-jvL",
        "outputId": "f05bd647-5954-4367-a21c-ba57c3a3003f"
      },
      "source": [
        "test['input'][1]"
      ],
      "execution_count": null,
      "outputs": [
        {
          "data": {
            "text/plain": [
              "'def dailymotion_download(url, output_dir=\\'.\\', merge=True, info_only=False, **kwargs):\\n    \"\"\"\\n    \"\"\"\\n\\n    html = get_content(rebuilt_url(url))\\n    info = json.loads(match1(html, r\\'qualities\":({.+?}),\"\\'))\\n    title = match1(html, r\\'\"video_title\"\\\\s*:\\\\s*\"([^\"]+)\"\\') or \\\\\\n            match1(html, r\\'\"title\"\\\\s*:\\\\s*\"([^\"]+)\"\\')\\n    title = unicodize(title)\\n\\n    for quality in [\\'1080\\',\\'720\\',\\'480\\',\\'380\\',\\'240\\',\\'144\\',\\'auto\\']:\\n        try:\\n            real_url = info[quality][1][\"url\"]\\n            if real_url:\\n                break\\n        except KeyError:\\n            pass\\n\\n    mime, ext, size = url_info(real_url)\\n\\n    print_info(site_info, title, mime, size)\\n    if not info_only:\\n        download_urls([real_url], title, ext, size, output_dir=output_dir, merge=merge)'"
            ]
          },
          "execution_count": 8,
          "metadata": {},
          "output_type": "execute_result"
        }
      ]
    },
    {
      "cell_type": "code",
      "metadata": {
        "id": "1GLJi1qR-jvL"
      },
      "source": [
        "test['target'] = test['target'].apply(clean)"
      ],
      "execution_count": null,
      "outputs": []
    },
    {
      "cell_type": "code",
      "metadata": {
        "id": "AG3HlvCZ-jvL",
        "outputId": "380f9215-cb1a-4431-d500-9eb1ac3f2ab3"
      },
      "source": [
        "test['input'][1]"
      ],
      "execution_count": null,
      "outputs": [
        {
          "data": {
            "text/plain": [
              "'def dailymotion_download(url, output_dir=\\'.\\', merge=True, info_only=False, **kwargs):\\n    \"\"\"\\n    \"\"\"\\n\\n    html = get_content(rebuilt_url(url))\\n    info = json.loads(match1(html, r\\'qualities\":({.+?}),\"\\'))\\n    title = match1(html, r\\'\"video_title\"\\\\s*:\\\\s*\"([^\"]+)\"\\') or \\\\\\n            match1(html, r\\'\"title\"\\\\s*:\\\\s*\"([^\"]+)\"\\')\\n    title = unicodize(title)\\n\\n    for quality in [\\'1080\\',\\'720\\',\\'480\\',\\'380\\',\\'240\\',\\'144\\',\\'auto\\']:\\n        try:\\n            real_url = info[quality][1][\"url\"]\\n            if real_url:\\n                break\\n        except KeyError:\\n            pass\\n\\n    mime, ext, size = url_info(real_url)\\n\\n    print_info(site_info, title, mime, size)\\n    if not info_only:\\n        download_urls([real_url], title, ext, size, output_dir=output_dir, merge=merge)'"
            ]
          },
          "execution_count": 10,
          "metadata": {},
          "output_type": "execute_result"
        }
      ]
    },
    {
      "cell_type": "code",
      "metadata": {
        "id": "mHXMWaOX-jvM",
        "outputId": "357d4d6b-1396-4f78-850a-8b8feaab4928"
      },
      "source": [
        "test['target'][1]"
      ],
      "execution_count": null,
      "outputs": [
        {
          "data": {
            "text/plain": [
              "'Downloads Dailymotion videos by URL.'"
            ]
          },
          "execution_count": 11,
          "metadata": {},
          "output_type": "execute_result"
        }
      ]
    },
    {
      "cell_type": "code",
      "metadata": {
        "id": "3X-4oxNy-jvM"
      },
      "source": [
        "test_sample = test[test.input.str.len()< 480]"
      ],
      "execution_count": null,
      "outputs": []
    },
    {
      "cell_type": "code",
      "metadata": {
        "id": "4om2JA18-jvM"
      },
      "source": [
        "eval_sample = test_sample.sample(n = 1000).reset_index().drop(columns = 'index')"
      ],
      "execution_count": null,
      "outputs": []
    },
    {
      "cell_type": "code",
      "metadata": {
        "id": "-kPLk2b3-jvM"
      },
      "source": [
        "eval_sample['predicted'] = ''\n",
        "eval_sample['bleu_score'] = ''\n",
        "eval_sample['input'] = 'summarize: ' + eval_sample['input']"
      ],
      "execution_count": null,
      "outputs": []
    },
    {
      "cell_type": "code",
      "metadata": {
        "id": "WlLvTwuF-jvN",
        "outputId": "dd8d09c2-010b-478d-eb54-54fb0892777d"
      },
      "source": [
        "eval_sample.head()"
      ],
      "execution_count": null,
      "outputs": [
        {
          "data": {
            "text/html": [
              "<div>\n",
              "<style scoped>\n",
              "    .dataframe tbody tr th:only-of-type {\n",
              "        vertical-align: middle;\n",
              "    }\n",
              "\n",
              "    .dataframe tbody tr th {\n",
              "        vertical-align: top;\n",
              "    }\n",
              "\n",
              "    .dataframe thead th {\n",
              "        text-align: right;\n",
              "    }\n",
              "</style>\n",
              "<table border=\"1\" class=\"dataframe\">\n",
              "  <thead>\n",
              "    <tr style=\"text-align: right;\">\n",
              "      <th></th>\n",
              "      <th>input</th>\n",
              "      <th>target</th>\n",
              "      <th>predicted</th>\n",
              "      <th>bleu_score</th>\n",
              "    </tr>\n",
              "  </thead>\n",
              "  <tbody>\n",
              "    <tr>\n",
              "      <th>0</th>\n",
              "      <td>summarize: def write_comment(fh, comment):\\n  ...</td>\n",
              "      <td>Writes a comment to the file in Java propertie...</td>\n",
              "      <td></td>\n",
              "      <td></td>\n",
              "    </tr>\n",
              "    <tr>\n",
              "      <th>1</th>\n",
              "      <td>summarize: def register_post_execute(self, fun...</td>\n",
              "      <td>Register a function for calling after code exe...</td>\n",
              "      <td></td>\n",
              "      <td></td>\n",
              "    </tr>\n",
              "    <tr>\n",
              "      <th>2</th>\n",
              "      <td>summarize: def frames_to_samples(frames, hop_l...</td>\n",
              "      <td>Converts frame indices to audio sample indices.</td>\n",
              "      <td></td>\n",
              "      <td></td>\n",
              "    </tr>\n",
              "    <tr>\n",
              "      <th>3</th>\n",
              "      <td>summarize: def partition(condition, collection...</td>\n",
              "      <td>Partitions a list into two based on a condition.</td>\n",
              "      <td></td>\n",
              "      <td></td>\n",
              "    </tr>\n",
              "    <tr>\n",
              "      <th>4</th>\n",
              "      <td>summarize: def _get_axis_mode(self, axis):\\n  ...</td>\n",
              "      <td>will get the axis mode for the current series</td>\n",
              "      <td></td>\n",
              "      <td></td>\n",
              "    </tr>\n",
              "  </tbody>\n",
              "</table>\n",
              "</div>"
            ],
            "text/plain": [
              "                                               input  \\\n",
              "0  summarize: def write_comment(fh, comment):\\n  ...   \n",
              "1  summarize: def register_post_execute(self, fun...   \n",
              "2  summarize: def frames_to_samples(frames, hop_l...   \n",
              "3  summarize: def partition(condition, collection...   \n",
              "4  summarize: def _get_axis_mode(self, axis):\\n  ...   \n",
              "\n",
              "                                              target predicted bleu_score  \n",
              "0  Writes a comment to the file in Java propertie...                       \n",
              "1  Register a function for calling after code exe...                       \n",
              "2    Converts frame indices to audio sample indices.                       \n",
              "3   Partitions a list into two based on a condition.                       \n",
              "4      will get the axis mode for the current series                       "
            ]
          },
          "execution_count": 15,
          "metadata": {},
          "output_type": "execute_result"
        }
      ]
    },
    {
      "cell_type": "markdown",
      "metadata": {
        "tags": [],
        "id": "xsmRpMZN-jvN"
      },
      "source": [
        "### Load in model"
      ]
    },
    {
      "cell_type": "code",
      "metadata": {
        "id": "yAsZgux0D9aU"
      },
      "source": [
        "from nltk.translate import bleu\n",
        "from nltk.translate.bleu_score import SmoothingFunction\n",
        "smoothie = SmoothingFunction().method4"
      ],
      "execution_count": null,
      "outputs": []
    },
    {
      "cell_type": "code",
      "metadata": {
        "id": "GHdnkMhuEHLw"
      },
      "source": [
        "def calc_smooth_bleu(ref, hyp):\n",
        "  return bleu([ref], hyp, smoothing_function=smoothie)"
      ],
      "execution_count": null,
      "outputs": []
    },
    {
      "cell_type": "code",
      "metadata": {
        "id": "64NpkR8XADwZ",
        "colab": {
          "base_uri": "https://localhost:8080/",
          "height": 414
        },
        "outputId": "2816897e-5eaf-4646-e41c-71e356a86665"
      },
      "source": [
        "mixed_model_ttc = pd.read_csv('/content/smooth_bleu_ttc.csv', lineterminator='\\n')[['input', 'target']]\n",
        "mixed_model_ttc['predicted_mixed_model'] = ''\n",
        "mixed_model_ttc['smooth_bleu_score'] = ''"
      ],
      "execution_count": null,
      "outputs": [
        {
          "output_type": "error",
          "ename": "FileNotFoundError",
          "evalue": "ignored",
          "traceback": [
            "\u001b[0;31m---------------------------------------------------------------------------\u001b[0m",
            "\u001b[0;31mFileNotFoundError\u001b[0m                         Traceback (most recent call last)",
            "\u001b[0;32m<ipython-input-12-c553bc6d2f44>\u001b[0m in \u001b[0;36m<module>\u001b[0;34m()\u001b[0m\n\u001b[0;32m----> 1\u001b[0;31m \u001b[0mmixed_model_ttc\u001b[0m \u001b[0;34m=\u001b[0m \u001b[0mpd\u001b[0m\u001b[0;34m.\u001b[0m\u001b[0mread_csv\u001b[0m\u001b[0;34m(\u001b[0m\u001b[0;34m'/content/smooth_bleu_ttc.csv'\u001b[0m\u001b[0;34m,\u001b[0m \u001b[0mlineterminator\u001b[0m\u001b[0;34m=\u001b[0m\u001b[0;34m'\\n'\u001b[0m\u001b[0;34m)\u001b[0m\u001b[0;34m[\u001b[0m\u001b[0;34m[\u001b[0m\u001b[0;34m'input'\u001b[0m\u001b[0;34m,\u001b[0m \u001b[0;34m'target'\u001b[0m\u001b[0;34m]\u001b[0m\u001b[0;34m]\u001b[0m\u001b[0;34m\u001b[0m\u001b[0;34m\u001b[0m\u001b[0m\n\u001b[0m\u001b[1;32m      2\u001b[0m \u001b[0mmixed_model_ttc\u001b[0m\u001b[0;34m[\u001b[0m\u001b[0;34m'predicted_mixed_model'\u001b[0m\u001b[0;34m]\u001b[0m \u001b[0;34m=\u001b[0m \u001b[0;34m''\u001b[0m\u001b[0;34m\u001b[0m\u001b[0;34m\u001b[0m\u001b[0m\n\u001b[1;32m      3\u001b[0m \u001b[0mmixed_model_ttc\u001b[0m\u001b[0;34m[\u001b[0m\u001b[0;34m'smooth_bleu_score'\u001b[0m\u001b[0;34m]\u001b[0m \u001b[0;34m=\u001b[0m \u001b[0;34m''\u001b[0m\u001b[0;34m\u001b[0m\u001b[0;34m\u001b[0m\u001b[0m\n",
            "\u001b[0;32m/usr/local/lib/python3.7/dist-packages/pandas/io/parsers.py\u001b[0m in \u001b[0;36mread_csv\u001b[0;34m(filepath_or_buffer, sep, delimiter, header, names, index_col, usecols, squeeze, prefix, mangle_dupe_cols, dtype, engine, converters, true_values, false_values, skipinitialspace, skiprows, skipfooter, nrows, na_values, keep_default_na, na_filter, verbose, skip_blank_lines, parse_dates, infer_datetime_format, keep_date_col, date_parser, dayfirst, cache_dates, iterator, chunksize, compression, thousands, decimal, lineterminator, quotechar, quoting, doublequote, escapechar, comment, encoding, dialect, error_bad_lines, warn_bad_lines, delim_whitespace, low_memory, memory_map, float_precision)\u001b[0m\n\u001b[1;32m    686\u001b[0m     )\n\u001b[1;32m    687\u001b[0m \u001b[0;34m\u001b[0m\u001b[0m\n\u001b[0;32m--> 688\u001b[0;31m     \u001b[0;32mreturn\u001b[0m \u001b[0m_read\u001b[0m\u001b[0;34m(\u001b[0m\u001b[0mfilepath_or_buffer\u001b[0m\u001b[0;34m,\u001b[0m \u001b[0mkwds\u001b[0m\u001b[0;34m)\u001b[0m\u001b[0;34m\u001b[0m\u001b[0;34m\u001b[0m\u001b[0m\n\u001b[0m\u001b[1;32m    689\u001b[0m \u001b[0;34m\u001b[0m\u001b[0m\n\u001b[1;32m    690\u001b[0m \u001b[0;34m\u001b[0m\u001b[0m\n",
            "\u001b[0;32m/usr/local/lib/python3.7/dist-packages/pandas/io/parsers.py\u001b[0m in \u001b[0;36m_read\u001b[0;34m(filepath_or_buffer, kwds)\u001b[0m\n\u001b[1;32m    452\u001b[0m \u001b[0;34m\u001b[0m\u001b[0m\n\u001b[1;32m    453\u001b[0m     \u001b[0;31m# Create the parser.\u001b[0m\u001b[0;34m\u001b[0m\u001b[0;34m\u001b[0m\u001b[0;34m\u001b[0m\u001b[0m\n\u001b[0;32m--> 454\u001b[0;31m     \u001b[0mparser\u001b[0m \u001b[0;34m=\u001b[0m \u001b[0mTextFileReader\u001b[0m\u001b[0;34m(\u001b[0m\u001b[0mfp_or_buf\u001b[0m\u001b[0;34m,\u001b[0m \u001b[0;34m**\u001b[0m\u001b[0mkwds\u001b[0m\u001b[0;34m)\u001b[0m\u001b[0;34m\u001b[0m\u001b[0;34m\u001b[0m\u001b[0m\n\u001b[0m\u001b[1;32m    455\u001b[0m \u001b[0;34m\u001b[0m\u001b[0m\n\u001b[1;32m    456\u001b[0m     \u001b[0;32mif\u001b[0m \u001b[0mchunksize\u001b[0m \u001b[0;32mor\u001b[0m \u001b[0miterator\u001b[0m\u001b[0;34m:\u001b[0m\u001b[0;34m\u001b[0m\u001b[0;34m\u001b[0m\u001b[0m\n",
            "\u001b[0;32m/usr/local/lib/python3.7/dist-packages/pandas/io/parsers.py\u001b[0m in \u001b[0;36m__init__\u001b[0;34m(self, f, engine, **kwds)\u001b[0m\n\u001b[1;32m    946\u001b[0m             \u001b[0mself\u001b[0m\u001b[0;34m.\u001b[0m\u001b[0moptions\u001b[0m\u001b[0;34m[\u001b[0m\u001b[0;34m\"has_index_names\"\u001b[0m\u001b[0;34m]\u001b[0m \u001b[0;34m=\u001b[0m \u001b[0mkwds\u001b[0m\u001b[0;34m[\u001b[0m\u001b[0;34m\"has_index_names\"\u001b[0m\u001b[0;34m]\u001b[0m\u001b[0;34m\u001b[0m\u001b[0;34m\u001b[0m\u001b[0m\n\u001b[1;32m    947\u001b[0m \u001b[0;34m\u001b[0m\u001b[0m\n\u001b[0;32m--> 948\u001b[0;31m         \u001b[0mself\u001b[0m\u001b[0;34m.\u001b[0m\u001b[0m_make_engine\u001b[0m\u001b[0;34m(\u001b[0m\u001b[0mself\u001b[0m\u001b[0;34m.\u001b[0m\u001b[0mengine\u001b[0m\u001b[0;34m)\u001b[0m\u001b[0;34m\u001b[0m\u001b[0;34m\u001b[0m\u001b[0m\n\u001b[0m\u001b[1;32m    949\u001b[0m \u001b[0;34m\u001b[0m\u001b[0m\n\u001b[1;32m    950\u001b[0m     \u001b[0;32mdef\u001b[0m \u001b[0mclose\u001b[0m\u001b[0;34m(\u001b[0m\u001b[0mself\u001b[0m\u001b[0;34m)\u001b[0m\u001b[0;34m:\u001b[0m\u001b[0;34m\u001b[0m\u001b[0;34m\u001b[0m\u001b[0m\n",
            "\u001b[0;32m/usr/local/lib/python3.7/dist-packages/pandas/io/parsers.py\u001b[0m in \u001b[0;36m_make_engine\u001b[0;34m(self, engine)\u001b[0m\n\u001b[1;32m   1178\u001b[0m     \u001b[0;32mdef\u001b[0m \u001b[0m_make_engine\u001b[0m\u001b[0;34m(\u001b[0m\u001b[0mself\u001b[0m\u001b[0;34m,\u001b[0m \u001b[0mengine\u001b[0m\u001b[0;34m=\u001b[0m\u001b[0;34m\"c\"\u001b[0m\u001b[0;34m)\u001b[0m\u001b[0;34m:\u001b[0m\u001b[0;34m\u001b[0m\u001b[0;34m\u001b[0m\u001b[0m\n\u001b[1;32m   1179\u001b[0m         \u001b[0;32mif\u001b[0m \u001b[0mengine\u001b[0m \u001b[0;34m==\u001b[0m \u001b[0;34m\"c\"\u001b[0m\u001b[0;34m:\u001b[0m\u001b[0;34m\u001b[0m\u001b[0;34m\u001b[0m\u001b[0m\n\u001b[0;32m-> 1180\u001b[0;31m             \u001b[0mself\u001b[0m\u001b[0;34m.\u001b[0m\u001b[0m_engine\u001b[0m \u001b[0;34m=\u001b[0m \u001b[0mCParserWrapper\u001b[0m\u001b[0;34m(\u001b[0m\u001b[0mself\u001b[0m\u001b[0;34m.\u001b[0m\u001b[0mf\u001b[0m\u001b[0;34m,\u001b[0m \u001b[0;34m**\u001b[0m\u001b[0mself\u001b[0m\u001b[0;34m.\u001b[0m\u001b[0moptions\u001b[0m\u001b[0;34m)\u001b[0m\u001b[0;34m\u001b[0m\u001b[0;34m\u001b[0m\u001b[0m\n\u001b[0m\u001b[1;32m   1181\u001b[0m         \u001b[0;32melse\u001b[0m\u001b[0;34m:\u001b[0m\u001b[0;34m\u001b[0m\u001b[0;34m\u001b[0m\u001b[0m\n\u001b[1;32m   1182\u001b[0m             \u001b[0;32mif\u001b[0m \u001b[0mengine\u001b[0m \u001b[0;34m==\u001b[0m \u001b[0;34m\"python\"\u001b[0m\u001b[0;34m:\u001b[0m\u001b[0;34m\u001b[0m\u001b[0;34m\u001b[0m\u001b[0m\n",
            "\u001b[0;32m/usr/local/lib/python3.7/dist-packages/pandas/io/parsers.py\u001b[0m in \u001b[0;36m__init__\u001b[0;34m(self, src, **kwds)\u001b[0m\n\u001b[1;32m   2008\u001b[0m         \u001b[0mkwds\u001b[0m\u001b[0;34m[\u001b[0m\u001b[0;34m\"usecols\"\u001b[0m\u001b[0;34m]\u001b[0m \u001b[0;34m=\u001b[0m \u001b[0mself\u001b[0m\u001b[0;34m.\u001b[0m\u001b[0musecols\u001b[0m\u001b[0;34m\u001b[0m\u001b[0;34m\u001b[0m\u001b[0m\n\u001b[1;32m   2009\u001b[0m \u001b[0;34m\u001b[0m\u001b[0m\n\u001b[0;32m-> 2010\u001b[0;31m         \u001b[0mself\u001b[0m\u001b[0;34m.\u001b[0m\u001b[0m_reader\u001b[0m \u001b[0;34m=\u001b[0m \u001b[0mparsers\u001b[0m\u001b[0;34m.\u001b[0m\u001b[0mTextReader\u001b[0m\u001b[0;34m(\u001b[0m\u001b[0msrc\u001b[0m\u001b[0;34m,\u001b[0m \u001b[0;34m**\u001b[0m\u001b[0mkwds\u001b[0m\u001b[0;34m)\u001b[0m\u001b[0;34m\u001b[0m\u001b[0;34m\u001b[0m\u001b[0m\n\u001b[0m\u001b[1;32m   2011\u001b[0m         \u001b[0mself\u001b[0m\u001b[0;34m.\u001b[0m\u001b[0munnamed_cols\u001b[0m \u001b[0;34m=\u001b[0m \u001b[0mself\u001b[0m\u001b[0;34m.\u001b[0m\u001b[0m_reader\u001b[0m\u001b[0;34m.\u001b[0m\u001b[0munnamed_cols\u001b[0m\u001b[0;34m\u001b[0m\u001b[0;34m\u001b[0m\u001b[0m\n\u001b[1;32m   2012\u001b[0m \u001b[0;34m\u001b[0m\u001b[0m\n",
            "\u001b[0;32mpandas/_libs/parsers.pyx\u001b[0m in \u001b[0;36mpandas._libs.parsers.TextReader.__cinit__\u001b[0;34m()\u001b[0m\n",
            "\u001b[0;32mpandas/_libs/parsers.pyx\u001b[0m in \u001b[0;36mpandas._libs.parsers.TextReader._setup_parser_source\u001b[0;34m()\u001b[0m\n",
            "\u001b[0;31mFileNotFoundError\u001b[0m: [Errno 2] No such file or directory: '/content/smooth_bleu_ttc.csv'"
          ]
        }
      ]
    },
    {
      "cell_type": "code",
      "metadata": {
        "colab": {
          "base_uri": "https://localhost:8080/",
          "height": 206
        },
        "id": "SDtzA76HCRXS",
        "outputId": "d2dcb22a-2b17-458a-f279-d7f8630d345d"
      },
      "source": [
        "mixed_model_ttc.head()"
      ],
      "execution_count": null,
      "outputs": [
        {
          "output_type": "execute_result",
          "data": {
            "text/html": [
              "<div>\n",
              "<style scoped>\n",
              "    .dataframe tbody tr th:only-of-type {\n",
              "        vertical-align: middle;\n",
              "    }\n",
              "\n",
              "    .dataframe tbody tr th {\n",
              "        vertical-align: top;\n",
              "    }\n",
              "\n",
              "    .dataframe thead th {\n",
              "        text-align: right;\n",
              "    }\n",
              "</style>\n",
              "<table border=\"1\" class=\"dataframe\">\n",
              "  <thead>\n",
              "    <tr style=\"text-align: right;\">\n",
              "      <th></th>\n",
              "      <th>input</th>\n",
              "      <th>target</th>\n",
              "      <th>predicted_mixed_model</th>\n",
              "      <th>smooth_bleu_score</th>\n",
              "    </tr>\n",
              "  </thead>\n",
              "  <tbody>\n",
              "    <tr>\n",
              "      <th>0</th>\n",
              "      <td>generate: vcf2cytosure CGH file for inidividual.</td>\n",
              "      <td>def vcf2cytosure(store, institute_id, case_nam...</td>\n",
              "      <td></td>\n",
              "      <td></td>\n",
              "    </tr>\n",
              "    <tr>\n",
              "      <th>1</th>\n",
              "      <td>generate: Brute force regex based HTML tag par...</td>\n",
              "      <td>def itertags(html, tag):\\n    \"\"\"\\n    \\n    \"...</td>\n",
              "      <td></td>\n",
              "      <td></td>\n",
              "    </tr>\n",
              "    <tr>\n",
              "      <th>2</th>\n",
              "      <td>generate: Convert PythonCard font description ...</td>\n",
              "      <td>def migrate_font(font):\\n    \"\"\\n    if 'faceN...</td>\n",
              "      <td></td>\n",
              "      <td></td>\n",
              "    </tr>\n",
              "    <tr>\n",
              "      <th>3</th>\n",
              "      <td>generate: Cancel an IO block.</td>\n",
              "      <td>def cancel(self, block):\\n        \"\"\"\\n       ...</td>\n",
              "      <td></td>\n",
              "      <td></td>\n",
              "    </tr>\n",
              "    <tr>\n",
              "      <th>4</th>\n",
              "      <td>generate: Split a command line's arguments in ...</td>\n",
              "      <td>def arg_split(s, posix=False):\\n    \"\"\"\\n    \"...</td>\n",
              "      <td></td>\n",
              "      <td></td>\n",
              "    </tr>\n",
              "  </tbody>\n",
              "</table>\n",
              "</div>"
            ],
            "text/plain": [
              "                                               input  ... smooth_bleu_score\n",
              "0   generate: vcf2cytosure CGH file for inidividual.  ...                  \n",
              "1  generate: Brute force regex based HTML tag par...  ...                  \n",
              "2  generate: Convert PythonCard font description ...  ...                  \n",
              "3                      generate: Cancel an IO block.  ...                  \n",
              "4  generate: Split a command line's arguments in ...  ...                  \n",
              "\n",
              "[5 rows x 4 columns]"
            ]
          },
          "metadata": {},
          "execution_count": 5
        }
      ]
    },
    {
      "cell_type": "code",
      "metadata": {
        "id": "UijzZauG-jvN"
      },
      "source": [
        "ai_code_to_text = aitextgen(model_folder=\"/content/data/gpt_code_task2_modelv1/gpt_code_task2_modelv1\",\n",
        "               tokenizer_file=\"/content/data/gpt_code_task2_modelv1/gpt_code_task2_modelv1/aitextgen.tokenizer.json\",\n",
        "               to_gpu=True)"
      ],
      "execution_count": null,
      "outputs": []
    },
    {
      "cell_type": "code",
      "metadata": {
        "id": "vXpCK9FTtkfb"
      },
      "source": [
        "\n",
        "target = 'Return a list of courses for the passed regid.'"
      ],
      "execution_count": null,
      "outputs": []
    },
    {
      "cell_type": "code",
      "metadata": {
        "id": "CXlxPU8osJ5O"
      },
      "source": [
        "p = ''\n",
        "\n",
        "a  = ai_code_to_text.generate(max_length = 512, \n",
        "                prompt = p, \n",
        "                top_k = 100, \n",
        "                top_p  = 0.9, \n",
        "                temperature = 0.7,\n",
        "                return_as_list = True,\n",
        "                n = 10)\n",
        "ref = [' '.join(target.split())]\n",
        "pred = [[' '.join(j.replace(p, '').split())] for j in a]\n",
        "\n",
        "bleu_scores = []\n",
        "\n",
        "for k in pred:\n",
        "  score = calc_smooth_bleu(ref[0], k[0])*100\n",
        "  bleu_scores.append(score)\n",
        "\n",
        "prediction = pred[np.argmax(bleu_scores)][0]\n",
        "bleu_score = max(bleu_scores)"
      ],
      "execution_count": null,
      "outputs": []
    },
    {
      "cell_type": "code",
      "metadata": {
        "tags": [],
        "colab": {
          "base_uri": "https://localhost:8080/",
          "height": 49,
          "referenced_widgets": [
            "9240443bed484e299fdf12e7bc467373",
            "0ce9fd3bfcd2475b84f91d98acd1f3d0",
            "f060a345ef0545d38e08922b904a611a",
            "07f8b7c5ea184602ba048bb9bba2654e",
            "1794ceb2843d4c578b3eead64dc3cceb",
            "36437699312a4ff4b2067a6a1753751d",
            "39b128934e974c40b18058d25ebe7b7e",
            "97dd58c5177444e28dbc0e8b4c326bcc",
            "df66f617c2aa4a5d957381833bedda83",
            "f36c8aa8072c44ffa1d65986c172c250",
            "bb85797a67084cf58d82f778d84517df"
          ]
        },
        "id": "I1GvWXer-jvN",
        "outputId": "08b357ab-5b3e-49ac-a0d8-315e74e6837d"
      },
      "source": [
        "for i in tqdm(range(len(mixed_model_ttc)), total = len(mixed_model_ttc)):\n",
        "    p = mixed_model_ttc['input'][i]\n",
        "\n",
        "    a  = ai_code_to_text.generate(max_length = 512, \n",
        "                    prompt = p, \n",
        "                    top_k = 100, \n",
        "                    top_p  = 0.9, \n",
        "                    temperature = 0.7,\n",
        "                    return_as_list = True,\n",
        "                    n = 10)\n",
        "    ref = [' '.join(mixed_model_ttc['target'][i].split())]\n",
        "    pred = [[' '.join(j.replace(p, '').split())] for j in a]\n",
        "\n",
        "    bleu_scores = []\n",
        "\n",
        "    for k in pred:\n",
        "      score = calc_smooth_bleu(ref[0], k[0])*100\n",
        "      bleu_scores.append(score)\n",
        "\n",
        "    mixed_model_ttc['predicted_mixed_model'][i] = pred[np.argmax(bleu_scores)][0]\n",
        "    mixed_model_ttc['smooth_bleu_score'][i] = max(bleu_scores)"
      ],
      "execution_count": null,
      "outputs": [
        {
          "output_type": "display_data",
          "data": {
            "application/vnd.jupyter.widget-view+json": {
              "model_id": "9240443bed484e299fdf12e7bc467373",
              "version_minor": 0,
              "version_major": 2
            },
            "text/plain": [
              "  0%|          | 0/1000 [00:00<?, ?it/s]"
            ]
          },
          "metadata": {}
        }
      ]
    },
    {
      "cell_type": "code",
      "metadata": {
        "colab": {
          "base_uri": "https://localhost:8080/",
          "height": 258
        },
        "id": "HcAGBmT9Y_rD",
        "outputId": "4d86518e-1a3c-46db-9d27-dddafd12d7d5"
      },
      "source": [
        "mixed_model_ttc.head()"
      ],
      "execution_count": null,
      "outputs": [
        {
          "output_type": "execute_result",
          "data": {
            "text/html": [
              "<div>\n",
              "<style scoped>\n",
              "    .dataframe tbody tr th:only-of-type {\n",
              "        vertical-align: middle;\n",
              "    }\n",
              "\n",
              "    .dataframe tbody tr th {\n",
              "        vertical-align: top;\n",
              "    }\n",
              "\n",
              "    .dataframe thead th {\n",
              "        text-align: right;\n",
              "    }\n",
              "</style>\n",
              "<table border=\"1\" class=\"dataframe\">\n",
              "  <thead>\n",
              "    <tr style=\"text-align: right;\">\n",
              "      <th></th>\n",
              "      <th>input</th>\n",
              "      <th>target</th>\n",
              "      <th>predicted_mixed_model</th>\n",
              "      <th>smooth_bleu_score</th>\n",
              "    </tr>\n",
              "  </thead>\n",
              "  <tbody>\n",
              "    <tr>\n",
              "      <th>0</th>\n",
              "      <td>generate: vcf2cytosure CGH file for inidividual.</td>\n",
              "      <td>def vcf2cytosure(store, institute_id, case_nam...</td>\n",
              "      <td>def _create_cgh_to_file(self, cgh): \"\"\" \"\"\" if...</td>\n",
              "      <td>13.0985</td>\n",
              "    </tr>\n",
              "    <tr>\n",
              "      <th>1</th>\n",
              "      <td>generate: Brute force regex based HTML tag par...</td>\n",
              "      <td>def itertags(html, tag):\\n    \"\"\"\\n    \\n    \"...</td>\n",
              "      <td>def _get_tag_tags(tag, tag_tag, inside_tag, ta...</td>\n",
              "      <td>22.2535</td>\n",
              "    </tr>\n",
              "    <tr>\n",
              "      <th>2</th>\n",
              "      <td>generate: Convert PythonCard font description ...</td>\n",
              "      <td>def migrate_font(font):\\n    \"\"\\n    if 'faceN...</td>\n",
              "      <td>. def to_python_card_font_string(python_code):...</td>\n",
              "      <td>17.2724</td>\n",
              "    </tr>\n",
              "    <tr>\n",
              "      <th>3</th>\n",
              "      <td>generate: Cancel an IO block.</td>\n",
              "      <td>def cancel(self, block):\\n        \"\"\"\\n       ...</td>\n",
              "      <td>def io_block(self, block): \"\"\" \"\"\" try: respon...</td>\n",
              "      <td>26.7881</td>\n",
              "    </tr>\n",
              "    <tr>\n",
              "      <th>4</th>\n",
              "      <td>generate: Split a command line's arguments in ...</td>\n",
              "      <td>def arg_split(s, posix=False):\\n    \"\"\"\\n    \"...</td>\n",
              "      <td>If this is a valid like object, then if one of...</td>\n",
              "      <td>38.5004</td>\n",
              "    </tr>\n",
              "  </tbody>\n",
              "</table>\n",
              "</div>"
            ],
            "text/plain": [
              "                                               input  ... smooth_bleu_score\n",
              "0   generate: vcf2cytosure CGH file for inidividual.  ...           13.0985\n",
              "1  generate: Brute force regex based HTML tag par...  ...           22.2535\n",
              "2  generate: Convert PythonCard font description ...  ...           17.2724\n",
              "3                      generate: Cancel an IO block.  ...           26.7881\n",
              "4  generate: Split a command line's arguments in ...  ...           38.5004\n",
              "\n",
              "[5 rows x 4 columns]"
            ]
          },
          "metadata": {},
          "execution_count": 10
        }
      ]
    },
    {
      "cell_type": "code",
      "metadata": {
        "id": "mlecbDCtTHmx"
      },
      "source": [
        "mixed_model_ttc.to_csv('text_to_code.csv', index = False)"
      ],
      "execution_count": null,
      "outputs": []
    },
    {
      "cell_type": "code",
      "metadata": {
        "tags": [],
        "id": "HcH1ivfS-jvO",
        "outputId": "e2c09b1d-886e-49de-a2b0-983ceb6f07a4"
      },
      "source": [
        "eval_sample['bleu_score'][(eval_sample['bleu_score'] != 0) & (eval_sample['bleu_score'] != -1)].describe()"
      ],
      "execution_count": null,
      "outputs": [
        {
          "data": {
            "text/plain": [
              "count     201.00\n",
              "unique    193.00\n",
              "top        13.53\n",
              "freq        2.00\n",
              "Name: bleu_score, dtype: float64"
            ]
          },
          "execution_count": 18,
          "metadata": {},
          "output_type": "execute_result"
        }
      ]
    },
    {
      "cell_type": "code",
      "metadata": {
        "id": "RMIPzSXJ-jvO"
      },
      "source": [
        "eval_sample.to_csv('metrics_ctt.csv', index = False)"
      ],
      "execution_count": null,
      "outputs": []
    },
    {
      "cell_type": "markdown",
      "metadata": {
        "id": "kms60uuw-jvO"
      },
      "source": [
        "# Analysis of model performace for Code to Docstring with Encoder-Decoder Model"
      ]
    },
    {
      "cell_type": "code",
      "metadata": {
        "id": "1AgmQzFQ-jvO",
        "outputId": "a46ee9c4-c154-4853-acc6-99d972b4112a"
      },
      "source": [
        "pd.to_numeric(eval_sample['bleu_score'][eval_sample['bleu_score'] != 0]).describe()"
      ],
      "execution_count": null,
      "outputs": [
        {
          "data": {
            "text/plain": [
              "count    201.000000\n",
              "mean      17.905920\n",
              "std        9.775365\n",
              "min        0.480000\n",
              "25%       10.790000\n",
              "50%       17.760000\n",
              "75%       23.280000\n",
              "max       58.140000\n",
              "Name: bleu_score, dtype: float64"
            ]
          },
          "execution_count": 27,
          "metadata": {},
          "output_type": "execute_result"
        }
      ]
    },
    {
      "cell_type": "code",
      "metadata": {
        "id": "h3SQWuW0-jvO"
      },
      "source": [
        "human_eval = eval_sample.sample(n = 50).reset_index().drop(columns = 'index')"
      ],
      "execution_count": null,
      "outputs": []
    },
    {
      "cell_type": "code",
      "metadata": {
        "id": "Yo_joSiR-jvP",
        "outputId": "47fa8a69-b4d5-4524-92e4-7626a97d3e76"
      },
      "source": [
        "human_eval"
      ],
      "execution_count": null,
      "outputs": [
        {
          "data": {
            "text/html": [
              "<div>\n",
              "<style scoped>\n",
              "    .dataframe tbody tr th:only-of-type {\n",
              "        vertical-align: middle;\n",
              "    }\n",
              "\n",
              "    .dataframe tbody tr th {\n",
              "        vertical-align: top;\n",
              "    }\n",
              "\n",
              "    .dataframe thead th {\n",
              "        text-align: right;\n",
              "    }\n",
              "</style>\n",
              "<table border=\"1\" class=\"dataframe\">\n",
              "  <thead>\n",
              "    <tr style=\"text-align: right;\">\n",
              "      <th></th>\n",
              "      <th>input</th>\n",
              "      <th>target</th>\n",
              "      <th>predicted</th>\n",
              "      <th>bleu_score</th>\n",
              "    </tr>\n",
              "  </thead>\n",
              "  <tbody>\n",
              "    <tr>\n",
              "      <th>0</th>\n",
              "      <td>summarize: def get_gravatar_profile_url(email,...</td>\n",
              "      <td>Builds a url to a gravatar profile from an ema...</td>\n",
              "      <td>Get the given email based on the given email b...</td>\n",
              "      <td>12.29</td>\n",
              "    </tr>\n",
              "    <tr>\n",
              "      <th>1</th>\n",
              "      <td>summarize: def save_error(self, data, exceptio...</td>\n",
              "      <td>Saves an error in the error list.</td>\n",
              "      <td>Save the data to the data.</td>\n",
              "      <td>26.76</td>\n",
              "    </tr>\n",
              "    <tr>\n",
              "      <th>2</th>\n",
              "      <td>summarize: def get_allocations(self, prefix=No...</td>\n",
              "      <td>Lists all the allocations.</td>\n",
              "      <td>Retrieve allocations from the json.</td>\n",
              "      <td>22.57</td>\n",
              "    </tr>\n",
              "    <tr>\n",
              "      <th>3</th>\n",
              "      <td>summarize: def save_variable_bigdl(tensors, ta...</td>\n",
              "      <td>Save a variable dictionary to a Java object fi...</td>\n",
              "      <td>callBigDlFunc(bigdl_type, \"saveTensorDictionar...</td>\n",
              "      <td>0.0</td>\n",
              "    </tr>\n",
              "    <tr>\n",
              "      <th>4</th>\n",
              "      <td>summarize: def _get_front_ids_one_at_a_time(on...</td>\n",
              "      <td>Yields one onset front ID at a time until they...</td>\n",
              "      <td>summarize: def _get_front_ids_one_at_a_time(on...</td>\n",
              "      <td>0.0</td>\n",
              "    </tr>\n",
              "    <tr>\n",
              "      <th>5</th>\n",
              "      <td>summarize: def advance_robots(self):\\n        ...</td>\n",
              "      <td>Produces a new game state in which the robots ...</td>\n",
              "      <td>Adds the robots to the robots</td>\n",
              "      <td>0.0</td>\n",
              "    </tr>\n",
              "    <tr>\n",
              "      <th>6</th>\n",
              "      <td>summarize: def REBINDING(self):\\n        \"\"\"\"\"...</td>\n",
              "      <td>REBINDING state.</td>\n",
              "      <td>if self.script is not None: self.script.script...</td>\n",
              "      <td>0.0</td>\n",
              "    </tr>\n",
              "    <tr>\n",
              "      <th>7</th>\n",
              "      <td>summarize: def _swap_on_miss(partition_result)...</td>\n",
              "      <td>Given a partition_dict result, if the partitio...</td>\n",
              "      <td>return (return (before, item, after)) Swaps th...</td>\n",
              "      <td>10.49</td>\n",
              "    </tr>\n",
              "    <tr>\n",
              "      <th>8</th>\n",
              "      <td>summarize: def parse_line(self, line):\\n      ...</td>\n",
              "      <td>Updates the dictionary with a single header line.</td>\n",
              "      <td>summarize: def parse_line(self, line): \"\"\" \"\"\"...</td>\n",
              "      <td>0.0</td>\n",
              "    </tr>\n",
              "    <tr>\n",
              "      <th>9</th>\n",
              "      <td>summarize: def compile_relative_distances(self...</td>\n",
              "      <td>Return load and store distances between accesses.</td>\n",
              "      <td>Perform a left distances to the accesses</td>\n",
              "      <td>0.0</td>\n",
              "    </tr>\n",
              "    <tr>\n",
              "      <th>10</th>\n",
              "      <td>summarize: def seek(self,index):\\n        \"\"\"\"...</td>\n",
              "      <td>Move the current seek pointer to the given block.</td>\n",
              "      <td>Seek the index of a block of the index of the ...</td>\n",
              "      <td>0.0</td>\n",
              "    </tr>\n",
              "    <tr>\n",
              "      <th>11</th>\n",
              "      <td>summarize: def get_intervals(self, sort=False)...</td>\n",
              "      <td>Give all the intervals or points.</td>\n",
              "      <td>yield i yield iter(self.intervals[i], sort) Ge...</td>\n",
              "      <td>0.0</td>\n",
              "    </tr>\n",
              "    <tr>\n",
              "      <th>12</th>\n",
              "      <td>summarize: def discard(self, it: Signature) -&gt;...</td>\n",
              "      <td>Remove it only if present</td>\n",
              "      <td>Discard the view.</td>\n",
              "      <td>0.0</td>\n",
              "    </tr>\n",
              "    <tr>\n",
              "      <th>13</th>\n",
              "      <td>summarize: def case_report(institute_id, case_...</td>\n",
              "      <td>Visualize case report</td>\n",
              "      <td>Creates the dictionary of the institute with t...</td>\n",
              "      <td>22.59</td>\n",
              "    </tr>\n",
              "    <tr>\n",
              "      <th>14</th>\n",
              "      <td>summarize: def run(self, dag):\\n        \"\"\"\\n ...</td>\n",
              "      <td>Pick a layout by assigning n circuit qubits to...</td>\n",
              "      <td>self.property_set['layout']['layout']['layout'...</td>\n",
              "      <td>9.89</td>\n",
              "    </tr>\n",
              "    <tr>\n",
              "      <th>15</th>\n",
              "      <td>summarize: def cancer_variants(institute_id, c...</td>\n",
              "      <td>Show cancer variants overview.</td>\n",
              "      <td>Adds an institute to the GLOB for an institute...</td>\n",
              "      <td>0.0</td>\n",
              "    </tr>\n",
              "    <tr>\n",
              "      <th>16</th>\n",
              "      <td>summarize: def qft(circ, q, n):\\n    \"\"\"\"\"\"\\n ...</td>\n",
              "      <td>n-qubit QFT on q in circ.</td>\n",
              "      <td># Handle the final functions. circ.h(math.pi /...</td>\n",
              "      <td>0.0</td>\n",
              "    </tr>\n",
              "    <tr>\n",
              "      <th>17</th>\n",
              "      <td>summarize: def erfinv(x, name=\"erfinv\"):\\n  \"\"...</td>\n",
              "      <td>The inverse function for erf, the error function.</td>\n",
              "      <td>* (np.float32) Returns an integer that are the...</td>\n",
              "      <td>18.0</td>\n",
              "    </tr>\n",
              "    <tr>\n",
              "      <th>18</th>\n",
              "      <td>summarize: def tuples_2_bool(tuples, x):\\n    ...</td>\n",
              "      <td>Generate boolean array from list of limit tuples.</td>\n",
              "      <td>Returns tuples of the tuples of the tuples.</td>\n",
              "      <td>0.0</td>\n",
              "    </tr>\n",
              "    <tr>\n",
              "      <th>19</th>\n",
              "      <td>summarize: def replace(self, **kwargs):\\n     ...</td>\n",
              "      <td>Copy the Query object, optionally replacing th...</td>\n",
              "      <td>summarize: def replace(self, **kwargs): ''' ''...</td>\n",
              "      <td>4.66</td>\n",
              "    </tr>\n",
              "    <tr>\n",
              "      <th>20</th>\n",
              "      <td>summarize: def remove_empty_segments(times, la...</td>\n",
              "      <td>Removes empty segments if needed.</td>\n",
              "      <td>Removes empty segments intervals</td>\n",
              "      <td>0.0</td>\n",
              "    </tr>\n",
              "    <tr>\n",
              "      <th>21</th>\n",
              "      <td>summarize: def network_to_pandas_hdf5(network,...</td>\n",
              "      <td>Save a Network's data to a Pandas HDFStore.</td>\n",
              "      <td>store['auto_way'] = auto_way store['impedance_...</td>\n",
              "      <td>0.0</td>\n",
              "    </tr>\n",
              "    <tr>\n",
              "      <th>22</th>\n",
              "      <td>summarize: def add_section(self):\\n        \"\"\"...</td>\n",
              "      <td>Add a section, a sub-CodeBuilder.</td>\n",
              "      <td>Add a section to the given section to the give...</td>\n",
              "      <td>12.92</td>\n",
              "    </tr>\n",
              "    <tr>\n",
              "      <th>23</th>\n",
              "      <td>summarize: def compute_module(self, context_na...</td>\n",
              "      <td>return true if the module should be added to d...</td>\n",
              "      <td>Compute the module name for the module name.</td>\n",
              "      <td>0.0</td>\n",
              "    </tr>\n",
              "    <tr>\n",
              "      <th>24</th>\n",
              "      <td>summarize: def request_sender(self, pn_link):\\...</td>\n",
              "      <td>Create link from request for a sender.</td>\n",
              "      <td>Creates a new `pn_link` with a given `pn_link`.</td>\n",
              "      <td>0.0</td>\n",
              "    </tr>\n",
              "    <tr>\n",
              "      <th>25</th>\n",
              "      <td>summarize: def StringIO(*args, **kw):\\n    \"\"\"...</td>\n",
              "      <td>Thunk to load the real StringIO on demand</td>\n",
              "      <td>StringIO object to StringIO.</td>\n",
              "      <td>0.0</td>\n",
              "    </tr>\n",
              "    <tr>\n",
              "      <th>26</th>\n",
              "      <td>summarize: def issues(self):\\n        \"\"\"\\n   ...</td>\n",
              "      <td>Returns a list of dicts representing issues fr...</td>\n",
              "      <td>Issues all the endpoints of the current boards.</td>\n",
              "      <td>0.0</td>\n",
              "    </tr>\n",
              "    <tr>\n",
              "      <th>27</th>\n",
              "      <td>summarize: def value(self):\\n    \"\"\"\"\"\"\\n    i...</td>\n",
              "      <td>Get tensor that the random variable correspond...</td>\n",
              "      <td>summarize: def value(self): \"\"\"\"\"\" if self._va...</td>\n",
              "      <td>0.0</td>\n",
              "    </tr>\n",
              "    <tr>\n",
              "      <th>28</th>\n",
              "      <td>summarize: def delete_vacation(self, index, va...</td>\n",
              "      <td>Delete the vacation with name vacation</td>\n",
              "      <td>Gets a list of viacations</td>\n",
              "      <td>0.0</td>\n",
              "    </tr>\n",
              "    <tr>\n",
              "      <th>29</th>\n",
              "      <td>summarize: def read(*pathcomponents):\\n    \"\"\"...</td>\n",
              "      <td>Read the contents of a file located relative t...</td>\n",
              "      <td>Get the filename of the files.</td>\n",
              "      <td>0.0</td>\n",
              "    </tr>\n",
              "    <tr>\n",
              "      <th>30</th>\n",
              "      <td>summarize: def intersection_update(self, oset:...</td>\n",
              "      <td>Update Set with common values of another Set</td>\n",
              "      <td>._hsig Intersection function for the old server.</td>\n",
              "      <td>0.0</td>\n",
              "    </tr>\n",
              "    <tr>\n",
              "      <th>31</th>\n",
              "      <td>summarize: def validate_id(request):\\n    \"\"\"\"...</td>\n",
              "      <td>Validate request id.</td>\n",
              "      <td>return True Validate the ID for a ID.</td>\n",
              "      <td>0.0</td>\n",
              "    </tr>\n",
              "    <tr>\n",
              "      <th>32</th>\n",
              "      <td>summarize: def _iter_sims(self):\\n        \"\"\"\\...</td>\n",
              "      <td>iterate on similarities among all files, by ma...</td>\n",
              "      <td>for sim in self._find_common(lineset): yield s...</td>\n",
              "      <td>0.0</td>\n",
              "    </tr>\n",
              "    <tr>\n",
              "      <th>33</th>\n",
              "      <td>summarize: def get(self, filter=False):\\n     ...</td>\n",
              "      <td>Returns a dictionary with the values of the mo...</td>\n",
              "      <td>Returns the filters for the given locations.</td>\n",
              "      <td>0.0</td>\n",
              "    </tr>\n",
              "    <tr>\n",
              "      <th>34</th>\n",
              "      <td>summarize: def get_event_descriptions(self, ev...</td>\n",
              "      <td>Get the thing's events as an array.</td>\n",
              "      <td>Retrieve a list of events for a event.</td>\n",
              "      <td>0.0</td>\n",
              "    </tr>\n",
              "    <tr>\n",
              "      <th>35</th>\n",
              "      <td>summarize: def f_remove_link(self, name):\\n   ...</td>\n",
              "      <td>Removes a link from from the current group nod...</td>\n",
              "      <td>Updates the link to the link.</td>\n",
              "      <td>0.0</td>\n",
              "    </tr>\n",
              "    <tr>\n",
              "      <th>36</th>\n",
              "      <td>summarize: def set( self, **kw):\\n      '''\\n ...</td>\n",
              "      <td>Store keyword args to be written to output file.</td>\n",
              "      <td>Sets the default kwarg to the default values.</td>\n",
              "      <td>0.0</td>\n",
              "    </tr>\n",
              "    <tr>\n",
              "      <th>37</th>\n",
              "      <td>summarize: def partition(condition, collection...</td>\n",
              "      <td>Partitions a list into two based on a condition.</td>\n",
              "      <td>Parse an element to a list of List and return ...</td>\n",
              "      <td>0.0</td>\n",
              "    </tr>\n",
              "    <tr>\n",
              "      <th>38</th>\n",
              "      <td>summarize: def is_checkmate(self):\\n        ''...</td>\n",
              "      <td>Checks if the current position is a checkmate.</td>\n",
              "      <td>return False if next(self.generate_legal_moves...</td>\n",
              "      <td>0.0</td>\n",
              "    </tr>\n",
              "    <tr>\n",
              "      <th>39</th>\n",
              "      <td>summarize: def parse_headers(self, headers):\\n...</td>\n",
              "      <td>Parses a semi-colon delimited list of headers.</td>\n",
              "      <td>return self.headers Get headers into a list of...</td>\n",
              "      <td>22.42</td>\n",
              "    </tr>\n",
              "    <tr>\n",
              "      <th>40</th>\n",
              "      <td>summarize: def with_context(exc, context):\\n  ...</td>\n",
              "      <td>Attaches a ``context`` value to an Exception.</td>\n",
              "      <td>.context Returns the context to the context.</td>\n",
              "      <td>35.9</td>\n",
              "    </tr>\n",
              "    <tr>\n",
              "      <th>41</th>\n",
              "      <td>summarize: def get_refer(self, sym: sym.Symbol...</td>\n",
              "      <td>Get the Var referred by Symbol or None if it d...</td>\n",
              "      <td>Get the following are referenced from the give...</td>\n",
              "      <td>0.0</td>\n",
              "    </tr>\n",
              "    <tr>\n",
              "      <th>42</th>\n",
              "      <td>summarize: def mBank_set_iph_id(transactions, ...</td>\n",
              "      <td>mBank Collect uses ID IPH to distinguish betwe...</td>\n",
              "      <td>Returns a list of tags of tag into a transacti...</td>\n",
              "      <td>21.13</td>\n",
              "    </tr>\n",
              "    <tr>\n",
              "      <th>43</th>\n",
              "      <td>summarize: def pseudo_handler(self, signum, fr...</td>\n",
              "      <td>Pseudo handler placeholder while signal is bei...</td>\n",
              "      <td>self.log.warn(\"Received signal, current frame:...</td>\n",
              "      <td>0.0</td>\n",
              "    </tr>\n",
              "    <tr>\n",
              "      <th>44</th>\n",
              "      <td>summarize: def defaults_(self):\\n        \"\"\"\\n...</td>\n",
              "      <td>Iterator over sections, option names, and opti...</td>\n",
              "      <td>return defaults_ defaults defaults defaults de...</td>\n",
              "      <td>16.88</td>\n",
              "    </tr>\n",
              "    <tr>\n",
              "      <th>45</th>\n",
              "      <td>summarize: def end_group(self, dedent=0, close...</td>\n",
              "      <td>End a group. See `begin_group` for more details.</td>\n",
              "      <td>return group return group Get the group of the...</td>\n",
              "      <td>0.0</td>\n",
              "    </tr>\n",
              "    <tr>\n",
              "      <th>46</th>\n",
              "      <td>summarize: def use(self, profile):\\n        \"\"...</td>\n",
              "      <td>Define a new default profile.</td>\n",
              "      <td>.pattern.type self.profile = profile.pattern.t...</td>\n",
              "      <td>0.0</td>\n",
              "    </tr>\n",
              "    <tr>\n",
              "      <th>47</th>\n",
              "      <td>summarize: def conv3x3(in_planes, out_planes, ...</td>\n",
              "      <td>3x3 convolution with padding</td>\n",
              "      <td>Conv2d method to create the nn.conv2d method t...</td>\n",
              "      <td>0.0</td>\n",
              "    </tr>\n",
              "    <tr>\n",
              "      <th>48</th>\n",
              "      <td>summarize: def generic_api_view(injector):\\n  ...</td>\n",
              "      <td>Create DRF generic class-based API view from i...</td>\n",
              "      <td>Generic application view view view view view v...</td>\n",
              "      <td>0.0</td>\n",
              "    </tr>\n",
              "    <tr>\n",
              "      <th>49</th>\n",
              "      <td>summarize: def cylindrical_vert(script, radius...</td>\n",
              "      <td>Select all vertices within a cylindrical radius</td>\n",
              "      <td>summarize: def cylindrical_vert(script, radius...</td>\n",
              "      <td>0.0</td>\n",
              "    </tr>\n",
              "  </tbody>\n",
              "</table>\n",
              "</div>"
            ],
            "text/plain": [
              "                                                input  \\\n",
              "0   summarize: def get_gravatar_profile_url(email,...   \n",
              "1   summarize: def save_error(self, data, exceptio...   \n",
              "2   summarize: def get_allocations(self, prefix=No...   \n",
              "3   summarize: def save_variable_bigdl(tensors, ta...   \n",
              "4   summarize: def _get_front_ids_one_at_a_time(on...   \n",
              "5   summarize: def advance_robots(self):\\n        ...   \n",
              "6   summarize: def REBINDING(self):\\n        \"\"\"\"\"...   \n",
              "7   summarize: def _swap_on_miss(partition_result)...   \n",
              "8   summarize: def parse_line(self, line):\\n      ...   \n",
              "9   summarize: def compile_relative_distances(self...   \n",
              "10  summarize: def seek(self,index):\\n        \"\"\"\"...   \n",
              "11  summarize: def get_intervals(self, sort=False)...   \n",
              "12  summarize: def discard(self, it: Signature) ->...   \n",
              "13  summarize: def case_report(institute_id, case_...   \n",
              "14  summarize: def run(self, dag):\\n        \"\"\"\\n ...   \n",
              "15  summarize: def cancer_variants(institute_id, c...   \n",
              "16  summarize: def qft(circ, q, n):\\n    \"\"\"\"\"\"\\n ...   \n",
              "17  summarize: def erfinv(x, name=\"erfinv\"):\\n  \"\"...   \n",
              "18  summarize: def tuples_2_bool(tuples, x):\\n    ...   \n",
              "19  summarize: def replace(self, **kwargs):\\n     ...   \n",
              "20  summarize: def remove_empty_segments(times, la...   \n",
              "21  summarize: def network_to_pandas_hdf5(network,...   \n",
              "22  summarize: def add_section(self):\\n        \"\"\"...   \n",
              "23  summarize: def compute_module(self, context_na...   \n",
              "24  summarize: def request_sender(self, pn_link):\\...   \n",
              "25  summarize: def StringIO(*args, **kw):\\n    \"\"\"...   \n",
              "26  summarize: def issues(self):\\n        \"\"\"\\n   ...   \n",
              "27  summarize: def value(self):\\n    \"\"\"\"\"\"\\n    i...   \n",
              "28  summarize: def delete_vacation(self, index, va...   \n",
              "29  summarize: def read(*pathcomponents):\\n    \"\"\"...   \n",
              "30  summarize: def intersection_update(self, oset:...   \n",
              "31  summarize: def validate_id(request):\\n    \"\"\"\"...   \n",
              "32  summarize: def _iter_sims(self):\\n        \"\"\"\\...   \n",
              "33  summarize: def get(self, filter=False):\\n     ...   \n",
              "34  summarize: def get_event_descriptions(self, ev...   \n",
              "35  summarize: def f_remove_link(self, name):\\n   ...   \n",
              "36  summarize: def set( self, **kw):\\n      '''\\n ...   \n",
              "37  summarize: def partition(condition, collection...   \n",
              "38  summarize: def is_checkmate(self):\\n        ''...   \n",
              "39  summarize: def parse_headers(self, headers):\\n...   \n",
              "40  summarize: def with_context(exc, context):\\n  ...   \n",
              "41  summarize: def get_refer(self, sym: sym.Symbol...   \n",
              "42  summarize: def mBank_set_iph_id(transactions, ...   \n",
              "43  summarize: def pseudo_handler(self, signum, fr...   \n",
              "44  summarize: def defaults_(self):\\n        \"\"\"\\n...   \n",
              "45  summarize: def end_group(self, dedent=0, close...   \n",
              "46  summarize: def use(self, profile):\\n        \"\"...   \n",
              "47  summarize: def conv3x3(in_planes, out_planes, ...   \n",
              "48  summarize: def generic_api_view(injector):\\n  ...   \n",
              "49  summarize: def cylindrical_vert(script, radius...   \n",
              "\n",
              "                                               target  \\\n",
              "0   Builds a url to a gravatar profile from an ema...   \n",
              "1                   Saves an error in the error list.   \n",
              "2                          Lists all the allocations.   \n",
              "3   Save a variable dictionary to a Java object fi...   \n",
              "4   Yields one onset front ID at a time until they...   \n",
              "5   Produces a new game state in which the robots ...   \n",
              "6                                    REBINDING state.   \n",
              "7   Given a partition_dict result, if the partitio...   \n",
              "8   Updates the dictionary with a single header line.   \n",
              "9   Return load and store distances between accesses.   \n",
              "10  Move the current seek pointer to the given block.   \n",
              "11                  Give all the intervals or points.   \n",
              "12                          Remove it only if present   \n",
              "13                              Visualize case report   \n",
              "14  Pick a layout by assigning n circuit qubits to...   \n",
              "15                     Show cancer variants overview.   \n",
              "16                          n-qubit QFT on q in circ.   \n",
              "17  The inverse function for erf, the error function.   \n",
              "18  Generate boolean array from list of limit tuples.   \n",
              "19  Copy the Query object, optionally replacing th...   \n",
              "20                  Removes empty segments if needed.   \n",
              "21        Save a Network's data to a Pandas HDFStore.   \n",
              "22                  Add a section, a sub-CodeBuilder.   \n",
              "23  return true if the module should be added to d...   \n",
              "24             Create link from request for a sender.   \n",
              "25          Thunk to load the real StringIO on demand   \n",
              "26  Returns a list of dicts representing issues fr...   \n",
              "27  Get tensor that the random variable correspond...   \n",
              "28             Delete the vacation with name vacation   \n",
              "29  Read the contents of a file located relative t...   \n",
              "30       Update Set with common values of another Set   \n",
              "31                               Validate request id.   \n",
              "32  iterate on similarities among all files, by ma...   \n",
              "33  Returns a dictionary with the values of the mo...   \n",
              "34                Get the thing's events as an array.   \n",
              "35  Removes a link from from the current group nod...   \n",
              "36   Store keyword args to be written to output file.   \n",
              "37   Partitions a list into two based on a condition.   \n",
              "38     Checks if the current position is a checkmate.   \n",
              "39     Parses a semi-colon delimited list of headers.   \n",
              "40      Attaches a ``context`` value to an Exception.   \n",
              "41  Get the Var referred by Symbol or None if it d...   \n",
              "42  mBank Collect uses ID IPH to distinguish betwe...   \n",
              "43  Pseudo handler placeholder while signal is bei...   \n",
              "44  Iterator over sections, option names, and opti...   \n",
              "45   End a group. See `begin_group` for more details.   \n",
              "46                      Define a new default profile.   \n",
              "47                       3x3 convolution with padding   \n",
              "48  Create DRF generic class-based API view from i...   \n",
              "49    Select all vertices within a cylindrical radius   \n",
              "\n",
              "                                            predicted bleu_score  \n",
              "0   Get the given email based on the given email b...      12.29  \n",
              "1                          Save the data to the data.      26.76  \n",
              "2                 Retrieve allocations from the json.      22.57  \n",
              "3   callBigDlFunc(bigdl_type, \"saveTensorDictionar...        0.0  \n",
              "4   summarize: def _get_front_ids_one_at_a_time(on...        0.0  \n",
              "5                       Adds the robots to the robots        0.0  \n",
              "6   if self.script is not None: self.script.script...        0.0  \n",
              "7   return (return (before, item, after)) Swaps th...      10.49  \n",
              "8   summarize: def parse_line(self, line): \"\"\" \"\"\"...        0.0  \n",
              "9            Perform a left distances to the accesses        0.0  \n",
              "10  Seek the index of a block of the index of the ...        0.0  \n",
              "11  yield i yield iter(self.intervals[i], sort) Ge...        0.0  \n",
              "12                                  Discard the view.        0.0  \n",
              "13  Creates the dictionary of the institute with t...      22.59  \n",
              "14  self.property_set['layout']['layout']['layout'...       9.89  \n",
              "15  Adds an institute to the GLOB for an institute...        0.0  \n",
              "16  # Handle the final functions. circ.h(math.pi /...        0.0  \n",
              "17  * (np.float32) Returns an integer that are the...       18.0  \n",
              "18        Returns tuples of the tuples of the tuples.        0.0  \n",
              "19  summarize: def replace(self, **kwargs): ''' ''...       4.66  \n",
              "20                   Removes empty segments intervals        0.0  \n",
              "21  store['auto_way'] = auto_way store['impedance_...        0.0  \n",
              "22  Add a section to the given section to the give...      12.92  \n",
              "23       Compute the module name for the module name.        0.0  \n",
              "24    Creates a new `pn_link` with a given `pn_link`.        0.0  \n",
              "25                       StringIO object to StringIO.        0.0  \n",
              "26    Issues all the endpoints of the current boards.        0.0  \n",
              "27  summarize: def value(self): \"\"\"\"\"\" if self._va...        0.0  \n",
              "28                          Gets a list of viacations        0.0  \n",
              "29                     Get the filename of the files.        0.0  \n",
              "30   ._hsig Intersection function for the old server.        0.0  \n",
              "31              return True Validate the ID for a ID.        0.0  \n",
              "32  for sim in self._find_common(lineset): yield s...        0.0  \n",
              "33       Returns the filters for the given locations.        0.0  \n",
              "34             Retrieve a list of events for a event.        0.0  \n",
              "35                      Updates the link to the link.        0.0  \n",
              "36      Sets the default kwarg to the default values.        0.0  \n",
              "37  Parse an element to a list of List and return ...        0.0  \n",
              "38  return False if next(self.generate_legal_moves...        0.0  \n",
              "39  return self.headers Get headers into a list of...      22.42  \n",
              "40       .context Returns the context to the context.       35.9  \n",
              "41  Get the following are referenced from the give...        0.0  \n",
              "42  Returns a list of tags of tag into a transacti...      21.13  \n",
              "43  self.log.warn(\"Received signal, current frame:...        0.0  \n",
              "44  return defaults_ defaults defaults defaults de...      16.88  \n",
              "45  return group return group Get the group of the...        0.0  \n",
              "46  .pattern.type self.profile = profile.pattern.t...        0.0  \n",
              "47  Conv2d method to create the nn.conv2d method t...        0.0  \n",
              "48  Generic application view view view view view v...        0.0  \n",
              "49  summarize: def cylindrical_vert(script, radius...        0.0  "
            ]
          },
          "execution_count": 31,
          "metadata": {},
          "output_type": "execute_result"
        }
      ]
    },
    {
      "cell_type": "code",
      "metadata": {
        "id": "qXTkjHGL-jvP"
      },
      "source": [
        "human_eval.to_csv('human_evaluation_code_to_text.csv', index = False)"
      ],
      "execution_count": null,
      "outputs": []
    },
    {
      "cell_type": "code",
      "metadata": {
        "id": "08cE7-EL-jvP"
      },
      "source": [
        "def multibleu(ref, pred):\n",
        "    return multi_list_bleu([' '.join(ref.split())], [[' '.join(pred.split())]])[0]"
      ],
      "execution_count": null,
      "outputs": []
    },
    {
      "cell_type": "code",
      "metadata": {
        "id": "mh_cUE8O-jvP"
      },
      "source": [
        "confirmation = pd.read_csv('smooth_bleu2_ctt.csv', lineterminator='\\n')"
      ],
      "execution_count": null,
      "outputs": []
    },
    {
      "cell_type": "code",
      "metadata": {
        "id": "CPLFF31R-jvP",
        "outputId": "effb0bb5-a026-4b81-f663-b8798bdbb28a"
      },
      "source": [
        "confirmation.head()"
      ],
      "execution_count": null,
      "outputs": [
        {
          "data": {
            "text/html": [
              "<div>\n",
              "<style scoped>\n",
              "    .dataframe tbody tr th:only-of-type {\n",
              "        vertical-align: middle;\n",
              "    }\n",
              "\n",
              "    .dataframe tbody tr th {\n",
              "        vertical-align: top;\n",
              "    }\n",
              "\n",
              "    .dataframe thead th {\n",
              "        text-align: right;\n",
              "    }\n",
              "</style>\n",
              "<table border=\"1\" class=\"dataframe\">\n",
              "  <thead>\n",
              "    <tr style=\"text-align: right;\">\n",
              "      <th></th>\n",
              "      <th>input</th>\n",
              "      <th>target</th>\n",
              "      <th>predicted</th>\n",
              "      <th>smooth_bleu_score</th>\n",
              "    </tr>\n",
              "  </thead>\n",
              "  <tbody>\n",
              "    <tr>\n",
              "      <th>0</th>\n",
              "      <td>summarize: def write_comment(fh, comment):\\n  ...</td>\n",
              "      <td>Writes a comment to the file in Java propertie...</td>\n",
              "      <td>return fh Creates a list of comments for the g...</td>\n",
              "      <td>39.686062</td>\n",
              "    </tr>\n",
              "    <tr>\n",
              "      <th>1</th>\n",
              "      <td>summarize: def register_post_execute(self, fun...</td>\n",
              "      <td>Register a function for calling after code exe...</td>\n",
              "      <td>return self._post_execute[func] Registers a fu...</td>\n",
              "      <td>46.899140</td>\n",
              "    </tr>\n",
              "    <tr>\n",
              "      <th>2</th>\n",
              "      <td>summarize: def frames_to_samples(frames, hop_l...</td>\n",
              "      <td>Converts frame indices to audio sample indices.</td>\n",
              "      <td>Converts a list of samples to another Frames t...</td>\n",
              "      <td>38.740937</td>\n",
              "    </tr>\n",
              "    <tr>\n",
              "      <th>3</th>\n",
              "      <td>summarize: def partition(condition, collection...</td>\n",
              "      <td>Partitions a list into two based on a condition.</td>\n",
              "      <td>Partition a list of indicators to a List.</td>\n",
              "      <td>47.906035</td>\n",
              "    </tr>\n",
              "    <tr>\n",
              "      <th>4</th>\n",
              "      <td>summarize: def _get_axis_mode(self, axis):\\n  ...</td>\n",
              "      <td>will get the axis mode for the current series</td>\n",
              "      <td>Get the modes of an axis mode for the axis.</td>\n",
              "      <td>58.039008</td>\n",
              "    </tr>\n",
              "  </tbody>\n",
              "</table>\n",
              "</div>"
            ],
            "text/plain": [
              "                                               input  \\\n",
              "0  summarize: def write_comment(fh, comment):\\n  ...   \n",
              "1  summarize: def register_post_execute(self, fun...   \n",
              "2  summarize: def frames_to_samples(frames, hop_l...   \n",
              "3  summarize: def partition(condition, collection...   \n",
              "4  summarize: def _get_axis_mode(self, axis):\\n  ...   \n",
              "\n",
              "                                              target  \\\n",
              "0  Writes a comment to the file in Java propertie...   \n",
              "1  Register a function for calling after code exe...   \n",
              "2    Converts frame indices to audio sample indices.   \n",
              "3   Partitions a list into two based on a condition.   \n",
              "4      will get the axis mode for the current series   \n",
              "\n",
              "                                           predicted  smooth_bleu_score  \n",
              "0  return fh Creates a list of comments for the g...          39.686062  \n",
              "1  return self._post_execute[func] Registers a fu...          46.899140  \n",
              "2  Converts a list of samples to another Frames t...          38.740937  \n",
              "3          Partition a list of indicators to a List.          47.906035  \n",
              "4        Get the modes of an axis mode for the axis.          58.039008  "
            ]
          },
          "execution_count": 49,
          "metadata": {},
          "output_type": "execute_result"
        }
      ]
    },
    {
      "cell_type": "code",
      "metadata": {
        "id": "uwMEsWuz-jvP"
      },
      "source": [
        "confirmation['normal_bleu'] = confirmation.apply(lambda x: multibleu(x['target'], x['predicted']), axis = 1)"
      ],
      "execution_count": null,
      "outputs": []
    },
    {
      "cell_type": "code",
      "metadata": {
        "id": "6lrspB0e-jvQ",
        "outputId": "441bd05e-fb87-40ec-eb8b-f00129b6fa3f"
      },
      "source": [
        "confirmation['normal_bleu'].describe()"
      ],
      "execution_count": null,
      "outputs": [
        {
          "data": {
            "text/plain": [
              "count    1000.0\n",
              "mean       -1.0\n",
              "std         0.0\n",
              "min        -1.0\n",
              "25%        -1.0\n",
              "50%        -1.0\n",
              "75%        -1.0\n",
              "max        -1.0\n",
              "Name: normal_bleu, dtype: float64"
            ]
          },
          "execution_count": 52,
          "metadata": {},
          "output_type": "execute_result"
        }
      ]
    },
    {
      "cell_type": "code",
      "metadata": {
        "id": "8upGz8GU-jvQ",
        "outputId": "95ada17d-0bc4-436c-b67c-405c7ac341a2"
      },
      "source": [
        "confirmation['target'][1]"
      ],
      "execution_count": null,
      "outputs": [
        {
          "data": {
            "text/plain": [
              "'Register a function for calling after code execution.'"
            ]
          },
          "execution_count": 51,
          "metadata": {},
          "output_type": "execute_result"
        }
      ]
    },
    {
      "cell_type": "code",
      "metadata": {
        "id": "8LhUTgj7-jvQ",
        "outputId": "aa7c2aeb-75a9-44d7-9a0e-296cf23b51af"
      },
      "source": [
        "multi_list_bleu(['Register a function for calling after code execution.'], [['return self._post_execute[func] Registers a function.']])"
      ],
      "execution_count": null,
      "outputs": [
        {
          "data": {
            "text/plain": [
              "[-1]"
            ]
          },
          "execution_count": 33,
          "metadata": {},
          "output_type": "execute_result"
        }
      ]
    },
    {
      "cell_type": "code",
      "metadata": {
        "id": "obqh5aY9-jvQ",
        "outputId": "90fb0a02-a66b-4de4-8f4c-3d55f8b12d36"
      },
      "source": [
        "' '.join(ref.split())"
      ],
      "execution_count": null,
      "outputs": [
        {
          "data": {
            "text/plain": [
              "'Writes a comment to the file in Java properties format.'"
            ]
          },
          "execution_count": 46,
          "metadata": {},
          "output_type": "execute_result"
        }
      ]
    },
    {
      "cell_type": "code",
      "metadata": {
        "id": "ZX3zxdaW-jvQ"
      },
      "source": [
        "human_readable = pd.read_csv('smooth_bleu2_ctt.csv', lineterminator='\\n').sample(n = 50).reset_index().drop(columns = 'index')"
      ],
      "execution_count": null,
      "outputs": []
    },
    {
      "cell_type": "code",
      "metadata": {
        "id": "QcCaJsKY-jvQ"
      },
      "source": [
        "human_readable.to_csv('human_evaluation_code_to_text_review.csv', index = False)"
      ],
      "execution_count": null,
      "outputs": []
    },
    {
      "cell_type": "code",
      "metadata": {
        "id": "TP_h7GMM-jvR"
      },
      "source": [
        ""
      ],
      "execution_count": null,
      "outputs": []
    }
  ]
}