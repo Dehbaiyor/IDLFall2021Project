{
 "cells": [
  {
   "cell_type": "code",
   "execution_count": 1,
   "metadata": {
    "execution": {
     "iopub.execute_input": "2021-11-27T08:54:55.386459Z",
     "iopub.status.busy": "2021-11-27T08:54:55.385680Z",
     "iopub.status.idle": "2021-11-27T08:55:02.352754Z",
     "shell.execute_reply": "2021-11-27T08:55:02.352019Z",
     "shell.execute_reply.started": "2021-11-27T08:54:55.386415Z"
    },
    "id": "KBkpRgBCBS2_",
    "outputId": "629b3068-c9a6-407a-ea09-98773a0c50bf",
    "tags": []
   },
   "outputs": [],
   "source": [
    "from aitextgen import aitextgen"
   ]
  },
  {
   "cell_type": "code",
   "execution_count": 2,
   "metadata": {
    "execution": {
     "iopub.execute_input": "2021-11-27T08:55:05.560899Z",
     "iopub.status.busy": "2021-11-27T08:55:05.560617Z",
     "iopub.status.idle": "2021-11-27T08:55:05.564825Z",
     "shell.execute_reply": "2021-11-27T08:55:05.563870Z",
     "shell.execute_reply.started": "2021-11-27T08:55:05.560867Z"
    }
   },
   "outputs": [],
   "source": [
    "import os\n",
    "os.environ[\"TOKENIZERS_PARALLELISM\"] = \"false\""
   ]
  },
  {
   "cell_type": "code",
   "execution_count": 3,
   "metadata": {
    "execution": {
     "iopub.execute_input": "2021-11-27T14:26:14.279824Z",
     "iopub.status.busy": "2021-11-27T14:26:14.279349Z",
     "iopub.status.idle": "2021-11-27T14:26:14.375056Z",
     "shell.execute_reply": "2021-11-27T14:26:14.373707Z",
     "shell.execute_reply.started": "2021-11-27T14:26:14.279736Z"
    },
    "tags": []
   },
   "outputs": [],
   "source": [
    "ai = aitextgen(model_folder=\"gpt_chess_task1_model_v1\",\n",
    "               tokenizer_file=\"gpt_chess_task1_model_v1/aitextgen.tokenizer.json\",\n",
    "               to_gpu=True)"
   ]
  },
  {
   "cell_type": "code",
   "execution_count": 10,
   "metadata": {},
   "outputs": [],
   "source": [
    "p = 'def sharpe_ratio(return_series, N = 255, rf = 0.01, annualized = True):'\n",
    "#   mean = return_series.mean() * N -rf'\n",
    "#    sigma = return_series.std()\\\n",
    "#    if annualized:\\\n",
    "#        sigma *= np.sqrt(N)'\n",
    "#return mean / sigma"
   ]
  },
  {
   "cell_type": "code",
   "execution_count": 11,
   "metadata": {
    "execution": {
     "iopub.execute_input": "2021-11-27T08:56:20.395870Z",
     "iopub.status.busy": "2021-11-27T08:56:20.395544Z",
     "iopub.status.idle": "2021-11-27T08:56:21.437111Z",
     "shell.execute_reply": "2021-11-27T08:56:21.436238Z",
     "shell.execute_reply.started": "2021-11-27T08:56:20.395829Z"
    }
   },
   "outputs": [
    {
     "name": "stdout",
     "output_type": "stream",
     "text": [
      "\u001b[1mdef sharpe_ratio(return_series, N = 255, rf = 0.01, annualized = True):\u001b[0m2 Rf5+ Ke3 a6 a4 c6 a5 Rf7 b3 Raf8 b4 g5 g4 Kg7 b5 axb5 Bxb5 c5 a6 bxa6 Bxa6 Ra7 Bc4 Rxa1 Bxa1 Ra7 Bc3 Ra8 Bd5 Ra1 Kf3 Kf7 g3 Ra3 Ke3 Rc1 Kd2 Rh1 Kc3 Rxh2 Kd3 Rg2 Ke3 Rg1 Kf3 Rc1 Ke3 Ra1 Kf3 Ra3+ Kg4 Ra4 Kf3 Ra3+ Ke2 Ra2+ Kf3 Ra3+ Ke2 Ra2+ Kf3 Ra3+ Kf2 Ra2+ Kf3 Ra3+ Kf2 Ra2+ Kf3 Ra3+ Kf2 Ra2+ Kf1 Ra3 Ke2 Ra2+ Kf1 Ra3 Ke2 Ra2+ Kf1 Ra3 Kf2 Ra2+ Kf3 Ra3+ Kf2 Ra2+ Kf3 Ra3+ Kf2 Ra2+ Kf3 Ra3+ Kf2 Ra2+ Kf3 Ra3+ Kf2 Ra2+ Kf3 Ra3+ Kf2 Ra2+ Kf3 Ra3+ Kf2 Ra2+ Kf3 Ra3+ Kf2 Ra2+ Kf3 Ra3+ Kf2 Ra2+ Kf3 Ra3+ Kf2 Ra2+ Kf3 Ra3+ Kf2 Ra2+ Kf3 Ra3+ Kf2 Ra2+ Kf3 Ra3+ Kf2 Ra2+ Kf3 Ra3+ Kf2 Ra2+ Kf3 Ra3+ Kf2 Ra2+ Kf3 Ra3+ Kf2 Ra2+ Kf3 Ra3+ Kf2 Ra2+ Kf3 Ra3+ Kf2 Ra2+ Kf3 Ra3+ Kf2 Ra2+ Kf3 Ra3+ Kf2 Ra2+ Kf3 Ra3+ Kf2 Ra2+ Ke3 Ra3+ Kf2 Ra2+ Kf3 Ra3+ Kf2 Ra2+ Kf3 Ra3+ Ke2 Ra2+ Kf3 Ra3+ Kf2 Ra2 Kf3 Ra3+ Kf2 Ra2 Ke3 Ra3+ Kd2 Ra2+ Kd3 Ra3+ Kd2 Ra2+ Kd3 Ra3+ Kd2 Ra2+ Ke3 Ra3+ Kd2 Ra2\n"
     ]
    }
   ],
   "source": [
    "ai.generate(prompt = p, max_length = 512, top_k = 100, top_p  = 0.9, temperature = 0.7)"
   ]
  },
  {
   "cell_type": "code",
   "execution_count": 13,
   "metadata": {},
   "outputs": [],
   "source": [
    "p = 'def _get_abs_corr_mat(self, X_filled, tolerance=1e-6): n_features = X_filled.shape[1]'"
   ]
  },
  {
   "cell_type": "code",
   "execution_count": 14,
   "metadata": {},
   "outputs": [
    {
     "name": "stdout",
     "output_type": "stream",
     "text": [
      "\u001b[1mdef _get_abs_corr_mat(self, X_filled, tolerance=1e-6): n_features = X_filled.shape[1]\u001b[0m7 g4 h5 g5 Ne5 Qe2+ Kf8 f4 Ng4 f5 Ne5 f6 gxf6 gxf6 Qxf6 d4 Nc6 dxe5 Nxe5 Nd4 Ng4 Qe5 Ne3+ Qxe3 Qxe3+ Kxe3 Re8+ Kf4 Re7 Bc3 c5 Ne6+ Rxe6 dxe6 Rxe6 Rd7 Rc6 Ke5 Rxc4 Kd6 Rc6+ Kd5 b5 Re1 Rc7 Be5 a6 Bd6 Rc6 Rh1 Kd4 Rd1+ Kc3 Rc1+ Kb3 Rb1+ Ka2 Rb4 Bf4+ Kf2 Bd5 Rb2+ Kc6 Ra2 Kc7 c4 bxc4 Bxc4 Rb7 b3 Kb6 a4 Kc6 a5 Rb8 b4 Rd8 Kc3 Rd6 Kc4 Rd1 Kc5 Rb1 Kc4 Rb2 Kc3 Rb1 Kc4 Rb2 Kc3 Rc2+ Kd3 Rc1 Ke2 Rb1 Kf3 Rb2 Kg3 Rb1 Kg4 Rb2 Kg5 Rb3 Kg4 Rb2 Kf3 Rb3+ Kg2 Rb2+ Kg3 Rb3+ Kf2 Rb2+ Ke3 Rb3+ Ke4 Rb2 Ke5 Rb3 Kf6 Rb2 Ke6 Rb3 Ke7 Rb5 Kf6 Rb6+ Kf7 Rb7+ Kf6 Rb6+ Kg7 Rb7+ Kf8 Rb6 Ke7 Rb7+ Kf6 Rb6+ Ke7 Rb7+ Kf6 Rb6+ Ke5 Rb5+ Kf4 Rb4+ Kf3 Rb3+ Kf4 Rb2 Ke5 Rb5+ Kf4 Rb2 Ke4 Rb3 Kf4 Rb2 Ke5 Rb3 Kf4 Rb2 Kf3 Rb3+ Kf4 Rb4+ Kf3 Rb3+ Ke4 Rb4+ Kf3 Rb3+ Kf4 Rb4+ Kf3 Rb3+ Kf4 Rb4+ Ke3 Rb3+ Kf4 Rb4+ Kf3 Rb3+ Kf4 Rb4+ Kf5 Rb5 Ke4 Rb4+ Ke5 Rb5+ Kf4 Rb4+ Kf3 Rb3+ Kf4 Rb4+ Kf3 Rb3+ Kf4 Rb4+ Kf5 Rb5+ Kf4 Rb\n"
     ]
    }
   ],
   "source": [
    "ai.generate(prompt = p, max_length = 512, top_k = 100, top_p  = 0.9, temperature = 0.7)"
   ]
  },
  {
   "cell_type": "code",
   "execution_count": 15,
   "metadata": {},
   "outputs": [],
   "source": [
    "p = 'def show_current_number(parser, token): try: tag_name, args = '"
   ]
  },
  {
   "cell_type": "code",
   "execution_count": 26,
   "metadata": {},
   "outputs": [
    {
     "name": "stdout",
     "output_type": "stream",
     "text": [
      "\u001b[1mdef show_current_number(parser, token): try: tag_name, args = \u001b[0m: e4 c5 d4 cxd4 Nxd4 Nc6 Nxc6 bxc6 e5 Qa5+ Qd2 Qxd2+ Kxd2 Rb8 f4 g6 Be3 Bg7 Bd3 d6 exd6 exd6 Re1+ Kd7 Bf2 Rxb2+ Kc3 Bd7 Re7+ Kc8 Rxd7 Kxc7 Bf1 Rb6 Bd3 a5 Bc3 Rb3+ Kc4 Rb4+ Kc3 Rxa4 Re7+ Kd8 Rd7+ Ke8 Rd8+ Kf7 Rd7+ Kg8 Bxf6 Rc8+ Kb3 Rc7 Be5+ Bxe5 fxe5 Rb6+ Kc4 Rb7 Ra7 Rb4+ Kd5 Rb8 e6 fxe6+ Kxe6 Rb6+ Kf7 Rb5 Rxa5 Rb7+ Kg8 Rc7 Rb8+ Kc6 Rb6+ Kc5 Rc6+ Kb4 Rc1 Rb7 Rd1 Kc5 Rd5+ Kc4 Rc5+ Kd4 Rb5 Ra7 Rd5+ Kc4 Rd1 Kc3 Rb1 Kc4 Rb8 Ra6+ Kg7 Kc3 Rb4 Kd3 Rb3+ Kc4 Rb8 Kc3 Rb3+ Kc4 Rb2 Ra4 Rc2+ Kb5 Rb2+ Kc6 Rb6+ Kc5 Rb8 Ra7 Rb6 Ra6+ Kh6 Kd4 Rb4+ Kc5 Rb7 Ra5 Rb5+ Kc6 Rb4 Kc5 Rb8 Ra7 Rc8+ Kd6 Rb8 Ke7 Rb7+ Kf6 Rb6+ Ke5 Rb5+ Kf6 Rb6+ Ke5 Rb5+ Kf6 Rb6+ Ke5 Rb5+ Kf6 Rb6+ Ke5 Rb5+ Kf6 Rb6+ Kf5 Rb5+ Kf6 Rb6+ Ke5 Rb5+ Ke6 Rb6+ Kf5 Rb5+ Kf6 Rb6+ Kf5 Rb5+ Ke4 Rb4+ Kf5 Rb5+ Kf4 Rb4+ Kf3 Rb3+ Kf4 Rb4+ Kf5 Rb5+ Kf4 Rb4+ Ke3 Rb3+ Kf4 Rb4+ Kf3 Rb3+ Kf4 Rb4+ Kf5 Rb5+ Kf4 Rb4+ Kf3 Rb3+ Kf4 Rb4+ Kf5 Rb5+ Kf4 Rb4+ Kf3 Rb3+ Kf4 Rb4+\n"
     ]
    }
   ],
   "source": [
    "ai.generate(prompt = p, max_length = 512, top_k = 100, top_p  = 0.9, temperature = 0.7)"
   ]
  },
  {
   "cell_type": "code",
   "execution_count": null,
   "metadata": {},
   "outputs": [],
   "source": []
  },
  {
   "cell_type": "code",
   "execution_count": 29,
   "metadata": {},
   "outputs": [
    {
     "name": "stdout",
     "output_type": "stream",
     "text": [
      "\u001b[1me4 :\u001b[0m e4 e6 d4 d5 Nc3 Nf6 e5 Nfd7 f4 c5 Nf3 Nc6 Be3 Qb6 Qd2 cxd4 Nxd4 Bc5 c3 O-O Be2 Nxd4 Bxd4 Bxd4 Qxd4 Qxd4 cxd4 Nb6 Kd2 Bd7 Bd3 Rfc8 g4 g6 g5 Kg7 Rac1 Nc4+ Bxc4 dxc4 Rc3 a6 Rhc1 Bb5 Ke3 h6 h4 hxg5 hxg5 Rh8 Rh1 Rh8 Rxh8 Rxh8 Rh3 Rxh3+ Kxh3 Bd7 Kg4 Kf8 Kf3 Ke7 Ke4 f6 gxf6+ Kxf6 Kd5 Bb5 a3 a5 Kc5 Bc6 a4 Bd5 b3 cxb3 Kb6 a4 Kxb7 Bc4 Kxa7 Bb3 Kb6 Bc4 a5 Bxd3 a6 Bc4 a7 Bb5 Kb7 Bd3 a8=Q Bxa8 Kxa8 Ke7 Kb7 Kd7 Kb6 Kc8 Kc6 Kb8 Kd7 Ka7 Kd6 Kb6 Kd5 Kb5 Kd6 Ka4 Kc6 Kb4 Kd5 Kb3 Kc6 Ka4 Kb6 Kb3 Kc6 Ka3 Kd5 Kb3 Kd4 Ka4 Kd5 Kb3 Kd4 Ka3 Kc4 Kb2 Kd5 Ka3 Ke4 Kb2 Kf3 Ka3 Kf2 Kb2 Kxf4 Ka3 Ke4 Kb2 Kd4 Ka3 e4 Kb3 e3 Kb4 e2 0-1\n"
     ]
    }
   ],
   "source": [
    "p = 'e4 :'\n",
    "ai.generate(prompt = p, max_length = 512, top_k = 100, top_p  = 0.9, temperature = 0.7)"
   ]
  },
  {
   "cell_type": "code",
   "execution_count": 30,
   "metadata": {},
   "outputs": [
    {
     "name": "stdout",
     "output_type": "stream",
     "text": [
      "\u001b[1me4 : e5 c5\u001b[0m Nf3 d6 d4 cxd4 Nxd4 Nf6 Nc3 a6 Bg5 e6 f4 Be7 Qf3 O-O O-O-O Nbd7 g4 b5 Bxf6 Nxf6 g5 Nd7 h4 b4 Nb1 Nc5 Nd2 a5 h5 a4 h6 g6 Ne4 a3 b3 a2 Kb2 axb1=Q+ Nxb1 Qa5 Nc3 b3 axb3 Nxb3 Nxb3 Qxb3+ Ka1 Ra5+ Kb2 Rb8+ Kc1 Qxb2+ Qxb2 Rxb2 Kxb2 Rb8+ Ka1 Rb8 Bd3 Ba6 Rd2 Rb2 Rhb1 Rb1+ Rxb1 Bxb1 Rxb1 1-0\n"
     ]
    }
   ],
   "source": [
    "p = 'e4 : e5 c5'\n",
    "ai.generate(prompt = p, max_length = 512, top_k = 100, top_p  = 0.9, temperature = 0.7)"
   ]
  },
  {
   "cell_type": "code",
   "execution_count": 31,
   "metadata": {},
   "outputs": [
    {
     "name": "stdout",
     "output_type": "stream",
     "text": [
      "e4 : e4 e5 Nf3 Nc6 Bb5 a6 Ba4 Nf6 d3 b5 Bb3 Bc5 O-O O-O c3 d6 Re1 h6 Nbd2 Re8 Nf1 d5 Ng3 d4 h3 dxc3 bxc3 Bb6 Nf5 Bxf5 exf5 e4 dxe4 Nxe4 Rxe4 Rxe4 Qd3 Qd6 Ne1 Ne5 Qf3 c5 Ng3 Rae8 Bd2 c4 Qf4 Ng6 Qf3 d3 Re1 Re2 Rxe2 dxe2 Qxe2 Qd5 Be3 Ne5 h4 Rd8 h5 Nf3+ 0-1\n"
     ]
    }
   ],
   "source": [
    "ai.generate(max_length = 512, top_k = 100, top_p  = 0.9, temperature = 0.7)"
   ]
  },
  {
   "cell_type": "code",
   "execution_count": null,
   "metadata": {},
   "outputs": [],
   "source": []
  },
  {
   "cell_type": "code",
   "execution_count": null,
   "metadata": {},
   "outputs": [],
   "source": []
  }
 ],
 "metadata": {
  "kernelspec": {
   "display_name": "Python 3 (ipykernel)",
   "language": "python",
   "name": "python3"
  },
  "language_info": {
   "codemirror_mode": {
    "name": "ipython",
    "version": 3
   },
   "file_extension": ".py",
   "mimetype": "text/x-python",
   "name": "python",
   "nbconvert_exporter": "python",
   "pygments_lexer": "ipython3",
   "version": "3.7.10"
  }
 },
 "nbformat": 4,
 "nbformat_minor": 4
}
