{
 "cells": [
  {
   "cell_type": "code",
   "execution_count": 1,
   "id": "88f6da42",
   "metadata": {},
   "outputs": [],
   "source": [
    "from aitextgen import aitextgen"
   ]
  },
  {
   "cell_type": "code",
   "execution_count": 2,
   "id": "8cc4d670",
   "metadata": {},
   "outputs": [],
   "source": [
    "import chess\n",
    "import chess.engine\n",
    "import os\n",
    "from tqdm import tqdm\n",
    "import random\n",
    "import pandas as pd"
   ]
  },
  {
   "cell_type": "code",
   "execution_count": 3,
   "id": "829d181d",
   "metadata": {},
   "outputs": [],
   "source": [
    "ai = aitextgen(model_folder=\"gpt_mixed_model_v1\",\n",
    "               tokenizer_file=\"gpt_mixed_model_v1/aitextgen.tokenizer.json\",\n",
    "               to_gpu=True)"
   ]
  },
  {
   "cell_type": "code",
   "execution_count": 4,
   "id": "f32f222f",
   "metadata": {},
   "outputs": [],
   "source": [
    "engine = chess.engine.SimpleEngine.popen_uci('stockfish_14.1_win_x64_avx2/stockfish_14.1_win_x64_avx2.exe')"
   ]
  },
  {
   "cell_type": "code",
   "execution_count": 6,
   "id": "1b6e107b",
   "metadata": {},
   "outputs": [],
   "source": [
    "prompted = pd.read_csv('constrained_mixed_chess.csv').sample(1_000, random_state = 0).T.values.flatten().tolist()\n",
    "general = pd.read_csv('unconstrained_mixed_chess.csv').sample(1_000, random_state = 0).T.values.flatten().tolist()"
   ]
  },
  {
   "cell_type": "markdown",
   "id": "8b0c1c94",
   "metadata": {},
   "source": [
    "prompted = pd.DataFrame(pd.read_csv('prompted_chess.csv').T.values.flatten().tolist()).sample(1_000, random_state = 0).values.flatten().tolist()\n",
    "general = pd.DataFrame(pd.read_csv('general_chess.csv').T.values.flatten().tolist()).sample(1_000, random_state = 0).values.flatten().tolist()"
   ]
  },
  {
   "cell_type": "code",
   "execution_count": 12,
   "id": "49119fb6",
   "metadata": {},
   "outputs": [
    {
     "name": "stderr",
     "output_type": "stream",
     "text": [
      "100%|██████████████████████████████████████████████████████████████████████████████| 1000/1000 [35:55<00:00,  2.16s/it]\n"
     ]
    }
   ],
   "source": [
    "all_scores = []\n",
    "\n",
    "for game in tqdm(general):\n",
    "    board = chess.Board()\n",
    "    scores = []\n",
    "    \n",
    "    try:\n",
    "        game.split(' ')\n",
    "    except:\n",
    "        continue\n",
    "\n",
    "    for i, move in enumerate(game.split(' ')):\n",
    "        try:\n",
    "            move = board.parse_san(move)\n",
    "        except:\n",
    "            #legal_moves = list(board.legal_moves)\n",
    "            #random.shuffle(legal_moves)\n",
    "            #move = legal_moves[0]\n",
    "            result = engine.play(board, chess.engine.Limit(time=0.0001))\n",
    "            move = result.move\n",
    "            \n",
    "        if move is None:\n",
    "            break\n",
    "\n",
    "        info = engine.analyse(board, chess.engine.Limit(time=0.01), root_moves=[move])\n",
    "\n",
    "        try:\n",
    "            t = int(info['score'].white().score())\n",
    "        except:\n",
    "            t = str(info['score'].white())\n",
    "            if t.startswith('#+'):\n",
    "                t = 10\n",
    "            elif t.startswith('#-'):\n",
    "                t = -10\n",
    "            else:\n",
    "                assert False, 'Wrong score generated'\n",
    "        scores.append(t/100)\n",
    "\n",
    "        board.push(move)\n",
    "        \n",
    "    all_scores += [scores]"
   ]
  },
  {
   "cell_type": "code",
   "execution_count": 13,
   "id": "3b2c63dd",
   "metadata": {},
   "outputs": [],
   "source": [
    "import numpy as np\n",
    "import matplotlib.pylab as plt"
   ]
  },
  {
   "cell_type": "code",
   "execution_count": 14,
   "id": "391649a5",
   "metadata": {},
   "outputs": [
    {
     "data": {
      "image/png": "[encoded data removed]",
      "text/plain": [
       "<Figure size 936x576 with 1 Axes>"
      ]
     },
     "metadata": {
      "needs_background": "light"
     },
     "output_type": "display_data"
    }
   ],
   "source": [
    "pd.DataFrame(all_scores).mean().plot(figsize = (13, 8))\n",
    "plt.yticks(range(-5,80,5));"
   ]
  },
  {
   "cell_type": "code",
   "execution_count": 15,
   "id": "3c0fffb1",
   "metadata": {},
   "outputs": [
    {
     "data": {
      "text/plain": [
       "count    123.000000\n",
       "mean       0.643617\n",
       "std        3.201858\n",
       "min       -1.500492\n",
       "25%       -0.389598\n",
       "50%        0.295973\n",
       "75%        0.843099\n",
       "max       32.965000\n",
       "dtype: float64"
      ]
     },
     "execution_count": 15,
     "metadata": {},
     "output_type": "execute_result"
    }
   ],
   "source": [
    "pd.DataFrame(all_scores).mean().describe()"
   ]
  },
  {
   "cell_type": "markdown",
   "id": "a1912f48",
   "metadata": {},
   "source": [
    "pd.DataFrame(all_scores).to_csv('baseline_stockfish_scores.csv', index = False)"
   ]
  },
  {
   "cell_type": "markdown",
   "id": "61daedd4",
   "metadata": {},
   "source": [
    "# Read Scores"
   ]
  },
  {
   "cell_type": "code",
   "execution_count": null,
   "id": "73d83848",
   "metadata": {},
   "outputs": [],
   "source": [
    "import pandas as pd\n",
    "df = pd.read_csv('gpt_general_stockfish_scores.csv')\n",
    "df.mean().plot(figsize = (13, 8))\n",
    "plt.yticks(range(-5,80,5), range(-5,80,5))\n",
    "plt.show()"
   ]
  },
  {
   "cell_type": "code",
   "execution_count": null,
   "id": "c0dea949",
   "metadata": {},
   "outputs": [],
   "source": [
    "df = pd.read_csv('baseline_stockfish_scores.csv')\n",
    "df.mean().plot(figsize = (13, 8))\n",
    "plt.yticks(range(-10,20,2))\n",
    "plt.show()"
   ]
  },
  {
   "cell_type": "code",
   "execution_count": null,
   "id": "1994e950",
   "metadata": {},
   "outputs": [],
   "source": [
    "plt.xticks?"
   ]
  },
  {
   "cell_type": "code",
   "execution_count": null,
   "id": "0d091681",
   "metadata": {},
   "outputs": [],
   "source": []
  },
  {
   "cell_type": "code",
   "execution_count": null,
   "id": "4675d2eb",
   "metadata": {},
   "outputs": [],
   "source": []
  }
 ],
 "metadata": {
  "kernelspec": {
   "display_name": "Python 3 (ipykernel)",
   "language": "python",
   "name": "python3"
  },
  "language_info": {
   "codemirror_mode": {
    "name": "ipython",
    "version": 3
   },
   "file_extension": ".py",
   "mimetype": "text/x-python",
   "name": "python",
   "nbconvert_exporter": "python",
   "pygments_lexer": "ipython3",
   "version": "3.7.10"
  }
 },
 "nbformat": 4,
 "nbformat_minor": 5
}
