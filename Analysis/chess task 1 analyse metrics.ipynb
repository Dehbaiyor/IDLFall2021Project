{
 "cells": [
  {
   "cell_type": "code",
   "execution_count": 1,
   "id": "df0ca496",
   "metadata": {},
   "outputs": [],
   "source": [
    "import pandas as pd\n",
    "import chess\n",
    "from tqdm import tqdm"
   ]
  },
  {
   "cell_type": "code",
   "execution_count": 2,
   "id": "7435f7a0",
   "metadata": {},
   "outputs": [],
   "source": [
    "prompted = pd.read_csv('prompted_chess_mixed.csv').T.values.flatten().tolist()\n",
    "general = pd.read_csv('general_chess_mixed.csv').T.values.flatten().tolist()"
   ]
  },
  {
   "cell_type": "code",
   "execution_count": 3,
   "id": "00085fab",
   "metadata": {},
   "outputs": [
    {
     "data": {
      "text/plain": [
       "50000"
      ]
     },
     "execution_count": 3,
     "metadata": {},
     "output_type": "execute_result"
    }
   ],
   "source": [
    "len(prompted) + len(general)"
   ]
  },
  {
   "cell_type": "markdown",
   "id": "4794b1bc",
   "metadata": {},
   "source": [
    "# Prompted"
   ]
  },
  {
   "cell_type": "code",
   "execution_count": 5,
   "id": "e7243cdd",
   "metadata": {
    "scrolled": false
   },
   "outputs": [
    {
     "name": "stderr",
     "output_type": "stream",
     "text": [
      "100%|████████████████████████████████████████████████████████████████████████████| 30000/30000 [30:55<00:00, 16.17it/s]\n"
     ]
    }
   ],
   "source": [
    "global_moves = 0\n",
    "global_illegal = 0\n",
    "generate_after_game_end = 0\n",
    "illegal_moves_number = 0\n",
    "\n",
    "for line in tqdm(prompted):\n",
    "    try:\n",
    "        moves = line.split()[:-1]\n",
    "    except:\n",
    "        continue\n",
    "        \n",
    "    board = chess.Board()\n",
    "\n",
    "    illegal = 0\n",
    "\n",
    "    for i, move in enumerate(moves):\n",
    "        try:\n",
    "            move = board.parse_san(move)\n",
    "        except:\n",
    "            legal_moves = list(board.legal_moves)\n",
    "            if len(legal_moves) == 0:\n",
    "                #display(board)\n",
    "                generate_after_game_end += 1\n",
    "                break\n",
    "            move = legal_moves[0]\n",
    "            illegal += 1\n",
    "            illegal_moves_number += (i+1)\n",
    "\n",
    "        board.push(move)\n",
    "        #display(board)\n",
    "\n",
    "    #print('Total number of moves; ', len(lines))\n",
    "    #aprint('Total number of illegal: ', illegal)\n",
    "    #display(board)\n",
    "    global_moves += len(moves)\n",
    "    global_illegal += illegal\n",
    "    "
   ]
  },
  {
   "cell_type": "code",
   "execution_count": 6,
   "id": "a89c6fd6",
   "metadata": {},
   "outputs": [
    {
     "name": "stdout",
     "output_type": "stream",
     "text": [
      "Proportion of illegal moves generated:  0.5990243560630157\n",
      "Áverage number of moves of illegal moves generated:  69.01568951576493\n",
      "Proportion of missed end state:  0.019633333333333332\n",
      "Average number of moves in game:  108.4617\n"
     ]
    }
   ],
   "source": [
    "print('Proportion of illegal moves generated: ', global_illegal/ global_moves)\n",
    "print('Áverage number of moves of illegal moves generated: ', illegal_moves_number/global_illegal)\n",
    "print('Proportion of missed end state: ', generate_after_game_end/len(prompted))\n",
    "print('Average number of moves in game: ', global_moves/len(prompted))"
   ]
  },
  {
   "cell_type": "markdown",
   "id": "e9d04427",
   "metadata": {},
   "source": [
    "# General"
   ]
  },
  {
   "cell_type": "code",
   "execution_count": 9,
   "id": "f9d42551",
   "metadata": {},
   "outputs": [
    {
     "name": "stderr",
     "output_type": "stream",
     "text": [
      "100%|████████████████████████████████████████████████████████████████████████████| 20000/20000 [07:00<00:00, 47.55it/s]\n"
     ]
    }
   ],
   "source": [
    "global_moves = 0\n",
    "global_illegal = 0\n",
    "generate_after_game_end = 0\n",
    "illegal_moves_number = 0\n",
    "\n",
    "for line in tqdm(general):\n",
    "    try:\n",
    "        moves = line.split()[:-1]\n",
    "    except:\n",
    "        continue\n",
    "        \n",
    "    board = chess.Board()\n",
    "\n",
    "    illegal = 0\n",
    "\n",
    "    for i, move in enumerate(moves):\n",
    "        try:\n",
    "            move = board.parse_san(move)\n",
    "        except:\n",
    "            legal_moves = list(board.legal_moves)\n",
    "            if len(legal_moves) == 0:\n",
    "                #display(board)\n",
    "                generate_after_game_end += 1\n",
    "                break\n",
    "            move = legal_moves[0]\n",
    "            illegal += 1\n",
    "            illegal_moves_number += (i+1)\n",
    "\n",
    "        board.push(move)\n",
    "        #display(board)\n",
    "\n",
    "    #print('Total number of moves; ', len(lines))\n",
    "    #aprint('Total number of illegal: ', illegal)\n",
    "    #display(board)\n",
    "    global_moves += len(moves)\n",
    "    global_illegal += illegal\n",
    "    "
   ]
  },
  {
   "cell_type": "code",
   "execution_count": 10,
   "id": "10085f89",
   "metadata": {},
   "outputs": [
    {
     "name": "stdout",
     "output_type": "stream",
     "text": [
      "Proportion of illegal moves generated:  0.6002901399477277\n",
      "Áverage number of moves of illegal moves generated:  67.66340374273908\n",
      "Proportion of missed end state:  0.00835\n",
      "Average number of moves in game:  55.2492\n"
     ]
    }
   ],
   "source": [
    "print('Proportion of illegal moves generated: ', global_illegal/ global_moves)\n",
    "print('Áverage number of moves of illegal moves generated: ', illegal_moves_number/global_illegal)\n",
    "print('Proportion of missed end state: ', generate_after_game_end/len(general))\n",
    "print('Average number of moves in game: ', global_moves/len(general))"
   ]
  },
  {
   "cell_type": "code",
   "execution_count": 11,
   "id": "9c4d0fd9",
   "metadata": {},
   "outputs": [
    {
     "data": {
      "text/plain": [
       "0.006"
      ]
     },
     "execution_count": 11,
     "metadata": {},
     "output_type": "execute_result"
    }
   ],
   "source": [
    "60/10000"
   ]
  },
  {
   "cell_type": "code",
   "execution_count": null,
   "id": "7c95fe04",
   "metadata": {},
   "outputs": [],
   "source": []
  }
 ],
 "metadata": {
  "kernelspec": {
   "display_name": "Python 3 (ipykernel)",
   "language": "python",
   "name": "python3"
  },
  "language_info": {
   "codemirror_mode": {
    "name": "ipython",
    "version": 3
   },
   "file_extension": ".py",
   "mimetype": "text/x-python",
   "name": "python",
   "nbconvert_exporter": "python",
   "pygments_lexer": "ipython3",
   "version": "3.7.10"
  }
 },
 "nbformat": 4,
 "nbformat_minor": 5
}
