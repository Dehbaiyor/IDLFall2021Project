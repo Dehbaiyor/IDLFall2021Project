{
 "cells": [
  {
   "cell_type": "markdown",
   "metadata": {
    "id": "Ul52VwW2D-IX"
   },
   "source": [
    "## Loading the libraries"
   ]
  },
  {
   "cell_type": "code",
   "execution_count": 1,
   "metadata": {
    "colab": {
     "base_uri": "https://localhost:8080/"
    },
    "executionInfo": {
     "elapsed": 14177,
     "status": "ok",
     "timestamp": 1632734285417,
     "user": {
      "displayName": "Eduardo Muñoz Sala",
      "photoUrl": "https://lh3.googleusercontent.com/a-/AOh14Gi9gTFB7xfdxQyNiKRUzqE5vwb9WQjQuMtQz5F16w=s64",
      "userId": "13317831924226771761"
     },
     "user_tz": -120
    },
    "id": "IWWLMcr0Yosy",
    "outputId": "467d3f2b-ec16-4801-93fb-fd13f31b263c"
   },
   "outputs": [],
   "source": [
    "import datasets\n",
    "import transformers\n",
    "import pandas as pd\n",
    "from datasets import Dataset\n",
    "\n",
    "#Tokenizer\n",
    "from transformers import RobertaTokenizerFast\n",
    "\n",
    "#Encoder-Decoder Model\n",
    "from transformers import EncoderDecoderModel\n",
    "\n",
    "\n",
    "from transformers import Seq2SeqTrainer\n",
    "from transformers import Seq2SeqTrainingArguments\n",
    "from dataclasses import dataclass, field\n",
    "from typing import Optional\n",
    "\n",
    "import os"
   ]
  },
  {
   "cell_type": "code",
   "execution_count": 2,
   "metadata": {
    "colab": {
     "base_uri": "https://localhost:8080/"
    },
    "executionInfo": {
     "elapsed": 3659,
     "status": "ok",
     "timestamp": 1612897968696,
     "user": {
      "displayName": "Eduardo Muñoz Sala",
      "photoUrl": "https://lh3.googleusercontent.com/a-/AOh14Gi9gTFB7xfdxQyNiKRUzqE5vwb9WQjQuMtQz5F16w=s64",
      "userId": "13317831924226771761"
     },
     "user_tz": -60
    },
    "id": "80cdTzPRrJPg",
    "outputId": "df5d278b-e627-45fb-ee8b-90ccbac1a3ae"
   },
   "outputs": [
    {
     "name": "stderr",
     "output_type": "stream",
     "text": [
      "The following encoder weights were not tied to the decoder ['roberta/pooler']\n",
      "The following encoder weights were not tied to the decoder ['roberta/pooler']\n"
     ]
    }
   ],
   "source": [
    "from transformers import RobertaTokenizer, RobertaForCausalLM, RobertaConfig\n",
    "import torch\n",
    "\n",
    "tokenizer = RobertaTokenizer.from_pretrained('chess_task1_bert_finetuned')\n",
    "model = EncoderDecoderModel.from_pretrained('chess_task1_bert_finetuned')"
   ]
  },
  {
   "cell_type": "code",
   "execution_count": 4,
   "metadata": {},
   "outputs": [
    {
     "name": "stderr",
     "output_type": "stream",
     "text": [
      "c:\\users\\oshingabesan adebayo\\.conda\\envs\\final_qg\\lib\\site-packages\\transformers\\generation_utils.py:2138: UserWarning: __floordiv__ is deprecated, and its behavior will change in a future version of pytorch. It currently rounds toward 0 (like the 'trunc' function NOT 'floor'). This results in incorrect rounding for negative values. To keep the current behavior, use torch.div(a, b, rounding_mode='trunc'), or for actual floor division, use torch.div(a, b, rounding_mode='floor').\n",
      "  next_indices = next_tokens // vocab_size\n"
     ]
    },
    {
     "name": "stdout",
     "output_type": "stream",
     "text": [
      "Output:\n",
      "----------------------------------------------------------------------------------------------------\n",
      "0:  Bd Kd RdN QcKecch Rfc Rabbbdb Qhg Qcbef Qfxe Rdxb Qcg Qdxffe Qfccb Rexfdh Rcxf Kxb Qge Qbgdc Nde Qec Rgxe Qdxe Qfe Ndxf Ngh Qeh Raxh Unity Rhxb Qbxb Nbxa']][ :coupquantities recalculateusb flash\n",
      "1: +agef Qfxe RbxgNc Rcxf Be * :657 Khb Qge Nxddde fxe ffhexcbgdf Rgxd NfhRe Rdxf Rcxgfa Rdxg Qexf Rcxh Qdege Qaf Ncxa Qbxe Rgxb RexeDecoderedstackcompilexrootObject caorgs\n",
      "2:  Bd Kd RdN QcKecch Rfcce Rdxcabcccb Qhh Rexfdh Qed Rba Rhxg Rdxe * Nxg=\n",
      "3: +Kd Qfxg Qgd Nexfcghc Ngxf Nxfbg\n",
      "4:  eRef Nfxdedcbdh Qedhg Qab Rfcchec Kd Rd Qxc\n",
      "5:  BeRe Rfe Ngf NgxfNahd Nxc Rexhge Nge Ne=\n",
      "6: +agef Qfxehc NgxfNa Rxg e g Rfd cxd exd exf Nxa=\n",
      "7:  Bd Kd RdN QcKecch Rfcce Rdxcabcccb Rexf Qgb NfhBe Rhxd Qbxc Qhxh Ncxa Qbxe Qga Rhxgxh Qdc Rcxf Bgfh Qhb Nbxa Ncxbef Rgxf Qaxa\n",
      "8:  Bd Kd RdN QcKech : Rxh Rdg h ahb Qafge Rexc Qdxc Qbg Qcxf Rcg Qdxe Qfe Ndxf=\n",
      "9:  Bd Kd RdN QcKecch Rfc Rabbbdb Qhggh Qcbag Ndxbef Qfxe Rdxb Qcg Qdxffe Qfccb Rexfdh Qca Rcxh Qde Qba RexcKd Qfxg Qhxh Qbxcdg Rdxc Qdc Qdg exfencoded Qbh Rb SyntaxErrorCOMMUNIrdflibcitation chn\n",
      "10: +Kd Qfxg Qgd Nexfcghc Ngxf Nxfbg\n",
      "11:  eRef NfxdedghRed QfxgKd Rexc Qeb Rfxd\n",
      "12:  Bd Kd RdN QcKech : Rxh Bxfbd Rhxehc NgxfNahd Nxc Rexhge Rexc Qgd Rfxg\n",
      "13:  eRef Nfxdedcbdh QedBc Bxg *\n",
      "14:  eRef NfxdedghRed QfxgKd Rexc Qeb Rch Be Kc QcKec Qfb Qdxc Qbgdc Nxc Rexh Nbxaaf f\n",
      "15: +agef Qfxe Qae NfxdRef Ngxe Qhd Qhe Rgb Qec Qfg Qhcbf Qgxg f\n",
      "16: +agef Qfxehc NgxfNa Qbd Rcxf Be Qab Rfcchec NfxdRef Qxebe Qxh Rab Rdxb Rhxgxh Qdchf Nfh Rdxf Rcxgfa Rdxg Qexfee Ndedc Qbg Qdxd Rfedg\n",
      "17: +Kd Qfxg Qgd Nexfcghc Ngxf Nxfbg\n",
      "18:  Bd Kd RdN QcKecch Rfc Rabbbdb Qhggh Qcbag Ndxbef Qfxe Rdxb Qcg Qdxffe Qfccb Rexfdh Qca Rcxh Qde Qba RexcKd Qfxg Qhxh Qbxc Qexe exf\n",
      "19: +agef Qfxe Qch Qhc QbfggNeg Rbxh Rexh Nbxa Qbg Qdxddc Nde Qec Kgfd Rcxc Qexfee Rfcch Ke Qdege Rhd Rhxgxh Qdc Rcxfdg\n",
      "20:  Bd Kd Rd Bxb Kc QcKecch Rfc Rab Raf Qg Qxh Qh Rdd Rdxa Qac Rbxfac Rgh Qff Qdxf :65812 ffhexc Rhd Rhxg Rdxe Qde Qba Rgxc Qfxflicitudlibvirtorte Qbh Rhxb RfxhbackupTAX backendsapproximant\n",
      "21: +Kd Qfxg Qgd Rfxg cxdKec Kd Rd Bxbbb Be Kc Qcd Nxd RhxdNeg Rbxh Naxb Qcxd Qdxf\n",
      "22: +Kd Qfxg Qgd Nexfcghc Ngxf Nxfbg\n",
      "23: +agef Qfxehc NgxfNa Qbd Rcxf Be Qab Rfcchec NfxdRef Qxebe Qxh Rab Rdxb Rhxgxh Qdchf Nfh Rdxf Rcxgfa Rdxg Qexfee Ndedc Qbg Qdxd Rexe Qda Rexadg\n",
      "24: +agef Qfxehc NgxfNa Qbd Rcxf Be Qab Rfcchec NfxdRef Qxebe Qxh exf Nxa=\n",
      "25: +agef Qfxe Qch Qhc QbfggNeg Rbxh Rexh RaxfRb Qcchf Rcxgfa Qab Rbxbxh QxebeK Qc Qace Rdxc Qdh * :6 Kd Qf ffhexc Rfd Bh\n",
      "26:  BeRe hxcec NfxdRef Ngxe Qef Rgxh Qfccb Qhh Qfxf Nbxa Qbg Qdxddc Nxc Rexh Rbxh Qca Rcxh Qbxcdg Raxghf Nfh RaxhKd Qfxg Qhxh Ncxa Rcxgfa Qab Rbxb Qfb Reh Ncscope Qbxb Kdfb Nfworkers pcs tqdmceden\n",
      "27:  eRef Nfxdedcbdh Qedhg Qab Rfcchec Kd Rd Qxc\n",
      "28:  Bd Kd RdNB * : Rxh Rdgde Kchf Nfh Rgxdgd Ndxf Rfxb Qexfee Ndedc Qbg Qcxfxd Rgxe Qdxd Rcxd Rdxf Qdege Rexh Nbxa Qxc\n",
      "29: +agef Qfxehc NgxfNa Qbd Rcxf Be Qab Rfcchec NfxdRef Qxebe Qxh exf Nxa=\n",
      "30: +agef Qfxe Qch Qhc QbfggNeg Rbxh Rexh Nbxa Qbg Qdxddc Nde Qec Kgfd Rcxc Qexfee Rfcch Ke Qdege Rhddh Rdxa Rcxf Qdc Rbxc Rbxfac Rghab\n",
      "31: +Kd Qfxg Qgd Nexfcghc Ngxf Nxfbg\n",
      "32:  Bded NfxdRef Ngxebc Nhf Qhe Qfd Rhxgxhde fxe\n",
      "33: +agef Qfxe Qch Qhc QbfggNeg Rbxh Rexh RaxfRb Qcchf Rcxgfa Qab Rbxbxh QxebeK Qcfe Rec Rdb Rcxf Qdc Rbxc Rfxb Qexfee Ndedc Qbg Qcxf Rdh\n",
      "34:  BeRe hxcxbKb Qfh Qeg Rbg Qhc QbfggNeg Rbxh Naxbef Rgxf Rhxgxh Qdc Rcxf Rdxa Rdd Qbxe Qga Qbxcdg Rdxcce Rexc Rexfdh Rdxd Qda Rdxg Qexfee Rfxbhc Ngxfbg Nbxgcf\n",
      "35: +Kd Qfxg Qgd Nexfcghc Ngxf Nxfbg\n",
      "36:  Bded NfxdRef Ngxe Qhd Qhe Rgb Qecdc Nxc Rexh Nbxaaf f\n",
      "37:  BeRe hxcec NfxdRef Ngxe Qef Qbe Qda Qdxcagef Rgxf Qaxa\n",
      "38: +agef Qfxe Qch Qhc QbfggNeg Rbxh Rexh Nbxa Qbg Qdxddc Nde Qec Kgfd Rcxc Qexfee Rfcch Ke Qdege Rhd Rhxgxhde fxe\n",
      "39:  eRef NfxdedghRed QfxgKd Rexc Qeb Rch Be QcKec Qfb Qdxcagef Rgxf Qaxa\n",
      "40: +Kd Qfxg Qgd Nexfcg Bxf Qdc Rcxf Bgfhexcbgdffc Reb Qcg Rbxfac Qda Rdxg Qexfee Ndedc Nxc Rexh RaxfRb Qcchf Rcxgfa Qab Rfcchec Kghe Qcb : KdNeg brokers]Reluate}}' Force\n",
      "41:  Bded NfxdRef Ngxe Qhd Qhe Qfd RhxgNd Rgcaf ffh\n",
      "42:  Bd Kd RdN QcKech Qae * :68ed Nbxa Qbg QcxfRb Qcchf Nfh Raxh Nhxg Qdege Rhd RhxgNd Rgc Rfxa Rhfagef Qfxe Rdxb Qexfee Rac Rbxb Rdxd Nfxh Ncxaerrores Qgxdaskchrome EPSILON extras(*,\n",
      "43:  Bd Kd RdNBhexcxb Rcc Qab Rfcchec Ne=\n",
      "44: +agef Qfxe Qch Qhc QbfggNeg Rbxh Rexh Nbxa Qbg Qdxddc Nde Qec exf Nxa=\n",
      "45:  Bd Kd RdN QcKecch Rfc Rabbbdb Nexc Ndxf Rdd Rdxa Qexe Qexc Nbxaef Rgxf Qaxa\n",
      "46: +agef Qfxe Qch Qhc QbfggNeg Rbxh Rexh Nbxa Qbg Qdxddc Nde Qec Kgfd Rcxc Qexfee Rfcch Ke Qdege Rhddh Rdxahf Rbg Qeb * :657\n",
      "47: +agef Qfxehc NgxfNa Rea Reg Q Rfb Rfe Qdxd Qbgdc Nxc Rexh Rexgxh Qdc Qcchf Rcxgfa Rdxg Qexfeecc Ned Qcfe Qdxf Qcxd Qbxe Rgxb Qae * :6 Qexedg Rdb QhcArcsec insertions autoscaleSectionselectrodeservice\n",
      "48: +Kd Qfxg Qgd Nexfcghc Ngxf Nxfbg\n",
      "49:  Bd Kd RdN QcKecch Rfc Rabbbdb Qhggh Qcbag Ndxbef Rgxf Raxg Rhxd Qbxc Qhxh Ncxa Qbxe Rhxg Rdxe Qde Qba Rcxc Qexfee Ndedc Rfg Qcdedcb QhhdhKd Qfxg sys Qfxb+':'+PORTSdence external sorts\n",
      "50: +Kd Qfxg Qgd Nexfcghc Ngxf Nxf Bxg * :65 h Kc Qcfe Qdxf Rcxg Qcg Rbxfac Rgh QffRe Rdxf Qdege Rhd Qab Rfcchec Qfb Nbxaaf Rbxg Ncxaab\n",
      "51: +agef Qfxe Qch Qhc QbfggNeg Rbxh Rexh Nbxa Qbg Qdxddc Nde Qec Kgfd Rcxc Qexfee Rfcch Ke Qdege Rhd Rhxgxh Qdc Rcxfdg\n",
      "52:  BeRe hxcxbNeef Rgxf Qaxa Qbxc RhxdNeg Rbxh Naxb Qfg Qhc Qaa Rda Qcb Raxg Rcg Rch * :6 Qc7\n",
      "53: +agef Qfxehc NgxfNa Qbd Rcxf Be Qab Rfcchec NfxdRef Qxebe Qxh exf Nxa=\n",
      "54: +Kd Qfxg Qgd Nexfcghc Ngxf Nxfbg\n",
      "55:  Bd Kd Rd Bxb Kc QcKecch Rfc Rab Raf Qg Qxh Qh Rdd Rdxa Qac Rbxfac Rgh Qff Qdxffe Qfccb Rexf Rcxf Qdc Rgxd Qgh Qed Qcg Rcxh Qbxc Rexc Qeb Rexh Rexg Raxg+6\n",
      "56:  eRef Nfxdedcb Rexfdh QedBc Bxg *\n",
      "57: +agef Qfxehc NgxfNa Qbd Rcxf Be Qab Rfcchec NfxdRef Qxebe Qxh exf Nxa=\n",
      "58:  BeRe hxcxbNeef Rgxf Qaxa Rgxb Qbgdc Nde Qec Rgxe Qdxe Rdxb Qcg Rbxfac Rghab Qge Bxf * :685 Kf Kc QcKec Qfb Qdxcag Ndxb Naxb Qch Nbxa\n",
      "59: +agef Qfxehc NgxfNa Qbd Rcxf Be Qab Rfcchec NfxdRef Qxebe Qxh exf Nxa=\n",
      "60:  Bd Kd RdN QcKecch Rfcce Rdxcabcccb Rexf Qgb Nfh Raxh Nhxg Qde Qba Rcxh Rexadg\n",
      "61:  eRef Nfxd Ncxdef RgxfBa Rag Kgfd Rcxc Qexfee Ndedc Nxc Rexhge RexcKd Qfxg Qhxh Qbxcdg\n",
      "62:  e Rxg Ncxdef Rgxf Rhxgxhde fxe ffhexcbgdf Rgxd Qdc Rcxf Qdd Rfxb Qexfee Rfcch Ke Rhxd Qbxc Qexe Qexc Nbxa Qxc\n",
      "63:  Bd Kd RdN QcKecch Rfc Rabbbdb Qhggh Qcbag Ndxbef Rgxf Raxg Rhxd Qbxc Qhxh Ncxa Qbxe Rhxg Rdxe Qde Qba Rcxc Qexfee Ndedc Rfg Qcddh Qed Rba Rdxa Rdd Qfegeomblctrlpts CREATEDisoformattaticrers\n",
      "64:  eRef NfxdedghRed QfxgKd Rexc Qeb Rch Be QcKec Qfb Qdxcagef Rgxf Qaxa\n",
      "65:  BeRe Rfe Ngf NgxfNahd Nxc Rexhge Nge Ne= : Rxh Qxd *Q Qfxeef Rgxf Qaxa\n",
      "66:  BeRe hxcxbNeef Rgxf Qaxa Rgxb Qbgdc Nde Qec Rgxe Qdxe Rdxb Qcg Rbxfac Rghab Qgeaa Nhf Ndf * :6 Kd Qd Qxc Nxc Rexh Qeb Rcxage Rhddh QcxfedDot Qdxf hnameminate discreiamResourceTypefixup\n",
      "67: +agef Qfxe Qae NfxdRef Ngxe Qhd Qhe Rgb Qec Qhcbfbb BeRe Rdxf Rcxgfa Qab Rfcchec Kd Qf ffh :6 QcK Kc Kfge Rhxehc NgxfNa\n",
      "68:  eRef Nfxdedcbdh Qedhg Qab Rfcchec Kd Rd Qxc\n",
      "69:  eRef NfxdedghRed QfxgKd Rexc Qeb Rch Be Kc QcKec Qfb Qdxc Qbgdc Ndeee Qexf Rcxh Qbxc Qhxh Qde Qba Rcxc Qedhg Rcxgfa Qab Rfcch Kehd Nxc Rexh pytz Qbxb Qhbshmount tagname''):TextCursor meminfo\n",
      "70: +Kd Qfxg Qgd Nexfcg Bxf Qdc Rcxf Bgfhexcbgdffc Reb Qcg Rdxb Qexfee Rfxb Qhxf Ncacfde KcK Qc7\n",
      "71: +Kd Qfxg Qgd Nexfcghc Ngxf Nxfbg\n",
      "72:  Bd Kd RdN QcKecch Rfc Rabbbdb Qhggh Qcbag Ndxbef Rgxf Raxg Rhxd Qbxc Qhxh Ncxa Qbxe Rhxg Rdxe Qde Qba Rcxc Qexfee Ndedc Rfg Qcddh Qed Rba Qexe Qexc Qga Qaf MaximumRulesSELECTION satisfysubmitted clib\n",
      "73: +agef Qfxe Qch Qhc QbfggNeg Rbxh Rexh Nbxa Qbg Qdxddc Nde Qec Kgfd Rcxc Qexfee Rfcch Ke Qdege Rhd Rhxgxh Rexg Raxgdg\n",
      "74: +agef Qfxe Ree Rexg Qdh * : Rxh Kd Qd Rba Rdxa Rcxgfa Rdxg Qexfee Ndedc Qbg Qcxfcb Rexf QedBc Rbf Qad Rexc Qbxc Qhxh NcxahfKe Qcg Rbxfac Rgh Qgxf Qea Rhxgpler Qee Nfxg Qxgdaily isstringThroughput\n",
      "75:  BeRe hxcxb Rgf Qbb Qgd Rfxg Qaxa\n",
      "76: +agef Qfxehc NgxfNa Qbd Rcxf Be Qab Rfcchec NfxdRef Qxebe Qxh exf Nxa=\n",
      "77: +agef Qfxe Qae NfxdRef Ngxe Qhd Qhe Rgb Qec Qfg Qhcbf Qgxg f\n",
      "78:  Bd Kd RdN QcKech Qae * :6+xc Qeff Rdxb Qcg Rcxgfa RdxgghRed Qfxg Qgd Nexf RexcKdhb Qaf Qhxh Ncxa Qbxe Rgxb Qbgdc Nde Qec Qfccb RexfRad2006 Qga dat ffm RelationshipGoogle$')\n",
      "79: +agef Qfxe Qae NfxdRef Ngxe Qhd Qhe Rgb Qec Qhcbfbb BeRe Rdxf Rcxgfa Qab Rfcchec Kd Qf f\n",
      "80:  Bd Kd RdN QcKecch Rfcce Rdxcabcccb Rexf Qgbhf Nfh Raxh Nhxg Qdege Rhd RhxgNd Rfxa Rhfagef Rgxf Qaxa\n",
      "81:  Bd Kd Rd BxbK Qc Ndbed NfxdRef NgxexcRcfc Qfd Rdxb Qcg Qdxffe Qfccb Rexf Qgbhf Rcxgfa Qab RbxbKebe Qxh Rabchec NdRed Qfxg Qhxh Qbxc Rexc Qbg Qgxf QcdSORTfl retaineduintFORBIDDENdemand\n",
      "82: +Kd Qfxg Qgd Nexfcghc Ngxf Nxfbg\n",
      "83: +Kd Qfxg Qgd Nexfcghc Rhxf Rbxc Qdc Rcxf Bgfhexc Nafc Rebhg Qab Qexfee Rfxb Qhxf RhxaRad Rccbe Qxh Rab81675 Qb Rcb Rgxe Qdxd Rdxb Qcxf Qgxe('%% Ngxh.)/(terraindividlookback 3600magn\n",
      "84: +Kd Qfxg Qgd Nexfcghc Ngxf Nxfbg\n",
      "85:  Bd Kd RdN QcKech Qae * :6+xc Qeff Rdxb Qcg Rcxgfa RdxgghRed Qfxg Qgd Nexf RexcKdhb Qaf Rhxege Rhd Qab Rfcch Keab Qge Rgxb Rgg QcdConfirm Bxd algoConfidencedlePOPsnr\n",
      "86: +agef Qfxe Qch Qhc QbfggNeg Rbxh Rexh Nbxa Qbg Qdxddc Nde Qec exf Nxa=\n",
      "87: +agef Qfxe Qch Qhc QbfggNeg Rbxh Rexh Nbxa Qbg Qdxddc Nde Qec Kgfd Rcxc Qexfee Rfcch Ke Qdege Rhddh Rdxa Rhxgxh Rexg Qdh Qaxa\n",
      "88: +Kd Qfxg Qgd Nexfcg Bxf Qdc Rcxf Bgfhexc Rfd6 :RN Bxbac Rghabbe Rcc Qab Rfcchec Qfb Qfxe Rdxb Qexfee Ndedc Qbg Qgxf Qcg Qedhg Rfxa Rahyaml argument * ecrete DETAILS80211assay\n",
      "89: +agef Qfxehc NgxfNa Qbd Rcxf Be Qab Rfcchec NfxdRef Qxebe Qxh exf Nxa=\n",
      "90: +agef Qfxe Qch Qhc QbfggNeg Rbxh Rexh Nbxa Qbg Qdxddc Nde Qec Kgfd Rcxc Qexfee Rfcch Ke Qdege Rhddh Rdxa Rhxgxh Rexg Bxchf Nfh RdxfRe Be Rgxb\n",
      "91: +agef Qfxehc NgxfNa Qbd Rcxf Be * :6 Qc Qxbbd Rgxg Qee Qcg Rbxfac Rgh Rdxf Rcxgfa Ncxa Qbxe Qfafe Qxadc Nde Qec Raxa NdRb Qcchf Rgxh\n",
      "92:  Bd Kd RdN QcKecch Rfcce Rdxcabbe Qxh Qh Rdd Qddhf Nfh Qac Rbxfac Rgh Qcg Rdxb Rhxg Rdxe * :6857\n",
      "93:  Bd Kd RdN QcKecch Rfc Rabbbdb Qhggh Qcbag Ndxbef Rgxf Rfxg\n",
      "94: +agef Qfxehc NgxfNa Qbd Rcxf Be Qab Rfcchec NfxdRef Qxebe Qxh exf Nxa=\n",
      "95:  Bd Kd RdN QcKecch Rfc Rabbbdb Qhggh Qcbag Ndxbef Qfxe Rdxb Qcg Qdxffe Qfccb Rexfdh Qca Rcxh Qbxc Qhxh Qdh * :6 Rxh Qxdaa Qgeab RghSpacer Qexded a@\\ geolib_** predecess\n",
      "96:  BeRe Rfe Ngf NgxfNahd Nxc Rexhge Nge Ne=\n",
      "97:  Bd Kd RdN QcKecch Rfc Rabbbdb Nexc Ndxf Nexf Rdxb Qcg Qdxffe Qfccb Rexfdh Qedhg Qab RbxbKe\n",
      "98: +agef Qfxe Qch Qhc QbfggNeg Rbxh Rexh RaxfRb Qcchf Rcxgfa Qab Rbxbxh QxebeK Qcfe Recce Rdxc Qdh * :685 g Kbec Kd RdxfRe Rcg                       \n",
      " Qexc Nbxa Bxc usesrestrictacfsymm\n",
      "99:  BdedghRed Qfxg QgcRef Ngxe RdxfRe Qab Rfcchecae Rfxd\n"
     ]
    }
   ],
   "source": [
    "# encode context the generation is conditioned on\n",
    "input_ids = tokenizer.encode('e4 : ', return_tensors='pt') #.to('cuda')\n",
    "\n",
    "# set top_k = 50 and set top_p = 0.95 and num_return_sequences = 3\n",
    "sample_outputs = model.generate(\n",
    "    input_ids,\n",
    "    do_sample=True, \n",
    "    max_length=50, \n",
    "    top_k=100, \n",
    "    top_p=0.9,\n",
    "    temperature=0.7,\n",
    "    num_return_sequences=100\n",
    ")\n",
    "\n",
    "print(\"Output:\\n\" + 100 * '-')\n",
    "for i, sample_output in enumerate(sample_outputs):\n",
    "  print(\"{}: {}\".format(i, tokenizer.decode(sample_output, skip_special_tokens=True)))"
   ]
  },
  {
   "cell_type": "code",
   "execution_count": 6,
   "metadata": {},
   "outputs": [
    {
     "name": "stdout",
     "output_type": "stream",
     "text": [
      "29\n"
     ]
    },
    {
     "name": "stderr",
     "output_type": "stream",
     "text": [
      "  3%|██▊                                                                                | 1/29 [00:19<09:13, 19.76s/it]"
     ]
    },
    {
     "name": "stdout",
     "output_type": "stream",
     "text": [
      "Output:\n",
      "----------------------------------------------------------------------------------------------------\n",
      "0: +agef RgxfKd Qfxg RagBc Bxg Qdege Raxf Rbxh Naxb Qag Nbxa Qbg Qcxf Rcg Qcb Rfxf Qff\n",
      "1: +Kd Qfxg RagBc Rbf Rhh Qbe Qda Rexe Qbxf Qbg Qcddh Qca Rcxh Qdege Rexc Qeb * :65 Kf Kchf Nfh Raxh Rbxg Qfxeef Rgxf Qaxa\n",
      "2: +bg\n",
      "3: +Kd Qfxg RagBc Bxg Qde Rcxe Qfd Qhg Qcb Raxg Rgxf Qaxa\n",
      "4:  eRef Nfxd Ncxdef Rgxfaf Qge Qbg Qcxf Rdh Qfc\n"
     ]
    },
    {
     "name": "stderr",
     "output_type": "stream",
     "text": [
      "\r",
      "  7%|█████▋                                                                             | 2/29 [00:41<09:30, 21.13s/it]"
     ]
    },
    {
     "name": "stdout",
     "output_type": "stream",
     "text": [
      "Output:\n",
      "----------------------------------------------------------------------------------------------------\n",
      "0:  Bded NfxdRefge Rhd Rfg Qec Ndedc Qbg+xcxb Rbxc Rbxfac Rgh Qff Ndxf Qfa Ncxa Qhxh Qbxcdg Raxg Rgxf Qaxa\n",
      "1: +agef Nabhg Qab Rbxbxh Rexg Qcxd Qbxeee Qexf Rcxh Qbxc\n",
      "2:  eRef Nfxdedcb QedBc Bxg *\n",
      "3:  eRef Nfxdedcbdh QedBc Bxg *\n",
      "4: +Kd Qfxg Rag Kgfd Rcxc Qexfee Redbb Be81657\n"
     ]
    },
    {
     "name": "stderr",
     "output_type": "stream",
     "text": [
      "\r",
      " 10%|████████▌                                                                          | 3/29 [01:03<09:14, 21.33s/it]"
     ]
    },
    {
     "name": "stdout",
     "output_type": "stream",
     "text": [
      "Output:\n",
      "----------------------------------------------------------------------------------------------------\n",
      "0: +agef Rgxf Qaxa\n",
      "1: +Kd Qfxg RagBc Bxg * :657\n",
      "2: +agef Rgxf Qaxa Qbxcdg RdxcRec Rdcac Rgh Rdxf Rcxg Rgbxe Qgf Rfxa Qcf Rhxhhg Qab Rbxbxh Qxebe Qxh Rab Rfc Bxg * :6 QcKec Qfb Rddf Rgxd Qgxg Nbxa startAtSetValueRETRYhell SETTINGSinalsmuch\n",
      "3:  BeRe aR6+=\n",
      "4:  Bd Kd RdN BxbKecchbb Nfxh Rhxeaf f\n"
     ]
    },
    {
     "name": "stderr",
     "output_type": "stream",
     "text": [
      "\r",
      " 14%|███████████▍                                                                       | 4/29 [01:27<09:16, 22.25s/it]"
     ]
    },
    {
     "name": "stdout",
     "output_type": "stream",
     "text": [
      "Output:\n",
      "----------------------------------------------------------------------------------------------------\n",
      "0: +agef Qfxe Qch Qhc QbfggNeg Rbxh Rexh Nbxa Qbgdc Nde Qec Raxa Rdxddh Rdxa Rhxgxhfe Qfccb Qhh Rdxg Qexfeecc Rfc Qab Ke Rhxd Qbxc Qhxh Ncxafa Rcxg Qcg sesExceededKd scatter pil EncryptedLinks Build                                \n",
      "1: +Kd Qfxg Qgc Qgxgbfbb Be QcKecch RfcRe RdxfKe\n",
      "2:  Bd Kd RdN BxbKecdc Qbg+xc Bxh Ngh Qeh Qbxc Qhxh Ncxa Qbxe Qga Rhxgxh Qdc Rcxf Bgfh Qhb Nfxg Qxg Nfxded Raxa Rcg Qdxe Rdxb Qcg Rfxb Qexfeewhereexc skipgetdata exf in timestamps('{{_)))prod purged\n",
      "3: +agef Qfxe Qch Qhc QbfggNeg Rbxh Rexh Nbxa Qbgdc Nde Qec Raxa Rdxddh Rdxa Rhxgxhfe Qfccb Qhh Rdxg QexfeeccNeKd Qfxghb Qaf Qcxd Qdxf :6aaaf f g notify pretrained/{ PrivateCurvesurences\n",
      "4: +Kd Qfxg Qgc Qgxgbfbb Be Qc Ndxe Ndcaf Rhxe Qbe Qda Kbec Qae Rexb :657\n"
     ]
    },
    {
     "name": "stderr",
     "output_type": "stream",
     "text": [
      "\r",
      " 17%|██████████████▎                                                                    | 5/29 [01:48<08:49, 22.06s/it]"
     ]
    },
    {
     "name": "stdout",
     "output_type": "stream",
     "text": [
      "Output:\n",
      "----------------------------------------------------------------------------------------------------\n",
      "0: +agef Qfxe Qch Qhc QbfggNeg Rbxh Rexh RaxfRb Qcchf Nfh Rch Be * :6 Kd Qf ffhexc Rfc Qab Rbxbxh Qxebe Qxh Rab Rdxb Qcg QdxfKd Qfxg Qbxe NcxaGINE Qeadadest advanced broken attrstiled\n",
      "1:  Bd Kd RdN QcKech Qae * :68ed Qfxf Nbxa Qbgdc Nxc Rexhge Rhxehc NgxfNa Qbd Rcxf Bgfhexc Rbcae RaxdRef Ngxebc Nhf Nxf=\n",
      "2: +agef Qfxehc NgxfNa Qbd Rcxf Be * : Kd RdN Bxbac Rghabbe Rcc Qab Rbxb Ndedc Qbg Qcxfxd Rgxe Qdxdbc Nhf Rexa Rcxh Qbxc Qhxhxhde fxe Qxebf Qfhneb Rhxg Rgxf range '.ownloadsupervised\n",
      "3:  eff Rcb Qee Rexd Ndedc Qbg Qcd Qfccb Qhh Rdg6 : Rxh Kd RdN Bxbac Rghab\n",
      "4: +Kd Qfxg RagBc Bxg * :657\n"
     ]
    },
    {
     "name": "stderr",
     "output_type": "stream",
     "text": [
      "\r",
      " 21%|█████████████████▏                                                                 | 6/29 [02:11<08:34, 22.36s/it]"
     ]
    },
    {
     "name": "stdout",
     "output_type": "stream",
     "text": [
      "Output:\n",
      "----------------------------------------------------------------------------------------------------\n",
      "0:  BeRecb Qhh Rexfdh Rcxf Kxbge Rhxehc Bxf * : Rxh Kd Qf ffhexcbgdf Rgxd Qgh Qedhg Qab Qde Qba Rcxc Qexfee Rfxb Raxg Rgxf Qaxa\n",
      "1:  BeRecb Qhh Rexfdh Rcxf Kxbge Rexc Qeb cxdQce Rdxc Qae NfxdRef Ngxexcxb Rcc Qab Qde Qba Rgxc Qcchf Rgxf Qaxa\n",
      "2:  Bd Kd Rddfbg\n",
      "3: +Kd Qfxg Qgc Qgxgbfbb Be Qc Ndxe Ndcaf Rhxege Raxf Rexa Rcxh QexfeeccRec Rdxcdg\n",
      "4:  Bded NfxdRef Ngxe Rdxf Nfh Rch Bedfac RghRec Rdxcce Rexc Qdxcagef Rgxf Qaxa\n"
     ]
    },
    {
     "name": "stderr",
     "output_type": "stream",
     "text": [
      "\r",
      " 24%|████████████████████                                                               | 7/29 [02:35<08:24, 22.93s/it]"
     ]
    },
    {
     "name": "stdout",
     "output_type": "stream",
     "text": [
      "Output:\n",
      "----------------------------------------------------------------------------------------------------\n",
      "0: +Kd Qfxg Qhxh Ncxa Qac Rbxfac Rgh QffRe Be Qd Rba Rhxgxh RexgRb Qcchf Rgxh Qfccb Rexfdh Rcxf KxbRab Qba Rcxc Qexfee Ndedc Qbg Qgxf Rgxb Qae * : Kd outiexc2signyellow irsloop independent\n",
      "1: +Kd Qfxg Qhxh Ncxa Qac Rbxfac Rgh QffRe Be QcKec Qae * :681xf Rfh Nhxf Qbxc Qexe exffe Rec Rdb Rexa Rcxh Qexfee Ndedc Nxc Rexh Rexg QcxdGL Qbxb Qbh '{'attrgetterZEDproposal doycollisions\n",
      "2:  Bd Kd RdN QcKecce Rexc Qeb Rch * : Rxh6857\n",
      "3:  edc Ndeee Rfcchec Qae *\n",
      "4:  Bd Kd RdN QcKech Qae * Rch Rexc Rexf Qhhcb Qed Rgxg Qee Qcg Rbxfac Rghab\n"
     ]
    },
    {
     "name": "stderr",
     "output_type": "stream",
     "text": [
      "\r",
      " 28%|██████████████████████▉                                                            | 8/29 [03:00<08:14, 23.55s/it]"
     ]
    },
    {
     "name": "stdout",
     "output_type": "stream",
     "text": [
      "Output:\n",
      "----------------------------------------------------------------------------------------------------\n",
      "0:  eRef NfxdedghRed Qfxg Qhxh Qbxcdg Rdxcce Rexc Qeb * : Rxh657\n",
      "1:  eRef Nfxdedcb QedBc Rbf Rbxc Nhxfgf Rca Qfe Rexc RexfdhKb Qfhbf Qgxg Nbxa Qbg Qcxf Qhb Bg Qxh Rabch Rfc Qab Qde Qba Qdg Rdxe * :65ab\n",
      "2:  Bd Ndf *xh BxgBc Rbf Nfxh Qfxf Qhe Rexa Rcxh Qbxc RhxdNeg Rbxh Naxbef Rgxf Raxg Nbxa Qbg Qcxfbd Rgxg Qee Qcg Rbxfac Rgh Qff Ndxf Rfxb Rbxc Rbe Qcf Rhxh Rgc Qdxedc QcKcsugafuncNameProcessId])[:, consequence wizard\n",
      "3: +Kd Qfxg Qhxh Ncxa Qac Rbxfac BxbK Qc\n",
      "4:  eRef NfxdedghRed Qfxg Qhxh Qbxcdg Rdxcce Rexc Qeb * : Rxh657\n"
     ]
    },
    {
     "name": "stderr",
     "output_type": "stream",
     "text": [
      "\r",
      " 31%|█████████████████████████▊                                                         | 9/29 [03:27<08:09, 24.48s/it]"
     ]
    },
    {
     "name": "stdout",
     "output_type": "stream",
     "text": [
      "Output:\n",
      "----------------------------------------------------------------------------------------------------\n",
      "0:  Bd Kd RdNBhexcxb Rbxc Nhxfgf RcaNeg Rbxh Naxbef Rgxf Qaxa\n",
      "1:  Bded NfxdRefge Rhd Rhxgxh Qdchf Nfh Rch * :657\n",
      "2: +Kd Qfxg RagBc Rbf Rhh Qbe Qda Qbxf Qbg Qcddh Qca Rcxh Qba Rgxc Qcchf Nfh Rch * :6 Kd Qf ffh Qhb Qcxfcb Qhh Rdxg Qcg Rdxb Qfxeef Rgxf Rfxg\n",
      "3: +agef RgxfKd Qfxg RagBc Bxg * :6 Kd Rd Rbxfac Rghab\n",
      "4: +agef RgxfKd Qfxg RagBc Bxg * :657\n"
     ]
    },
    {
     "name": "stderr",
     "output_type": "stream",
     "text": [
      "\r",
      " 34%|████████████████████████████▎                                                     | 10/29 [03:58<08:22, 26.45s/it]"
     ]
    },
    {
     "name": "stdout",
     "output_type": "stream",
     "text": [
      "Output:\n",
      "----------------------------------------------------------------------------------------------------\n",
      "0: + c Qbf Ndxbagef Rgxf Qaxa Qbxcdg Rdxc RfhRb Qcchf NfhBe RhxdNeg Rbxh Naxb Qfg Rexg * :6=\n",
      "1:  eRef Nfxdedcbdh QedBc Rbf Qad Rexc Qeb Qfb Nbxa Rgxf Qaxa\n",
      "2: +Kd Qfxg Qgd Rfxg cxdKec Qfbhc NgxfNa Rxg hxg=\n",
      "3:  eRef Nfxdedab QgebeK Qcfe Qdxf :681xf Qde Qba Rexc Qeb Rcxage Rhd Rhxgxh Qdc Rcxf Bgfh Qhb Qee Nfxg Qcf Qda Qexfee Ndxf Ngh Qeh Raxh Rgxb Polynomial QfccalibrateWorldPaired bokehlookspytype\n",
      "4:  eRef Nfxdedab QgebeK Qcfe Qdxf :681xf Qde Qba Rexc Qdxc Qbgdc Nxc Rexh Qae Rgxe Qexe Qexc Nbxa Qaxa\n"
     ]
    },
    {
     "name": "stderr",
     "output_type": "stream",
     "text": [
      "\r",
      " 38%|███████████████████████████████                                                   | 11/29 [04:29<08:24, 28.04s/it]"
     ]
    },
    {
     "name": "stdout",
     "output_type": "stream",
     "text": [
      "Output:\n",
      "----------------------------------------------------------------------------------------------------\n",
      "0: +agef Qfxe Qch Qhc QbfggNeg Rbxh Rexh Qaeh Nxa=\n",
      "1: +agef Qfxe Qch Qhc QbfggNeg Rbxh Rexh Qaeh Nxa=\n",
      "2:  e Rxg Ncxdef Rhxgxh Rexg Raxgdg\n",
      "3:  eRef NfxdedghRed QfxgKd Rexc Qeb Rch Be Kc Qc\n",
      "4: +agef QcbQg Rfxa Rhfce Rdxc RfhRb Qcchf Nfh Rgxd QghNeg Rbxh Naxb Qcxd Qbxe Qfa Ncxa Qhxh Qdh * :6 Kd Qf fff Rdxb Qcg Rbxf Qedhg Nfxh Qfxd gxf exf Nbxa imports Qgxd alleleQUA(_, {'... develop\n"
     ]
    },
    {
     "name": "stderr",
     "output_type": "stream",
     "text": [
      "\r",
      " 41%|█████████████████████████████████▉                                                | 12/29 [05:01<08:15, 29.13s/it]"
     ]
    },
    {
     "name": "stdout",
     "output_type": "stream",
     "text": [
      "Output:\n",
      "----------------------------------------------------------------------------------------------------\n",
      "0: +agef Qfxe Qch Qhc QbfggNeg Rbxh Rexh RaxfRb Qcchf Rdxa RhxgNd Rgc Rfxa Rbxbxh Qxebe Qxh Rab Rfcchec KdBe Rhxd Qbxcdg\n",
      "1: +agef Qfxe Qch Qhc QbfggNeg Rbxh Rexh RaxfRb Qcchf Rdxa RhxgNd Rgc Rfxa Rbxbxh Qxebe Qxh Rab Rfcchec KdBe Rhxd Qbxcdg\n",
      "2: +agef Qfxe Qch Qhc QbfggNeg Rbxh Rexh RaxfRb Qcchf Rdxa RhxgNd Rfxf Qff NdxfNh QcKecch Rfc Qab Rbxbxh Qxebe Qxh Rab85 Qhxh Qbxc Rhxd Qaxa Nbxadg allocate Qag Rgxb\n",
      "3: +agef Qfxe Qch Qhc QbfggNeg Rbxh Rexh RaxfRb Qcchf Rdxa RhxgNd Rfxf Qff NdxfNh QcKecch Rfc Qab Nfxhbb Be a16 Kd RdN Bxbcb Qhh QgxeKe %- Qaxduals \"\"] fwdrough='\"\"+\n",
      "4:  BeRe Rfe Ngf Ndf Rhfagef Rgxf Qaxa\n"
     ]
    },
    {
     "name": "stderr",
     "output_type": "stream",
     "text": [
      "\r",
      " 45%|████████████████████████████████████▊                                             | 13/29 [05:33<07:59, 29.95s/it]"
     ]
    },
    {
     "name": "stdout",
     "output_type": "stream",
     "text": [
      "Output:\n",
      "----------------------------------------------------------------------------------------------------\n",
      "0: +agef RgxfKd Qfxg RagBc Bxg Qdege Raxf Qexfee Redbb Be Qc7\n",
      "1: +agef Qfxehc NgxfNa Qbd Rcxf Be Qab Rfcchec Nfxded Raxa Qec Ndedc Qbg Qgxf Rdxf Rcxg Qdxf Qcxd Qbxe Qfa Ncxa Qhxh Qbxcdg Rdb Rexa Rcxh Qexfee Rdeac Rgh NfgCOMSTR Qbxb Rexh QaeabIdentiinsertTextLoop\n",
      "2:  BeRecb Qhh Rhh RhxdNeg Rbxh Naxbef Rhxgxh * :6 QcKec Qfb Qdxc Qbgdc Nde Qec Rgxe Qdxe Rdxb Qcg Qcchf Rgxh Qhxh Ncxa Qbxe Qga Rcxh Qexfee Rfcccbf Qgxg enumerated Qcxd Qhd Ncd 47iirole\n",
      "3: +agef Qcb Rfxf Qff Qxd Nbxd Nxa=\n",
      "4: +agef Qfxe Qch Qhc QbfggNeg Rbxh Rexh Qae NfxdRef Ngxebc Nexc Ngxh Qcchf RdxaKd QfxgBa RagBc Bxg * :6 Qc7\n"
     ]
    },
    {
     "name": "stderr",
     "output_type": "stream",
     "text": [
      "\r",
      " 48%|███████████████████████████████████████▌                                          | 14/29 [06:04<07:34, 30.33s/it]"
     ]
    },
    {
     "name": "stdout",
     "output_type": "stream",
     "text": [
      "Output:\n",
      "----------------------------------------------------------------------------------------------------\n",
      "0:  Bd Kd RdN QcKecch Rfcce Rdxcab Qge Bxf Rgeaf Rhxegg Rbxa Rcxe Qdehb QafNeef Rgxf Qaxa\n",
      "1: +Kd Qfxg Qgd Nexfcghc RhxeNeg Qgh Qedhg Qab Rbxbxhde fxe\n",
      "2: +agef Qfxe Qae NfxdRef Ngxe Qhd QhebcNb Qdd Rfxb QexfeeccRec Rdxc Qdh * :6 QcKdd Nbxc Rbxh Naxb Qcxd Qdxf Rcxgfa Qab Rfcch Ke Qde Qac Qda Rhxg RcxhRamp Qcxb weather CallbackpitMerginganisotropy\n",
      "3:  eRef Nfxdedcbdh Qedhg Qab Rfcchecae Rfxd\n",
      "4: +agef Qfxe Qae NfxdRef Ngxe Qhd Qhe Rgb Qec Qhcbf Qgxg f\n"
     ]
    },
    {
     "name": "stderr",
     "output_type": "stream",
     "text": [
      "\r",
      " 52%|██████████████████████████████████████████▍                                       | 15/29 [06:35<07:07, 30.54s/it]"
     ]
    },
    {
     "name": "stdout",
     "output_type": "stream",
     "text": [
      "Output:\n",
      "----------------------------------------------------------------------------------------------------\n",
      "0: +agef Qfxe Qch Raxa Qec Qhc Nhxg QdeBc Bxg *\n",
      "1:  e Rxg Ncxdef RhxgNdNh Naxb Ncxbgdg\n",
      "2: +agef Qfxe Qch Raxa Qec Qhcbf Qgxg f\n",
      "3:  e Rxg Ncxdef RhxgNdNh Naxb Ncxbgdg\n",
      "4:  eRef NfxdedghRed Qfxg Qhxh Ncxa Qac RdxfRe Qab Rfcchecae Rfxd\n"
     ]
    },
    {
     "name": "stderr",
     "output_type": "stream",
     "text": [
      "\r",
      " 55%|█████████████████████████████████████████████▏                                    | 16/29 [07:07<06:42, 30.94s/it]"
     ]
    },
    {
     "name": "stdout",
     "output_type": "stream",
     "text": [
      "Output:\n",
      "----------------------------------------------------------------------------------------------------\n",
      "0: +agef Qfxe Qch Qhc QbfggNeg Rbxh Naxb Qcxd Qbxe Qfa Ncxa Qac Rbxfac Rgh QffRe Be * :6 Qc Qxa bxa Rfcchec Qfb Qdxc Qbgdc Nde Qef Qeh QbxcMAX QbxbRec Rdc Qbe Rgxc Qcfrectified}%'.RON\n",
      "1:  Bded NfxdRef Ngxe Qhd Qhe Qfd RhxgNd Rgcaf f\n",
      "2:  eRef Nfxded Ngh Qhfef RgxfBa RagBc Rbf Qad Rexc Qbxcdg\n",
      "3:  eRef NfxdedghRed QfxgKd Rexc Qeb Rch Be QcKec Qfb\n",
      "4: +agef RgxfKd Qfxg RagBc Bxg * :6 Qc7\n"
     ]
    },
    {
     "name": "stderr",
     "output_type": "stream",
     "text": [
      "\r",
      " 59%|████████████████████████████████████████████████                                  | 17/29 [07:38<06:13, 31.15s/it]"
     ]
    },
    {
     "name": "stdout",
     "output_type": "stream",
     "text": [
      "Output:\n",
      "----------------------------------------------------------------------------------------------------\n",
      "0:  eRef Nfxdedcb Rexfdh Qedhg Qab Rfcchecae Rfxd\n",
      "1:  Bd Kd RdN QcKecch Rfc Rabbb Qff\n",
      "2:  eRef Nfxdedcbdh Qedhg Qab Rfcchecae Rfxd\n",
      "3:  Bd Kd RdN Nedcccbed Raxa Qec Ndedc Qbg Qcddh QedBc Bxg Qdege RexcKd Qfxg Qaxa\n",
      "4:  e Rxg Ncxdef Rgxfdg Rdxcce RexcKd Qfxg Qgc Qgxgbf Qhe Rexa Rcxh Qexfee Ndedc Qbg Qcxfxd Rgxe RgxbK Qc7\n"
     ]
    },
    {
     "name": "stderr",
     "output_type": "stream",
     "text": [
      "\r",
      " 62%|██████████████████████████████████████████████████▉                               | 18/29 [08:13<05:53, 32.16s/it]"
     ]
    },
    {
     "name": "stdout",
     "output_type": "stream",
     "text": [
      "Output:\n",
      "----------------------------------------------------------------------------------------------------\n",
      "0: +agef Qfxe Qae NfxdRef Ngxe Qhd Qhe Rgb Qec exf Nxa=\n",
      "1:  Bded NfxdRefge Rhd Rhxgxh Qdchf Nfh Qfg Rgxh Qhxh Qbxcdg RdxcRec Rdcac Rgh Qff Qdxf Qcxd Qbxe Qfa Ncxa Qac RdxaKd Qfxg Qaxa\n",
      "2: +agef Qfxe Qch Qfbec NfxdRef Ngxe Qhd Qhebf Qgxg f\n",
      "3: +agef Qfxe Qch Qfbec NfxdRef Ngxe Qhd Qhe Rexadg RdxcRecccNe Rcxb Ngxh Qcchf Nfh RdxfRe Qab Rfcch Ke Rhxd Qbxc Qaxa\n",
      "4: +agef Qfxe Qch Raxa Qec Qfg QbfggNeg Rbxh Naxb Qcxd Qbxe Qcxc Qbgdc Ndeee Rfcchec Qfb Raxgdg\n"
     ]
    },
    {
     "name": "stderr",
     "output_type": "stream",
     "text": [
      "\r",
      " 66%|█████████████████████████████████████████████████████▋                            | 19/29 [08:46<05:23, 32.33s/it]"
     ]
    },
    {
     "name": "stdout",
     "output_type": "stream",
     "text": [
      "Output:\n",
      "----------------------------------------------------------------------------------------------------\n",
      "0:  eRef Nfxdedcbdh Qedhg Qab Rfcchecae Rfxd\n",
      "1: +Kd Qfxg Qhxh Ncxa Qac Rbxfac Rgh QffRe Be Qc7\n",
      "2:  eRef NfxdedghRed Qfxg Qhxh Ncxa Qac RdxfRe Qab Rfcchecae Rfxd\n",
      "3: +agef Qfxe Qch Raxa Qec Qhcbf Qhebc Nhf Qhd Qcddh Rdxd Qda Rdxg Qexfee Rfcchec Qae * : Rxh Kd Qf f\n",
      "4:  Bd Kd RdN QcKecch Rfcce Rdxc Rcbff Rdxb Qcg Qdege Qaf RbxhNeg Rhxd Rbxe Qaxa\n"
     ]
    },
    {
     "name": "stderr",
     "output_type": "stream",
     "text": [
      "\r",
      " 69%|████████████████████████████████████████████████████████▌                         | 20/29 [09:18<04:49, 32.20s/it]"
     ]
    },
    {
     "name": "stdout",
     "output_type": "stream",
     "text": [
      "Output:\n",
      "----------------------------------------------------------------------------------------------------\n",
      "0: +agef RgxfKd Qfxg RagBc Bxg * :6 Qc7\n",
      "1: +agef Qfxe Qch Raxa Qec Ndedc Qbg Qgxf Qcxfcb Qfc Rdeac Rgh QffRe Rdxf Rcxgfa Qab Rfcchec Qae *\n",
      "2: +agef RgxfKd Qfxg RagBc Bxg Qde Rcxe Qfd Rdxb Qcg Qdxf\n",
      "3: +Kd Qfxg Qhxh Ncxafa Qab Rfcchec NfxdRef Ngxe Qhd Qhe Rexadg\n",
      "4: +agef Qfxe RbxgNc Rca Qec Ndedc Qbg Qgxf Qcxfcb Rexfdh Rdxd Qda Nhxg Qdege RexcKd Qfxg RagBc Bxg * :6 Kd Qd Qxc QxebeK Qc7\n"
     ]
    },
    {
     "name": "stderr",
     "output_type": "stream",
     "text": [
      "\r",
      " 72%|███████████████████████████████████████████████████████████▍                      | 21/29 [09:59<04:38, 34.85s/it]"
     ]
    },
    {
     "name": "stdout",
     "output_type": "stream",
     "text": [
      "Output:\n",
      "----------------------------------------------------------------------------------------------------\n",
      "0: +Kd Qfxg Qgc Qgxg Qexfee Ndedc Qbgge Rexh Rbxh Naxbef Rgxf Qaxa\n",
      "1: +agef Qfxe Qch Qab Rbxbxhde fxe\n",
      "2: +agef Nabhg Qab Rbxbxh Rexg Qcxd Qbxe Rcxh Qbxc RhxdNeg Rbxh Naxb Qhbfh f Nbxa Qbg Qcxfbd Rgxg Qee Qcg QdxfKd Qfxg Qgd Rfxg\n",
      "3: +Kd Qfxg Qgc Qgxg Qexfee Ndedc Qbgge Qfccb Qhh Qfxfed NfxdRef Ngxe Qhd Qhe Rexa Rcxh Qba Rcxc Qedhg Qab Rfcchec Qae *\n",
      "4: +agef Qfxe Qch Qab Rbxbxhde fxe\n"
     ]
    },
    {
     "name": "stderr",
     "output_type": "stream",
     "text": [
      "\r",
      " 76%|██████████████████████████████████████████████████████████████▏                   | 22/29 [10:47<04:32, 38.89s/it]"
     ]
    },
    {
     "name": "stdout",
     "output_type": "stream",
     "text": [
      "Output:\n",
      "----------------------------------------------------------------------------------------------------\n",
      "0: +agef Qfxe Qch Raxa Qec Qfg RfhRb Rexg Qcxd Qexfee Rfcchec Qae *\n",
      "1: +Kd Qfxg Qhxh Ncxa Qac Rbxfac Rgh QffRe Be Qc7\n",
      "2: +agef Qfxe Qch Raxa Qec Qfg QbfggNeg Rbxh Naxb Qcxd Qbxe Qga Rhxgxh Qdc Rcxf Be * :6 Kd Qf ffhexc Rfc Qab Nfxh Rcxgfa Rdxg Qexfee Rdeac Rgh Rfxg Rbxg bugs Qcf QdaNqteWidgetcer cgroups\n",
      "3: +agef Qfxe Qch Qfbec Nfxd Qae Bxbbb Be QcK Rfcch Nhxg Raxh Qbxe Ncxa Qhxh Qbxcdg\n",
      "4: +agef Qfxe Qch Raxa Qec Qfg Qhcbf Rexa Rcxh Qexfee Rfcchec Qae *\n"
     ]
    },
    {
     "name": "stderr",
     "output_type": "stream",
     "text": [
      "\r",
      " 79%|█████████████████████████████████████████████████████████████████                 | 23/29 [11:25<03:51, 38.64s/it]"
     ]
    },
    {
     "name": "stdout",
     "output_type": "stream",
     "text": [
      "Output:\n",
      "----------------------------------------------------------------------------------------------------\n",
      "0:  Bd Kd Rd BxbKecch RfcRe Rdxf Nfh Raxh Rhxc Qbd\n",
      "1:  BeRecb Qhh Rexfdh Rcxf Kxb Qge Rcxage Rexc Qeb Rch * :6 Kd Qf f\n",
      "2: +Kd Qfxg Rag Kgfd Rcxc Qexfee Redbb BeRe Rdxf Rexadg\n",
      "3: +Kd Qfxg Rag Kgfd Rcxc Qexfee Redbb BeRe RdxfKe\n",
      "4: +agef RgxfKd Rexc Qbxc RhxdNeg Rbxh Naxb Qcxd Qag Rfxd\n"
     ]
    },
    {
     "name": "stderr",
     "output_type": "stream",
     "text": [
      "\r",
      " 83%|███████████████████████████████████████████████████████████████████▊              | 24/29 [12:12<03:25, 41.02s/it]"
     ]
    },
    {
     "name": "stdout",
     "output_type": "stream",
     "text": [
      "Output:\n",
      "----------------------------------------------------------------------------------------------------\n",
      "0: +agef RgxfKd Qfxg RagBc Bxg * :6 QcK Kchf Qcc Qcg Rbxfac Rgh QffRe Rdxf Rcxgfa Ncxa Qbxe Rhxgxh Rexg Raxgdg\n",
      "1: +agef RgxfBa RagBc Bxg * :657\n",
      "2:  BeRecb Qhh Rexfdh Rcxf Kxbge Rcxa Qeb cxdN Bxb Nxebgexcfh f\n",
      "3:  Bd Kd RdN QcKecch Rfcce Rdxcab Qgebe Qxh exf Qfe Ndxf Ngh Qeh Qbxc Qhxh Ncxa Qbxe Qga Rhxg Rdxe Qcg Rdxb Qfxeef Rgxf Qaxa\n",
      "4: +Kd Qfxg Qhxh Ncxa Qac Rbxfac BxbK Qc\n"
     ]
    },
    {
     "name": "stderr",
     "output_type": "stream",
     "text": [
      "\r",
      " 86%|██████████████████████████████████████████████████████████████████████▋           | 25/29 [12:49<02:39, 39.81s/it]"
     ]
    },
    {
     "name": "stdout",
     "output_type": "stream",
     "text": [
      "Output:\n",
      "----------------------------------------------------------------------------------------------------\n",
      "0:  Bd Kd Qd Rbagc N Nxfbgdfdg Raxgef Rgxf Qaxa\n",
      "1:  BeRecb Qhh Rexfdh Rcxf Kxb Qge Rcxage Rhxehc Ngxf Ndxf Qfa Ncxa Qbxe RhxgNd Rgcxd Rgxe Qdxedc Nde Kxg QcKec Qfb Qdxcagef Rgxf Rfxg\n",
      "2: + c QbfggNeg Rbxh Rexh Qaeh Nxa=\n",
      "3: +agef Qfxe Qch Qhc QbfggNeg Rbxh Rexh RaxfRb Qcchf Rdxa RhxgNd Rgc Rfxa Rbxbxh Qxebe Qxh Rabch Rfc Qab Nfxhbc Nhf Qhd=\n",
      "4:  Bd Kd RdN QcKecch RfcRe Rdxf Qdege Rhxehc NgxfNahd Nxc QedBc Bxg *57\n"
     ]
    },
    {
     "name": "stderr",
     "output_type": "stream",
     "text": [
      "\r",
      " 90%|█████████████████████████████████████████████████████████████████████████▌        | 26/29 [13:25<01:56, 38.89s/it]"
     ]
    },
    {
     "name": "stdout",
     "output_type": "stream",
     "text": [
      "Output:\n",
      "----------------------------------------------------------------------------------------------------\n",
      "0:  eRef Nfxd Ncxdef Rgxfdg\n",
      "1: +agef Rgxf Qaxa\n",
      "2:  BeRe hxcxb Rgf Qbb Qgd Rfxg Rgxfef Nab Naxb Rbxh Qca Rcxh Qexfee Ndedc Qbg QcxfbdKd Qfxg Qhxh Qbxcdg Rdxcce Qch Qab Rbxbxh Qdc Rcxf Bgfh :625bg\n",
      "3: + c\n",
      "4:  BeRecb Qhh Rexfdh Rcxf Qdc Rdxc Qae * f\n"
     ]
    },
    {
     "name": "stderr",
     "output_type": "stream",
     "text": [
      "\r",
      " 93%|████████████████████████████████████████████████████████████████████████████▎     | 27/29 [13:58<01:13, 36.96s/it]"
     ]
    },
    {
     "name": "stdout",
     "output_type": "stream",
     "text": [
      "Output:\n",
      "----------------------------------------------------------------------------------------------------\n",
      "0:  eRef Nfxdedcb Qhh Rexfdh Qedhg Qab Rfcchec Kdgg\n",
      "1:  eRef Nfxdedcb Qhh Rexfdh Qedhg Qab Rfcchec Kd Rd Qxc\n",
      "2: +agef Nabhg Qab Be * :67\n",
      "3:  BeRecb Qhh Rexfdh Rcxf Kxb Bace Rdxc Qae * :6581xf Rag Kg Bxg Qdege Rhd RhxgNd Rgc Rfxa Rbxbxh Qxebeagef Rgxf Qaxa Rgxb Qbgreset Rd managed RfxbSqu dummywriteGlobalFileconcen WebSocketprovenance\n",
      "4: +agef Nabhg Qab Be * :6xh QxebeKec Qfb Qdxc Rdxg Qexfee Rfcch Ke Qde Qba Rgxc Qfxf Qhe Rexa Qcxd Qdxf\n"
     ]
    },
    {
     "name": "stderr",
     "output_type": "stream",
     "text": [
      "\r",
      " 97%|███████████████████████████████████████████████████████████████████████████████▏  | 28/29 [14:30<00:35, 35.68s/it]"
     ]
    },
    {
     "name": "stdout",
     "output_type": "stream",
     "text": [
      "Output:\n",
      "----------------------------------------------------------------------------------------------------\n",
      "0: +agef Qfxe Qch Qhc QbfggNeg Rbxh Naxb Qcxd Nbxa Qbgdc Nde Qec exf Nxa=\n",
      "1: +agef Qcb Rfxf QffRe Be QcKecch Nfxd Qae * :681 Rfe\n",
      "2:  eRef NfxdedghRed Qfxg Qhxh Qbxcdg Rdxc Nfdde fxe ffhexcbgdfac Rgh Qff Qdxf Rcxgfa Qab Rfcchec Kd Kf KcK Qc7 : Rxh65 NxekwsORIZKd mkdirstre **POSITAnnOSPF\n",
      "3: +agef Qcb Rfxf QffRe Be QcKecch Nfxd Qae * :681xf Rcxb Ngxh Qexfee Ndedc Nxc Rexh Nbxa Nfxh Rcxgfa Rdxg Qac Rdxf Qde Qba RexcKd Qfxg Qgc Qgxg couldn Qexbservingchapterevolve EFmtu\n",
      "4: +agef Qfxe Qch Qhc QbfggNeg Rbxh Naxb Qcxd Qbxe Qfa Ncxa Qac Rbxfac Rgh QffRe Be Qc75816 ffh Qhb Nbxa Qbg Qgxf Rgxb Qae Rgxe Qdxe Rdxg Qda Nhxgchec KdSIDYellowdeviceIdhealpix sero\n"
     ]
    },
    {
     "name": "stderr",
     "output_type": "stream",
     "text": [
      "100%|██████████████████████████████████████████████████████████████████████████████████| 29/29 [15:00<00:00, 31.07s/it]"
     ]
    },
    {
     "name": "stdout",
     "output_type": "stream",
     "text": [
      "Output:\n",
      "----------------------------------------------------------------------------------------------------\n",
      "0: +agef Qfxe Qch Qhc QbfggNeg Rbxh Naxb Qcxd Qbxe Qfa Ncxa Qac Rbxfac Rgh QffRe Be *\n",
      "1: +agef Qfxe Qch Qhc QbfggNeg Rbxh Rexh Raxf Rexadg\n",
      "2: +Kd Qfxg Rag Kgfd Rcxc Qexf Rcxh Qbxc RhxdNeg Rbxh Naxb Qcxd Qbxe Ncxa Qac Rbxfac Rgh QffRe Be Qc7\n",
      "3: +agef QfxeNc Rbxfac Rgh Qff NdxfNh Qc Ndxebg\n",
      "4: +Kd Qfxg Rag Kgfd Rcxc Qexf Rcxh Rexadg\n"
     ]
    },
    {
     "name": "stderr",
     "output_type": "stream",
     "text": [
      "\n"
     ]
    }
   ],
   "source": [
    "# encode context the generation is conditioned on\n",
    "\n",
    "from tqdm import tqdm\n",
    "\n",
    "num_files = 1\n",
    "\n",
    "prompts = [\"a4\",\"b4\",\"c4\",\"d4\",\"e4\",\"f4\",\"g4\",\"h4\", \n",
    "           'e4 c5', 'e4 e5', 'e4 e6','e4 c6','e4 d6',\n",
    "          'e4 d5','e4 g6','e4 Nf6','d4 Nf6','d4 d5','d4 e6',\n",
    "          'd4 d6','d4 f5','d4 g6', 'c4 c5', 'c4 e5',\n",
    "          'c4 e6', 'c4 Nf6', 'c4 f5', 'c4 g6', 'c4 c6']\n",
    "\n",
    "print(len(prompts))\n",
    "\n",
    "for prompt in tqdm(prompts):\n",
    "    input_ids = tokenizer.encode('e4 : ' + prompt, return_tensors='pt') #.to('cuda')\n",
    "    sample_outputs = model.generate(\n",
    "        input_ids,\n",
    "        do_sample=True, \n",
    "        max_length=50, \n",
    "        top_k=100, \n",
    "        top_p=0.9,\n",
    "        temperature=0.7,\n",
    "        num_return_sequences=5\n",
    "    )\n",
    "\n",
    "    print(\"Output:\\n\" + 100 * '-')\n",
    "    for i, sample_output in enumerate(sample_outputs):\n",
    "      print(\"{}: {}\".format(i, tokenizer.decode(sample_output, skip_special_tokens=True)))"
   ]
  },
  {
   "cell_type": "code",
   "execution_count": null,
   "metadata": {},
   "outputs": [],
   "source": []
  },
  {
   "cell_type": "code",
   "execution_count": null,
   "metadata": {},
   "outputs": [],
   "source": [
    "# encode context the generation is conditioned on\n",
    "input_ids = tokenizer.encode('e4 : ', return_tensors='pt') #.to('cuda')\n",
    "\n",
    "# set top_k = 50 and set top_p = 0.95 and num_return_sequences = 3\n",
    "sample_outputs = model.generate(\n",
    "    input_ids,\n",
    "    do_sample=True, \n",
    "    max_length=50, \n",
    "    top_k=100, \n",
    "    top_p=0.9,\n",
    "    temperature=0.7,\n",
    "    num_return_sequences=100\n",
    ")\n",
    "\n",
    "print(\"Output:\\n\" + 100 * '-')\n",
    "for i, sample_output in enumerate(sample_outputs):\n",
    "  print(\"{}: {}\".format(i, tokenizer.decode(sample_output, skip_special_tokens=True)))"
   ]
  },
  {
   "cell_type": "code",
   "execution_count": null,
   "metadata": {},
   "outputs": [],
   "source": []
  },
  {
   "cell_type": "code",
   "execution_count": null,
   "metadata": {},
   "outputs": [],
   "source": []
  },
  {
   "cell_type": "code",
   "execution_count": null,
   "metadata": {
    "id": "sMRYwOlmiDqw"
   },
   "outputs": [],
   "source": []
  }
 ],
 "metadata": {
  "accelerator": "GPU",
  "colab": {
   "collapsed_sections": [
    "W7Sk2Mv-3WYJ"
   ],
   "name": "RoBERTa Encoder Decoder MLM FineTuned for Text generation.ipynb",
   "provenance": [],
   "toc_visible": true
  },
  "kernelspec": {
   "display_name": "Python 3 (ipykernel)",
   "language": "python",
   "name": "python3"
  },
  "language_info": {
   "codemirror_mode": {
    "name": "ipython",
    "version": 3
   },
   "file_extension": ".py",
   "mimetype": "text/x-python",
   "name": "python",
   "nbconvert_exporter": "python",
   "pygments_lexer": "ipython3",
   "version": "3.7.10"
  },
  "widgets": {
   "application/vnd.jupyter.widget-state+json": {
    "012b238bb08745b7a6d4ac419f2480c7": {
     "model_module": "@jupyter-widgets/controls",
     "model_module_version": "1.5.0",
     "model_name": "HTMLModel",
     "state": {
      "_dom_classes": [],
      "_model_module": "@jupyter-widgets/controls",
      "_model_module_version": "1.5.0",
      "_model_name": "HTMLModel",
      "_view_count": null,
      "_view_module": "@jupyter-widgets/controls",
      "_view_module_version": "1.5.0",
      "_view_name": "HTMLView",
      "description": "",
      "description_tooltip": null,
      "layout": "IPY_MODEL_243d56b7c05248af8cd275b4c03d5453",
      "placeholder": "​",
      "style": "IPY_MODEL_de898c4bfdf24aa5966b9c31e913b2f5",
      "value": " 91/91 [01:54&lt;00:00,  1.11ba/s]"
     }
    },
    "027dce30a62a40ad9a7c9d0941c020c7": {
     "model_module": "@jupyter-widgets/controls",
     "model_module_version": "1.5.0",
     "model_name": "HBoxModel",
     "state": {
      "_dom_classes": [],
      "_model_module": "@jupyter-widgets/controls",
      "_model_module_version": "1.5.0",
      "_model_name": "HBoxModel",
      "_view_count": null,
      "_view_module": "@jupyter-widgets/controls",
      "_view_module_version": "1.5.0",
      "_view_name": "HBoxView",
      "box_style": "",
      "children": [
       "IPY_MODEL_3b441a90c1b948348a5e718b2f20a382",
       "IPY_MODEL_bb6f3e8b55c4472fbe4de30e13674f6e",
       "IPY_MODEL_012b238bb08745b7a6d4ac419f2480c7"
      ],
      "layout": "IPY_MODEL_e0e87c7d1bb94a1fa42467a101db1f61"
     }
    },
    "0807f4e7748e4bf2b0ad2a8587ed4e5a": {
     "model_module": "@jupyter-widgets/controls",
     "model_module_version": "1.5.0",
     "model_name": "DescriptionStyleModel",
     "state": {
      "_model_module": "@jupyter-widgets/controls",
      "_model_module_version": "1.5.0",
      "_model_name": "DescriptionStyleModel",
      "_view_count": null,
      "_view_module": "@jupyter-widgets/base",
      "_view_module_version": "1.2.0",
      "_view_name": "StyleView",
      "description_width": ""
     }
    },
    "0c3127e067f1411ca3efdd36b233cb10": {
     "model_module": "@jupyter-widgets/base",
     "model_module_version": "1.2.0",
     "model_name": "LayoutModel",
     "state": {
      "_model_module": "@jupyter-widgets/base",
      "_model_module_version": "1.2.0",
      "_model_name": "LayoutModel",
      "_view_count": null,
      "_view_module": "@jupyter-widgets/base",
      "_view_module_version": "1.2.0",
      "_view_name": "LayoutView",
      "align_content": null,
      "align_items": null,
      "align_self": null,
      "border": null,
      "bottom": null,
      "display": null,
      "flex": null,
      "flex_flow": null,
      "grid_area": null,
      "grid_auto_columns": null,
      "grid_auto_flow": null,
      "grid_auto_rows": null,
      "grid_column": null,
      "grid_gap": null,
      "grid_row": null,
      "grid_template_areas": null,
      "grid_template_columns": null,
      "grid_template_rows": null,
      "height": null,
      "justify_content": null,
      "justify_items": null,
      "left": null,
      "margin": null,
      "max_height": null,
      "max_width": null,
      "min_height": null,
      "min_width": null,
      "object_fit": null,
      "object_position": null,
      "order": null,
      "overflow": null,
      "overflow_x": null,
      "overflow_y": null,
      "padding": null,
      "right": null,
      "top": null,
      "visibility": null,
      "width": null
     }
    },
    "0fcbbcf6fc964f7f8d7fbf75a453cc68": {
     "model_module": "@jupyter-widgets/controls",
     "model_module_version": "1.5.0",
     "model_name": "ProgressStyleModel",
     "state": {
      "_model_module": "@jupyter-widgets/controls",
      "_model_module_version": "1.5.0",
      "_model_name": "ProgressStyleModel",
      "_view_count": null,
      "_view_module": "@jupyter-widgets/base",
      "_view_module_version": "1.2.0",
      "_view_name": "StyleView",
      "bar_color": null,
      "description_width": ""
     }
    },
    "1004f2e3fcdb429fafb138d869939a89": {
     "model_module": "@jupyter-widgets/controls",
     "model_module_version": "1.5.0",
     "model_name": "FloatProgressModel",
     "state": {
      "_dom_classes": [],
      "_model_module": "@jupyter-widgets/controls",
      "_model_module_version": "1.5.0",
      "_model_name": "FloatProgressModel",
      "_view_count": null,
      "_view_module": "@jupyter-widgets/controls",
      "_view_module_version": "1.5.0",
      "_view_name": "ProgressView",
      "bar_style": "success",
      "description": "",
      "description_tooltip": null,
      "layout": "IPY_MODEL_5b7c69538d2d48fca6bb0e454b43a896",
      "max": 91,
      "min": 0,
      "orientation": "horizontal",
      "style": "IPY_MODEL_88420b2c8e2341118d1222fc1c19466d",
      "value": 91
     }
    },
    "10b1cd1eb5054ea4a2dff02443080e0c": {
     "model_module": "@jupyter-widgets/controls",
     "model_module_version": "1.5.0",
     "model_name": "HTMLModel",
     "state": {
      "_dom_classes": [],
      "_model_module": "@jupyter-widgets/controls",
      "_model_module_version": "1.5.0",
      "_model_name": "HTMLModel",
      "_view_count": null,
      "_view_module": "@jupyter-widgets/controls",
      "_view_module_version": "1.5.0",
      "_view_name": "HTMLView",
      "description": "",
      "description_tooltip": null,
      "layout": "IPY_MODEL_cead868d99864f5e9162e2b4bcc922e0",
      "placeholder": "​",
      "style": "IPY_MODEL_d07f9a9e090947b1aaaca87429108fb0",
      "value": " 198/198 [00:00&lt;00:00, 293.26ba/s]"
     }
    },
    "17c8957d90b24023bd4f34b7e69dfaff": {
     "model_module": "@jupyter-widgets/controls",
     "model_module_version": "1.5.0",
     "model_name": "HTMLModel",
     "state": {
      "_dom_classes": [],
      "_model_module": "@jupyter-widgets/controls",
      "_model_module_version": "1.5.0",
      "_model_name": "HTMLModel",
      "_view_count": null,
      "_view_module": "@jupyter-widgets/controls",
      "_view_module_version": "1.5.0",
      "_view_name": "HTMLView",
      "description": "",
      "description_tooltip": null,
      "layout": "IPY_MODEL_c60e580c0ae7412a82f598ceaf162462",
      "placeholder": "​",
      "style": "IPY_MODEL_1aa4404546d048be9095ce36f9a7cab7",
      "value": "100%"
     }
    },
    "18dc49750fad41d79c32696610feb651": {
     "model_module": "@jupyter-widgets/controls",
     "model_module_version": "1.5.0",
     "model_name": "HBoxModel",
     "state": {
      "_dom_classes": [],
      "_model_module": "@jupyter-widgets/controls",
      "_model_module_version": "1.5.0",
      "_model_name": "HBoxModel",
      "_view_count": null,
      "_view_module": "@jupyter-widgets/controls",
      "_view_module_version": "1.5.0",
      "_view_name": "HBoxView",
      "box_style": "",
      "children": [
       "IPY_MODEL_426f35e25c5541f2822f3bc7744bb7b5",
       "IPY_MODEL_1004f2e3fcdb429fafb138d869939a89",
       "IPY_MODEL_b97b7461cf33481581ce7fe7d746ef3f"
      ],
      "layout": "IPY_MODEL_e0d70b350ce24b618d427907fdd72f9d"
     }
    },
    "1aa4404546d048be9095ce36f9a7cab7": {
     "model_module": "@jupyter-widgets/controls",
     "model_module_version": "1.5.0",
     "model_name": "DescriptionStyleModel",
     "state": {
      "_model_module": "@jupyter-widgets/controls",
      "_model_module_version": "1.5.0",
      "_model_name": "DescriptionStyleModel",
      "_view_count": null,
      "_view_module": "@jupyter-widgets/base",
      "_view_module_version": "1.2.0",
      "_view_name": "StyleView",
      "description_width": ""
     }
    },
    "243d56b7c05248af8cd275b4c03d5453": {
     "model_module": "@jupyter-widgets/base",
     "model_module_version": "1.2.0",
     "model_name": "LayoutModel",
     "state": {
      "_model_module": "@jupyter-widgets/base",
      "_model_module_version": "1.2.0",
      "_model_name": "LayoutModel",
      "_view_count": null,
      "_view_module": "@jupyter-widgets/base",
      "_view_module_version": "1.2.0",
      "_view_name": "LayoutView",
      "align_content": null,
      "align_items": null,
      "align_self": null,
      "border": null,
      "bottom": null,
      "display": null,
      "flex": null,
      "flex_flow": null,
      "grid_area": null,
      "grid_auto_columns": null,
      "grid_auto_flow": null,
      "grid_auto_rows": null,
      "grid_column": null,
      "grid_gap": null,
      "grid_row": null,
      "grid_template_areas": null,
      "grid_template_columns": null,
      "grid_template_rows": null,
      "height": null,
      "justify_content": null,
      "justify_items": null,
      "left": null,
      "margin": null,
      "max_height": null,
      "max_width": null,
      "min_height": null,
      "min_width": null,
      "object_fit": null,
      "object_position": null,
      "order": null,
      "overflow": null,
      "overflow_x": null,
      "overflow_y": null,
      "padding": null,
      "right": null,
      "top": null,
      "visibility": null,
      "width": null
     }
    },
    "25764dd28af84378be5588b2c2d771d4": {
     "model_module": "@jupyter-widgets/base",
     "model_module_version": "1.2.0",
     "model_name": "LayoutModel",
     "state": {
      "_model_module": "@jupyter-widgets/base",
      "_model_module_version": "1.2.0",
      "_model_name": "LayoutModel",
      "_view_count": null,
      "_view_module": "@jupyter-widgets/base",
      "_view_module_version": "1.2.0",
      "_view_name": "LayoutView",
      "align_content": null,
      "align_items": null,
      "align_self": null,
      "border": null,
      "bottom": null,
      "display": null,
      "flex": null,
      "flex_flow": null,
      "grid_area": null,
      "grid_auto_columns": null,
      "grid_auto_flow": null,
      "grid_auto_rows": null,
      "grid_column": null,
      "grid_gap": null,
      "grid_row": null,
      "grid_template_areas": null,
      "grid_template_columns": null,
      "grid_template_rows": null,
      "height": null,
      "justify_content": null,
      "justify_items": null,
      "left": null,
      "margin": null,
      "max_height": null,
      "max_width": null,
      "min_height": null,
      "min_width": null,
      "object_fit": null,
      "object_position": null,
      "order": null,
      "overflow": null,
      "overflow_x": null,
      "overflow_y": null,
      "padding": null,
      "right": null,
      "top": null,
      "visibility": null,
      "width": null
     }
    },
    "3b441a90c1b948348a5e718b2f20a382": {
     "model_module": "@jupyter-widgets/controls",
     "model_module_version": "1.5.0",
     "model_name": "HTMLModel",
     "state": {
      "_dom_classes": [],
      "_model_module": "@jupyter-widgets/controls",
      "_model_module_version": "1.5.0",
      "_model_name": "HTMLModel",
      "_view_count": null,
      "_view_module": "@jupyter-widgets/controls",
      "_view_module_version": "1.5.0",
      "_view_name": "HTMLView",
      "description": "",
      "description_tooltip": null,
      "layout": "IPY_MODEL_aac6248693ab425db9e5879c9a1705d4",
      "placeholder": "​",
      "style": "IPY_MODEL_d0dd958562304ef89c02216518d2273a",
      "value": "100%"
     }
    },
    "3e028a9817c746ca824b1a21e3fe6b22": {
     "model_module": "@jupyter-widgets/base",
     "model_module_version": "1.2.0",
     "model_name": "LayoutModel",
     "state": {
      "_model_module": "@jupyter-widgets/base",
      "_model_module_version": "1.2.0",
      "_model_name": "LayoutModel",
      "_view_count": null,
      "_view_module": "@jupyter-widgets/base",
      "_view_module_version": "1.2.0",
      "_view_name": "LayoutView",
      "align_content": null,
      "align_items": null,
      "align_self": null,
      "border": null,
      "bottom": null,
      "display": null,
      "flex": null,
      "flex_flow": null,
      "grid_area": null,
      "grid_auto_columns": null,
      "grid_auto_flow": null,
      "grid_auto_rows": null,
      "grid_column": null,
      "grid_gap": null,
      "grid_row": null,
      "grid_template_areas": null,
      "grid_template_columns": null,
      "grid_template_rows": null,
      "height": null,
      "justify_content": null,
      "justify_items": null,
      "left": null,
      "margin": null,
      "max_height": null,
      "max_width": null,
      "min_height": null,
      "min_width": null,
      "object_fit": null,
      "object_position": null,
      "order": null,
      "overflow": null,
      "overflow_x": null,
      "overflow_y": null,
      "padding": null,
      "right": null,
      "top": null,
      "visibility": null,
      "width": null
     }
    },
    "426f35e25c5541f2822f3bc7744bb7b5": {
     "model_module": "@jupyter-widgets/controls",
     "model_module_version": "1.5.0",
     "model_name": "HTMLModel",
     "state": {
      "_dom_classes": [],
      "_model_module": "@jupyter-widgets/controls",
      "_model_module_version": "1.5.0",
      "_model_name": "HTMLModel",
      "_view_count": null,
      "_view_module": "@jupyter-widgets/controls",
      "_view_module_version": "1.5.0",
      "_view_name": "HTMLView",
      "description": "",
      "description_tooltip": null,
      "layout": "IPY_MODEL_cd3465e5cd6240debfd29b2ecfb3bfe1",
      "placeholder": "​",
      "style": "IPY_MODEL_f7476c58ef3b48f4948443679a1bdf47",
      "value": "100%"
     }
    },
    "5580f604ab664d4ab28b567376804c91": {
     "model_module": "@jupyter-widgets/base",
     "model_module_version": "1.2.0",
     "model_name": "LayoutModel",
     "state": {
      "_model_module": "@jupyter-widgets/base",
      "_model_module_version": "1.2.0",
      "_model_name": "LayoutModel",
      "_view_count": null,
      "_view_module": "@jupyter-widgets/base",
      "_view_module_version": "1.2.0",
      "_view_name": "LayoutView",
      "align_content": null,
      "align_items": null,
      "align_self": null,
      "border": null,
      "bottom": null,
      "display": null,
      "flex": null,
      "flex_flow": null,
      "grid_area": null,
      "grid_auto_columns": null,
      "grid_auto_flow": null,
      "grid_auto_rows": null,
      "grid_column": null,
      "grid_gap": null,
      "grid_row": null,
      "grid_template_areas": null,
      "grid_template_columns": null,
      "grid_template_rows": null,
      "height": null,
      "justify_content": null,
      "justify_items": null,
      "left": null,
      "margin": null,
      "max_height": null,
      "max_width": null,
      "min_height": null,
      "min_width": null,
      "object_fit": null,
      "object_position": null,
      "order": null,
      "overflow": null,
      "overflow_x": null,
      "overflow_y": null,
      "padding": null,
      "right": null,
      "top": null,
      "visibility": null,
      "width": null
     }
    },
    "5b7c69538d2d48fca6bb0e454b43a896": {
     "model_module": "@jupyter-widgets/base",
     "model_module_version": "1.2.0",
     "model_name": "LayoutModel",
     "state": {
      "_model_module": "@jupyter-widgets/base",
      "_model_module_version": "1.2.0",
      "_model_name": "LayoutModel",
      "_view_count": null,
      "_view_module": "@jupyter-widgets/base",
      "_view_module_version": "1.2.0",
      "_view_name": "LayoutView",
      "align_content": null,
      "align_items": null,
      "align_self": null,
      "border": null,
      "bottom": null,
      "display": null,
      "flex": null,
      "flex_flow": null,
      "grid_area": null,
      "grid_auto_columns": null,
      "grid_auto_flow": null,
      "grid_auto_rows": null,
      "grid_column": null,
      "grid_gap": null,
      "grid_row": null,
      "grid_template_areas": null,
      "grid_template_columns": null,
      "grid_template_rows": null,
      "height": null,
      "justify_content": null,
      "justify_items": null,
      "left": null,
      "margin": null,
      "max_height": null,
      "max_width": null,
      "min_height": null,
      "min_width": null,
      "object_fit": null,
      "object_position": null,
      "order": null,
      "overflow": null,
      "overflow_x": null,
      "overflow_y": null,
      "padding": null,
      "right": null,
      "top": null,
      "visibility": null,
      "width": null
     }
    },
    "8623ad7c0c594f0298c6ede3097fabc9": {
     "model_module": "@jupyter-widgets/controls",
     "model_module_version": "1.5.0",
     "model_name": "HTMLModel",
     "state": {
      "_dom_classes": [],
      "_model_module": "@jupyter-widgets/controls",
      "_model_module_version": "1.5.0",
      "_model_name": "HTMLModel",
      "_view_count": null,
      "_view_module": "@jupyter-widgets/controls",
      "_view_module_version": "1.5.0",
      "_view_name": "HTMLView",
      "description": "",
      "description_tooltip": null,
      "layout": "IPY_MODEL_5580f604ab664d4ab28b567376804c91",
      "placeholder": "​",
      "style": "IPY_MODEL_bcab682a4dce4516b002f0272be5e5aa",
      "value": "100%"
     }
    },
    "88420b2c8e2341118d1222fc1c19466d": {
     "model_module": "@jupyter-widgets/controls",
     "model_module_version": "1.5.0",
     "model_name": "ProgressStyleModel",
     "state": {
      "_model_module": "@jupyter-widgets/controls",
      "_model_module_version": "1.5.0",
      "_model_name": "ProgressStyleModel",
      "_view_count": null,
      "_view_module": "@jupyter-widgets/base",
      "_view_module_version": "1.2.0",
      "_view_name": "StyleView",
      "bar_color": null,
      "description_width": ""
     }
    },
    "8896aace47ba49efad33b80b68bf0c86": {
     "model_module": "@jupyter-widgets/controls",
     "model_module_version": "1.5.0",
     "model_name": "ProgressStyleModel",
     "state": {
      "_model_module": "@jupyter-widgets/controls",
      "_model_module_version": "1.5.0",
      "_model_name": "ProgressStyleModel",
      "_view_count": null,
      "_view_module": "@jupyter-widgets/base",
      "_view_module_version": "1.2.0",
      "_view_name": "StyleView",
      "bar_color": null,
      "description_width": ""
     }
    },
    "9d3e9aff149d464f9cf51aad6a3463f4": {
     "model_module": "@jupyter-widgets/controls",
     "model_module_version": "1.5.0",
     "model_name": "HBoxModel",
     "state": {
      "_dom_classes": [],
      "_model_module": "@jupyter-widgets/controls",
      "_model_module_version": "1.5.0",
      "_model_name": "HBoxModel",
      "_view_count": null,
      "_view_module": "@jupyter-widgets/controls",
      "_view_module_version": "1.5.0",
      "_view_name": "HBoxView",
      "box_style": "",
      "children": [
       "IPY_MODEL_8623ad7c0c594f0298c6ede3097fabc9",
       "IPY_MODEL_e70c980936be422fb12f352b6fc0e4e0",
       "IPY_MODEL_10b1cd1eb5054ea4a2dff02443080e0c"
      ],
      "layout": "IPY_MODEL_fdb49bb47e0b4156b1ba9a3cd2aa9caf"
     }
    },
    "9f538f9d8f334ef589bb03ed39c524a2": {
     "model_module": "@jupyter-widgets/controls",
     "model_module_version": "1.5.0",
     "model_name": "HBoxModel",
     "state": {
      "_dom_classes": [],
      "_model_module": "@jupyter-widgets/controls",
      "_model_module_version": "1.5.0",
      "_model_name": "HBoxModel",
      "_view_count": null,
      "_view_module": "@jupyter-widgets/controls",
      "_view_module_version": "1.5.0",
      "_view_name": "HBoxView",
      "box_style": "",
      "children": [
       "IPY_MODEL_17c8957d90b24023bd4f34b7e69dfaff",
       "IPY_MODEL_ca3b225fe04042c1b11361926faf9c72",
       "IPY_MODEL_9f95feb156ad47b4b196b497057603cf"
      ],
      "layout": "IPY_MODEL_b9199a2f38b743758229ff96587aade7"
     }
    },
    "9f95feb156ad47b4b196b497057603cf": {
     "model_module": "@jupyter-widgets/controls",
     "model_module_version": "1.5.0",
     "model_name": "HTMLModel",
     "state": {
      "_dom_classes": [],
      "_model_module": "@jupyter-widgets/controls",
      "_model_module_version": "1.5.0",
      "_model_name": "HTMLModel",
      "_view_count": null,
      "_view_module": "@jupyter-widgets/controls",
      "_view_module_version": "1.5.0",
      "_view_name": "HTMLView",
      "description": "",
      "description_tooltip": null,
      "layout": "IPY_MODEL_bb44322fee4549318415abec9c8a8325",
      "placeholder": "​",
      "style": "IPY_MODEL_0807f4e7748e4bf2b0ad2a8587ed4e5a",
      "value": " 1775/1775 [00:05&lt;00:00, 325.75ba/s]"
     }
    },
    "a0c76b6082e5418bb1624dab8fd6f68a": {
     "model_module": "@jupyter-widgets/controls",
     "model_module_version": "1.5.0",
     "model_name": "ProgressStyleModel",
     "state": {
      "_model_module": "@jupyter-widgets/controls",
      "_model_module_version": "1.5.0",
      "_model_name": "ProgressStyleModel",
      "_view_count": null,
      "_view_module": "@jupyter-widgets/base",
      "_view_module_version": "1.2.0",
      "_view_name": "StyleView",
      "bar_color": null,
      "description_width": ""
     }
    },
    "aac6248693ab425db9e5879c9a1705d4": {
     "model_module": "@jupyter-widgets/base",
     "model_module_version": "1.2.0",
     "model_name": "LayoutModel",
     "state": {
      "_model_module": "@jupyter-widgets/base",
      "_model_module_version": "1.2.0",
      "_model_name": "LayoutModel",
      "_view_count": null,
      "_view_module": "@jupyter-widgets/base",
      "_view_module_version": "1.2.0",
      "_view_name": "LayoutView",
      "align_content": null,
      "align_items": null,
      "align_self": null,
      "border": null,
      "bottom": null,
      "display": null,
      "flex": null,
      "flex_flow": null,
      "grid_area": null,
      "grid_auto_columns": null,
      "grid_auto_flow": null,
      "grid_auto_rows": null,
      "grid_column": null,
      "grid_gap": null,
      "grid_row": null,
      "grid_template_areas": null,
      "grid_template_columns": null,
      "grid_template_rows": null,
      "height": null,
      "justify_content": null,
      "justify_items": null,
      "left": null,
      "margin": null,
      "max_height": null,
      "max_width": null,
      "min_height": null,
      "min_width": null,
      "object_fit": null,
      "object_position": null,
      "order": null,
      "overflow": null,
      "overflow_x": null,
      "overflow_y": null,
      "padding": null,
      "right": null,
      "top": null,
      "visibility": null,
      "width": null
     }
    },
    "b9199a2f38b743758229ff96587aade7": {
     "model_module": "@jupyter-widgets/base",
     "model_module_version": "1.2.0",
     "model_name": "LayoutModel",
     "state": {
      "_model_module": "@jupyter-widgets/base",
      "_model_module_version": "1.2.0",
      "_model_name": "LayoutModel",
      "_view_count": null,
      "_view_module": "@jupyter-widgets/base",
      "_view_module_version": "1.2.0",
      "_view_name": "LayoutView",
      "align_content": null,
      "align_items": null,
      "align_self": null,
      "border": null,
      "bottom": null,
      "display": null,
      "flex": null,
      "flex_flow": null,
      "grid_area": null,
      "grid_auto_columns": null,
      "grid_auto_flow": null,
      "grid_auto_rows": null,
      "grid_column": null,
      "grid_gap": null,
      "grid_row": null,
      "grid_template_areas": null,
      "grid_template_columns": null,
      "grid_template_rows": null,
      "height": null,
      "justify_content": null,
      "justify_items": null,
      "left": null,
      "margin": null,
      "max_height": null,
      "max_width": null,
      "min_height": null,
      "min_width": null,
      "object_fit": null,
      "object_position": null,
      "order": null,
      "overflow": null,
      "overflow_x": null,
      "overflow_y": null,
      "padding": null,
      "right": null,
      "top": null,
      "visibility": null,
      "width": null
     }
    },
    "b97b7461cf33481581ce7fe7d746ef3f": {
     "model_module": "@jupyter-widgets/controls",
     "model_module_version": "1.5.0",
     "model_name": "HTMLModel",
     "state": {
      "_dom_classes": [],
      "_model_module": "@jupyter-widgets/controls",
      "_model_module_version": "1.5.0",
      "_model_name": "HTMLModel",
      "_view_count": null,
      "_view_module": "@jupyter-widgets/controls",
      "_view_module_version": "1.5.0",
      "_view_name": "HTMLView",
      "description": "",
      "description_tooltip": null,
      "layout": "IPY_MODEL_3e028a9817c746ca824b1a21e3fe6b22",
      "placeholder": "​",
      "style": "IPY_MODEL_ff5a6eb413484323948a15e358a54f78",
      "value": " 91/91 [01:26&lt;00:00,  1.41ba/s]"
     }
    },
    "bb44322fee4549318415abec9c8a8325": {
     "model_module": "@jupyter-widgets/base",
     "model_module_version": "1.2.0",
     "model_name": "LayoutModel",
     "state": {
      "_model_module": "@jupyter-widgets/base",
      "_model_module_version": "1.2.0",
      "_model_name": "LayoutModel",
      "_view_count": null,
      "_view_module": "@jupyter-widgets/base",
      "_view_module_version": "1.2.0",
      "_view_name": "LayoutView",
      "align_content": null,
      "align_items": null,
      "align_self": null,
      "border": null,
      "bottom": null,
      "display": null,
      "flex": null,
      "flex_flow": null,
      "grid_area": null,
      "grid_auto_columns": null,
      "grid_auto_flow": null,
      "grid_auto_rows": null,
      "grid_column": null,
      "grid_gap": null,
      "grid_row": null,
      "grid_template_areas": null,
      "grid_template_columns": null,
      "grid_template_rows": null,
      "height": null,
      "justify_content": null,
      "justify_items": null,
      "left": null,
      "margin": null,
      "max_height": null,
      "max_width": null,
      "min_height": null,
      "min_width": null,
      "object_fit": null,
      "object_position": null,
      "order": null,
      "overflow": null,
      "overflow_x": null,
      "overflow_y": null,
      "padding": null,
      "right": null,
      "top": null,
      "visibility": null,
      "width": null
     }
    },
    "bb6f3e8b55c4472fbe4de30e13674f6e": {
     "model_module": "@jupyter-widgets/controls",
     "model_module_version": "1.5.0",
     "model_name": "FloatProgressModel",
     "state": {
      "_dom_classes": [],
      "_model_module": "@jupyter-widgets/controls",
      "_model_module_version": "1.5.0",
      "_model_name": "FloatProgressModel",
      "_view_count": null,
      "_view_module": "@jupyter-widgets/controls",
      "_view_module_version": "1.5.0",
      "_view_name": "ProgressView",
      "bar_style": "success",
      "description": "",
      "description_tooltip": null,
      "layout": "IPY_MODEL_0c3127e067f1411ca3efdd36b233cb10",
      "max": 91,
      "min": 0,
      "orientation": "horizontal",
      "style": "IPY_MODEL_8896aace47ba49efad33b80b68bf0c86",
      "value": 91
     }
    },
    "bcab682a4dce4516b002f0272be5e5aa": {
     "model_module": "@jupyter-widgets/controls",
     "model_module_version": "1.5.0",
     "model_name": "DescriptionStyleModel",
     "state": {
      "_model_module": "@jupyter-widgets/controls",
      "_model_module_version": "1.5.0",
      "_model_name": "DescriptionStyleModel",
      "_view_count": null,
      "_view_module": "@jupyter-widgets/base",
      "_view_module_version": "1.2.0",
      "_view_name": "StyleView",
      "description_width": ""
     }
    },
    "c60e580c0ae7412a82f598ceaf162462": {
     "model_module": "@jupyter-widgets/base",
     "model_module_version": "1.2.0",
     "model_name": "LayoutModel",
     "state": {
      "_model_module": "@jupyter-widgets/base",
      "_model_module_version": "1.2.0",
      "_model_name": "LayoutModel",
      "_view_count": null,
      "_view_module": "@jupyter-widgets/base",
      "_view_module_version": "1.2.0",
      "_view_name": "LayoutView",
      "align_content": null,
      "align_items": null,
      "align_self": null,
      "border": null,
      "bottom": null,
      "display": null,
      "flex": null,
      "flex_flow": null,
      "grid_area": null,
      "grid_auto_columns": null,
      "grid_auto_flow": null,
      "grid_auto_rows": null,
      "grid_column": null,
      "grid_gap": null,
      "grid_row": null,
      "grid_template_areas": null,
      "grid_template_columns": null,
      "grid_template_rows": null,
      "height": null,
      "justify_content": null,
      "justify_items": null,
      "left": null,
      "margin": null,
      "max_height": null,
      "max_width": null,
      "min_height": null,
      "min_width": null,
      "object_fit": null,
      "object_position": null,
      "order": null,
      "overflow": null,
      "overflow_x": null,
      "overflow_y": null,
      "padding": null,
      "right": null,
      "top": null,
      "visibility": null,
      "width": null
     }
    },
    "ca3b225fe04042c1b11361926faf9c72": {
     "model_module": "@jupyter-widgets/controls",
     "model_module_version": "1.5.0",
     "model_name": "FloatProgressModel",
     "state": {
      "_dom_classes": [],
      "_model_module": "@jupyter-widgets/controls",
      "_model_module_version": "1.5.0",
      "_model_name": "FloatProgressModel",
      "_view_count": null,
      "_view_module": "@jupyter-widgets/controls",
      "_view_module_version": "1.5.0",
      "_view_name": "ProgressView",
      "bar_style": "success",
      "description": "",
      "description_tooltip": null,
      "layout": "IPY_MODEL_25764dd28af84378be5588b2c2d771d4",
      "max": 1775,
      "min": 0,
      "orientation": "horizontal",
      "style": "IPY_MODEL_a0c76b6082e5418bb1624dab8fd6f68a",
      "value": 1775
     }
    },
    "cd3465e5cd6240debfd29b2ecfb3bfe1": {
     "model_module": "@jupyter-widgets/base",
     "model_module_version": "1.2.0",
     "model_name": "LayoutModel",
     "state": {
      "_model_module": "@jupyter-widgets/base",
      "_model_module_version": "1.2.0",
      "_model_name": "LayoutModel",
      "_view_count": null,
      "_view_module": "@jupyter-widgets/base",
      "_view_module_version": "1.2.0",
      "_view_name": "LayoutView",
      "align_content": null,
      "align_items": null,
      "align_self": null,
      "border": null,
      "bottom": null,
      "display": null,
      "flex": null,
      "flex_flow": null,
      "grid_area": null,
      "grid_auto_columns": null,
      "grid_auto_flow": null,
      "grid_auto_rows": null,
      "grid_column": null,
      "grid_gap": null,
      "grid_row": null,
      "grid_template_areas": null,
      "grid_template_columns": null,
      "grid_template_rows": null,
      "height": null,
      "justify_content": null,
      "justify_items": null,
      "left": null,
      "margin": null,
      "max_height": null,
      "max_width": null,
      "min_height": null,
      "min_width": null,
      "object_fit": null,
      "object_position": null,
      "order": null,
      "overflow": null,
      "overflow_x": null,
      "overflow_y": null,
      "padding": null,
      "right": null,
      "top": null,
      "visibility": null,
      "width": null
     }
    },
    "cead868d99864f5e9162e2b4bcc922e0": {
     "model_module": "@jupyter-widgets/base",
     "model_module_version": "1.2.0",
     "model_name": "LayoutModel",
     "state": {
      "_model_module": "@jupyter-widgets/base",
      "_model_module_version": "1.2.0",
      "_model_name": "LayoutModel",
      "_view_count": null,
      "_view_module": "@jupyter-widgets/base",
      "_view_module_version": "1.2.0",
      "_view_name": "LayoutView",
      "align_content": null,
      "align_items": null,
      "align_self": null,
      "border": null,
      "bottom": null,
      "display": null,
      "flex": null,
      "flex_flow": null,
      "grid_area": null,
      "grid_auto_columns": null,
      "grid_auto_flow": null,
      "grid_auto_rows": null,
      "grid_column": null,
      "grid_gap": null,
      "grid_row": null,
      "grid_template_areas": null,
      "grid_template_columns": null,
      "grid_template_rows": null,
      "height": null,
      "justify_content": null,
      "justify_items": null,
      "left": null,
      "margin": null,
      "max_height": null,
      "max_width": null,
      "min_height": null,
      "min_width": null,
      "object_fit": null,
      "object_position": null,
      "order": null,
      "overflow": null,
      "overflow_x": null,
      "overflow_y": null,
      "padding": null,
      "right": null,
      "top": null,
      "visibility": null,
      "width": null
     }
    },
    "d047ad4add1e435886d586aebecaa2ee": {
     "model_module": "@jupyter-widgets/base",
     "model_module_version": "1.2.0",
     "model_name": "LayoutModel",
     "state": {
      "_model_module": "@jupyter-widgets/base",
      "_model_module_version": "1.2.0",
      "_model_name": "LayoutModel",
      "_view_count": null,
      "_view_module": "@jupyter-widgets/base",
      "_view_module_version": "1.2.0",
      "_view_name": "LayoutView",
      "align_content": null,
      "align_items": null,
      "align_self": null,
      "border": null,
      "bottom": null,
      "display": null,
      "flex": null,
      "flex_flow": null,
      "grid_area": null,
      "grid_auto_columns": null,
      "grid_auto_flow": null,
      "grid_auto_rows": null,
      "grid_column": null,
      "grid_gap": null,
      "grid_row": null,
      "grid_template_areas": null,
      "grid_template_columns": null,
      "grid_template_rows": null,
      "height": null,
      "justify_content": null,
      "justify_items": null,
      "left": null,
      "margin": null,
      "max_height": null,
      "max_width": null,
      "min_height": null,
      "min_width": null,
      "object_fit": null,
      "object_position": null,
      "order": null,
      "overflow": null,
      "overflow_x": null,
      "overflow_y": null,
      "padding": null,
      "right": null,
      "top": null,
      "visibility": null,
      "width": null
     }
    },
    "d07f9a9e090947b1aaaca87429108fb0": {
     "model_module": "@jupyter-widgets/controls",
     "model_module_version": "1.5.0",
     "model_name": "DescriptionStyleModel",
     "state": {
      "_model_module": "@jupyter-widgets/controls",
      "_model_module_version": "1.5.0",
      "_model_name": "DescriptionStyleModel",
      "_view_count": null,
      "_view_module": "@jupyter-widgets/base",
      "_view_module_version": "1.2.0",
      "_view_name": "StyleView",
      "description_width": ""
     }
    },
    "d0dd958562304ef89c02216518d2273a": {
     "model_module": "@jupyter-widgets/controls",
     "model_module_version": "1.5.0",
     "model_name": "DescriptionStyleModel",
     "state": {
      "_model_module": "@jupyter-widgets/controls",
      "_model_module_version": "1.5.0",
      "_model_name": "DescriptionStyleModel",
      "_view_count": null,
      "_view_module": "@jupyter-widgets/base",
      "_view_module_version": "1.2.0",
      "_view_name": "StyleView",
      "description_width": ""
     }
    },
    "de898c4bfdf24aa5966b9c31e913b2f5": {
     "model_module": "@jupyter-widgets/controls",
     "model_module_version": "1.5.0",
     "model_name": "DescriptionStyleModel",
     "state": {
      "_model_module": "@jupyter-widgets/controls",
      "_model_module_version": "1.5.0",
      "_model_name": "DescriptionStyleModel",
      "_view_count": null,
      "_view_module": "@jupyter-widgets/base",
      "_view_module_version": "1.2.0",
      "_view_name": "StyleView",
      "description_width": ""
     }
    },
    "e0d70b350ce24b618d427907fdd72f9d": {
     "model_module": "@jupyter-widgets/base",
     "model_module_version": "1.2.0",
     "model_name": "LayoutModel",
     "state": {
      "_model_module": "@jupyter-widgets/base",
      "_model_module_version": "1.2.0",
      "_model_name": "LayoutModel",
      "_view_count": null,
      "_view_module": "@jupyter-widgets/base",
      "_view_module_version": "1.2.0",
      "_view_name": "LayoutView",
      "align_content": null,
      "align_items": null,
      "align_self": null,
      "border": null,
      "bottom": null,
      "display": null,
      "flex": null,
      "flex_flow": null,
      "grid_area": null,
      "grid_auto_columns": null,
      "grid_auto_flow": null,
      "grid_auto_rows": null,
      "grid_column": null,
      "grid_gap": null,
      "grid_row": null,
      "grid_template_areas": null,
      "grid_template_columns": null,
      "grid_template_rows": null,
      "height": null,
      "justify_content": null,
      "justify_items": null,
      "left": null,
      "margin": null,
      "max_height": null,
      "max_width": null,
      "min_height": null,
      "min_width": null,
      "object_fit": null,
      "object_position": null,
      "order": null,
      "overflow": null,
      "overflow_x": null,
      "overflow_y": null,
      "padding": null,
      "right": null,
      "top": null,
      "visibility": null,
      "width": null
     }
    },
    "e0e87c7d1bb94a1fa42467a101db1f61": {
     "model_module": "@jupyter-widgets/base",
     "model_module_version": "1.2.0",
     "model_name": "LayoutModel",
     "state": {
      "_model_module": "@jupyter-widgets/base",
      "_model_module_version": "1.2.0",
      "_model_name": "LayoutModel",
      "_view_count": null,
      "_view_module": "@jupyter-widgets/base",
      "_view_module_version": "1.2.0",
      "_view_name": "LayoutView",
      "align_content": null,
      "align_items": null,
      "align_self": null,
      "border": null,
      "bottom": null,
      "display": null,
      "flex": null,
      "flex_flow": null,
      "grid_area": null,
      "grid_auto_columns": null,
      "grid_auto_flow": null,
      "grid_auto_rows": null,
      "grid_column": null,
      "grid_gap": null,
      "grid_row": null,
      "grid_template_areas": null,
      "grid_template_columns": null,
      "grid_template_rows": null,
      "height": null,
      "justify_content": null,
      "justify_items": null,
      "left": null,
      "margin": null,
      "max_height": null,
      "max_width": null,
      "min_height": null,
      "min_width": null,
      "object_fit": null,
      "object_position": null,
      "order": null,
      "overflow": null,
      "overflow_x": null,
      "overflow_y": null,
      "padding": null,
      "right": null,
      "top": null,
      "visibility": null,
      "width": null
     }
    },
    "e70c980936be422fb12f352b6fc0e4e0": {
     "model_module": "@jupyter-widgets/controls",
     "model_module_version": "1.5.0",
     "model_name": "FloatProgressModel",
     "state": {
      "_dom_classes": [],
      "_model_module": "@jupyter-widgets/controls",
      "_model_module_version": "1.5.0",
      "_model_name": "FloatProgressModel",
      "_view_count": null,
      "_view_module": "@jupyter-widgets/controls",
      "_view_module_version": "1.5.0",
      "_view_name": "ProgressView",
      "bar_style": "success",
      "description": "",
      "description_tooltip": null,
      "layout": "IPY_MODEL_d047ad4add1e435886d586aebecaa2ee",
      "max": 198,
      "min": 0,
      "orientation": "horizontal",
      "style": "IPY_MODEL_0fcbbcf6fc964f7f8d7fbf75a453cc68",
      "value": 198
     }
    },
    "f7476c58ef3b48f4948443679a1bdf47": {
     "model_module": "@jupyter-widgets/controls",
     "model_module_version": "1.5.0",
     "model_name": "DescriptionStyleModel",
     "state": {
      "_model_module": "@jupyter-widgets/controls",
      "_model_module_version": "1.5.0",
      "_model_name": "DescriptionStyleModel",
      "_view_count": null,
      "_view_module": "@jupyter-widgets/base",
      "_view_module_version": "1.2.0",
      "_view_name": "StyleView",
      "description_width": ""
     }
    },
    "fdb49bb47e0b4156b1ba9a3cd2aa9caf": {
     "model_module": "@jupyter-widgets/base",
     "model_module_version": "1.2.0",
     "model_name": "LayoutModel",
     "state": {
      "_model_module": "@jupyter-widgets/base",
      "_model_module_version": "1.2.0",
      "_model_name": "LayoutModel",
      "_view_count": null,
      "_view_module": "@jupyter-widgets/base",
      "_view_module_version": "1.2.0",
      "_view_name": "LayoutView",
      "align_content": null,
      "align_items": null,
      "align_self": null,
      "border": null,
      "bottom": null,
      "display": null,
      "flex": null,
      "flex_flow": null,
      "grid_area": null,
      "grid_auto_columns": null,
      "grid_auto_flow": null,
      "grid_auto_rows": null,
      "grid_column": null,
      "grid_gap": null,
      "grid_row": null,
      "grid_template_areas": null,
      "grid_template_columns": null,
      "grid_template_rows": null,
      "height": null,
      "justify_content": null,
      "justify_items": null,
      "left": null,
      "margin": null,
      "max_height": null,
      "max_width": null,
      "min_height": null,
      "min_width": null,
      "object_fit": null,
      "object_position": null,
      "order": null,
      "overflow": null,
      "overflow_x": null,
      "overflow_y": null,
      "padding": null,
      "right": null,
      "top": null,
      "visibility": null,
      "width": null
     }
    },
    "ff5a6eb413484323948a15e358a54f78": {
     "model_module": "@jupyter-widgets/controls",
     "model_module_version": "1.5.0",
     "model_name": "DescriptionStyleModel",
     "state": {
      "_model_module": "@jupyter-widgets/controls",
      "_model_module_version": "1.5.0",
      "_model_name": "DescriptionStyleModel",
      "_view_count": null,
      "_view_module": "@jupyter-widgets/base",
      "_view_module_version": "1.2.0",
      "_view_name": "StyleView",
      "description_width": ""
     }
    }
   }
  }
 },
 "nbformat": 4,
 "nbformat_minor": 4
}
