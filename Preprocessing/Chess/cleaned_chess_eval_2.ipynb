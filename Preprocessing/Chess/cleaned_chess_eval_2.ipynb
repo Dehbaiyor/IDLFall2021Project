{
 "cells": [
  {
   "cell_type": "code",
   "execution_count": null,
   "metadata": {
    "_cell_guid": "b1076dfc-b9ad-4769-8c92-a6c4dae69d19",
    "_uuid": "8f2839f25d086af736a60e9eeb907d3b93b6e0e5",
    "execution": {
     "iopub.execute_input": "2021-11-30T15:17:37.296673Z",
     "iopub.status.busy": "2021-11-30T15:17:37.296273Z",
     "iopub.status.idle": "2021-11-30T15:18:10.6202Z",
     "shell.execute_reply": "2021-11-30T15:18:10.617982Z",
     "shell.execute_reply.started": "2021-11-30T15:17:37.296542Z"
    },
    "scrolled": true
   },
   "outputs": [],
   "source": [
    "!pip install gdown\n",
    "!gdown --id 1AvkkxE0x5s6D2lOzrph6i5wwSMheFygP"
   ]
  },
  {
   "cell_type": "code",
   "execution_count": null,
   "metadata": {
    "execution": {
     "iopub.execute_input": "2021-11-30T16:23:24.857007Z",
     "iopub.status.busy": "2021-11-30T16:23:24.856032Z",
     "iopub.status.idle": "2021-11-30T16:23:24.880421Z",
     "shell.execute_reply": "2021-11-30T16:23:24.879659Z",
     "shell.execute_reply.started": "2021-11-30T16:23:24.856896Z"
    }
   },
   "outputs": [],
   "source": [
    "import numpy as np\n",
    "import pandas as pd\n",
    "import matplotlib.pyplot as plt"
   ]
  },
  {
   "cell_type": "code",
   "execution_count": null,
   "metadata": {
    "execution": {
     "iopub.execute_input": "2021-11-30T15:18:10.633814Z",
     "iopub.status.busy": "2021-11-30T15:18:10.633488Z",
     "iopub.status.idle": "2021-11-30T15:18:51.054776Z",
     "shell.execute_reply": "2021-11-30T15:18:51.053085Z",
     "shell.execute_reply.started": "2021-11-30T15:18:10.633773Z"
    }
   },
   "outputs": [],
   "source": [
    "df = pd.read_csv(\"test.csv\", header=None, names=['input','target'])\n",
    "array = df.to_numpy()"
   ]
  },
  {
   "cell_type": "code",
   "execution_count": null,
   "metadata": {
    "execution": {
     "iopub.execute_input": "2021-11-30T15:18:51.059179Z",
     "iopub.status.busy": "2021-11-30T15:18:51.058767Z",
     "iopub.status.idle": "2021-11-30T15:18:51.08303Z",
     "shell.execute_reply": "2021-11-30T15:18:51.081978Z",
     "shell.execute_reply.started": "2021-11-30T15:18:51.059127Z"
    }
   },
   "outputs": [],
   "source": [
    "def get_bins():\n",
    "    \"\"\"\n",
    "    return a bin of floating values.\n",
    "    \"\"\"\n",
    "    # using np.arange is imprecise (the floating point results)\n",
    "    bins = []\n",
    "    bins.extend(list(range(-10, -2)))\n",
    "    for i in range(-3, 3):\n",
    "        bins.extend(np.array([0.2, 0.4, 0.6, 0.8, 1.0]) + i)\n",
    "    bins.extend(list(range(4, 11)))\n",
    "    \n",
    "    # quick fix for -0.2. Otherwise it returns -0.19999999999999996\n",
    "    bins[21]= -0.2\n",
    "    return bins\n",
    "\n",
    "def is_float(element) -> bool:\n",
    "    \"\"\"\n",
    "    return True is the string is convertible to float and False else\n",
    "    \"\"\"\n",
    "    try:\n",
    "        float(element)\n",
    "        return True\n",
    "    except ValueError:\n",
    "        return False\n",
    "\n",
    "def get_new_target(target):\n",
    "    \"\"\"\n",
    "    Modify the target by setting floating values to the closest equivalent in the bin. If it's not a float let the value as is.\n",
    "    \"\"\"\n",
    "    new_target = np.zeros(shape=target.shape, dtype=object)\n",
    "    bins = np.array(get_bins())\n",
    "    for i, element in enumerate(target):\n",
    "        if is_float(element):\n",
    "            new_val = bins[np.abs(bins-float(element)).argmin()]\n",
    "            new_target[i] = new_val\n",
    "        else:\n",
    "            new_target[i] = element\n",
    "    return new_target\n",
    "\n",
    "def add_tag(input_arr, tag=\"chess eval: \"):\n",
    "    new_input = np.zeros(shape=input_arr.shape, dtype=object)\n",
    "    for i, element in enumerate(input_arr):\n",
    "            new_input[i] = tag + element\n",
    "    return new_input\n"
   ]
  },
  {
   "cell_type": "code",
   "execution_count": null,
   "metadata": {
    "execution": {
     "iopub.execute_input": "2021-11-30T15:18:51.084791Z",
     "iopub.status.busy": "2021-11-30T15:18:51.084529Z",
     "iopub.status.idle": "2021-11-30T15:19:54.251884Z",
     "shell.execute_reply": "2021-11-30T15:19:54.250805Z",
     "shell.execute_reply.started": "2021-11-30T15:18:51.084761Z"
    }
   },
   "outputs": [],
   "source": [
    "new_input = add_tag(array[:, 0], \"chess eval: \")\n",
    "new_target = get_new_target(array[:, 1])"
   ]
  },
  {
   "cell_type": "code",
   "execution_count": null,
   "metadata": {
    "execution": {
     "iopub.execute_input": "2021-11-30T15:19:54.254378Z",
     "iopub.status.busy": "2021-11-30T15:19:54.253497Z",
     "iopub.status.idle": "2021-11-30T15:19:55.563594Z",
     "shell.execute_reply": "2021-11-30T15:19:55.562511Z",
     "shell.execute_reply.started": "2021-11-30T15:19:54.254329Z"
    }
   },
   "outputs": [],
   "source": [
    "new_array = np.copy(array)\n",
    "new_array[:, 0] = new_input\n",
    "new_array[:, 1] = new_target"
   ]
  },
  {
   "cell_type": "code",
   "execution_count": null,
   "metadata": {
    "execution": {
     "iopub.execute_input": "2021-11-30T15:19:55.565075Z",
     "iopub.status.busy": "2021-11-30T15:19:55.56478Z",
     "iopub.status.idle": "2021-11-30T15:21:49.99313Z",
     "shell.execute_reply": "2021-11-30T15:21:49.992222Z",
     "shell.execute_reply.started": "2021-11-30T15:19:55.565039Z"
    }
   },
   "outputs": [],
   "source": [
    "df2 = pd.DataFrame(data=new_array, columns=['input','target'])\n",
    "df2.to_csv(\"enc_dec_chess_evaluation.csv\", index=False)"
   ]
  },
  {
   "cell_type": "code",
   "execution_count": null,
   "metadata": {},
   "outputs": [],
   "source": []
  },
  {
   "cell_type": "code",
   "execution_count": null,
   "metadata": {},
   "outputs": [],
   "source": []
  }
 ],
 "metadata": {
  "kernelspec": {
   "display_name": "Python 3",
   "language": "python",
   "name": "python3"
  },
  "language_info": {
   "codemirror_mode": {
    "name": "ipython",
    "version": 3
   },
   "file_extension": ".py",
   "mimetype": "text/x-python",
   "name": "python",
   "nbconvert_exporter": "python",
   "pygments_lexer": "ipython3",
   "version": "3.8.2"
  }
 },
 "nbformat": 4,
 "nbformat_minor": 4
}
