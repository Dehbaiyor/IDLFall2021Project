{
 "cells": [
  {
   "cell_type": "code",
   "execution_count": null,
   "id": "d7eb7781",
   "metadata": {},
   "outputs": [],
   "source": [
    "import torch\n",
    "import torch.nn as nn\n",
    "import torch.optim as optim\n",
    "import spacy\n",
    "from utils import translate_sentence, bleu, save_checkpoint, load_checkpoint\n",
    "from torch.utils.tensorboard import SummaryWriter\n",
    "from torchtext.datasets import Multi30k\n",
    "from torchtext.data import Field, BucketIterator"
   ]
  },
  {
   "cell_type": "code",
   "execution_count": null,
   "id": "57cd8eaf",
   "metadata": {},
   "outputs": [],
   "source": [
    "tokenize = lambda x:,x.split()"
   ]
  },
  {
   "cell_type": "code",
   "execution_count": null,
   "id": "859e9576",
   "metadata": {},
   "outputs": [],
   "source": [
    "quote = Field(sequential = True, use_vocab = True, tokenize = tokenize)"
   ]
  },
  {
   "cell_type": "code",
   "execution_count": null,
   "id": "48c801ce",
   "metadata": {},
   "outputs": [],
   "source": [
    "score = Field(sequential = True, use_vocab = False)"
   ]
  },
  {
   "cell_type": "code",
   "execution_count": null,
   "id": "c7569fcf",
   "metadata": {},
   "outputs": [],
   "source": [
    "field = {'quote': ('q', quote), 'score': ('s', score)}"
   ]
  },
  {
   "cell_type": "code",
   "execution_count": null,
   "id": "1655bc0b",
   "metadata": {},
   "outputs": [],
   "source": [
    "TabularDataset"
   ]
  },
  {
   "cell_type": "code",
   "execution_count": null,
   "id": "04af0d97",
   "metadata": {},
   "outputs": [],
   "source": []
  },
  {
   "cell_type": "code",
   "execution_count": null,
   "id": "32444305",
   "metadata": {},
   "outputs": [],
   "source": []
  },
  {
   "cell_type": "code",
   "execution_count": null,
   "id": "ef5a67e4",
   "metadata": {},
   "outputs": [],
   "source": []
  }
 ],
 "metadata": {
  "kernelspec": {
   "display_name": "Python 3 (ipykernel)",
   "language": "python",
   "name": "python3"
  },
  "language_info": {
   "codemirror_mode": {
    "name": "ipython",
    "version": 3
   },
   "file_extension": ".py",
   "mimetype": "text/x-python",
   "name": "python",
   "nbconvert_exporter": "python",
   "pygments_lexer": "ipython3",
   "version": "3.7.10"
  }
 },
 "nbformat": 4,
 "nbformat_minor": 5
}
