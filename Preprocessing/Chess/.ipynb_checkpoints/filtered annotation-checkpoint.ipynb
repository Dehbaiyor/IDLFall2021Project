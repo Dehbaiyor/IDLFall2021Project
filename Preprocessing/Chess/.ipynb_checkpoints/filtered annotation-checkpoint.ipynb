{
 "cells": [
  {
   "cell_type": "code",
   "execution_count": null,
   "id": "613abdff",
   "metadata": {},
   "outputs": [],
   "source": [
    "import pandas as pd\n",
    "import re"
   ]
  },
  {
   "cell_type": "code",
   "execution_count": null,
   "id": "b446674d",
   "metadata": {},
   "outputs": [],
   "source": [
    "chess_data = pd.read_csv('../Data/all_with_filtered_anotations_since1998.txt', delimiter = ',').iloc[4:]"
   ]
  },
  {
   "cell_type": "code",
   "execution_count": 3,
   "id": "cf0c77de",
   "metadata": {},
   "outputs": [
    {
     "data": {
      "text/html": [
       "<div>\n",
       "<style scoped>\n",
       "    .dataframe tbody tr th:only-of-type {\n",
       "        vertical-align: middle;\n",
       "    }\n",
       "\n",
       "    .dataframe tbody tr th {\n",
       "        vertical-align: top;\n",
       "    }\n",
       "\n",
       "    .dataframe thead th {\n",
       "        text-align: right;\n",
       "    }\n",
       "</style>\n",
       "<table border=\"1\" class=\"dataframe\">\n",
       "  <thead>\n",
       "    <tr style=\"text-align: right;\">\n",
       "      <th></th>\n",
       "      <th># #</th>\n",
       "    </tr>\n",
       "  </thead>\n",
       "  <tbody>\n",
       "    <tr>\n",
       "      <th>4</th>\n",
       "      <td>1 2000.03.14 1-0 2851 None 67 date_false resul...</td>\n",
       "    </tr>\n",
       "    <tr>\n",
       "      <th>5</th>\n",
       "      <td>2 2000.03.14 1-0 2851 None 53 date_false resul...</td>\n",
       "    </tr>\n",
       "    <tr>\n",
       "      <th>6</th>\n",
       "      <td>3 1999.11.20 1-0 2851 None 57 date_false resul...</td>\n",
       "    </tr>\n",
       "    <tr>\n",
       "      <th>7</th>\n",
       "      <td>4 1999.11.20 1-0 2851 None 49 date_false resul...</td>\n",
       "    </tr>\n",
       "    <tr>\n",
       "      <th>8</th>\n",
       "      <td>5 2000.02.20 1/2-1/2 2851 2633 97 date_false r...</td>\n",
       "    </tr>\n",
       "  </tbody>\n",
       "</table>\n",
       "</div>"
      ],
      "text/plain": [
       "                                                 # #\n",
       "4  1 2000.03.14 1-0 2851 None 67 date_false resul...\n",
       "5  2 2000.03.14 1-0 2851 None 53 date_false resul...\n",
       "6  3 1999.11.20 1-0 2851 None 57 date_false resul...\n",
       "7  4 1999.11.20 1-0 2851 None 49 date_false resul...\n",
       "8  5 2000.02.20 1/2-1/2 2851 2633 97 date_false r..."
      ]
     },
     "execution_count": 3,
     "metadata": {},
     "output_type": "execute_result"
    }
   ],
   "source": [
    "chess_data.head()"
   ]
  },
  {
   "cell_type": "code",
   "execution_count": 5,
   "id": "76394ce1",
   "metadata": {},
   "outputs": [],
   "source": [
    "def clean(text):\n",
    "    splt = text.split('###')\n",
    "    strng = splt[-1] + splt[0].split()[2]\n",
    "    return re.sub(r'[BW][0-9]+\\.', '', strng).lstrip()"
   ]
  },
  {
   "cell_type": "code",
   "execution_count": 8,
   "id": "363c8b2b",
   "metadata": {},
   "outputs": [],
   "source": [
    "chess_data['PGN'] = chess_data['# #'].apply(clean)"
   ]
  },
  {
   "cell_type": "code",
   "execution_count": null,
   "id": "1c141acf",
   "metadata": {},
   "outputs": [],
   "source": [
    "chess_data.to_csv('cleaned_filtered_annotations.csv', index = False)"
   ]
  },
  {
   "cell_type": "code",
   "execution_count": null,
   "id": "fea54b1d",
   "metadata": {},
   "outputs": [],
   "source": []
  },
  {
   "cell_type": "code",
   "execution_count": null,
   "id": "f0edaad5",
   "metadata": {},
   "outputs": [],
   "source": []
  }
 ],
 "metadata": {
  "kernelspec": {
   "display_name": "Python 3 (ipykernel)",
   "language": "python",
   "name": "python3"
  },
  "language_info": {
   "codemirror_mode": {
    "name": "ipython",
    "version": 3
   },
   "file_extension": ".py",
   "mimetype": "text/x-python",
   "name": "python",
   "nbconvert_exporter": "python",
   "pygments_lexer": "ipython3",
   "version": "3.7.10"
  }
 },
 "nbformat": 4,
 "nbformat_minor": 5
}
