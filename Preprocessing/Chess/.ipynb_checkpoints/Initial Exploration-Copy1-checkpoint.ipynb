{
 "cells": [
  {
   "cell_type": "code",
   "execution_count": 1,
   "id": "df0ca496",
   "metadata": {},
   "outputs": [],
   "source": [
    "import pandas as pd\n",
    "import chess\n",
    "from tqdm import tqdm"
   ]
  },
  {
   "cell_type": "code",
   "execution_count": 20,
   "id": "7435f7a0",
   "metadata": {},
   "outputs": [],
   "source": [
    "prompted = pd.DataFrame(pd.read_csv('../Data/prompted_chess.csv').T.values.flatten().tolist(), columns=['game'])\n",
    "general = pd.DataFrame(pd.read_csv('../Data/general_chess.csv').T.values.flatten().tolist(), columns=['game'])\n",
    "df = general.append(prompted)"
   ]
  },
  {
   "cell_type": "code",
   "execution_count": 26,
   "id": "00085fab",
   "metadata": {},
   "outputs": [
    {
     "data": {
      "text/plain": [
       "0.020807708541891397"
      ]
     },
     "execution_count": 26,
     "metadata": {},
     "output_type": "execute_result"
    }
   ],
   "source": [
    "df.game.str.count('O-O').sum()/df.game.str.split().dropna().apply(len).sum() #KingsideCastle"
   ]
  },
  {
   "cell_type": "code",
   "execution_count": 27,
   "id": "d597b361",
   "metadata": {},
   "outputs": [
    {
     "data": {
      "text/plain": [
       "0.0016967005396102668"
      ]
     },
     "execution_count": 27,
     "metadata": {},
     "output_type": "execute_result"
    }
   ],
   "source": [
    "df.game.str.count('O-O-O').sum()/df.game.str.split().dropna().apply(len).sum() #KingsideCastle"
   ]
  },
  {
   "cell_type": "code",
   "execution_count": null,
   "id": "76a51307",
   "metadata": {},
   "outputs": [],
   "source": []
  },
  {
   "cell_type": "code",
   "execution_count": null,
   "id": "b93c07a3",
   "metadata": {},
   "outputs": [],
   "source": []
  },
  {
   "cell_type": "code",
   "execution_count": null,
   "id": "5ab6e408",
   "metadata": {},
   "outputs": [],
   "source": []
  },
  {
   "cell_type": "code",
   "execution_count": null,
   "id": "5924149d",
   "metadata": {},
   "outputs": [],
   "source": []
  },
  {
   "cell_type": "markdown",
   "id": "5409a585",
   "metadata": {},
   "source": [
    "!pip install chess-board"
   ]
  },
  {
   "cell_type": "code",
   "execution_count": 5,
   "id": "e7243cdd",
   "metadata": {
    "scrolled": false
   },
   "outputs": [
    {
     "name": "stderr",
     "output_type": "stream",
     "text": [
      "100%|███████████████████████████████████████████████████████████████████████████| 30000/30000 [02:18<00:00, 216.64it/s]\n"
     ]
    }
   ],
   "source": [
    "global_moves = 0\n",
    "global_illegal = 0\n",
    "generate_after_game_end = 0\n",
    "\n",
    "for line in tqdm(prompted):\n",
    "    try:\n",
    "        moves = line.split()[:-1]\n",
    "    except:\n",
    "        continue\n",
    "        \n",
    "    board = chess.Board()\n",
    "\n",
    "    illegal = 0\n",
    "\n",
    "    for move in moves:\n",
    "        try:\n",
    "            move = board.parse_san(move)\n",
    "        except:\n",
    "            legal_moves = list(board.legal_moves)\n",
    "            if len(legal_moves) == 0:\n",
    "                #display(board)\n",
    "                generate_after_game_end += 1\n",
    "                break\n",
    "            move = legal_moves[0]\n",
    "            illegal += 1\n",
    "\n",
    "        board.push(move)\n",
    "        #display(board)\n",
    "\n",
    "    #print('Total number of moves; ', len(lines))\n",
    "    #aprint('Total number of illegal: ', illegal)\n",
    "    #display(board)\n",
    "    global_moves += len(moves)\n",
    "    global_illegal += illegal\n",
    "    "
   ]
  },
  {
   "cell_type": "code",
   "execution_count": 6,
   "id": "a89c6fd6",
   "metadata": {},
   "outputs": [
    {
     "data": {
      "text/plain": [
       "(0.278860712541121, 54, 30000)"
      ]
     },
     "execution_count": 6,
     "metadata": {},
     "output_type": "execute_result"
    }
   ],
   "source": [
    "global_illegal/ global_moves, generate_after_game_end, len(prompted)"
   ]
  },
  {
   "cell_type": "code",
   "execution_count": 8,
   "id": "f9d42551",
   "metadata": {},
   "outputs": [
    {
     "name": "stderr",
     "output_type": "stream",
     "text": [
      "100%|███████████████████████████████████████████████████████████████████████████| 49950/49950 [02:30<00:00, 332.51it/s]\n"
     ]
    }
   ],
   "source": [
    "global_moves = 0\n",
    "global_illegal = 0\n",
    "generate_after_game_end = 0\n",
    "\n",
    "for line in tqdm(general):\n",
    "    try:\n",
    "        moves = line.split()[:-1]\n",
    "    except:\n",
    "        continue\n",
    "        \n",
    "    board = chess.Board()\n",
    "\n",
    "    illegal = 0\n",
    "\n",
    "    for move in moves:\n",
    "        try:\n",
    "            move = board.parse_san(move)\n",
    "        except:\n",
    "            legal_moves = list(board.legal_moves)\n",
    "            if len(legal_moves) == 0:\n",
    "                #display(board)\n",
    "                generate_after_game_end += 1\n",
    "                break\n",
    "            move = legal_moves[0]\n",
    "            illegal += 1\n",
    "\n",
    "        board.push(move)\n",
    "\n",
    "    #print('Total number of moves; ', len(lines))\n",
    "    #aprint('Total number of illegal: ', illegal)\n",
    "    #display(board)\n",
    "    global_moves += len(moves)\n",
    "    global_illegal += illegal"
   ]
  },
  {
   "cell_type": "code",
   "execution_count": 9,
   "id": "10085f89",
   "metadata": {},
   "outputs": [
    {
     "data": {
      "text/plain": [
       "(0.09476453996661321, 38, 49950)"
      ]
     },
     "execution_count": 9,
     "metadata": {},
     "output_type": "execute_result"
    }
   ],
   "source": [
    "global_illegal/ global_moves, generate_after_game_end, len(general)"
   ]
  },
  {
   "cell_type": "code",
   "execution_count": 1,
   "id": "3f6a73d0",
   "metadata": {},
   "outputs": [
    {
     "data": {
      "text/plain": [
       "7.125"
      ]
     },
     "execution_count": 1,
     "metadata": {},
     "output_type": "execute_result"
    }
   ],
   "source": [
    "0.5 * 5.25 + 0.3 * 15."
   ]
  },
  {
   "cell_type": "code",
   "execution_count": null,
   "id": "e32ff0d8",
   "metadata": {},
   "outputs": [],
   "source": []
  },
  {
   "cell_type": "code",
   "execution_count": null,
   "id": "a2e861ec",
   "metadata": {},
   "outputs": [],
   "source": [
    "import io\n",
    "\n",
    "pgn = io.StringIO(moves)\n",
    "\n",
    "game = chess.pgn.read_game(pgn)\n",
    "#board = game.board()\n",
    "\n",
    "#illegal = 0\n",
    "#for move in game.mainline_moves():\n",
    "#    legal_moves = list(board.legal_moves)\n",
    "#    if move in legal_moves:\n",
    "        #move = board.san(move)\n",
    " #       board.push(move)\n",
    "#    else:\n",
    "#        illegal \n",
    "#        move = board.san(legal_moves[0])\n",
    "#       board.push(move)\n",
    "#      print(illegal)"
   ]
  },
  {
   "cell_type": "code",
   "execution_count": null,
   "id": "4c38f948",
   "metadata": {},
   "outputs": [],
   "source": []
  },
  {
   "cell_type": "code",
   "execution_count": null,
   "id": "5e34828a",
   "metadata": {},
   "outputs": [],
   "source": []
  },
  {
   "cell_type": "code",
   "execution_count": null,
   "id": "b64f6bf8",
   "metadata": {},
   "outputs": [],
   "source": [
    "pgn = open('../Data/ficsgamesdb_search_224769.pgn')\n",
    "\n",
    "my_list = []\n",
    "while True:\n",
    "    game = chess.pgn.read_game(pgn)\n",
    "    \n",
    "    if game is None:\n",
    "        break  # end of file\n",
    "        \n",
    "    game_str = \"\"\n",
    "    board = game.board()\n",
    "    for move in game.mainline_moves():\n",
    "        game_str += board.san(move) + ' '\n",
    "        board.push(move)\n",
    "        \n",
    "    game_str += game.headers['Result']\n",
    "    my_list.append(game_str)"
   ]
  },
  {
   "cell_type": "code",
   "execution_count": null,
   "id": "db73d138",
   "metadata": {},
   "outputs": [],
   "source": [
    "len(my_list)"
   ]
  },
  {
   "cell_type": "code",
   "execution_count": null,
   "id": "a45e6975",
   "metadata": {},
   "outputs": [],
   "source": [
    "print(my_list[4999])"
   ]
  },
  {
   "cell_type": "code",
   "execution_count": null,
   "id": "7d65f68b",
   "metadata": {},
   "outputs": [],
   "source": []
  }
 ],
 "metadata": {
  "kernelspec": {
   "display_name": "Python 3 (ipykernel)",
   "language": "python",
   "name": "python3"
  },
  "language_info": {
   "codemirror_mode": {
    "name": "ipython",
    "version": 3
   },
   "file_extension": ".py",
   "mimetype": "text/x-python",
   "name": "python",
   "nbconvert_exporter": "python",
   "pygments_lexer": "ipython3",
   "version": "3.7.10"
  }
 },
 "nbformat": 4,
 "nbformat_minor": 5
}
