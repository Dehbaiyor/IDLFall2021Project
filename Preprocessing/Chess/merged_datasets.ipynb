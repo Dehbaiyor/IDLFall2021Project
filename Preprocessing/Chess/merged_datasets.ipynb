{
 "cells": [
  {
   "cell_type": "code",
   "execution_count": 1,
   "id": "1b554217",
   "metadata": {},
   "outputs": [],
   "source": [
    "import pandas as pd"
   ]
  },
  {
   "cell_type": "code",
   "execution_count": 14,
   "id": "18e25a7a",
   "metadata": {},
   "outputs": [],
   "source": [
    "lichess = pd.read_csv('../Data/lichess_elite.csv')"
   ]
  },
  {
   "cell_type": "code",
   "execution_count": 60,
   "id": "5cc5ac68",
   "metadata": {},
   "outputs": [],
   "source": [
    "chess_commentary = pd.read_csv('../Data/Commentary/cleaned_commentary2.csv')"
   ]
  },
  {
   "cell_type": "code",
   "execution_count": 8,
   "id": "811d2851",
   "metadata": {},
   "outputs": [],
   "source": [
    "eng_commentary = pd.read_csv('../Data/blogtext/blog.csv')"
   ]
  },
  {
   "cell_type": "code",
   "execution_count": 9,
   "id": "3f62af53",
   "metadata": {},
   "outputs": [
    {
     "data": {
      "text/html": [
       "<div>\n",
       "<style scoped>\n",
       "    .dataframe tbody tr th:only-of-type {\n",
       "        vertical-align: middle;\n",
       "    }\n",
       "\n",
       "    .dataframe tbody tr th {\n",
       "        vertical-align: top;\n",
       "    }\n",
       "\n",
       "    .dataframe thead th {\n",
       "        text-align: right;\n",
       "    }\n",
       "</style>\n",
       "<table border=\"1\" class=\"dataframe\">\n",
       "  <thead>\n",
       "    <tr style=\"text-align: right;\">\n",
       "      <th></th>\n",
       "      <th>PGN</th>\n",
       "    </tr>\n",
       "  </thead>\n",
       "  <tbody>\n",
       "    <tr>\n",
       "      <th>0</th>\n",
       "      <td>e4 d5 exd5 Qxd5 Nc3 Qa5 d4 c6 Nf3 Nf6 Bc4 Bg4 ...</td>\n",
       "    </tr>\n",
       "    <tr>\n",
       "      <th>1</th>\n",
       "      <td>d4 d5 Nc3 Nf6 Bg5 Nbd7 a3 h6 Bh4 c6 h3 e5 dxe5...</td>\n",
       "    </tr>\n",
       "    <tr>\n",
       "      <th>2</th>\n",
       "      <td>d4 d5 Nc3 Nf6 Bg5 Nbd7 Nf3 g6 Qd2 Ne4 Nxe4 dxe...</td>\n",
       "    </tr>\n",
       "    <tr>\n",
       "      <th>3</th>\n",
       "      <td>e4 d5 exd5 Qxd5 Nc3 Qa5 d4 c6 Nf3 Nf6 Bd2 Qc7 ...</td>\n",
       "    </tr>\n",
       "    <tr>\n",
       "      <th>4</th>\n",
       "      <td>Nf3 Nf6 g3 d5 Bg2 Bg4 O-O Nbd7 b3 e5 Bb2 Bd6 d...</td>\n",
       "    </tr>\n",
       "  </tbody>\n",
       "</table>\n",
       "</div>"
      ],
      "text/plain": [
       "                                                 PGN\n",
       "0  e4 d5 exd5 Qxd5 Nc3 Qa5 d4 c6 Nf3 Nf6 Bc4 Bg4 ...\n",
       "1  d4 d5 Nc3 Nf6 Bg5 Nbd7 a3 h6 Bh4 c6 h3 e5 dxe5...\n",
       "2  d4 d5 Nc3 Nf6 Bg5 Nbd7 Nf3 g6 Qd2 Ne4 Nxe4 dxe...\n",
       "3  e4 d5 exd5 Qxd5 Nc3 Qa5 d4 c6 Nf3 Nf6 Bd2 Qc7 ...\n",
       "4  Nf3 Nf6 g3 d5 Bg2 Bg4 O-O Nbd7 b3 e5 Bb2 Bd6 d..."
      ]
     },
     "execution_count": 9,
     "metadata": {},
     "output_type": "execute_result"
    }
   ],
   "source": [
    "lichess.head()"
   ]
  },
  {
   "cell_type": "code",
   "execution_count": 61,
   "id": "e219ea22",
   "metadata": {},
   "outputs": [
    {
     "data": {
      "text/html": [
       "<div>\n",
       "<style scoped>\n",
       "    .dataframe tbody tr th:only-of-type {\n",
       "        vertical-align: middle;\n",
       "    }\n",
       "\n",
       "    .dataframe tbody tr th {\n",
       "        vertical-align: top;\n",
       "    }\n",
       "\n",
       "    .dataframe thead th {\n",
       "        text-align: right;\n",
       "    }\n",
       "</style>\n",
       "<table border=\"1\" class=\"dataframe\">\n",
       "  <thead>\n",
       "    <tr style=\"text-align: right;\">\n",
       "      <th></th>\n",
       "      <th>moves</th>\n",
       "      <th>commentary</th>\n",
       "    </tr>\n",
       "  </thead>\n",
       "  <tbody>\n",
       "    <tr>\n",
       "      <th>0</th>\n",
       "      <td>e4 c5</td>\n",
       "      <td>still my favourite reply to e4: the Sicilian.</td>\n",
       "    </tr>\n",
       "    <tr>\n",
       "      <th>1</th>\n",
       "      <td>e4 c5 Nf3 g6 Ne5 Bg7 f4 e6</td>\n",
       "      <td>just striving for my usual setup in the Hungar...</td>\n",
       "    </tr>\n",
       "    <tr>\n",
       "      <th>2</th>\n",
       "      <td>e4 c5 Nf3 g6 Ne5 Bg7 f4 e6 Bb5</td>\n",
       "      <td>exotic, to say the least.</td>\n",
       "    </tr>\n",
       "    <tr>\n",
       "      <th>3</th>\n",
       "      <td>e4 c5 Nf3 g6 Ne5 Bg7 f4 e6 Bb5 Ne7</td>\n",
       "      <td>Black could of course consider  . Bxe5,  fxe5 ...</td>\n",
       "    </tr>\n",
       "    <tr>\n",
       "      <th>4</th>\n",
       "      <td>e4 c5 Nf3 g6 Ne5 Bg7 f4 e6 Bb5 Ne7 O-O O-O Nc4</td>\n",
       "      <td>White realizes, that Ne5 does not really help:...</td>\n",
       "    </tr>\n",
       "  </tbody>\n",
       "</table>\n",
       "</div>"
      ],
      "text/plain": [
       "                                            moves  \\\n",
       "0                                           e4 c5   \n",
       "1                      e4 c5 Nf3 g6 Ne5 Bg7 f4 e6   \n",
       "2                  e4 c5 Nf3 g6 Ne5 Bg7 f4 e6 Bb5   \n",
       "3              e4 c5 Nf3 g6 Ne5 Bg7 f4 e6 Bb5 Ne7   \n",
       "4  e4 c5 Nf3 g6 Ne5 Bg7 f4 e6 Bb5 Ne7 O-O O-O Nc4   \n",
       "\n",
       "                                          commentary  \n",
       "0      still my favourite reply to e4: the Sicilian.  \n",
       "1  just striving for my usual setup in the Hungar...  \n",
       "2                          exotic, to say the least.  \n",
       "3  Black could of course consider  . Bxe5,  fxe5 ...  \n",
       "4  White realizes, that Ne5 does not really help:...  "
      ]
     },
     "execution_count": 61,
     "metadata": {},
     "output_type": "execute_result"
    }
   ],
   "source": [
    "chess_commentary.head()"
   ]
  },
  {
   "cell_type": "code",
   "execution_count": 11,
   "id": "67497c10",
   "metadata": {},
   "outputs": [
    {
     "data": {
      "text/html": [
       "<div>\n",
       "<style scoped>\n",
       "    .dataframe tbody tr th:only-of-type {\n",
       "        vertical-align: middle;\n",
       "    }\n",
       "\n",
       "    .dataframe tbody tr th {\n",
       "        vertical-align: top;\n",
       "    }\n",
       "\n",
       "    .dataframe thead th {\n",
       "        text-align: right;\n",
       "    }\n",
       "</style>\n",
       "<table border=\"1\" class=\"dataframe\">\n",
       "  <thead>\n",
       "    <tr style=\"text-align: right;\">\n",
       "      <th></th>\n",
       "      <th>text</th>\n",
       "    </tr>\n",
       "  </thead>\n",
       "  <tbody>\n",
       "    <tr>\n",
       "      <th>0</th>\n",
       "      <td>Info has been found (+/- 100 pages,...</td>\n",
       "    </tr>\n",
       "    <tr>\n",
       "      <th>1</th>\n",
       "      <td>These are the team members:   Drewe...</td>\n",
       "    </tr>\n",
       "    <tr>\n",
       "      <th>2</th>\n",
       "      <td>In het kader van kernfusie op aarde...</td>\n",
       "    </tr>\n",
       "    <tr>\n",
       "      <th>3</th>\n",
       "      <td>testing!!!  testing!!!</td>\n",
       "    </tr>\n",
       "    <tr>\n",
       "      <th>4</th>\n",
       "      <td>Thanks to Yahoo!'s Toolbar I can ...</td>\n",
       "    </tr>\n",
       "  </tbody>\n",
       "</table>\n",
       "</div>"
      ],
      "text/plain": [
       "                                                text\n",
       "0             Info has been found (+/- 100 pages,...\n",
       "1             These are the team members:   Drewe...\n",
       "2             In het kader van kernfusie op aarde...\n",
       "3                   testing!!!  testing!!!          \n",
       "4               Thanks to Yahoo!'s Toolbar I can ..."
      ]
     },
     "execution_count": 11,
     "metadata": {},
     "output_type": "execute_result"
    }
   ],
   "source": [
    "eng_commentary.head()"
   ]
  },
  {
   "cell_type": "code",
   "execution_count": 15,
   "id": "f4a54bd2",
   "metadata": {},
   "outputs": [],
   "source": [
    "lichess['PGN'] = '[CHESS] ' + lichess['PGN']"
   ]
  },
  {
   "cell_type": "code",
   "execution_count": 62,
   "id": "86d7b0d9",
   "metadata": {},
   "outputs": [],
   "source": [
    "chess_commentary['text'] = chess_commentary['moves'] + ' [EXPLAIN] ' + chess_commentary['commentary']"
   ]
  },
  {
   "cell_type": "code",
   "execution_count": 18,
   "id": "3d9004c5",
   "metadata": {},
   "outputs": [],
   "source": [
    "eng_commentary['text'] = '[ENGLISH] ' + eng_commentary['text']"
   ]
  },
  {
   "cell_type": "code",
   "execution_count": 19,
   "id": "9a43d1e6",
   "metadata": {},
   "outputs": [
    {
     "data": {
      "text/html": [
       "<div>\n",
       "<style scoped>\n",
       "    .dataframe tbody tr th:only-of-type {\n",
       "        vertical-align: middle;\n",
       "    }\n",
       "\n",
       "    .dataframe tbody tr th {\n",
       "        vertical-align: top;\n",
       "    }\n",
       "\n",
       "    .dataframe thead th {\n",
       "        text-align: right;\n",
       "    }\n",
       "</style>\n",
       "<table border=\"1\" class=\"dataframe\">\n",
       "  <thead>\n",
       "    <tr style=\"text-align: right;\">\n",
       "      <th></th>\n",
       "      <th>PGN</th>\n",
       "    </tr>\n",
       "  </thead>\n",
       "  <tbody>\n",
       "    <tr>\n",
       "      <th>0</th>\n",
       "      <td>[CHESS] e4 d5 exd5 Qxd5 Nc3 Qa5 d4 c6 Nf3 Nf6 ...</td>\n",
       "    </tr>\n",
       "    <tr>\n",
       "      <th>1</th>\n",
       "      <td>[CHESS] d4 d5 Nc3 Nf6 Bg5 Nbd7 a3 h6 Bh4 c6 h3...</td>\n",
       "    </tr>\n",
       "    <tr>\n",
       "      <th>2</th>\n",
       "      <td>[CHESS] d4 d5 Nc3 Nf6 Bg5 Nbd7 Nf3 g6 Qd2 Ne4 ...</td>\n",
       "    </tr>\n",
       "    <tr>\n",
       "      <th>3</th>\n",
       "      <td>[CHESS] e4 d5 exd5 Qxd5 Nc3 Qa5 d4 c6 Nf3 Nf6 ...</td>\n",
       "    </tr>\n",
       "    <tr>\n",
       "      <th>4</th>\n",
       "      <td>[CHESS] Nf3 Nf6 g3 d5 Bg2 Bg4 O-O Nbd7 b3 e5 B...</td>\n",
       "    </tr>\n",
       "  </tbody>\n",
       "</table>\n",
       "</div>"
      ],
      "text/plain": [
       "                                                 PGN\n",
       "0  [CHESS] e4 d5 exd5 Qxd5 Nc3 Qa5 d4 c6 Nf3 Nf6 ...\n",
       "1  [CHESS] d4 d5 Nc3 Nf6 Bg5 Nbd7 a3 h6 Bh4 c6 h3...\n",
       "2  [CHESS] d4 d5 Nc3 Nf6 Bg5 Nbd7 Nf3 g6 Qd2 Ne4 ...\n",
       "3  [CHESS] e4 d5 exd5 Qxd5 Nc3 Qa5 d4 c6 Nf3 Nf6 ...\n",
       "4  [CHESS] Nf3 Nf6 g3 d5 Bg2 Bg4 O-O Nbd7 b3 e5 B..."
      ]
     },
     "execution_count": 19,
     "metadata": {},
     "output_type": "execute_result"
    }
   ],
   "source": [
    "lichess.head()"
   ]
  },
  {
   "cell_type": "code",
   "execution_count": 57,
   "id": "d186639c",
   "metadata": {},
   "outputs": [
    {
     "data": {
      "text/html": [
       "<div>\n",
       "<style scoped>\n",
       "    .dataframe tbody tr th:only-of-type {\n",
       "        vertical-align: middle;\n",
       "    }\n",
       "\n",
       "    .dataframe tbody tr th {\n",
       "        vertical-align: top;\n",
       "    }\n",
       "\n",
       "    .dataframe thead th {\n",
       "        text-align: right;\n",
       "    }\n",
       "</style>\n",
       "<table border=\"1\" class=\"dataframe\">\n",
       "  <thead>\n",
       "    <tr style=\"text-align: right;\">\n",
       "      <th></th>\n",
       "      <th>moves</th>\n",
       "      <th>commentary</th>\n",
       "      <th>text</th>\n",
       "    </tr>\n",
       "  </thead>\n",
       "  <tbody>\n",
       "    <tr>\n",
       "      <th>0</th>\n",
       "      <td>1.e4 c5</td>\n",
       "      <td>still my favourite reply to e4: the Sicilian.</td>\n",
       "      <td>1.e4 c5 [EXPLAIN] still my favourite reply to ...</td>\n",
       "    </tr>\n",
       "    <tr>\n",
       "      <th>1</th>\n",
       "      <td>1.e4 c5 2.Nf3 g6 3.Ne5 Bg7 4.f4 e6</td>\n",
       "      <td>just striving for my usual setup in the Hungar...</td>\n",
       "      <td>1.e4 c5 2.Nf3 g6 3.Ne5 Bg7 4.f4 e6 [EXPLAIN] j...</td>\n",
       "    </tr>\n",
       "    <tr>\n",
       "      <th>2</th>\n",
       "      <td>1.e4 c5 2.Nf3 g6 3.Ne5 Bg7 4.f4 e6 5.Bb5</td>\n",
       "      <td>exotic, to say the least.</td>\n",
       "      <td>1.e4 c5 2.Nf3 g6 3.Ne5 Bg7 4.f4 e6 5.Bb5 [EXPL...</td>\n",
       "    </tr>\n",
       "    <tr>\n",
       "      <th>3</th>\n",
       "      <td>1.e4 c5 2.Nf3 g6 3.Ne5 Bg7 4.f4 e6 5.Bb5 5...Ne7</td>\n",
       "      <td>Black could of course consider  . Bxe5,  fxe5 ...</td>\n",
       "      <td>1.e4 c5 2.Nf3 g6 3.Ne5 Bg7 4.f4 e6 5.Bb5 5...N...</td>\n",
       "    </tr>\n",
       "    <tr>\n",
       "      <th>4</th>\n",
       "      <td>1.e4 c5 2.Nf3 g6 3.Ne5 Bg7 4.f4 e6 5.Bb5 5...N...</td>\n",
       "      <td>White realizes, that Ne5 does not really help:...</td>\n",
       "      <td>1.e4 c5 2.Nf3 g6 3.Ne5 Bg7 4.f4 e6 5.Bb5 5...N...</td>\n",
       "    </tr>\n",
       "  </tbody>\n",
       "</table>\n",
       "</div>"
      ],
      "text/plain": [
       "                                               moves  \\\n",
       "0                                            1.e4 c5   \n",
       "1                 1.e4 c5 2.Nf3 g6 3.Ne5 Bg7 4.f4 e6   \n",
       "2           1.e4 c5 2.Nf3 g6 3.Ne5 Bg7 4.f4 e6 5.Bb5   \n",
       "3   1.e4 c5 2.Nf3 g6 3.Ne5 Bg7 4.f4 e6 5.Bb5 5...Ne7   \n",
       "4  1.e4 c5 2.Nf3 g6 3.Ne5 Bg7 4.f4 e6 5.Bb5 5...N...   \n",
       "\n",
       "                                          commentary  \\\n",
       "0      still my favourite reply to e4: the Sicilian.   \n",
       "1  just striving for my usual setup in the Hungar...   \n",
       "2                          exotic, to say the least.   \n",
       "3  Black could of course consider  . Bxe5,  fxe5 ...   \n",
       "4  White realizes, that Ne5 does not really help:...   \n",
       "\n",
       "                                                text  \n",
       "0  1.e4 c5 [EXPLAIN] still my favourite reply to ...  \n",
       "1  1.e4 c5 2.Nf3 g6 3.Ne5 Bg7 4.f4 e6 [EXPLAIN] j...  \n",
       "2  1.e4 c5 2.Nf3 g6 3.Ne5 Bg7 4.f4 e6 5.Bb5 [EXPL...  \n",
       "3  1.e4 c5 2.Nf3 g6 3.Ne5 Bg7 4.f4 e6 5.Bb5 5...N...  \n",
       "4  1.e4 c5 2.Nf3 g6 3.Ne5 Bg7 4.f4 e6 5.Bb5 5...N...  "
      ]
     },
     "execution_count": 57,
     "metadata": {},
     "output_type": "execute_result"
    }
   ],
   "source": [
    "chess_commentary.head()"
   ]
  },
  {
   "cell_type": "code",
   "execution_count": 21,
   "id": "c77e1c5d",
   "metadata": {},
   "outputs": [
    {
     "data": {
      "text/html": [
       "<div>\n",
       "<style scoped>\n",
       "    .dataframe tbody tr th:only-of-type {\n",
       "        vertical-align: middle;\n",
       "    }\n",
       "\n",
       "    .dataframe tbody tr th {\n",
       "        vertical-align: top;\n",
       "    }\n",
       "\n",
       "    .dataframe thead th {\n",
       "        text-align: right;\n",
       "    }\n",
       "</style>\n",
       "<table border=\"1\" class=\"dataframe\">\n",
       "  <thead>\n",
       "    <tr style=\"text-align: right;\">\n",
       "      <th></th>\n",
       "      <th>text</th>\n",
       "    </tr>\n",
       "  </thead>\n",
       "  <tbody>\n",
       "    <tr>\n",
       "      <th>0</th>\n",
       "      <td>[ENGLISH]            Info has been found (+/- ...</td>\n",
       "    </tr>\n",
       "    <tr>\n",
       "      <th>1</th>\n",
       "      <td>[ENGLISH]            These are the team member...</td>\n",
       "    </tr>\n",
       "    <tr>\n",
       "      <th>2</th>\n",
       "      <td>[ENGLISH]            In het kader van kernfusi...</td>\n",
       "    </tr>\n",
       "    <tr>\n",
       "      <th>3</th>\n",
       "      <td>[ENGLISH]            testing!!!  testing!!!   ...</td>\n",
       "    </tr>\n",
       "    <tr>\n",
       "      <th>4</th>\n",
       "      <td>[ENGLISH]              Thanks to Yahoo!'s Tool...</td>\n",
       "    </tr>\n",
       "  </tbody>\n",
       "</table>\n",
       "</div>"
      ],
      "text/plain": [
       "                                                text\n",
       "0  [ENGLISH]            Info has been found (+/- ...\n",
       "1  [ENGLISH]            These are the team member...\n",
       "2  [ENGLISH]            In het kader van kernfusi...\n",
       "3  [ENGLISH]            testing!!!  testing!!!   ...\n",
       "4  [ENGLISH]              Thanks to Yahoo!'s Tool..."
      ]
     },
     "execution_count": 21,
     "metadata": {},
     "output_type": "execute_result"
    }
   ],
   "source": [
    "eng_commentary.head()"
   ]
  },
  {
   "cell_type": "code",
   "execution_count": 22,
   "id": "ee7aa377",
   "metadata": {},
   "outputs": [
    {
     "name": "stderr",
     "output_type": "stream",
     "text": [
      "Warning : `load_model` does not return WordVectorModel or SupervisedModel any more, but a `FastText` object which is very similar.\n"
     ]
    }
   ],
   "source": [
    "import fasttext\n",
    "\n",
    "PRETRAINED_MODEL_PATH = '../Data/Commentary/lid.176.bin'\n",
    "model = fasttext.load_model(PRETRAINED_MODEL_PATH)"
   ]
  },
  {
   "cell_type": "code",
   "execution_count": 23,
   "id": "ef28a392",
   "metadata": {},
   "outputs": [],
   "source": [
    "def detect(text):\n",
    "    predictions = model.predict(text)\n",
    "    return predictions[0][0].replace('__label__', '')"
   ]
  },
  {
   "cell_type": "code",
   "execution_count": 24,
   "id": "97012bfb",
   "metadata": {},
   "outputs": [],
   "source": [
    "eng_commentary['language'] = eng_commentary['text'].apply(detect)"
   ]
  },
  {
   "cell_type": "code",
   "execution_count": 29,
   "id": "92119ab8",
   "metadata": {},
   "outputs": [],
   "source": [
    "eng_commentary = eng_commentary[eng_commentary['language'] == 'en']"
   ]
  },
  {
   "cell_type": "code",
   "execution_count": 33,
   "id": "4be2a415",
   "metadata": {},
   "outputs": [
    {
     "data": {
      "text/html": [
       "<div>\n",
       "<style scoped>\n",
       "    .dataframe tbody tr th:only-of-type {\n",
       "        vertical-align: middle;\n",
       "    }\n",
       "\n",
       "    .dataframe tbody tr th {\n",
       "        vertical-align: top;\n",
       "    }\n",
       "\n",
       "    .dataframe thead th {\n",
       "        text-align: right;\n",
       "    }\n",
       "</style>\n",
       "<table border=\"1\" class=\"dataframe\">\n",
       "  <thead>\n",
       "    <tr style=\"text-align: right;\">\n",
       "      <th></th>\n",
       "      <th>text</th>\n",
       "      <th>language</th>\n",
       "    </tr>\n",
       "  </thead>\n",
       "  <tbody>\n",
       "    <tr>\n",
       "      <th>0</th>\n",
       "      <td>[ENGLISH]            Info has been found (+/- ...</td>\n",
       "      <td>en</td>\n",
       "    </tr>\n",
       "  </tbody>\n",
       "</table>\n",
       "</div>"
      ],
      "text/plain": [
       "                                                text language\n",
       "0  [ENGLISH]            Info has been found (+/- ...       en"
      ]
     },
     "execution_count": 33,
     "metadata": {},
     "output_type": "execute_result"
    }
   ],
   "source": [
    "eng_commentary.head(1)"
   ]
  },
  {
   "cell_type": "code",
   "execution_count": 63,
   "id": "f408f7f1",
   "metadata": {},
   "outputs": [
    {
     "data": {
      "text/plain": [
       "'d4 Nf6 c4 g6 Nc3 Bg7 e4 d6 f3 O-O Be3 e5 d5 Nh5 Bd3 Nf4 Qd2 Bh6 O-O-O [EXPLAIN] Now taking on g2 with his knight, just loses a bishop.'"
      ]
     },
     "execution_count": 63,
     "metadata": {},
     "output_type": "execute_result"
    }
   ],
   "source": [
    "chess_commentary['text'][16353]"
   ]
  },
  {
   "cell_type": "code",
   "execution_count": 64,
   "id": "d051766d",
   "metadata": {},
   "outputs": [
    {
     "data": {
      "text/plain": [
       "'d4 Nf6 Nf3 e6 g3 b5 Bg2 Bb7 Qd3 a6 a4 b4 O-O c5 c3 d5 Ne5 Nbd7 Nxd7 Qxd7 cxb4 cxb4 Nd2 Bd6 Nb3 O-O Bf4 a5 Nc5 Bxc5 dxc5 Ba6 Qd2 Rfc8 Rfc1 Rc6 [EXPLAIN] trying to double rooks on the c column, so my reply has to have that in account. Rc2 to support the c5 pawn from behind or Bd6, but Bd6 has the disadvantage of inviting Ne8, while Rc2 and b3 is improbable as it exposes the a5 pawn to my queen.'"
      ]
     },
     "execution_count": 64,
     "metadata": {},
     "output_type": "execute_result"
    }
   ],
   "source": [
    "chess_commentary['text'][64308]"
   ]
  },
  {
   "cell_type": "code",
   "execution_count": 66,
   "id": "95662946",
   "metadata": {},
   "outputs": [
    {
     "data": {
      "text/html": [
       "<div>\n",
       "<style scoped>\n",
       "    .dataframe tbody tr th:only-of-type {\n",
       "        vertical-align: middle;\n",
       "    }\n",
       "\n",
       "    .dataframe tbody tr th {\n",
       "        vertical-align: top;\n",
       "    }\n",
       "\n",
       "    .dataframe thead th {\n",
       "        text-align: right;\n",
       "    }\n",
       "</style>\n",
       "<table border=\"1\" class=\"dataframe\">\n",
       "  <thead>\n",
       "    <tr style=\"text-align: right;\">\n",
       "      <th></th>\n",
       "      <th>PGN</th>\n",
       "    </tr>\n",
       "  </thead>\n",
       "  <tbody>\n",
       "    <tr>\n",
       "      <th>0</th>\n",
       "      <td>[CHESS] e4 d5 exd5 Qxd5 Nc3 Qa5 d4 c6 Nf3 Nf6 ...</td>\n",
       "    </tr>\n",
       "    <tr>\n",
       "      <th>1</th>\n",
       "      <td>[CHESS] d4 d5 Nc3 Nf6 Bg5 Nbd7 a3 h6 Bh4 c6 h3...</td>\n",
       "    </tr>\n",
       "    <tr>\n",
       "      <th>2</th>\n",
       "      <td>[CHESS] d4 d5 Nc3 Nf6 Bg5 Nbd7 Nf3 g6 Qd2 Ne4 ...</td>\n",
       "    </tr>\n",
       "    <tr>\n",
       "      <th>3</th>\n",
       "      <td>[CHESS] e4 d5 exd5 Qxd5 Nc3 Qa5 d4 c6 Nf3 Nf6 ...</td>\n",
       "    </tr>\n",
       "    <tr>\n",
       "      <th>4</th>\n",
       "      <td>[CHESS] Nf3 Nf6 g3 d5 Bg2 Bg4 O-O Nbd7 b3 e5 B...</td>\n",
       "    </tr>\n",
       "  </tbody>\n",
       "</table>\n",
       "</div>"
      ],
      "text/plain": [
       "                                                 PGN\n",
       "0  [CHESS] e4 d5 exd5 Qxd5 Nc3 Qa5 d4 c6 Nf3 Nf6 ...\n",
       "1  [CHESS] d4 d5 Nc3 Nf6 Bg5 Nbd7 a3 h6 Bh4 c6 h3...\n",
       "2  [CHESS] d4 d5 Nc3 Nf6 Bg5 Nbd7 Nf3 g6 Qd2 Ne4 ...\n",
       "3  [CHESS] e4 d5 exd5 Qxd5 Nc3 Qa5 d4 c6 Nf3 Nf6 ...\n",
       "4  [CHESS] Nf3 Nf6 g3 d5 Bg2 Bg4 O-O Nbd7 b3 e5 B..."
      ]
     },
     "execution_count": 66,
     "metadata": {},
     "output_type": "execute_result"
    }
   ],
   "source": [
    "lichess.head()"
   ]
  },
  {
   "cell_type": "code",
   "execution_count": 67,
   "id": "4f6d1e14",
   "metadata": {},
   "outputs": [
    {
     "data": {
      "text/html": [
       "<div>\n",
       "<style scoped>\n",
       "    .dataframe tbody tr th:only-of-type {\n",
       "        vertical-align: middle;\n",
       "    }\n",
       "\n",
       "    .dataframe tbody tr th {\n",
       "        vertical-align: top;\n",
       "    }\n",
       "\n",
       "    .dataframe thead th {\n",
       "        text-align: right;\n",
       "    }\n",
       "</style>\n",
       "<table border=\"1\" class=\"dataframe\">\n",
       "  <thead>\n",
       "    <tr style=\"text-align: right;\">\n",
       "      <th></th>\n",
       "      <th>text</th>\n",
       "      <th>language</th>\n",
       "    </tr>\n",
       "  </thead>\n",
       "  <tbody>\n",
       "    <tr>\n",
       "      <th>0</th>\n",
       "      <td>[ENGLISH]            Info has been found (+/- ...</td>\n",
       "      <td>en</td>\n",
       "    </tr>\n",
       "    <tr>\n",
       "      <th>1</th>\n",
       "      <td>[ENGLISH]            These are the team member...</td>\n",
       "      <td>en</td>\n",
       "    </tr>\n",
       "    <tr>\n",
       "      <th>2</th>\n",
       "      <td>[ENGLISH]            In het kader van kernfusi...</td>\n",
       "      <td>en</td>\n",
       "    </tr>\n",
       "    <tr>\n",
       "      <th>3</th>\n",
       "      <td>[ENGLISH]            testing!!!  testing!!!   ...</td>\n",
       "      <td>en</td>\n",
       "    </tr>\n",
       "    <tr>\n",
       "      <th>4</th>\n",
       "      <td>[ENGLISH]              Thanks to Yahoo!'s Tool...</td>\n",
       "      <td>en</td>\n",
       "    </tr>\n",
       "  </tbody>\n",
       "</table>\n",
       "</div>"
      ],
      "text/plain": [
       "                                                text language\n",
       "0  [ENGLISH]            Info has been found (+/- ...       en\n",
       "1  [ENGLISH]            These are the team member...       en\n",
       "2  [ENGLISH]            In het kader van kernfusi...       en\n",
       "3  [ENGLISH]            testing!!!  testing!!!   ...       en\n",
       "4  [ENGLISH]              Thanks to Yahoo!'s Tool...       en"
      ]
     },
     "execution_count": 67,
     "metadata": {},
     "output_type": "execute_result"
    }
   ],
   "source": [
    "eng_commentary.head()"
   ]
  },
  {
   "cell_type": "code",
   "execution_count": 68,
   "id": "7e680238",
   "metadata": {},
   "outputs": [],
   "source": [
    "df = lichess['PGN'].append(eng_commentary['text'])"
   ]
  },
  {
   "cell_type": "code",
   "execution_count": 70,
   "id": "950d85d5",
   "metadata": {},
   "outputs": [],
   "source": [
    "df.to_csv('joint_eng_chess.csv', index = False)"
   ]
  },
  {
   "cell_type": "code",
   "execution_count": 72,
   "id": "23bc2444",
   "metadata": {},
   "outputs": [
    {
     "data": {
      "text/plain": [
       "250075     [CHESS] c4 e5 g3 Nf6 Bg2 c6 Nf3 Bd6 O-O Bc7 d4...\n",
       "3251427    [CHESS] e4 e5 Nf3 d6 d4 exd4 Nxd4 Be7 Nc3 Nf6 ...\n",
       "1956946    [CHESS] Nf3 d5 c4 c6 g3 Nf6 Bg2 Bf5 Qb3 Qb6 d3...\n",
       "41941      [ENGLISH]        Why do I bother trying to cle...\n",
       "310194     [CHESS] e4 d5 exd5 Qxd5 Nc3 Qe5+ Be2 Qg5 Nf3 Q...\n",
       "1732223    [CHESS] e4 g6 d4 Bg7 Bc4 d6 Nc3 Nc6 Nge2 Nf6 f...\n",
       "610517     [CHESS] e4 e5 Nf3 Nc6 Bb5 Bc5 O-O Nd4 Bc4 d6 N...\n",
       "1009435    [CHESS] d4 d5 Nf3 c5 c4 Nf6 cxd5 cxd4 Qxd4 Qxd...\n",
       "295240     [ENGLISH]              I got a nice letter fro...\n",
       "286950     [ENGLISH]        To be honest with you I thoug...\n",
       "dtype: object"
      ]
     },
     "execution_count": 72,
     "metadata": {},
     "output_type": "execute_result"
    }
   ],
   "source": [
    "df.sample(10)"
   ]
  },
  {
   "cell_type": "code",
   "execution_count": 82,
   "id": "19737260",
   "metadata": {},
   "outputs": [],
   "source": [
    "df_sample = df.sample(1_000_000)\n",
    "df_sample.to_csv('joint_eng_chess_large.csv', index = False)"
   ]
  },
  {
   "cell_type": "code",
   "execution_count": 83,
   "id": "4d6cbbf5",
   "metadata": {},
   "outputs": [],
   "source": [
    "df_sample = df.sample(500_000)\n",
    "df_sample.to_csv('joint_eng_chess_mid.csv', index = False)"
   ]
  },
  {
   "cell_type": "code",
   "execution_count": 84,
   "id": "54ed4ad9",
   "metadata": {},
   "outputs": [],
   "source": [
    "df_sample = df.sample(100_000)\n",
    "df_sample.to_csv('joint_eng_chess_small.csv', index = False)"
   ]
  },
  {
   "cell_type": "markdown",
   "id": "567e9683",
   "metadata": {},
   "source": [
    "def replace(text):\n",
    "    lst = ['11.', '12.', '13.', '14.', '15.', '16.', '17.', '18.', '19.', '20.',\n",
    "           '21.', '22.', '23.', '24.', '25.', '26.', '27.', '28.', '29.', '30.',\n",
    "           '31.', '32.', '33.', '34.', '35.', '36.', '37.', '38.', '39.', '40.',\n",
    "           '41.', '42.', '43.', '44.', '45.', '46.', '47.', '48.', '49.', '50.',\n",
    "           '51.', '52.', '53.', '54.', '55.', '56.', '57.', '58.', '59.', '60.',\n",
    "           '61.', '62.', '63.', '64.', '65.', '66.', '67.', '68.', '69.', '70.',\n",
    "           '71.', '72.', '73.', '74.', '75.', '76.', '77.', '78.', '79.', '80.',\n",
    "           '1.', '2.', '3.', '4.', '5.', '6.', '7.', '8.', '9.', '10.',\n",
    "           '..', '...']\n",
    "    \n",
    "    for i in lst:\n",
    "        text = text.replace(i, '')\n",
    "    return text"
   ]
  },
  {
   "cell_type": "markdown",
   "id": "59e76af5",
   "metadata": {},
   "source": [
    "replace(chess_commentary['text'][64308])"
   ]
  },
  {
   "cell_type": "code",
   "execution_count": null,
   "id": "c52b6231",
   "metadata": {},
   "outputs": [],
   "source": []
  },
  {
   "cell_type": "code",
   "execution_count": null,
   "id": "884fcd80",
   "metadata": {},
   "outputs": [],
   "source": []
  }
 ],
 "metadata": {
  "kernelspec": {
   "display_name": "Python 3 (ipykernel)",
   "language": "python",
   "name": "python3"
  },
  "language_info": {
   "codemirror_mode": {
    "name": "ipython",
    "version": 3
   },
   "file_extension": ".py",
   "mimetype": "text/x-python",
   "name": "python",
   "nbconvert_exporter": "python",
   "pygments_lexer": "ipython3",
   "version": "3.7.10"
  }
 },
 "nbformat": 4,
 "nbformat_minor": 5
}
