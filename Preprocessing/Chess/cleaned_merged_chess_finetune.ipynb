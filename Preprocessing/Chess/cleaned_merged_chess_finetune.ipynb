{
 "cells": [
  {
   "cell_type": "code",
   "execution_count": null,
   "id": "689f15c6",
   "metadata": {},
   "outputs": [],
   "source": [
    "import pandas as pd\n",
    "from tqdm import tqdm\n",
    "import multiprocessing as mp"
   ]
  },
  {
   "cell_type": "code",
   "execution_count": null,
   "id": "ca541224",
   "metadata": {},
   "outputs": [],
   "source": [
    "def create_sequences(game):\n",
    "    seq = []\n",
    "    game = game.split(' ')\n",
    "    \n",
    "    for i in range(1, len(game) - 1):\n",
    "        inp = ' '.join(game[:i])\n",
    "        outp = game[0] + ': ' + game[i]\n",
    "         \n",
    "        with open(\"finetuning_data.csv\", \"a\") as myfile:\n",
    "            myfile.write(f\"{inp},{outp}\\n\")\n",
    "\n",
    "#        seq += [[inp, outp]]\n",
    "#    return seq"
   ]
  },
  {
   "cell_type": "code",
   "execution_count": null,
   "id": "bcfcfb44",
   "metadata": {
    "scrolled": true
   },
   "outputs": [],
   "source": [
    "chunksize = 1_000\n",
    "#finetuned_data = []\n",
    "pool = mp.Pool(8)\n",
    "funclist = []\n",
    "\n",
    "with pd.read_csv('../../Data Files/lichess_elite.csv', \n",
    "                 chunksize=chunksize) as reader:\n",
    "    for num, chunk in enumerate(reader):\n",
    "        #print(f'Chunk {num}')\n",
    "        for game in tqdm(chunk['PGN']):\n",
    "            f = pool.apply_async(create_sequences, game)\n",
    "            funclist.append(f)\n",
    "            #finetuned_data += create_sequences(game)\n",
    "             \n"
   ]
  },
  {
   "cell_type": "code",
   "execution_count": null,
   "id": "5dd6da59",
   "metadata": {},
   "outputs": [],
   "source": [
    "for f in tqdm(funclist):\n",
    "    f.get()"
   ]
  },
  {
   "cell_type": "code",
   "execution_count": null,
   "id": "99a260e7",
   "metadata": {},
   "outputs": [],
   "source": []
  },
  {
   "cell_type": "code",
   "execution_count": null,
   "id": "9cfe3996",
   "metadata": {},
   "outputs": [],
   "source": []
  },
  {
   "cell_type": "code",
   "execution_count": null,
   "id": "df7e2afb",
   "metadata": {},
   "outputs": [],
   "source": []
  },
  {
   "cell_type": "code",
   "execution_count": null,
   "id": "b90a0340",
   "metadata": {},
   "outputs": [],
   "source": []
  }
 ],
 "metadata": {
  "kernelspec": {
   "display_name": "Python 3 (ipykernel)",
   "language": "python",
   "name": "python3"
  },
  "language_info": {
   "codemirror_mode": {
    "name": "ipython",
    "version": 3
   },
   "file_extension": ".py",
   "mimetype": "text/x-python",
   "name": "python",
   "nbconvert_exporter": "python",
   "pygments_lexer": "ipython3",
   "version": "3.7.10"
  }
 },
 "nbformat": 4,
 "nbformat_minor": 5
}
